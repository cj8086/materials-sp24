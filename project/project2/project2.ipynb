{
 "cells": [
  {
   "cell_type": "code",
   "execution_count": 33,
   "id": "3f467ef9",
   "metadata": {
    "deletable": false,
    "editable": false,
    "slideshow": {
     "slide_type": ""
    },
    "tags": []
   },
   "outputs": [],
   "source": [
    "# Initialize Otter\n",
    "import otter\n",
    "grader = otter.Notebook(\"project2.ipynb\")"
   ]
  },
  {
   "cell_type": "markdown",
   "id": "c9f60c00",
   "metadata": {
    "editable": true,
    "slideshow": {
     "slide_type": ""
    },
    "tags": []
   },
   "source": [
    "<img src=\"data8logo.png\" style=\"width: 15%; float: right; padding: 1%; margin-right: 2%;\"/>\n",
    "\n",
    "# Project 2: Climate Change—Temperatures and Precipitation\n",
    "\n",
    "In this project, you will investigate data on climate change, or the long-term shifts in temperatures and weather patterns!\n",
    "\n",
    "\n",
    "### Logistics\n",
    "\n",
    "**Deadline.**  This project is due at **5:00pm PT on Friday, 4/12**. You can receive 5 bonus points for submitting the project by **5:00pm PT on Thursday, 4/11.** Projects submitted fewer than 24 hours after the deadline will receive 80% credit. Any submissions later than 24 hours after the deadline will not be accepted. It's **much** better to be early than late, so start working now.\n",
    "\n",
    "**Checkpoint.**  For full credit on the checkpoint, you must complete the questions up to the checkpoint, **pass all _public_ autograder tests** for those sections, and submit to the Gradescope Project 2 Checkpoint assignment by **5:00pm PT on Friday, 4/5**. <span style=\"color: #BC412B\">**The checkpoint is worth 5% of your entire project grade**</span>. After you've submitted the checkpoint, you may still change your project answers before the final project deadline - **only your final submission, to the \"Project 2\" assignment, will be graded for correctness** (including questions from before the checkpoint). You will have some lab time to work on these questions, but we recommend that you start the project before lab and leave time to finish the checkpoint afterward.\n",
    "\n",
    "**Partners.** You may work with one other partner; your partner must be from your assigned lab section. **<span style=\"color: #BC412B\">Only one partner should submit the project notebook to Gradescope.</span> If both partners submit, you will be docked 10% of your project grade. On Gradescope, the person who submits should also designate their partner so that both of you receive credit.** Once you submit, click into your submission, and there will be an option to Add Group Member in the top right corner. You may also reference [this walkthrough video](https://drive.google.com/file/d/1POtij6KECSBjCUeOC_F0Lt3ZmKN7LKIq/view?usp=sharing) on how to add partners on Gradescope.\n",
    "\n",
    "**Rules.** Don't share your code with anybody but your partner. You are welcome to discuss questions with other students, but don't share the answers. The experience of solving the problems in this project will prepare you for exams (and life). If someone asks you for the answer, resist! Instead, you can demonstrate how you would solve a similar problem.\n",
    "\n",
    "**Support.** You are not alone! Come to office hours, post on Ed, and talk to your classmates. If you want to ask about the details of your solution to a problem, make a private Ed post and the staff will respond. If you're ever feeling overwhelmed or don't know how to make progress, email your TA or tutor for help. You can find contact information for the staff on the [course website](https://www.data8.org/sp24/).\n",
    "\n",
    "**Tests.** <span style=\"color: #BC412B\">The tests that are given are **not comprehensive** and passing the tests for a question **does not** mean that you answered the question correctly.</span> Tests usually only check that your table has the correct column labels. However, more tests will be applied to verify the correctness of your submission in order to assign your final score, so be careful and check your work! You might want to create your own checks along the way to see if your answers make sense. Additionally, before you submit, make sure that none of your cells take a very long time to run (several minutes).\n",
    "\n",
    "**Free Response Questions:** Make sure that you put the answers to the written questions in the indicated cell we provide. **Every free response question should include an explanation** that adequately answers the question.\n",
    "\n",
    "**Advice.** Develop your answers incrementally. To perform a complicated task, break it up into steps, perform each step on a different line, give a new name to each result, and check that each intermediate result is what you expect. You can add any additional names or functions you want to the provided cells. Make sure that you are using distinct and meaningful variable names throughout the notebook. Along that line, **DO NOT** reuse the variable names that we use when we grade your answers. \n",
    "\n",
    "You **never** have to use just one line in this project or any others. Use intermediate variables and multiple lines as much as you would like!\n",
    "\n",
    "All of the concepts necessary for this project are found in the textbook. If you are stuck on a particular problem, reading through the relevant textbook section will often help to clarify concepts.\n",
    "\n",
    "\n",
    "---"
   ]
  },
  {
   "cell_type": "markdown",
   "id": "f58b29d4",
   "metadata": {},
   "source": [
    "To get started, load `datascience`, `numpy`, and `matplotlib`. Make sure to also run the first cell of this notebook to load `otter`."
   ]
  },
  {
   "cell_type": "code",
   "execution_count": 34,
   "id": "7593ac2e",
   "metadata": {},
   "outputs": [],
   "source": [
    "# Run this cell to set up the notebook, but please don't change it.\n",
    "from datascience import *\n",
    "import numpy as np\n",
    "\n",
    "%matplotlib inline\n",
    "import matplotlib.pyplot as plt\n",
    "plt.style.use('fivethirtyeight')\n",
    "np.set_printoptions(legacy='1.13')\n",
    "\n",
    "import warnings\n",
    "warnings.simplefilter('ignore')\n",
    "\n",
    "import plotly.graph_objects as go"
   ]
  },
  {
   "cell_type": "markdown",
   "id": "b0e4f89d",
   "metadata": {},
   "source": [
    "## Part 1: Temperatures"
   ]
  },
  {
   "cell_type": "markdown",
   "id": "e8b9910b",
   "metadata": {},
   "source": [
    "In the following analysis, we will investigate one of the 21st century's most prominent issues: climate change. While the details of climate science are beyond the scope of this course, we can start to learn about climate change just by analyzing public records of different cities' temperature and precipitation over time.\n",
    "\n",
    "We will analyze a collection of historical daily temperature and precipitation measurements from weather stations in 210 U.S. cities. The dataset was compiled by Yuchuan Lai and David Dzombak [1]; a description of the data from the original authors and the data itself is available [here](https://kilthub.cmu.edu/articles/dataset/Compiled_daily_temperature_and_precipitation_data_for_the_U_S_cities/7890488). \n",
    "\n",
    "[1] Lai, Yuchuan; Dzombak, David (2019): Compiled historical daily temperature and precipitation data for selected 210 U.S. cities. Carnegie Mellon University. Dataset."
   ]
  },
  {
   "cell_type": "markdown",
   "id": "cdc2a1db",
   "metadata": {
    "tags": []
   },
   "source": [
    "### Part 1, Section 1: Cities"
   ]
  },
  {
   "cell_type": "markdown",
   "id": "b191a190",
   "metadata": {},
   "source": [
    "Run the following cell to load information about the `cities` and preview the first few rows."
   ]
  },
  {
   "cell_type": "code",
   "execution_count": 35,
   "id": "c05c72b8",
   "metadata": {},
   "outputs": [
    {
     "data": {
      "text/html": [
       "<table border=\"1\" class=\"dataframe\">\n",
       "    <thead>\n",
       "        <tr>\n",
       "            <th>Name</th> <th>ID</th> <th>Lat</th> <th>Lon</th> <th>Stn.Name</th> <th>Stn.stDate</th> <th>Stn.edDate</th>\n",
       "        </tr>\n",
       "    </thead>\n",
       "    <tbody>\n",
       "        <tr>\n",
       "            <td>Lander  </td> <td>USW00024021</td> <td>42.8153</td> <td>-108.726</td> <td>LANDER WBO       </td> <td>1892-01-01</td> <td>1946-05-28</td>\n",
       "        </tr>\n",
       "        <tr>\n",
       "            <td>Lander  </td> <td>USW00024021</td> <td>42.8153</td> <td>-108.726</td> <td>LANDER HUNT FIELD</td> <td>1946-05-29</td> <td>2021-12-31</td>\n",
       "        </tr>\n",
       "        <tr>\n",
       "            <td>Cheyenne</td> <td>USW00024018</td> <td>41.1519</td> <td>-104.806</td> <td>CHEYENNE WBO     </td> <td>1871-01-01</td> <td>1935-08-31</td>\n",
       "        </tr>\n",
       "    </tbody>\n",
       "</table>\n",
       "<p>... (458 rows omitted)</p>"
      ],
      "text/plain": [
       "<IPython.core.display.HTML object>"
      ]
     },
     "metadata": {},
     "output_type": "display_data"
    }
   ],
   "source": [
    "cities = Table.read_table('city_info.csv', index_col=0)\n",
    "cities.show(3)"
   ]
  },
  {
   "cell_type": "markdown",
   "id": "26ac892c",
   "metadata": {},
   "source": [
    "The `cities` table has one row per weather station and the following columns:\n",
    "\n",
    "1. `\"Name\"`: The name of the US city\n",
    "2. `\"ID\"`: The unique identifier for the US city\n",
    "3. `\"Lat\"`: The latitude of the US city (measured in degrees of latitude)\n",
    "4. `\"Lon\"`: The longitude of the US city (measured in degrees of longitude)\n",
    "4. `\"Stn.Name\"`: The name of the weather station in which the data was collected\n",
    "5. `\"Stn.stDate\"`: A string representing the date of the first recording at that particular station\n",
    "6. `\"Stn.edDate\"`: A string representing the date of the last recording at that particular station\n",
    "\n",
    "The data lists the weather stations at which temperature and precipitation data were collected. Note that although some cities have multiple weather stations, only one is collecting data for that city at any given point in time. Thus, we are able to just focus on the cities themselves."
   ]
  },
  {
   "cell_type": "markdown",
   "id": "75af4684",
   "metadata": {},
   "source": [
    "<!-- BEGIN QUESTION -->\n",
    "\n",
    "**Question 1.1.1:** In the cell below, produce a scatter plot that plots the latitude and longitude of every city in the `cities` table so that the result places northern cities at the top and western cities at the left.\n",
    "\n",
    "*Note*: It's okay to plot the same point multiple times!\n",
    "\n",
    "*Hint*: A latitude is the set of horizontal lines that measures distances *north or south* of the equator. A longitude is the set of vertical lines that measures distances *east or west* of the prime meridian.\n"
   ]
  },
  {
   "cell_type": "code",
   "execution_count": 36,
   "id": "0f0a1b7b",
   "metadata": {
    "tags": []
   },
   "outputs": [
    {
     "data": {
      "image/png": "[encoded data removed]",
      "text/plain": [
       "<Figure size 500x500 with 1 Axes>"
      ]
     },
     "metadata": {},
     "output_type": "display_data"
    }
   ],
   "source": [
    "cities.scatter('Lon', 'Lat')"
   ]
  },
  {
   "cell_type": "markdown",
   "id": "aa7a9b7a",
   "metadata": {},
   "source": [
    "<!-- END QUESTION -->\n",
    "\n",
    "These cities are all within the continental U.S., and so the general shape of the U.S. should be visible in your plot. The shape will appear distorted compared to most maps for two reasons: the scatter plot is square even though the U.S. is wider than it is tall, and this scatter plot is an [equirectangular projection](https://en.wikipedia.org/wiki/Equirectangular_projection) of the spherical Earth. A geographical map of the same data uses the common [Pseudo-Mercator projection](https://en.wikipedia.org/wiki/Web_Mercator_projection).\n",
    "\n",
    "> *Note:* If this visualization doesn't load for you, please view a version of it online [here](https://github.jonathanferrari.com/static/city_map.html). "
   ]
  },
  {
   "cell_type": "code",
   "execution_count": 37,
   "id": "37b02df4",
   "metadata": {},
   "outputs": [
    {
     "data": {
      "application/vnd.plotly.v1+json": {
       "config": {
        "plotlyServerURL": "https://plot.ly"
       },
       "data": [
        {
         "lat": [
          42.8153,
          42.8153,
          41.1519,
          41.1519,
          44.9258,
          44.9258,
          46.0261,
          46.0261,
          44.8664,
          44.8664,
          46.5486,
          46.5486,
          42.955,
          42.955,
          43.1406,
          43.1406,
          43.8789,
          43.8789,
          43.8789,
          43.8789,
          44.4983,
          37.2958,
          37.2958,
          39.6428,
          39.6428,
          40.1764,
          40.1764,
          38.365,
          38.365,
          38.365,
          38.3794,
          38.3794,
          38.3794,
          37.7836,
          37.7836,
          45.6208,
          45.6208,
          46.7439,
          46.7439,
          46.7439,
          46.2667,
          46.2667,
          47.6217,
          47.4444,
          47.4444,
          37.505,
          37.505,
          36.9033,
          36.9033,
          37.3208,
          37.3208,
          44.4683,
          44.4683,
          40.7781,
          40.7781,
          30.5892,
          30.5892,
          29.5442,
          29.5442,
          29.5442,
          29.98,
          29.98,
          29.2733,
          29.2733,
          31.8111,
          31.8111,
          32.8978,
          32.8978,
          32.8978,
          32.8978,
          27.8,
          27.8,
          30.3208,
          30.3208,
          35.2333,
          35.2333,
          32.4106,
          32.4106,
          36.1189,
          36.1189,
          35.0564,
          35.0564,
          35.0311,
          35.0311,
          43.7667,
          43.7667,
          43.5878,
          44.3981,
          45.4558,
          33.55,
          33.55,
          34.8461,
          34.8461,
          33.9486,
          33.9486,
          41.2433,
          41.2433,
          40.4847,
          40.4847,
          40.4847,
          39.8683,
          39.8683,
          40.1936,
          40.1936,
          40.1936,
          42.08,
          42.08,
          42.1469,
          42.1469,
          45.5181,
          45.5181,
          44.905,
          45.6906,
          45.6906,
          44.1278,
          44.1278,
          46.1569,
          46.1569,
          36.1625,
          36.1625,
          36.1994,
          36.1994,
          35.3889,
          35.3889,
          39.9444,
          39.9444,
          41.5886,
          41.5886,
          41.5886,
          39.9061,
          39.9061,
          39.9914,
          39.9914,
          41.5175,
          41.5175,
          39.1033,
          39.1033,
          40.9167,
          40.9167,
          48.1739,
          48.1739,
          47.9428,
          47.9428,
          46.9253,
          46.9253,
          46.7708,
          35.8922,
          35.8922,
          35.2236,
          35.2236,
          35.2325,
          35.2325,
          35.4319,
          35.4319,
          35.4319,
          43.35,
          43.35,
          43.1167,
          43.1167,
          40.7789,
          42.9486,
          42.9486,
          42.7431,
          42.7431,
          33.3075,
          33.3075,
          36.4486,
          35.0419,
          40.8292,
          40.8292,
          40.4728,
          40.4728,
          40.4728,
          40.2769,
          40.2769,
          40.2769,
          42.9333,
          42.9333,
          42.9333,
          42.9333,
          43.1953,
          43.1953,
          40.9017,
          40.9017,
          39.4839,
          39.4839,
          39.2953,
          40.8289,
          40.2064,
          40.2064,
          40.2064,
          40.2064,
          40.6044,
          40.6044,
          42.8783,
          41.8706,
          41.3103,
          41.3103,
          41.3103,
          41.3103,
          41.9856,
          41.9856,
          41.1214,
          41.1214,
          40.8508,
          40.8508,
          40.8508,
          40.8508,
          40.8508,
          40.9611,
          40.9611,
          40.9611,
          46.9208,
          46.9208,
          46.6056,
          46.6056,
          48.5428,
          48.5428,
          47.4733,
          47.4733,
          48.2138,
          48.2138,
          38.5911,
          38.5911,
          38.7525,
          38.7525,
          37.2353,
          37.2353,
          37.2353,
          39.2972,
          39.2972,
          39.2972,
          38.8169,
          30.4119,
          30.4119,
          30.4119,
          31.2819,
          31.2819,
          32.3347,
          32.3347,
          32.3206,
          32.3206,
          45.5433,
          45.5433,
          43.9042,
          44.8831,
          44.8831,
          44.8831,
          48.5614,
          46.8369,
          46.8369,
          42.2347,
          42.2347,
          43.5331,
          46.4794,
          43.1711,
          46.5311,
          46.5311,
          42.7803,
          42.7803,
          42.7803,
          42.7803,
          42.8939,
          42.8939,
          42.8939,
          42.2314,
          42.2314,
          42.2314,
          42.2706,
          42.2706,
          42.2122,
          42.3606,
          42.3606,
          39.1836,
          39.1836,
          43.6497,
          43.6497,
          31.8142,
          31.8142,
          32.5156,
          32.5156,
          32.4506,
          32.4506,
          30.125,
          30.125,
          30.125,
          30.5372,
          30.5372,
          38.1811,
          38.1811,
          38.1811,
          38.1811,
          38.1811,
          38.0408,
          39.0725,
          39.0725,
          39.3669,
          37.7608,
          37.7608,
          39.5514,
          41.8833,
          41.8833,
          43.1644,
          43.1644,
          42.5544,
          42.5544,
          42.3914,
          42.3914,
          42.3978,
          42.3978,
          41.5339,
          41.5339,
          41.7072,
          39.7075,
          39.7075,
          40.9706,
          40.9706,
          38.0442,
          39.8447,
          39.8447,
          42.1928,
          42.1928,
          40.6675,
          40.6675,
          40.6675,
          41.4653,
          41.4653,
          41.4653,
          41.4653,
          41.4653,
          41.4653,
          41.995,
          41.995,
          41.995,
          41.995,
          46.3747,
          46.3747,
          43.5667,
          43.5667,
          32.13,
          32.13,
          32.13,
          32.6847,
          32.6847,
          32.6847,
          32.5161,
          32.5161,
          33.3644,
          33.3644,
          33.3644,
          33.63,
          33.63,
          33.9481,
          33.9481,
          26.6847,
          26.6847,
          26.6847,
          26.6847,
          26.6847,
          26.6847,
          26.6847,
          26.6847,
          26.6847,
          26.6847,
          27.9619,
          27.9619,
          27.9619,
          30.3975,
          30.3975,
          30.4781,
          30.4781,
          28.4339,
          28.4339,
          25.7906,
          25.7906,
          24.555,
          24.555,
          30.4844,
          30.4844,
          29.6919,
          29.6919,
          29.6919,
          29.6919,
          29.6919,
          26.585,
          38.8483,
          38.8483,
          39.6728,
          39.6728,
          39.6728,
          38.29,
          38.29,
          39.1342,
          39.1342,
          39.8328,
          39.8328,
          39.8328,
          38.81,
          38.81,
          41.7803,
          41.7803,
          33.1211,
          33.1211,
          39.1258,
          39.1258,
          38.5553,
          33.9519,
          33.9519,
          34.7675,
          34.7675,
          32.7336,
          32.7336,
          40.5175,
          40.5175,
          40.5175,
          40.5175,
          34.0511,
          36.78,
          36.78,
          36.78,
          40.8097,
          35.4344,
          35.4344,
          35.2578,
          35.2578,
          35.2578,
          35.2578,
          35.2578,
          34.175,
          34.175,
          34.175,
          34.175,
          35.8311,
          35.8311,
          36.2667,
          36.2667,
          34.7272,
          34.7272,
          35.3331,
          35.3331,
          32.65,
          32.65,
          32.65,
          32.1314,
          32.1314,
          33.4278,
          33.4278,
          35.1442,
          35.1442,
          34.7442,
          34.7442,
          32.2997,
          32.2997,
          30.6264,
          30.6264,
          34.6439,
          34.6439,
          34.6439,
          34.6439,
          33.5656,
          33.5656
         ],
         "lon": [
          -108.7261,
          -108.7261,
          -104.8061,
          -104.8061,
          -89.6256,
          -89.6256,
          -91.4442,
          -91.4442,
          -91.4878,
          -91.4878,
          -90.9189,
          -90.9189,
          -87.9044,
          -87.9044,
          -89.3453,
          -89.3453,
          -91.2528,
          -91.2528,
          -91.2528,
          -91.2528,
          -88.1111,
          -81.2078,
          -81.2078,
          -79.9164,
          -79.9164,
          -80.6472,
          -80.6472,
          -82.555,
          -82.555,
          -82.555,
          -81.59,
          -81.59,
          -81.59,
          -81.1231,
          -81.1231,
          -122.6572,
          -122.6572,
          -117.1086,
          -117.1086,
          -117.1086,
          -119.1167,
          -119.1167,
          -117.5281,
          -122.3139,
          -122.3139,
          -77.3203,
          -77.3203,
          -76.1922,
          -76.1922,
          -79.2067,
          -79.2067,
          -73.15,
          -73.15,
          -111.9694,
          -111.9694,
          -96.3647,
          -96.3647,
          -98.4839,
          -98.4839,
          -98.4839,
          -95.36,
          -95.36,
          -94.8592,
          -94.8592,
          -106.3758,
          -106.3758,
          -97.0189,
          -97.0189,
          -97.0189,
          -97.0189,
          -97.4,
          -97.4,
          -97.7603,
          -97.7603,
          -101.7089,
          -101.7089,
          -99.6822,
          -99.6822,
          -86.6892,
          -86.6892,
          -89.9864,
          -89.9864,
          -85.2014,
          -85.2014,
          -98.0333,
          -98.0333,
          -96.7289,
          -98.2231,
          -98.4131,
          -81.6969,
          -81.6969,
          -82.3461,
          -82.3461,
          -81.1186,
          -81.1186,
          -76.9217,
          -76.9217,
          -80.2144,
          -80.2144,
          -80.2144,
          -75.2311,
          -75.2311,
          -76.7633,
          -76.7633,
          -76.7633,
          -80.1825,
          -80.1825,
          -121.7242,
          -121.7242,
          -122.6894,
          -122.6894,
          -123.0011,
          -118.8528,
          -118.8528,
          -123.2206,
          -123.2206,
          -123.8825,
          -123.8825,
          -97.0894,
          -97.0894,
          -95.8872,
          -95.8872,
          -97.6006,
          -97.6006,
          -81.8922,
          -81.8922,
          -83.8014,
          -83.8014,
          -83.8014,
          -84.2186,
          -84.2186,
          -82.8808,
          -82.8808,
          -81.6836,
          -81.6836,
          -84.4189,
          -84.4189,
          -81.4333,
          -81.4333,
          -103.6367,
          -103.6367,
          -97.1839,
          -97.1839,
          -96.8111,
          -96.8111,
          -100.7603,
          -78.7819,
          -78.7819,
          -80.9553,
          -80.9553,
          -75.6219,
          -75.6219,
          -82.5375,
          -82.5375,
          -82.5375,
          -73.6167,
          -73.6167,
          -77.6767,
          -77.6767,
          -73.9692,
          -78.7369,
          -78.7369,
          -73.8092,
          -73.8092,
          -104.5083,
          -104.5083,
          -103.1539,
          -106.6156,
          -75.0833,
          -75.0833,
          -74.4225,
          -74.4225,
          -74.4225,
          -74.8158,
          -74.8158,
          -74.8158,
          -71.4383,
          -71.4383,
          -71.4383,
          -71.4383,
          -71.5011,
          -71.5011,
          -117.8081,
          -117.8081,
          -119.7711,
          -119.7711,
          -114.8467,
          -115.7886,
          -100.5914,
          -100.5914,
          -100.5914,
          -100.5914,
          -98.4272,
          -98.4272,
          -100.55,
          -103.5931,
          -95.8992,
          -95.8992,
          -95.8992,
          -95.8992,
          -97.4353,
          -97.4353,
          -100.6694,
          -100.6694,
          -96.7475,
          -96.7475,
          -96.7475,
          -96.7475,
          -96.7475,
          -98.3136,
          -98.3136,
          -98.3136,
          -114.0925,
          -114.0925,
          -111.9636,
          -111.9636,
          -109.7633,
          -109.7633,
          -111.3822,
          -111.3822,
          -106.6213,
          -106.6213,
          -92.1558,
          -92.1558,
          -90.3736,
          -90.3736,
          -93.4003,
          -93.4003,
          -93.4003,
          -94.7306,
          -94.7306,
          -94.7306,
          -92.2183,
          -89.0808,
          -89.0808,
          -89.0808,
          -89.2531,
          -89.2531,
          -88.7442,
          -88.7442,
          -90.0778,
          -90.0778,
          -94.0514,
          -94.0514,
          -92.4917,
          -93.2289,
          -93.2289,
          -93.2289,
          -93.3981,
          -92.2097,
          -92.2097,
          -85.5519,
          -85.5519,
          -84.0797,
          -84.3572,
          -86.2367,
          -87.5483,
          -87.5483,
          -84.5789,
          -84.5789,
          -84.5789,
          -84.5789,
          -85.5447,
          -85.5447,
          -85.5447,
          -83.3308,
          -83.3308,
          -83.3308,
          -71.8731,
          -71.8731,
          -71.1136,
          -71.0106,
          -71.0106,
          -76.6542,
          -76.6542,
          -70.3003,
          -70.3003,
          -93.0856,
          -93.0856,
          -92.0406,
          -92.0406,
          -93.8411,
          -93.8411,
          -93.2158,
          -93.2158,
          -93.2158,
          -91.1469,
          -91.1469,
          -85.7392,
          -85.7392,
          -85.7392,
          -85.7392,
          -85.7392,
          -84.6058,
          -95.6261,
          -95.6261,
          -101.7,
          -99.9683,
          -99.9683,
          -97.6508,
          -91.7167,
          -91.7167,
          -95.2021,
          -95.2021,
          -92.4011,
          -92.4011,
          -96.3792,
          -96.3792,
          -90.7036,
          -90.7036,
          -93.6531,
          -93.6531,
          -86.3164,
          -86.2803,
          -86.2803,
          -85.2064,
          -85.2064,
          -87.5206,
          -89.6839,
          -89.6839,
          -89.0931,
          -89.0931,
          -89.6839,
          -89.6839,
          -89.6839,
          -90.5233,
          -90.5233,
          -90.5233,
          -90.5233,
          -90.5233,
          -90.5233,
          -87.9336,
          -87.9336,
          -87.9336,
          -87.9336,
          -117.0156,
          -117.0156,
          -116.2406,
          -116.2406,
          -81.21,
          -81.21,
          -81.21,
          -83.6528,
          -83.6528,
          -83.6528,
          -84.9422,
          -84.9422,
          -81.9633,
          -81.9633,
          -81.9633,
          -84.4417,
          -84.4417,
          -83.3275,
          -83.3275,
          -80.0994,
          -80.0994,
          -80.0994,
          -80.0994,
          -80.0994,
          -80.0994,
          -80.0994,
          -80.0994,
          -80.0994,
          -80.0994,
          -82.5403,
          -82.5403,
          -82.5403,
          -84.3289,
          -84.3289,
          -87.1869,
          -87.1869,
          -81.325,
          -81.325,
          -80.3164,
          -80.3164,
          -81.7522,
          -81.7522,
          -81.7019,
          -81.7019,
          -82.2756,
          -82.2756,
          -82.2756,
          -82.2756,
          -82.2756,
          -81.8614,
          -77.0342,
          -77.0342,
          -75.6008,
          -75.6008,
          -75.6008,
          -104.4983,
          -104.4983,
          -108.54,
          -108.54,
          -104.6575,
          -104.6575,
          -104.6575,
          -104.6883,
          -104.6883,
          -124.2367,
          -124.2367,
          -117.09,
          -117.09,
          -123.2008,
          -123.2008,
          -121.4183,
          -117.4386,
          -117.4386,
          -114.6189,
          -114.6189,
          -117.1831,
          -117.1831,
          -122.2986,
          -122.2986,
          -122.2986,
          -122.2986,
          -118.2353,
          -119.7194,
          -119.7194,
          -119.7194,
          -124.1603,
          -119.0542,
          -119.0542,
          -93.0947,
          -93.0947,
          -93.0947,
          -93.0947,
          -93.0947,
          -91.9347,
          -91.9347,
          -91.9347,
          -91.9347,
          -90.6464,
          -90.6464,
          -93.1567,
          -93.1567,
          -92.2389,
          -92.2389,
          -94.3625,
          -94.3625,
          -114.6167,
          -114.6167,
          -114.6167,
          -110.9553,
          -110.9553,
          -112.0039,
          -112.0039,
          -111.6664,
          -111.6664,
          -87.5997,
          -87.5997,
          -86.4075,
          -86.4075,
          -88.0681,
          -88.0681,
          -86.7861,
          -86.7861,
          -86.7861,
          -86.7861,
          -86.745,
          -86.745
         ],
         "mode": "markers",
         "text": [
          "Lander",
          "Lander",
          "Cheyenne",
          "Cheyenne",
          "Wausau",
          "Wausau",
          "Hayward",
          "Hayward",
          "EauClaire",
          "EauClaire",
          "Ashland",
          "Ashland",
          "Milwaukee",
          "Milwaukee",
          "Madison",
          "Madison",
          "LaCrosse",
          "LaCrosse",
          "LaCrosse",
          "LaCrosse",
          "GreenBay",
          "Bluefield",
          "Bluefield",
          "Morgantown",
          "Morgantown",
          "Wheeling",
          "Wheeling",
          "Huntington",
          "Huntington",
          "Huntington",
          "Charleston",
          "Charleston",
          "Charleston",
          "Beckley",
          "Beckley",
          "Vancouver",
          "Vancouver",
          "Pullman",
          "Pullman",
          "Pullman",
          "TriCities",
          "TriCities",
          "Spokane",
          "Seattle",
          "Seattle",
          "Richmond",
          "Richmond",
          "NorfolkVA",
          "NorfolkVA",
          "Lynchburg",
          "Lynchburg",
          "Burlington",
          "Burlington",
          "SaltLakeCity",
          "SaltLakeCity",
          "CollegeStation",
          "CollegeStation",
          "SanAntonio",
          "SanAntonio",
          "SanAntonio",
          "Houston",
          "Houston",
          "Galveston",
          "Galveston",
          "ElPaso",
          "ElPaso",
          "DallasFortWorth",
          "DallasFortWorth",
          "DallasFortWorth",
          "DallasFortWorth",
          "CorpusChristi",
          "CorpusChristi",
          "Austin",
          "Austin",
          "Amarillo",
          "Amarillo",
          "Abilene",
          "Abilene",
          "Nashville",
          "Nashville",
          "Memphis",
          "Memphis",
          "Chattanooga",
          "Chattanooga",
          "Mitchell",
          "Mitchell",
          "SiouxFalls",
          "Huron",
          "Aberdeen",
          "Aiken",
          "Aiken",
          "GreenvilleSpartanburg",
          "GreenvilleSpartanburg",
          "ColumbiaSC",
          "ColumbiaSC",
          "Williamsport",
          "Williamsport",
          "Pittsburgh",
          "Pittsburgh",
          "Pittsburgh",
          "Philadelphia",
          "Philadelphia",
          "MiddletownHarrisburg",
          "MiddletownHarrisburg",
          "MiddletownHarrisburg",
          "Erie",
          "Erie",
          "KlamathFalls",
          "KlamathFalls",
          "Portland",
          "Portland",
          "Salem",
          "Pendleton",
          "Pendleton",
          "EUGENE",
          "EUGENE",
          "Astoria",
          "Astoria",
          "Stillwater",
          "Stillwater",
          "Tulsa",
          "Tulsa",
          "Oklahoma",
          "Oklahoma",
          "Zaneville",
          "Zaneville",
          "Toledo",
          "Toledo",
          "Toledo",
          "Dayton",
          "Dayton",
          "ColumbusOH",
          "ColumbusOH",
          "Cleveland",
          "Cleveland",
          "Cincinnati",
          "Cincinnati",
          "Akron",
          "Akron",
          "Williston",
          "Williston",
          "GrandForks",
          "GrandForks",
          "Fargo",
          "Fargo",
          "Bismarck",
          "Raleigh",
          "Raleigh",
          "Charlotte",
          "Charlotte",
          "CapeHatteras",
          "CapeHatteras",
          "Asheville",
          "Asheville",
          "Asheville",
          "GlensFalls",
          "GlensFalls",
          "RochesterNY",
          "RochesterNY",
          "NewYork",
          "Buffalo",
          "Buffalo",
          "Albany",
          "Albany",
          "Roswell",
          "Roswell",
          "Clayton",
          "Albuquerque",
          "Belvidere",
          "Belvidere",
          "NewBrunswick",
          "NewBrunswick",
          "NewBrunswick",
          "Trenton",
          "Trenton",
          "Trenton",
          "Manchester",
          "Manchester",
          "Manchester",
          "Manchester",
          "Concord",
          "Concord",
          "Winnemucca",
          "Winnemucca",
          "Reno",
          "Reno",
          "Ely",
          "Elko",
          "McCook",
          "McCook",
          "McCook",
          "McCook",
          "Hastings",
          "Hastings",
          "Valentine",
          "Scottsbluff",
          "Omaha",
          "Omaha",
          "Omaha",
          "Omaha",
          "NorfolkNE",
          "NorfolkNE",
          "NorthPlatte",
          "NorthPlatte",
          "Lincoln",
          "Lincoln",
          "Lincoln",
          "Lincoln",
          "Lincoln",
          "GrandIsland",
          "GrandIsland",
          "GrandIsland",
          "Missoula",
          "Missoula",
          "Helena",
          "Helena",
          "Havre",
          "Havre",
          "GreatFalls",
          "GreatFalls",
          "Glasgow",
          "Glasgow",
          "Jefferson",
          "Jefferson",
          "StLouis",
          "StLouis",
          "SpringfieldMO",
          "SpringfieldMO",
          "SpringfieldMO",
          "KansasCity",
          "KansasCity",
          "KansasCity",
          "ColumbiaMO",
          "Gulfport",
          "Gulfport",
          "Gulfport",
          "Hattiesburg",
          "Hattiesburg",
          "Meridian",
          "Meridian",
          "Jackson",
          "Jackson",
          "SaintCloud",
          "SaintCloud",
          "RochesterMN",
          "Minneapolis",
          "Minneapolis",
          "Minneapolis",
          "InternationalFalls",
          "Duluth",
          "Duluth",
          "Kalamazoo",
          "Kalamazoo",
          "Saginaw",
          "SaultSteMarie",
          "Muskegon",
          "Marquette",
          "Marquette",
          "Lansing",
          "Lansing",
          "Lansing",
          "Lansing",
          "GrandRapids",
          "GrandRapids",
          "GrandRapids",
          "Detroit",
          "Detroit",
          "Detroit",
          "Worcester",
          "Worcester",
          "Milton",
          "Boston",
          "Boston",
          "Baltimore",
          "Baltimore",
          "PortlandME",
          "PortlandME",
          "Natchitoches",
          "Natchitoches",
          "Monroe",
          "Monroe",
          "Shreveport",
          "Shreveport",
          "LakeCharles",
          "LakeCharles",
          "LakeCharles",
          "BatonRouge",
          "BatonRouge",
          "Louisville",
          "Louisville",
          "Louisville",
          "Louisville",
          "Louisville",
          "Lexington",
          "Topeka",
          "Topeka",
          "Goodland",
          "DodgeCity",
          "DodgeCity",
          "Concordia",
          "CedarRapids",
          "CedarRapids",
          "Spencer",
          "Spencer",
          "Waterloo",
          "Waterloo",
          "SiouxCity",
          "SiouxCity",
          "Dubuque",
          "Dubuque",
          "DesMoines",
          "DesMoines",
          "SouthBend",
          "Indianapolis",
          "Indianapolis",
          "FortWayne",
          "FortWayne",
          "Evansville",
          "Springfield",
          "Springfield",
          "Rockford",
          "Rockford",
          "Peoria",
          "Peoria",
          "Peoria",
          "Moline",
          "Moline",
          "Moline",
          "Moline",
          "Moline",
          "Moline",
          "Chicago",
          "Chicago",
          "Chicago",
          "Chicago",
          "Lewiston",
          "Lewiston",
          "Boise",
          "Boise",
          "Savannah",
          "Savannah",
          "Savannah",
          "Macon",
          "Macon",
          "Macon",
          "ColumbusGA",
          "ColumbusGA",
          "Augusta",
          "Augusta",
          "Augusta",
          "Atlanta",
          "Atlanta",
          "Athens",
          "Athens",
          "WestPalmBeach",
          "WestPalmBeach",
          "WestPalmBeach",
          "WestPalmBeach",
          "WestPalmBeach",
          "WestPalmBeach",
          "WestPalmBeach",
          "WestPalmBeach",
          "WestPalmBeach",
          "WestPalmBeach",
          "Tampa",
          "Tampa",
          "Tampa",
          "Tallahassee",
          "Tallahassee",
          "Pensacola",
          "Pensacola",
          "Orlando",
          "Orlando",
          "Miami",
          "Miami",
          "KeyWest",
          "KeyWest",
          "Jacksonville",
          "Jacksonville",
          "Gainesville",
          "Gainesville",
          "Gainesville",
          "Gainesville",
          "Gainesville",
          "FortMyers",
          "WashingtonDC",
          "WashingtonDC",
          "Wilmington",
          "Wilmington",
          "Wilmington",
          "Pueblo",
          "Pueblo",
          "GrandJunction",
          "GrandJunction",
          "Denver",
          "Denver",
          "Denver",
          "ColoradoSprings",
          "ColoradoSprings",
          "CrescentCity",
          "CrescentCity",
          "Escondido",
          "Escondido",
          "Ukiah",
          "Ukiah",
          "Sacramento",
          "Riverside",
          "Riverside",
          "Needles",
          "Needles",
          "SanDiego",
          "SanDiego",
          "Redding",
          "Redding",
          "Redding",
          "Redding",
          "LosAngeles",
          "Fresno",
          "Fresno",
          "Fresno",
          "Eureka",
          "Bakersfield",
          "Bakersfield",
          "Russellville",
          "Russellville",
          "Russellville",
          "Russellville",
          "Russellville",
          "PineBluff",
          "PineBluff",
          "PineBluff",
          "PineBluff",
          "Jonesboro",
          "Jonesboro",
          "Harrison",
          "Harrison",
          "LittleRock",
          "LittleRock",
          "FortSmith",
          "FortSmith",
          "Yuma",
          "Yuma",
          "Yuma",
          "Tucson",
          "Tucson",
          "Phoenix",
          "Phoenix",
          "Flagstaff",
          "Flagstaff",
          "MuscleShoals",
          "MuscleShoals",
          "Montgomery",
          "Montgomery",
          "Mobile",
          "Mobile",
          "Huntsville",
          "Huntsville",
          "Huntsville",
          "Huntsville",
          "Birmingham",
          "Birmingham"
         ],
         "type": "scattergeo"
        }
       ],
       "layout": {
        "geo": {
         "scope": "usa"
        },
        "height": 500,
        "margin": {
         "b": 0,
         "l": 0,
         "r": 0,
         "t": 0
        },
        "template": {
         "data": {
          "bar": [
           {
            "error_x": {
             "color": "#2a3f5f"
            },
            "error_y": {
             "color": "#2a3f5f"
            },
            "marker": {
             "line": {
              "color": "#E5ECF6",
              "width": 0.5
             },
             "pattern": {
              "fillmode": "overlay",
              "size": 10,
              "solidity": 0.2
             }
            },
            "type": "bar"
           }
          ],
          "barpolar": [
           {
            "marker": {
             "line": {
              "color": "#E5ECF6",
              "width": 0.5
             },
             "pattern": {
              "fillmode": "overlay",
              "size": 10,
              "solidity": 0.2
             }
            },
            "type": "barpolar"
           }
          ],
          "carpet": [
           {
            "aaxis": {
             "endlinecolor": "#2a3f5f",
             "gridcolor": "white",
             "linecolor": "white",
             "minorgridcolor": "white",
             "startlinecolor": "#2a3f5f"
            },
            "baxis": {
             "endlinecolor": "#2a3f5f",
             "gridcolor": "white",
             "linecolor": "white",
             "minorgridcolor": "white",
             "startlinecolor": "#2a3f5f"
            },
            "type": "carpet"
           }
          ],
          "choropleth": [
           {
            "colorbar": {
             "outlinewidth": 0,
             "ticks": ""
            },
            "type": "choropleth"
           }
          ],
          "contour": [
           {
            "colorbar": {
             "outlinewidth": 0,
             "ticks": ""
            },
            "colorscale": [
             [
              0,
              "#0d0887"
             ],
             [
              0.1111111111111111,
              "#46039f"
             ],
             [
              0.2222222222222222,
              "#7201a8"
             ],
             [
              0.3333333333333333,
              "#9c179e"
             ],
             [
              0.4444444444444444,
              "#bd3786"
             ],
             [
              0.5555555555555556,
              "#d8576b"
             ],
             [
              0.6666666666666666,
              "#ed7953"
             ],
             [
              0.7777777777777778,
              "#fb9f3a"
             ],
             [
              0.8888888888888888,
              "#fdca26"
             ],
             [
              1,
              "#f0f921"
             ]
            ],
            "type": "contour"
           }
          ],
          "contourcarpet": [
           {
            "colorbar": {
             "outlinewidth": 0,
             "ticks": ""
            },
            "type": "contourcarpet"
           }
          ],
          "heatmap": [
           {
            "colorbar": {
             "outlinewidth": 0,
             "ticks": ""
            },
            "colorscale": [
             [
              0,
              "#0d0887"
             ],
             [
              0.1111111111111111,
              "#46039f"
             ],
             [
              0.2222222222222222,
              "#7201a8"
             ],
             [
              0.3333333333333333,
              "#9c179e"
             ],
             [
              0.4444444444444444,
              "#bd3786"
             ],
             [
              0.5555555555555556,
              "#d8576b"
             ],
             [
              0.6666666666666666,
              "#ed7953"
             ],
             [
              0.7777777777777778,
              "#fb9f3a"
             ],
             [
              0.8888888888888888,
              "#fdca26"
             ],
             [
              1,
              "#f0f921"
             ]
            ],
            "type": "heatmap"
           }
          ],
          "heatmapgl": [
           {
            "colorbar": {
             "outlinewidth": 0,
             "ticks": ""
            },
            "colorscale": [
             [
              0,
              "#0d0887"
             ],
             [
              0.1111111111111111,
              "#46039f"
             ],
             [
              0.2222222222222222,
              "#7201a8"
             ],
             [
              0.3333333333333333,
              "#9c179e"
             ],
             [
              0.4444444444444444,
              "#bd3786"
             ],
             [
              0.5555555555555556,
              "#d8576b"
             ],
             [
              0.6666666666666666,
              "#ed7953"
             ],
             [
              0.7777777777777778,
              "#fb9f3a"
             ],
             [
              0.8888888888888888,
              "#fdca26"
             ],
             [
              1,
              "#f0f921"
             ]
            ],
            "type": "heatmapgl"
           }
          ],
          "histogram": [
           {
            "marker": {
             "pattern": {
              "fillmode": "overlay",
              "size": 10,
              "solidity": 0.2
             }
            },
            "type": "histogram"
           }
          ],
          "histogram2d": [
           {
            "colorbar": {
             "outlinewidth": 0,
             "ticks": ""
            },
            "colorscale": [
             [
              0,
              "#0d0887"
             ],
             [
              0.1111111111111111,
              "#46039f"
             ],
             [
              0.2222222222222222,
              "#7201a8"
             ],
             [
              0.3333333333333333,
              "#9c179e"
             ],
             [
              0.4444444444444444,
              "#bd3786"
             ],
             [
              0.5555555555555556,
              "#d8576b"
             ],
             [
              0.6666666666666666,
              "#ed7953"
             ],
             [
              0.7777777777777778,
              "#fb9f3a"
             ],
             [
              0.8888888888888888,
              "#fdca26"
             ],
             [
              1,
              "#f0f921"
             ]
            ],
            "type": "histogram2d"
           }
          ],
          "histogram2dcontour": [
           {
            "colorbar": {
             "outlinewidth": 0,
             "ticks": ""
            },
            "colorscale": [
             [
              0,
              "#0d0887"
             ],
             [
              0.1111111111111111,
              "#46039f"
             ],
             [
              0.2222222222222222,
              "#7201a8"
             ],
             [
              0.3333333333333333,
              "#9c179e"
             ],
             [
              0.4444444444444444,
              "#bd3786"
             ],
             [
              0.5555555555555556,
              "#d8576b"
             ],
             [
              0.6666666666666666,
              "#ed7953"
             ],
             [
              0.7777777777777778,
              "#fb9f3a"
             ],
             [
              0.8888888888888888,
              "#fdca26"
             ],
             [
              1,
              "#f0f921"
             ]
            ],
            "type": "histogram2dcontour"
           }
          ],
          "mesh3d": [
           {
            "colorbar": {
             "outlinewidth": 0,
             "ticks": ""
            },
            "type": "mesh3d"
           }
          ],
          "parcoords": [
           {
            "line": {
             "colorbar": {
              "outlinewidth": 0,
              "ticks": ""
             }
            },
            "type": "parcoords"
           }
          ],
          "pie": [
           {
            "automargin": true,
            "type": "pie"
           }
          ],
          "scatter": [
           {
            "fillpattern": {
             "fillmode": "overlay",
             "size": 10,
             "solidity": 0.2
            },
            "type": "scatter"
           }
          ],
          "scatter3d": [
           {
            "line": {
             "colorbar": {
              "outlinewidth": 0,
              "ticks": ""
             }
            },
            "marker": {
             "colorbar": {
              "outlinewidth": 0,
              "ticks": ""
             }
            },
            "type": "scatter3d"
           }
          ],
          "scattercarpet": [
           {
            "marker": {
             "colorbar": {
              "outlinewidth": 0,
              "ticks": ""
             }
            },
            "type": "scattercarpet"
           }
          ],
          "scattergeo": [
           {
            "marker": {
             "colorbar": {
              "outlinewidth": 0,
              "ticks": ""
             }
            },
            "type": "scattergeo"
           }
          ],
          "scattergl": [
           {
            "marker": {
             "colorbar": {
              "outlinewidth": 0,
              "ticks": ""
             }
            },
            "type": "scattergl"
           }
          ],
          "scattermapbox": [
           {
            "marker": {
             "colorbar": {
              "outlinewidth": 0,
              "ticks": ""
             }
            },
            "type": "scattermapbox"
           }
          ],
          "scatterpolar": [
           {
            "marker": {
             "colorbar": {
              "outlinewidth": 0,
              "ticks": ""
             }
            },
            "type": "scatterpolar"
           }
          ],
          "scatterpolargl": [
           {
            "marker": {
             "colorbar": {
              "outlinewidth": 0,
              "ticks": ""
             }
            },
            "type": "scatterpolargl"
           }
          ],
          "scatterternary": [
           {
            "marker": {
             "colorbar": {
              "outlinewidth": 0,
              "ticks": ""
             }
            },
            "type": "scatterternary"
           }
          ],
          "surface": [
           {
            "colorbar": {
             "outlinewidth": 0,
             "ticks": ""
            },
            "colorscale": [
             [
              0,
              "#0d0887"
             ],
             [
              0.1111111111111111,
              "#46039f"
             ],
             [
              0.2222222222222222,
              "#7201a8"
             ],
             [
              0.3333333333333333,
              "#9c179e"
             ],
             [
              0.4444444444444444,
              "#bd3786"
             ],
             [
              0.5555555555555556,
              "#d8576b"
             ],
             [
              0.6666666666666666,
              "#ed7953"
             ],
             [
              0.7777777777777778,
              "#fb9f3a"
             ],
             [
              0.8888888888888888,
              "#fdca26"
             ],
             [
              1,
              "#f0f921"
             ]
            ],
            "type": "surface"
           }
          ],
          "table": [
           {
            "cells": {
             "fill": {
              "color": "#EBF0F8"
             },
             "line": {
              "color": "white"
             }
            },
            "header": {
             "fill": {
              "color": "#C8D4E3"
             },
             "line": {
              "color": "white"
             }
            },
            "type": "table"
           }
          ]
         },
         "layout": {
          "annotationdefaults": {
           "arrowcolor": "#2a3f5f",
           "arrowhead": 0,
           "arrowwidth": 1
          },
          "autotypenumbers": "strict",
          "coloraxis": {
           "colorbar": {
            "outlinewidth": 0,
            "ticks": ""
           }
          },
          "colorscale": {
           "diverging": [
            [
             0,
             "#8e0152"
            ],
            [
             0.1,
             "#c51b7d"
            ],
            [
             0.2,
             "#de77ae"
            ],
            [
             0.3,
             "#f1b6da"
            ],
            [
             0.4,
             "#fde0ef"
            ],
            [
             0.5,
             "#f7f7f7"
            ],
            [
             0.6,
             "#e6f5d0"
            ],
            [
             0.7,
             "#b8e186"
            ],
            [
             0.8,
             "#7fbc41"
            ],
            [
             0.9,
             "#4d9221"
            ],
            [
             1,
             "#276419"
            ]
           ],
           "sequential": [
            [
             0,
             "#0d0887"
            ],
            [
             0.1111111111111111,
             "#46039f"
            ],
            [
             0.2222222222222222,
             "#7201a8"
            ],
            [
             0.3333333333333333,
             "#9c179e"
            ],
            [
             0.4444444444444444,
             "#bd3786"
            ],
            [
             0.5555555555555556,
             "#d8576b"
            ],
            [
             0.6666666666666666,
             "#ed7953"
            ],
            [
             0.7777777777777778,
             "#fb9f3a"
            ],
            [
             0.8888888888888888,
             "#fdca26"
            ],
            [
             1,
             "#f0f921"
            ]
           ],
           "sequentialminus": [
            [
             0,
             "#0d0887"
            ],
            [
             0.1111111111111111,
             "#46039f"
            ],
            [
             0.2222222222222222,
             "#7201a8"
            ],
            [
             0.3333333333333333,
             "#9c179e"
            ],
            [
             0.4444444444444444,
             "#bd3786"
            ],
            [
             0.5555555555555556,
             "#d8576b"
            ],
            [
             0.6666666666666666,
             "#ed7953"
            ],
            [
             0.7777777777777778,
             "#fb9f3a"
            ],
            [
             0.8888888888888888,
             "#fdca26"
            ],
            [
             1,
             "#f0f921"
            ]
           ]
          },
          "colorway": [
           "#636efa",
           "#EF553B",
           "#00cc96",
           "#ab63fa",
           "#FFA15A",
           "#19d3f3",
           "#FF6692",
           "#B6E880",
           "#FF97FF",
           "#FECB52"
          ],
          "font": {
           "color": "#2a3f5f"
          },
          "geo": {
           "bgcolor": "white",
           "lakecolor": "white",
           "landcolor": "#E5ECF6",
           "showlakes": true,
           "showland": true,
           "subunitcolor": "white"
          },
          "hoverlabel": {
           "align": "left"
          },
          "hovermode": "closest",
          "mapbox": {
           "style": "light"
          },
          "paper_bgcolor": "white",
          "plot_bgcolor": "#E5ECF6",
          "polar": {
           "angularaxis": {
            "gridcolor": "white",
            "linecolor": "white",
            "ticks": ""
           },
           "bgcolor": "#E5ECF6",
           "radialaxis": {
            "gridcolor": "white",
            "linecolor": "white",
            "ticks": ""
           }
          },
          "scene": {
           "xaxis": {
            "backgroundcolor": "#E5ECF6",
            "gridcolor": "white",
            "gridwidth": 2,
            "linecolor": "white",
            "showbackground": true,
            "ticks": "",
            "zerolinecolor": "white"
           },
           "yaxis": {
            "backgroundcolor": "#E5ECF6",
            "gridcolor": "white",
            "gridwidth": 2,
            "linecolor": "white",
            "showbackground": true,
            "ticks": "",
            "zerolinecolor": "white"
           },
           "zaxis": {
            "backgroundcolor": "#E5ECF6",
            "gridcolor": "white",
            "gridwidth": 2,
            "linecolor": "white",
            "showbackground": true,
            "ticks": "",
            "zerolinecolor": "white"
           }
          },
          "shapedefaults": {
           "line": {
            "color": "#2a3f5f"
           }
          },
          "ternary": {
           "aaxis": {
            "gridcolor": "white",
            "linecolor": "white",
            "ticks": ""
           },
           "baxis": {
            "gridcolor": "white",
            "linecolor": "white",
            "ticks": ""
           },
           "bgcolor": "#E5ECF6",
           "caxis": {
            "gridcolor": "white",
            "linecolor": "white",
            "ticks": ""
           }
          },
          "title": {
           "x": 0.05
          },
          "xaxis": {
           "automargin": true,
           "gridcolor": "white",
           "linecolor": "white",
           "ticks": "",
           "title": {
            "standoff": 15
           },
           "zerolinecolor": "white",
           "zerolinewidth": 2
          },
          "yaxis": {
           "automargin": true,
           "gridcolor": "white",
           "linecolor": "white",
           "ticks": "",
           "title": {
            "standoff": 15
           },
           "zerolinecolor": "white",
           "zerolinewidth": 2
          }
         }
        },
        "width": 800
       }
      },
      "image/png": "[encoded data removed]",
      "text/html": [
       "<div>                            <div id=\"3e18396d-4c74-44a3-a40b-dabb438640b1\" class=\"plotly-graph-div\" style=\"height:500px; width:800px;\"></div>            <script type=\"text/javascript\">                require([\"plotly\"], function(Plotly) {                    window.PLOTLYENV=window.PLOTLYENV || {};                                    if (document.getElementById(\"3e18396d-4c74-44a3-a40b-dabb438640b1\")) {                    Plotly.newPlot(                        \"3e18396d-4c74-44a3-a40b-dabb438640b1\",                        [{\"lat\":[42.8153,42.8153,41.1519,41.1519,44.9258,44.9258,46.0261,46.0261,44.8664,44.8664,46.5486,46.5486,42.955,42.955,43.1406,43.1406,43.8789,43.8789,43.8789,43.8789,44.4983,37.2958,37.2958,39.6428,39.6428,40.1764,40.1764,38.365,38.365,38.365,38.3794,38.3794,38.3794,37.7836,37.7836,45.6208,45.6208,46.7439,46.7439,46.7439,46.2667,46.2667,47.6217,47.4444,47.4444,37.505,37.505,36.9033,36.9033,37.3208,37.3208,44.4683,44.4683,40.7781,40.7781,30.5892,30.5892,29.5442,29.5442,29.5442,29.98,29.98,29.2733,29.2733,31.8111,31.8111,32.8978,32.8978,32.8978,32.8978,27.8,27.8,30.3208,30.3208,35.2333,35.2333,32.4106,32.4106,36.1189,36.1189,35.0564,35.0564,35.0311,35.0311,43.7667,43.7667,43.5878,44.3981,45.4558,33.55,33.55,34.8461,34.8461,33.9486,33.9486,41.2433,41.2433,40.4847,40.4847,40.4847,39.8683,39.8683,40.1936,40.1936,40.1936,42.08,42.08,42.1469,42.1469,45.5181,45.5181,44.905,45.6906,45.6906,44.1278,44.1278,46.1569,46.1569,36.1625,36.1625,36.1994,36.1994,35.3889,35.3889,39.9444,39.9444,41.5886,41.5886,41.5886,39.9061,39.9061,39.9914,39.9914,41.5175,41.5175,39.1033,39.1033,40.9167,40.9167,48.1739,48.1739,47.9428,47.9428,46.9253,46.9253,46.7708,35.8922,35.8922,35.2236,35.2236,35.2325,35.2325,35.4319,35.4319,35.4319,43.35,43.35,43.1167,43.1167,40.7789,42.9486,42.9486,42.7431,42.7431,33.3075,33.3075,36.4486,35.0419,40.8292,40.8292,40.4728,40.4728,40.4728,40.2769,40.2769,40.2769,42.9333,42.9333,42.9333,42.9333,43.1953,43.1953,40.9017,40.9017,39.4839,39.4839,39.2953,40.8289,40.2064,40.2064,40.2064,40.2064,40.6044,40.6044,42.8783,41.8706,41.3103,41.3103,41.3103,41.3103,41.9856,41.9856,41.1214,41.1214,40.8508,40.8508,40.8508,40.8508,40.8508,40.9611,40.9611,40.9611,46.9208,46.9208,46.6056,46.6056,48.5428,48.5428,47.4733,47.4733,48.2138,48.2138,38.5911,38.5911,38.7525,38.7525,37.2353,37.2353,37.2353,39.2972,39.2972,39.2972,38.8169,30.4119,30.4119,30.4119,31.2819,31.2819,32.3347,32.3347,32.3206,32.3206,45.5433,45.5433,43.9042,44.8831,44.8831,44.8831,48.5614,46.8369,46.8369,42.2347,42.2347,43.5331,46.4794,43.1711,46.5311,46.5311,42.7803,42.7803,42.7803,42.7803,42.8939,42.8939,42.8939,42.2314,42.2314,42.2314,42.2706,42.2706,42.2122,42.3606,42.3606,39.1836,39.1836,43.6497,43.6497,31.8142,31.8142,32.5156,32.5156,32.4506,32.4506,30.125,30.125,30.125,30.5372,30.5372,38.1811,38.1811,38.1811,38.1811,38.1811,38.0408,39.0725,39.0725,39.3669,37.7608,37.7608,39.5514,41.8833,41.8833,43.1644,43.1644,42.5544,42.5544,42.3914,42.3914,42.3978,42.3978,41.5339,41.5339,41.7072,39.7075,39.7075,40.9706,40.9706,38.0442,39.8447,39.8447,42.1928,42.1928,40.6675,40.6675,40.6675,41.4653,41.4653,41.4653,41.4653,41.4653,41.4653,41.995,41.995,41.995,41.995,46.3747,46.3747,43.5667,43.5667,32.13,32.13,32.13,32.6847,32.6847,32.6847,32.5161,32.5161,33.3644,33.3644,33.3644,33.63,33.63,33.9481,33.9481,26.6847,26.6847,26.6847,26.6847,26.6847,26.6847,26.6847,26.6847,26.6847,26.6847,27.9619,27.9619,27.9619,30.3975,30.3975,30.4781,30.4781,28.4339,28.4339,25.7906,25.7906,24.555,24.555,30.4844,30.4844,29.6919,29.6919,29.6919,29.6919,29.6919,26.585,38.8483,38.8483,39.6728,39.6728,39.6728,38.29,38.29,39.1342,39.1342,39.8328,39.8328,39.8328,38.81,38.81,41.7803,41.7803,33.1211,33.1211,39.1258,39.1258,38.5553,33.9519,33.9519,34.7675,34.7675,32.7336,32.7336,40.5175,40.5175,40.5175,40.5175,34.0511,36.78,36.78,36.78,40.8097,35.4344,35.4344,35.2578,35.2578,35.2578,35.2578,35.2578,34.175,34.175,34.175,34.175,35.8311,35.8311,36.2667,36.2667,34.7272,34.7272,35.3331,35.3331,32.65,32.65,32.65,32.1314,32.1314,33.4278,33.4278,35.1442,35.1442,34.7442,34.7442,32.2997,32.2997,30.6264,30.6264,34.6439,34.6439,34.6439,34.6439,33.5656,33.5656],\"lon\":[-108.7261,-108.7261,-104.8061,-104.8061,-89.6256,-89.6256,-91.4442,-91.4442,-91.4878,-91.4878,-90.9189,-90.9189,-87.9044,-87.9044,-89.3453,-89.3453,-91.2528,-91.2528,-91.2528,-91.2528,-88.1111,-81.2078,-81.2078,-79.9164,-79.9164,-80.6472,-80.6472,-82.555,-82.555,-82.555,-81.59,-81.59,-81.59,-81.1231,-81.1231,-122.6572,-122.6572,-117.1086,-117.1086,-117.1086,-119.1167,-119.1167,-117.5281,-122.3139,-122.3139,-77.3203,-77.3203,-76.1922,-76.1922,-79.2067,-79.2067,-73.15,-73.15,-111.9694,-111.9694,-96.3647,-96.3647,-98.4839,-98.4839,-98.4839,-95.36,-95.36,-94.8592,-94.8592,-106.3758,-106.3758,-97.0189,-97.0189,-97.0189,-97.0189,-97.4,-97.4,-97.7603,-97.7603,-101.7089,-101.7089,-99.6822,-99.6822,-86.6892,-86.6892,-89.9864,-89.9864,-85.2014,-85.2014,-98.0333,-98.0333,-96.7289,-98.2231,-98.4131,-81.6969,-81.6969,-82.3461,-82.3461,-81.1186,-81.1186,-76.9217,-76.9217,-80.2144,-80.2144,-80.2144,-75.2311,-75.2311,-76.7633,-76.7633,-76.7633,-80.1825,-80.1825,-121.7242,-121.7242,-122.6894,-122.6894,-123.0011,-118.8528,-118.8528,-123.2206,-123.2206,-123.8825,-123.8825,-97.0894,-97.0894,-95.8872,-95.8872,-97.6006,-97.6006,-81.8922,-81.8922,-83.8014,-83.8014,-83.8014,-84.2186,-84.2186,-82.8808,-82.8808,-81.6836,-81.6836,-84.4189,-84.4189,-81.4333,-81.4333,-103.6367,-103.6367,-97.1839,-97.1839,-96.8111,-96.8111,-100.7603,-78.7819,-78.7819,-80.9553,-80.9553,-75.6219,-75.6219,-82.5375,-82.5375,-82.5375,-73.6167,-73.6167,-77.6767,-77.6767,-73.9692,-78.7369,-78.7369,-73.8092,-73.8092,-104.5083,-104.5083,-103.1539,-106.6156,-75.0833,-75.0833,-74.4225,-74.4225,-74.4225,-74.8158,-74.8158,-74.8158,-71.4383,-71.4383,-71.4383,-71.4383,-71.5011,-71.5011,-117.8081,-117.8081,-119.7711,-119.7711,-114.8467,-115.7886,-100.5914,-100.5914,-100.5914,-100.5914,-98.4272,-98.4272,-100.55,-103.5931,-95.8992,-95.8992,-95.8992,-95.8992,-97.4353,-97.4353,-100.6694,-100.6694,-96.7475,-96.7475,-96.7475,-96.7475,-96.7475,-98.3136,-98.3136,-98.3136,-114.0925,-114.0925,-111.9636,-111.9636,-109.7633,-109.7633,-111.3822,-111.3822,-106.6213,-106.6213,-92.1558,-92.1558,-90.3736,-90.3736,-93.4003,-93.4003,-93.4003,-94.7306,-94.7306,-94.7306,-92.2183,-89.0808,-89.0808,-89.0808,-89.2531,-89.2531,-88.7442,-88.7442,-90.0778,-90.0778,-94.0514,-94.0514,-92.4917,-93.2289,-93.2289,-93.2289,-93.3981,-92.2097,-92.2097,-85.5519,-85.5519,-84.0797,-84.3572,-86.2367,-87.5483,-87.5483,-84.5789,-84.5789,-84.5789,-84.5789,-85.5447,-85.5447,-85.5447,-83.3308,-83.3308,-83.3308,-71.8731,-71.8731,-71.1136,-71.0106,-71.0106,-76.6542,-76.6542,-70.3003,-70.3003,-93.0856,-93.0856,-92.0406,-92.0406,-93.8411,-93.8411,-93.2158,-93.2158,-93.2158,-91.1469,-91.1469,-85.7392,-85.7392,-85.7392,-85.7392,-85.7392,-84.6058,-95.6261,-95.6261,-101.7,-99.9683,-99.9683,-97.6508,-91.7167,-91.7167,-95.2021,-95.2021,-92.4011,-92.4011,-96.3792,-96.3792,-90.7036,-90.7036,-93.6531,-93.6531,-86.3164,-86.2803,-86.2803,-85.2064,-85.2064,-87.5206,-89.6839,-89.6839,-89.0931,-89.0931,-89.6839,-89.6839,-89.6839,-90.5233,-90.5233,-90.5233,-90.5233,-90.5233,-90.5233,-87.9336,-87.9336,-87.9336,-87.9336,-117.0156,-117.0156,-116.2406,-116.2406,-81.21,-81.21,-81.21,-83.6528,-83.6528,-83.6528,-84.9422,-84.9422,-81.9633,-81.9633,-81.9633,-84.4417,-84.4417,-83.3275,-83.3275,-80.0994,-80.0994,-80.0994,-80.0994,-80.0994,-80.0994,-80.0994,-80.0994,-80.0994,-80.0994,-82.5403,-82.5403,-82.5403,-84.3289,-84.3289,-87.1869,-87.1869,-81.325,-81.325,-80.3164,-80.3164,-81.7522,-81.7522,-81.7019,-81.7019,-82.2756,-82.2756,-82.2756,-82.2756,-82.2756,-81.8614,-77.0342,-77.0342,-75.6008,-75.6008,-75.6008,-104.4983,-104.4983,-108.54,-108.54,-104.6575,-104.6575,-104.6575,-104.6883,-104.6883,-124.2367,-124.2367,-117.09,-117.09,-123.2008,-123.2008,-121.4183,-117.4386,-117.4386,-114.6189,-114.6189,-117.1831,-117.1831,-122.2986,-122.2986,-122.2986,-122.2986,-118.2353,-119.7194,-119.7194,-119.7194,-124.1603,-119.0542,-119.0542,-93.0947,-93.0947,-93.0947,-93.0947,-93.0947,-91.9347,-91.9347,-91.9347,-91.9347,-90.6464,-90.6464,-93.1567,-93.1567,-92.2389,-92.2389,-94.3625,-94.3625,-114.6167,-114.6167,-114.6167,-110.9553,-110.9553,-112.0039,-112.0039,-111.6664,-111.6664,-87.5997,-87.5997,-86.4075,-86.4075,-88.0681,-88.0681,-86.7861,-86.7861,-86.7861,-86.7861,-86.745,-86.745],\"mode\":\"markers\",\"text\":[\"Lander\",\"Lander\",\"Cheyenne\",\"Cheyenne\",\"Wausau\",\"Wausau\",\"Hayward\",\"Hayward\",\"EauClaire\",\"EauClaire\",\"Ashland\",\"Ashland\",\"Milwaukee\",\"Milwaukee\",\"Madison\",\"Madison\",\"LaCrosse\",\"LaCrosse\",\"LaCrosse\",\"LaCrosse\",\"GreenBay\",\"Bluefield\",\"Bluefield\",\"Morgantown\",\"Morgantown\",\"Wheeling\",\"Wheeling\",\"Huntington\",\"Huntington\",\"Huntington\",\"Charleston\",\"Charleston\",\"Charleston\",\"Beckley\",\"Beckley\",\"Vancouver\",\"Vancouver\",\"Pullman\",\"Pullman\",\"Pullman\",\"TriCities\",\"TriCities\",\"Spokane\",\"Seattle\",\"Seattle\",\"Richmond\",\"Richmond\",\"NorfolkVA\",\"NorfolkVA\",\"Lynchburg\",\"Lynchburg\",\"Burlington\",\"Burlington\",\"SaltLakeCity\",\"SaltLakeCity\",\"CollegeStation\",\"CollegeStation\",\"SanAntonio\",\"SanAntonio\",\"SanAntonio\",\"Houston\",\"Houston\",\"Galveston\",\"Galveston\",\"ElPaso\",\"ElPaso\",\"DallasFortWorth\",\"DallasFortWorth\",\"DallasFortWorth\",\"DallasFortWorth\",\"CorpusChristi\",\"CorpusChristi\",\"Austin\",\"Austin\",\"Amarillo\",\"Amarillo\",\"Abilene\",\"Abilene\",\"Nashville\",\"Nashville\",\"Memphis\",\"Memphis\",\"Chattanooga\",\"Chattanooga\",\"Mitchell\",\"Mitchell\",\"SiouxFalls\",\"Huron\",\"Aberdeen\",\"Aiken\",\"Aiken\",\"GreenvilleSpartanburg\",\"GreenvilleSpartanburg\",\"ColumbiaSC\",\"ColumbiaSC\",\"Williamsport\",\"Williamsport\",\"Pittsburgh\",\"Pittsburgh\",\"Pittsburgh\",\"Philadelphia\",\"Philadelphia\",\"MiddletownHarrisburg\",\"MiddletownHarrisburg\",\"MiddletownHarrisburg\",\"Erie\",\"Erie\",\"KlamathFalls\",\"KlamathFalls\",\"Portland\",\"Portland\",\"Salem\",\"Pendleton\",\"Pendleton\",\"EUGENE\",\"EUGENE\",\"Astoria\",\"Astoria\",\"Stillwater\",\"Stillwater\",\"Tulsa\",\"Tulsa\",\"Oklahoma\",\"Oklahoma\",\"Zaneville\",\"Zaneville\",\"Toledo\",\"Toledo\",\"Toledo\",\"Dayton\",\"Dayton\",\"ColumbusOH\",\"ColumbusOH\",\"Cleveland\",\"Cleveland\",\"Cincinnati\",\"Cincinnati\",\"Akron\",\"Akron\",\"Williston\",\"Williston\",\"GrandForks\",\"GrandForks\",\"Fargo\",\"Fargo\",\"Bismarck\",\"Raleigh\",\"Raleigh\",\"Charlotte\",\"Charlotte\",\"CapeHatteras\",\"CapeHatteras\",\"Asheville\",\"Asheville\",\"Asheville\",\"GlensFalls\",\"GlensFalls\",\"RochesterNY\",\"RochesterNY\",\"NewYork\",\"Buffalo\",\"Buffalo\",\"Albany\",\"Albany\",\"Roswell\",\"Roswell\",\"Clayton\",\"Albuquerque\",\"Belvidere\",\"Belvidere\",\"NewBrunswick\",\"NewBrunswick\",\"NewBrunswick\",\"Trenton\",\"Trenton\",\"Trenton\",\"Manchester\",\"Manchester\",\"Manchester\",\"Manchester\",\"Concord\",\"Concord\",\"Winnemucca\",\"Winnemucca\",\"Reno\",\"Reno\",\"Ely\",\"Elko\",\"McCook\",\"McCook\",\"McCook\",\"McCook\",\"Hastings\",\"Hastings\",\"Valentine\",\"Scottsbluff\",\"Omaha\",\"Omaha\",\"Omaha\",\"Omaha\",\"NorfolkNE\",\"NorfolkNE\",\"NorthPlatte\",\"NorthPlatte\",\"Lincoln\",\"Lincoln\",\"Lincoln\",\"Lincoln\",\"Lincoln\",\"GrandIsland\",\"GrandIsland\",\"GrandIsland\",\"Missoula\",\"Missoula\",\"Helena\",\"Helena\",\"Havre\",\"Havre\",\"GreatFalls\",\"GreatFalls\",\"Glasgow\",\"Glasgow\",\"Jefferson\",\"Jefferson\",\"StLouis\",\"StLouis\",\"SpringfieldMO\",\"SpringfieldMO\",\"SpringfieldMO\",\"KansasCity\",\"KansasCity\",\"KansasCity\",\"ColumbiaMO\",\"Gulfport\",\"Gulfport\",\"Gulfport\",\"Hattiesburg\",\"Hattiesburg\",\"Meridian\",\"Meridian\",\"Jackson\",\"Jackson\",\"SaintCloud\",\"SaintCloud\",\"RochesterMN\",\"Minneapolis\",\"Minneapolis\",\"Minneapolis\",\"InternationalFalls\",\"Duluth\",\"Duluth\",\"Kalamazoo\",\"Kalamazoo\",\"Saginaw\",\"SaultSteMarie\",\"Muskegon\",\"Marquette\",\"Marquette\",\"Lansing\",\"Lansing\",\"Lansing\",\"Lansing\",\"GrandRapids\",\"GrandRapids\",\"GrandRapids\",\"Detroit\",\"Detroit\",\"Detroit\",\"Worcester\",\"Worcester\",\"Milton\",\"Boston\",\"Boston\",\"Baltimore\",\"Baltimore\",\"PortlandME\",\"PortlandME\",\"Natchitoches\",\"Natchitoches\",\"Monroe\",\"Monroe\",\"Shreveport\",\"Shreveport\",\"LakeCharles\",\"LakeCharles\",\"LakeCharles\",\"BatonRouge\",\"BatonRouge\",\"Louisville\",\"Louisville\",\"Louisville\",\"Louisville\",\"Louisville\",\"Lexington\",\"Topeka\",\"Topeka\",\"Goodland\",\"DodgeCity\",\"DodgeCity\",\"Concordia\",\"CedarRapids\",\"CedarRapids\",\"Spencer\",\"Spencer\",\"Waterloo\",\"Waterloo\",\"SiouxCity\",\"SiouxCity\",\"Dubuque\",\"Dubuque\",\"DesMoines\",\"DesMoines\",\"SouthBend\",\"Indianapolis\",\"Indianapolis\",\"FortWayne\",\"FortWayne\",\"Evansville\",\"Springfield\",\"Springfield\",\"Rockford\",\"Rockford\",\"Peoria\",\"Peoria\",\"Peoria\",\"Moline\",\"Moline\",\"Moline\",\"Moline\",\"Moline\",\"Moline\",\"Chicago\",\"Chicago\",\"Chicago\",\"Chicago\",\"Lewiston\",\"Lewiston\",\"Boise\",\"Boise\",\"Savannah\",\"Savannah\",\"Savannah\",\"Macon\",\"Macon\",\"Macon\",\"ColumbusGA\",\"ColumbusGA\",\"Augusta\",\"Augusta\",\"Augusta\",\"Atlanta\",\"Atlanta\",\"Athens\",\"Athens\",\"WestPalmBeach\",\"WestPalmBeach\",\"WestPalmBeach\",\"WestPalmBeach\",\"WestPalmBeach\",\"WestPalmBeach\",\"WestPalmBeach\",\"WestPalmBeach\",\"WestPalmBeach\",\"WestPalmBeach\",\"Tampa\",\"Tampa\",\"Tampa\",\"Tallahassee\",\"Tallahassee\",\"Pensacola\",\"Pensacola\",\"Orlando\",\"Orlando\",\"Miami\",\"Miami\",\"KeyWest\",\"KeyWest\",\"Jacksonville\",\"Jacksonville\",\"Gainesville\",\"Gainesville\",\"Gainesville\",\"Gainesville\",\"Gainesville\",\"FortMyers\",\"WashingtonDC\",\"WashingtonDC\",\"Wilmington\",\"Wilmington\",\"Wilmington\",\"Pueblo\",\"Pueblo\",\"GrandJunction\",\"GrandJunction\",\"Denver\",\"Denver\",\"Denver\",\"ColoradoSprings\",\"ColoradoSprings\",\"CrescentCity\",\"CrescentCity\",\"Escondido\",\"Escondido\",\"Ukiah\",\"Ukiah\",\"Sacramento\",\"Riverside\",\"Riverside\",\"Needles\",\"Needles\",\"SanDiego\",\"SanDiego\",\"Redding\",\"Redding\",\"Redding\",\"Redding\",\"LosAngeles\",\"Fresno\",\"Fresno\",\"Fresno\",\"Eureka\",\"Bakersfield\",\"Bakersfield\",\"Russellville\",\"Russellville\",\"Russellville\",\"Russellville\",\"Russellville\",\"PineBluff\",\"PineBluff\",\"PineBluff\",\"PineBluff\",\"Jonesboro\",\"Jonesboro\",\"Harrison\",\"Harrison\",\"LittleRock\",\"LittleRock\",\"FortSmith\",\"FortSmith\",\"Yuma\",\"Yuma\",\"Yuma\",\"Tucson\",\"Tucson\",\"Phoenix\",\"Phoenix\",\"Flagstaff\",\"Flagstaff\",\"MuscleShoals\",\"MuscleShoals\",\"Montgomery\",\"Montgomery\",\"Mobile\",\"Mobile\",\"Huntsville\",\"Huntsville\",\"Huntsville\",\"Huntsville\",\"Birmingham\",\"Birmingham\"],\"type\":\"scattergeo\"}],                        {\"template\":{\"data\":{\"histogram2dcontour\":[{\"type\":\"histogram2dcontour\",\"colorbar\":{\"outlinewidth\":0,\"ticks\":\"\"},\"colorscale\":[[0.0,\"#0d0887\"],[0.1111111111111111,\"#46039f\"],[0.2222222222222222,\"#7201a8\"],[0.3333333333333333,\"#9c179e\"],[0.4444444444444444,\"#bd3786\"],[0.5555555555555556,\"#d8576b\"],[0.6666666666666666,\"#ed7953\"],[0.7777777777777778,\"#fb9f3a\"],[0.8888888888888888,\"#fdca26\"],[1.0,\"#f0f921\"]]}],\"choropleth\":[{\"type\":\"choropleth\",\"colorbar\":{\"outlinewidth\":0,\"ticks\":\"\"}}],\"histogram2d\":[{\"type\":\"histogram2d\",\"colorbar\":{\"outlinewidth\":0,\"ticks\":\"\"},\"colorscale\":[[0.0,\"#0d0887\"],[0.1111111111111111,\"#46039f\"],[0.2222222222222222,\"#7201a8\"],[0.3333333333333333,\"#9c179e\"],[0.4444444444444444,\"#bd3786\"],[0.5555555555555556,\"#d8576b\"],[0.6666666666666666,\"#ed7953\"],[0.7777777777777778,\"#fb9f3a\"],[0.8888888888888888,\"#fdca26\"],[1.0,\"#f0f921\"]]}],\"heatmap\":[{\"type\":\"heatmap\",\"colorbar\":{\"outlinewidth\":0,\"ticks\":\"\"},\"colorscale\":[[0.0,\"#0d0887\"],[0.1111111111111111,\"#46039f\"],[0.2222222222222222,\"#7201a8\"],[0.3333333333333333,\"#9c179e\"],[0.4444444444444444,\"#bd3786\"],[0.5555555555555556,\"#d8576b\"],[0.6666666666666666,\"#ed7953\"],[0.7777777777777778,\"#fb9f3a\"],[0.8888888888888888,\"#fdca26\"],[1.0,\"#f0f921\"]]}],\"heatmapgl\":[{\"type\":\"heatmapgl\",\"colorbar\":{\"outlinewidth\":0,\"ticks\":\"\"},\"colorscale\":[[0.0,\"#0d0887\"],[0.1111111111111111,\"#46039f\"],[0.2222222222222222,\"#7201a8\"],[0.3333333333333333,\"#9c179e\"],[0.4444444444444444,\"#bd3786\"],[0.5555555555555556,\"#d8576b\"],[0.6666666666666666,\"#ed7953\"],[0.7777777777777778,\"#fb9f3a\"],[0.8888888888888888,\"#fdca26\"],[1.0,\"#f0f921\"]]}],\"contourcarpet\":[{\"type\":\"contourcarpet\",\"colorbar\":{\"outlinewidth\":0,\"ticks\":\"\"}}],\"contour\":[{\"type\":\"contour\",\"colorbar\":{\"outlinewidth\":0,\"ticks\":\"\"},\"colorscale\":[[0.0,\"#0d0887\"],[0.1111111111111111,\"#46039f\"],[0.2222222222222222,\"#7201a8\"],[0.3333333333333333,\"#9c179e\"],[0.4444444444444444,\"#bd3786\"],[0.5555555555555556,\"#d8576b\"],[0.6666666666666666,\"#ed7953\"],[0.7777777777777778,\"#fb9f3a\"],[0.8888888888888888,\"#fdca26\"],[1.0,\"#f0f921\"]]}],\"surface\":[{\"type\":\"surface\",\"colorbar\":{\"outlinewidth\":0,\"ticks\":\"\"},\"colorscale\":[[0.0,\"#0d0887\"],[0.1111111111111111,\"#46039f\"],[0.2222222222222222,\"#7201a8\"],[0.3333333333333333,\"#9c179e\"],[0.4444444444444444,\"#bd3786\"],[0.5555555555555556,\"#d8576b\"],[0.6666666666666666,\"#ed7953\"],[0.7777777777777778,\"#fb9f3a\"],[0.8888888888888888,\"#fdca26\"],[1.0,\"#f0f921\"]]}],\"mesh3d\":[{\"type\":\"mesh3d\",\"colorbar\":{\"outlinewidth\":0,\"ticks\":\"\"}}],\"scatter\":[{\"fillpattern\":{\"fillmode\":\"overlay\",\"size\":10,\"solidity\":0.2},\"type\":\"scatter\"}],\"parcoords\":[{\"type\":\"parcoords\",\"line\":{\"colorbar\":{\"outlinewidth\":0,\"ticks\":\"\"}}}],\"scatterpolargl\":[{\"type\":\"scatterpolargl\",\"marker\":{\"colorbar\":{\"outlinewidth\":0,\"ticks\":\"\"}}}],\"bar\":[{\"error_x\":{\"color\":\"#2a3f5f\"},\"error_y\":{\"color\":\"#2a3f5f\"},\"marker\":{\"line\":{\"color\":\"#E5ECF6\",\"width\":0.5},\"pattern\":{\"fillmode\":\"overlay\",\"size\":10,\"solidity\":0.2}},\"type\":\"bar\"}],\"scattergeo\":[{\"type\":\"scattergeo\",\"marker\":{\"colorbar\":{\"outlinewidth\":0,\"ticks\":\"\"}}}],\"scatterpolar\":[{\"type\":\"scatterpolar\",\"marker\":{\"colorbar\":{\"outlinewidth\":0,\"ticks\":\"\"}}}],\"histogram\":[{\"marker\":{\"pattern\":{\"fillmode\":\"overlay\",\"size\":10,\"solidity\":0.2}},\"type\":\"histogram\"}],\"scattergl\":[{\"type\":\"scattergl\",\"marker\":{\"colorbar\":{\"outlinewidth\":0,\"ticks\":\"\"}}}],\"scatter3d\":[{\"type\":\"scatter3d\",\"line\":{\"colorbar\":{\"outlinewidth\":0,\"ticks\":\"\"}},\"marker\":{\"colorbar\":{\"outlinewidth\":0,\"ticks\":\"\"}}}],\"scattermapbox\":[{\"type\":\"scattermapbox\",\"marker\":{\"colorbar\":{\"outlinewidth\":0,\"ticks\":\"\"}}}],\"scatterternary\":[{\"type\":\"scatterternary\",\"marker\":{\"colorbar\":{\"outlinewidth\":0,\"ticks\":\"\"}}}],\"scattercarpet\":[{\"type\":\"scattercarpet\",\"marker\":{\"colorbar\":{\"outlinewidth\":0,\"ticks\":\"\"}}}],\"carpet\":[{\"aaxis\":{\"endlinecolor\":\"#2a3f5f\",\"gridcolor\":\"white\",\"linecolor\":\"white\",\"minorgridcolor\":\"white\",\"startlinecolor\":\"#2a3f5f\"},\"baxis\":{\"endlinecolor\":\"#2a3f5f\",\"gridcolor\":\"white\",\"linecolor\":\"white\",\"minorgridcolor\":\"white\",\"startlinecolor\":\"#2a3f5f\"},\"type\":\"carpet\"}],\"table\":[{\"cells\":{\"fill\":{\"color\":\"#EBF0F8\"},\"line\":{\"color\":\"white\"}},\"header\":{\"fill\":{\"color\":\"#C8D4E3\"},\"line\":{\"color\":\"white\"}},\"type\":\"table\"}],\"barpolar\":[{\"marker\":{\"line\":{\"color\":\"#E5ECF6\",\"width\":0.5},\"pattern\":{\"fillmode\":\"overlay\",\"size\":10,\"solidity\":0.2}},\"type\":\"barpolar\"}],\"pie\":[{\"automargin\":true,\"type\":\"pie\"}]},\"layout\":{\"autotypenumbers\":\"strict\",\"colorway\":[\"#636efa\",\"#EF553B\",\"#00cc96\",\"#ab63fa\",\"#FFA15A\",\"#19d3f3\",\"#FF6692\",\"#B6E880\",\"#FF97FF\",\"#FECB52\"],\"font\":{\"color\":\"#2a3f5f\"},\"hovermode\":\"closest\",\"hoverlabel\":{\"align\":\"left\"},\"paper_bgcolor\":\"white\",\"plot_bgcolor\":\"#E5ECF6\",\"polar\":{\"bgcolor\":\"#E5ECF6\",\"angularaxis\":{\"gridcolor\":\"white\",\"linecolor\":\"white\",\"ticks\":\"\"},\"radialaxis\":{\"gridcolor\":\"white\",\"linecolor\":\"white\",\"ticks\":\"\"}},\"ternary\":{\"bgcolor\":\"#E5ECF6\",\"aaxis\":{\"gridcolor\":\"white\",\"linecolor\":\"white\",\"ticks\":\"\"},\"baxis\":{\"gridcolor\":\"white\",\"linecolor\":\"white\",\"ticks\":\"\"},\"caxis\":{\"gridcolor\":\"white\",\"linecolor\":\"white\",\"ticks\":\"\"}},\"coloraxis\":{\"colorbar\":{\"outlinewidth\":0,\"ticks\":\"\"}},\"colorscale\":{\"sequential\":[[0.0,\"#0d0887\"],[0.1111111111111111,\"#46039f\"],[0.2222222222222222,\"#7201a8\"],[0.3333333333333333,\"#9c179e\"],[0.4444444444444444,\"#bd3786\"],[0.5555555555555556,\"#d8576b\"],[0.6666666666666666,\"#ed7953\"],[0.7777777777777778,\"#fb9f3a\"],[0.8888888888888888,\"#fdca26\"],[1.0,\"#f0f921\"]],\"sequentialminus\":[[0.0,\"#0d0887\"],[0.1111111111111111,\"#46039f\"],[0.2222222222222222,\"#7201a8\"],[0.3333333333333333,\"#9c179e\"],[0.4444444444444444,\"#bd3786\"],[0.5555555555555556,\"#d8576b\"],[0.6666666666666666,\"#ed7953\"],[0.7777777777777778,\"#fb9f3a\"],[0.8888888888888888,\"#fdca26\"],[1.0,\"#f0f921\"]],\"diverging\":[[0,\"#8e0152\"],[0.1,\"#c51b7d\"],[0.2,\"#de77ae\"],[0.3,\"#f1b6da\"],[0.4,\"#fde0ef\"],[0.5,\"#f7f7f7\"],[0.6,\"#e6f5d0\"],[0.7,\"#b8e186\"],[0.8,\"#7fbc41\"],[0.9,\"#4d9221\"],[1,\"#276419\"]]},\"xaxis\":{\"gridcolor\":\"white\",\"linecolor\":\"white\",\"ticks\":\"\",\"title\":{\"standoff\":15},\"zerolinecolor\":\"white\",\"automargin\":true,\"zerolinewidth\":2},\"yaxis\":{\"gridcolor\":\"white\",\"linecolor\":\"white\",\"ticks\":\"\",\"title\":{\"standoff\":15},\"zerolinecolor\":\"white\",\"automargin\":true,\"zerolinewidth\":2},\"scene\":{\"xaxis\":{\"backgroundcolor\":\"#E5ECF6\",\"gridcolor\":\"white\",\"linecolor\":\"white\",\"showbackground\":true,\"ticks\":\"\",\"zerolinecolor\":\"white\",\"gridwidth\":2},\"yaxis\":{\"backgroundcolor\":\"#E5ECF6\",\"gridcolor\":\"white\",\"linecolor\":\"white\",\"showbackground\":true,\"ticks\":\"\",\"zerolinecolor\":\"white\",\"gridwidth\":2},\"zaxis\":{\"backgroundcolor\":\"#E5ECF6\",\"gridcolor\":\"white\",\"linecolor\":\"white\",\"showbackground\":true,\"ticks\":\"\",\"zerolinecolor\":\"white\",\"gridwidth\":2}},\"shapedefaults\":{\"line\":{\"color\":\"#2a3f5f\"}},\"annotationdefaults\":{\"arrowcolor\":\"#2a3f5f\",\"arrowhead\":0,\"arrowwidth\":1},\"geo\":{\"bgcolor\":\"white\",\"landcolor\":\"#E5ECF6\",\"subunitcolor\":\"white\",\"showland\":true,\"showlakes\":true,\"lakecolor\":\"white\"},\"title\":{\"x\":0.05},\"mapbox\":{\"style\":\"light\"}}},\"geo\":{\"scope\":\"usa\"},\"margin\":{\"r\":0,\"t\":0,\"l\":0,\"b\":0},\"width\":800,\"height\":500},                        {\"responsive\": true}                    ).then(function(){\n",
       "                            \n",
       "var gd = document.getElementById('3e18396d-4c74-44a3-a40b-dabb438640b1');\n",
       "var x = new MutationObserver(function (mutations, observer) {{\n",
       "        var display = window.getComputedStyle(gd).display;\n",
       "        if (!display || display === 'none') {{\n",
       "            console.log([gd, 'removed!']);\n",
       "            Plotly.purge(gd);\n",
       "            observer.disconnect();\n",
       "        }}\n",
       "}});\n",
       "\n",
       "// Listen for the removal of the full notebook cells\n",
       "var notebookContainer = gd.closest('#notebook-container');\n",
       "if (notebookContainer) {{\n",
       "    x.observe(notebookContainer, {childList: true});\n",
       "}}\n",
       "\n",
       "// Listen for the clearing of the current output cell\n",
       "var outputEl = gd.closest('.output');\n",
       "if (outputEl) {{\n",
       "    x.observe(outputEl, {childList: true});\n",
       "}}\n",
       "\n",
       "                        })                };                });            </script>        </div>"
      ]
     },
     "metadata": {},
     "output_type": "display_data"
    }
   ],
   "source": [
    "# Just run this cell\n",
    "fig = go.Figure(data=go.Scattergeo(\n",
    "        lon = cities.column('Lon'),\n",
    "        lat = cities.column('Lat'),\n",
    "        text = cities.column('Name'),\n",
    "        mode = 'markers'))\n",
    "\n",
    "fig.update_layout(geo_scope='usa', width=800, height=500, margin={'r': 0, 't': 0, 'l': 0, 'b': 0})\n",
    "fig.show()"
   ]
  },
  {
   "cell_type": "markdown",
   "id": "fcf41e6c",
   "metadata": {},
   "source": [
    "<!-- BEGIN QUESTION -->\n",
    "\n",
    "**Question 1.1.2** Does it appear that these city locations are sampled uniformly at random from all the locations in the U.S.? Why or why not?\n"
   ]
  },
  {
   "cell_type": "markdown",
   "id": "2e1dc792",
   "metadata": {},
   "source": [
    "<!-- _Type your answer here, replacing this text._ -->\n",
    "**Answer 1.1.2.** No, the points are unevenly distributed on the U.S. map."
   ]
  },
  {
   "cell_type": "markdown",
   "id": "14b05191",
   "metadata": {},
   "source": [
    "<!-- END QUESTION -->\n",
    "\n",
    "**Question 1.1.3:** Assign `num_unique_cities` to the number of unique cities that appear in the `cities` table.\n"
   ]
  },
  {
   "cell_type": "code",
   "execution_count": 38,
   "id": "14cf010a",
   "metadata": {
    "tags": []
   },
   "outputs": [
    {
     "name": "stdout",
     "output_type": "stream",
     "text": [
      "There are 210 unique cities that appear within our dataset.\n"
     ]
    }
   ],
   "source": [
    "num_unique_cities = cities.select('Name').group('Name').num_rows\n",
    "\n",
    "# Do not change this line\n",
    "print(f\"There are {num_unique_cities} unique cities that appear within our dataset.\")"
   ]
  },
  {
   "cell_type": "code",
   "execution_count": 39,
   "id": "c8e19133",
   "metadata": {
    "deletable": false,
    "editable": false
   },
   "outputs": [
    {
     "data": {
      "text/html": [
       "<p><strong><pre style='display: inline;'>q1_1_3</pre></strong> passed! 🙌</p>"
      ],
      "text/plain": [
       "q1_1_3 results: All test cases passed!"
      ]
     },
     "execution_count": 39,
     "metadata": {},
     "output_type": "execute_result"
    }
   ],
   "source": [
    "grader.check(\"q1_1_3\")"
   ]
  },
  {
   "cell_type": "markdown",
   "id": "ac6d06a5",
   "metadata": {},
   "source": [
    "In order to investigate further, it will be helpful to determine what region of the United States each city was located in: Northeast, Northwest, Southeast, or Southwest. For our purposes, we will be using the following geographical boundaries:\n",
    "\n",
    "<img src= \"usa_coordinates.png\" alt=\"USA Coordinate Map\" width=\"600\"/>\n",
    "\n",
    "1. A station is located in the `\"Northeast\"` region if its latitude is above or equal to 40 degrees and its longtitude is greater than or equal to -100 degrees.\n",
    "2. A station is located in the `\"Northwest\"` region if its latitude is above or equal to 40 degrees and its longtitude is less than -100 degrees.\n",
    "3. A station is located in the `\"Southeast\"` region if its latitude is below 40 degrees and its longtitude is greater than or equal to -100 degrees.\n",
    "4. A station is located in the `\"Southwest\"` region if its latitude is below 40 degrees and its longtitude is less than -100 degrees."
   ]
  },
  {
   "cell_type": "markdown",
   "id": "cbcb1a11",
   "metadata": {},
   "source": [
    "**Question 1.1.4**: Define the `coordinates_to_region` function below. It should take in two arguments, a city's latitude (`lat`) and longitude (`lon`) coordinates, and output a string representing the region it is located in.\n"
   ]
  },
  {
   "cell_type": "code",
   "execution_count": 40,
   "id": "060780ae",
   "metadata": {
    "tags": []
   },
   "outputs": [],
   "source": [
    "def coordinates_to_region(lat, lon):\n",
    "    if lat >= 40 and lon >= -100:\n",
    "        return \"Northeast\"\n",
    "    if lat >= 40 and lon <= -100:\n",
    "        return \"Northwest\"\n",
    "    if lat < 40 and lon >= -100:\n",
    "        return \"Southeast\"\n",
    "    if lat < 40 and lon <= -100:\n",
    "        return \"Southwest\""
   ]
  },
  {
   "cell_type": "code",
   "execution_count": 41,
   "id": "313b3ca1",
   "metadata": {
    "deletable": false,
    "editable": false
   },
   "outputs": [
    {
     "data": {
      "text/html": [
       "<p><strong><pre style='display: inline;'>q1_1_4</pre></strong> passed! 💯</p>"
      ],
      "text/plain": [
       "q1_1_4 results: All test cases passed!"
      ]
     },
     "execution_count": 41,
     "metadata": {},
     "output_type": "execute_result"
    }
   ],
   "source": [
    "grader.check(\"q1_1_4\")"
   ]
  },
  {
   "cell_type": "markdown",
   "id": "42e69a5f",
   "metadata": {},
   "source": [
    "**Question 1.1.5**: Add a new column in `cities` labeled `Region` that contains the region in which the city is located. For full credit, you must use the `coordinates_to_region` function you defined rather than reimplementing its logic.\n"
   ]
  },
  {
   "cell_type": "code",
   "execution_count": 42,
   "id": "0c74fc49",
   "metadata": {
    "tags": []
   },
   "outputs": [
    {
     "data": {
      "text/html": [
       "<table border=\"1\" class=\"dataframe\">\n",
       "    <thead>\n",
       "        <tr>\n",
       "            <th>Name</th> <th>ID</th> <th>Lat</th> <th>Lon</th> <th>Stn.Name</th> <th>Stn.stDate</th> <th>Stn.edDate</th> <th>Region</th>\n",
       "        </tr>\n",
       "    </thead>\n",
       "    <tbody>\n",
       "        <tr>\n",
       "            <td>Lander  </td> <td>USW00024021</td> <td>42.8153</td> <td>-108.726</td> <td>LANDER WBO             </td> <td>1892-01-01</td> <td>1946-05-28</td> <td>Northwest</td>\n",
       "        </tr>\n",
       "        <tr>\n",
       "            <td>Lander  </td> <td>USW00024021</td> <td>42.8153</td> <td>-108.726</td> <td>LANDER HUNT FIELD      </td> <td>1946-05-29</td> <td>2021-12-31</td> <td>Northwest</td>\n",
       "        </tr>\n",
       "        <tr>\n",
       "            <td>Cheyenne</td> <td>USW00024018</td> <td>41.1519</td> <td>-104.806</td> <td>CHEYENNE WBO           </td> <td>1871-01-01</td> <td>1935-08-31</td> <td>Northwest</td>\n",
       "        </tr>\n",
       "        <tr>\n",
       "            <td>Cheyenne</td> <td>USW00024018</td> <td>41.1519</td> <td>-104.806</td> <td>CHEYENNE MUNICIPAL ARPT</td> <td>1935-09-01</td> <td>2021-12-31</td> <td>Northwest</td>\n",
       "        </tr>\n",
       "        <tr>\n",
       "            <td>Wausau  </td> <td>USW00014897</td> <td>44.9258</td> <td>-89.6256</td> <td>Wausau Record Herald   </td> <td>1896-01-01</td> <td>1941-12-31</td> <td>Northeast</td>\n",
       "        </tr>\n",
       "    </tbody>\n",
       "</table>\n",
       "<p>... (456 rows omitted)</p>"
      ],
      "text/plain": [
       "<IPython.core.display.HTML object>"
      ]
     },
     "metadata": {},
     "output_type": "display_data"
    }
   ],
   "source": [
    "regions_array = cities.apply(coordinates_to_region, 'Lat', 'Lon')\n",
    "cities = cities.append_column('Region', regions_array)\n",
    "cities.show(5)"
   ]
  },
  {
   "cell_type": "code",
   "execution_count": 43,
   "id": "905c45e0",
   "metadata": {
    "deletable": false,
    "editable": false
   },
   "outputs": [
    {
     "data": {
      "text/html": [
       "<p><strong><pre style='display: inline;'>q1_1_5</pre></strong> passed! 🌈</p>"
      ],
      "text/plain": [
       "q1_1_5 results: All test cases passed!"
      ]
     },
     "execution_count": 43,
     "metadata": {},
     "output_type": "execute_result"
    }
   ],
   "source": [
    "grader.check(\"q1_1_5\")"
   ]
  },
  {
   "cell_type": "markdown",
   "id": "a3eef7a9",
   "metadata": {},
   "source": [
    "To confirm that you've defined your `coordinates_to_region` function correctly and successfully added the `Region` column to the `cities` table, run the following cell. Each region should have a different color in the result."
   ]
  },
  {
   "cell_type": "code",
   "execution_count": 44,
   "id": "f845fa76",
   "metadata": {},
   "outputs": [
    {
     "data": {
      "image/png": "[encoded data removed]",
      "text/plain": [
       "<Figure size 500x500 with 1 Axes>"
      ]
     },
     "metadata": {},
     "output_type": "display_data"
    }
   ],
   "source": [
    "# Just run this cell\n",
    "cities.scatter(\"Lon\", \"Lat\", group=\"Region\")"
   ]
  },
  {
   "cell_type": "markdown",
   "id": "418fb890",
   "metadata": {},
   "source": [
    "**Challenge Question 1.1.6 <span style=\"color:#BC412B\">(OPTIONAL, ungraded)</span>**: Create a new table called `cities_nearest`. It should contain the same columns as the `cities` table and an additional column called `\"Nearest\"` that contains the **name of the nearest city** that is in a different region from the city described by the row.\n",
    "\n",
    "To approximate the distance between two cities, take the square root of the sum of the squared difference between their latitudes and the square difference between their longitudes. **Don't use a `for` statement; instead, use the `apply` method and array arithmetic.**\n",
    "\n",
    "*Hint*: We have defined a `distance` function for you, which can be called on numbers `lat0` and `lon0` and arrays `lat1` and `lon1`."
   ]
  },
  {
   "cell_type": "code",
   "execution_count": 45,
   "id": "c851296b",
   "metadata": {
    "tags": []
   },
   "outputs": [
    {
     "data": {
      "text/html": [
       "<table border=\"1\" class=\"dataframe\">\n",
       "    <thead>\n",
       "        <tr>\n",
       "            <th>Name</th> <th>ID</th> <th>Lat</th> <th>Lon</th> <th>Stn.Name</th> <th>Stn.stDate</th> <th>Stn.edDate</th> <th>Region</th> <th>Nearest</th>\n",
       "        </tr>\n",
       "    </thead>\n",
       "    <tbody>\n",
       "        <tr>\n",
       "            <td>Lander  </td> <td>USW00024021</td> <td>42.8153</td> <td>-108.726</td> <td>LANDER WBO             </td> <td>1892-01-01</td> <td>1946-05-28</td> <td>Northwest</td> <td>GrandJunction</td>\n",
       "        </tr>\n",
       "        <tr>\n",
       "            <td>Lander  </td> <td>USW00024021</td> <td>42.8153</td> <td>-108.726</td> <td>LANDER HUNT FIELD      </td> <td>1946-05-29</td> <td>2021-12-31</td> <td>Northwest</td> <td>GrandJunction</td>\n",
       "        </tr>\n",
       "        <tr>\n",
       "            <td>Cheyenne</td> <td>USW00024018</td> <td>41.1519</td> <td>-104.806</td> <td>CHEYENNE WBO           </td> <td>1871-01-01</td> <td>1935-08-31</td> <td>Northwest</td> <td>Denver       </td>\n",
       "        </tr>\n",
       "        <tr>\n",
       "            <td>Cheyenne</td> <td>USW00024018</td> <td>41.1519</td> <td>-104.806</td> <td>CHEYENNE MUNICIPAL ARPT</td> <td>1935-09-01</td> <td>2021-12-31</td> <td>Northwest</td> <td>Denver       </td>\n",
       "        </tr>\n",
       "        <tr>\n",
       "            <td>Wausau  </td> <td>USW00014897</td> <td>44.9258</td> <td>-89.6256</td> <td>Wausau Record Herald   </td> <td>1896-01-01</td> <td>1941-12-31</td> <td>Northeast</td> <td>Springfield  </td>\n",
       "        </tr>\n",
       "    </tbody>\n",
       "</table>\n",
       "<p>... (456 rows omitted)</p>"
      ],
      "text/plain": [
       "<IPython.core.display.HTML object>"
      ]
     },
     "metadata": {},
     "output_type": "display_data"
    }
   ],
   "source": [
    "def distance(lat0, lon0, lat1, lon1):\n",
    "    \"Approximate the distance between point (lat0, lon0) and (lat1, lon1) pairs in the arrays.\"\n",
    "    return np.sqrt((lat0 - lat1) * (lat0 - lat1) + (lon0 - lon1) * (lon0 - lon1))\n",
    "\n",
    "def find_nearest(lat, lon, region):\n",
    "    cities_in_other_regions = cities.where('Region', are.not_equal_to(region))\n",
    "    lat1s = np.full(cities_in_other_regions.num_rows, lat)\n",
    "    lon1s = np.full(cities_in_other_regions.num_rows, lon)\n",
    "    cities_in_other_regions.append_column('lat1', lat1s).append_column('lon1', lon1s)\n",
    "    distances = cities_in_other_regions.apply(distance, 'Lat', 'Lon', 'lat1', 'lon1')\n",
    "    i = np.argmin(distances)\n",
    "    return cities_in_other_regions.take(i).column('Name').item(0)\n",
    "    \n",
    "nearests = cities.apply(find_nearest, 'Lat', 'Lon', 'Region')\n",
    "\n",
    "cities_nearest = cities.with_column('Nearest', nearests)\n",
    "# Note: remove the comment(#) on the next line if you choose to do this question\n",
    "cities_nearest.show(5)"
   ]
  },
  {
   "cell_type": "markdown",
   "id": "5a0b3db8",
   "metadata": {},
   "source": [
    "### Part 1, Section 2: Welcome to Phoenix, Arizona"
   ]
  },
  {
   "cell_type": "markdown",
   "id": "c9a7d55c",
   "metadata": {},
   "source": [
    "Each city has a different CSV file full of daily temperature and precipitation measurements. The file for Phoenix, Arizona is included with this project as `phoenix.csv`. The files for other cities can be downloaded [here](https://kilthub.cmu.edu/articles/dataset/Compiled_daily_temperature_and_precipitation_data_for_the_U_S_cities/7890488) by matching them to the ID of the city in the `cities` table.\n",
    "\n",
    "Since Phoenix is located on the upper edge of the Sonoran Desert, it has some impressive temperatures.\n",
    "\n",
    "Run the following cell to load in the `phoenix` table. It has one row per day and the following columns:\n",
    "\n",
    "1. `\"Date\"`: The date (a string) representing the date of the recording in **YYYY-MM-DD** format\n",
    "2. `\"tmax\"`: The maximum temperature for the  day (°F)\n",
    "3. `\"tmin\"`: The minimum temperature for the day (°F)\n",
    "4. `\"prcp\"`: The recorded precipitation for the day (inches)"
   ]
  },
  {
   "cell_type": "code",
   "execution_count": 46,
   "id": "e9830c0d",
   "metadata": {},
   "outputs": [
    {
     "data": {
      "text/html": [
       "<table border=\"1\" class=\"dataframe\">\n",
       "    <thead>\n",
       "        <tr>\n",
       "            <th>Date</th> <th>tmax</th> <th>tmin</th> <th>prcp</th>\n",
       "        </tr>\n",
       "    </thead>\n",
       "    <tbody>\n",
       "        <tr>\n",
       "            <td>1896-01-01</td> <td>66  </td> <td>30  </td> <td>0   </td>\n",
       "        </tr>\n",
       "        <tr>\n",
       "            <td>1896-01-02</td> <td>64  </td> <td>30  </td> <td>0   </td>\n",
       "        </tr>\n",
       "        <tr>\n",
       "            <td>1896-01-03</td> <td>68  </td> <td>30  </td> <td>0   </td>\n",
       "        </tr>\n",
       "    </tbody>\n",
       "</table>\n",
       "<p>... (46018 rows omitted)</p>"
      ],
      "text/plain": [
       "<IPython.core.display.HTML object>"
      ]
     },
     "metadata": {},
     "output_type": "display_data"
    }
   ],
   "source": [
    "phoenix = Table.read_table(\"phoenix.csv\", index_col=0)\n",
    "phoenix.show(3)"
   ]
  },
  {
   "cell_type": "markdown",
   "id": "2319756e",
   "metadata": {},
   "source": [
    "**Question 1.2.1:** Assign the variable `largest_2010_range_date` to the date of the **largest temperature range** in Phoenix, Arizona for any day between January 1st, 2010 and December 31st, 2010. To get started, use the variable `phoenix_with_ranges_2010` to filter the phoenix table to days in 2010 with an additional column corresponding to the temperature range for that day. \n",
    "\n",
    "**Your answer should be a string in the \"YYYY-MM-DD\" format.** Feel free to use as many lines as you need. A temperature range is calculated as the difference between the max and min temperatures for the day.\n",
    "\n",
    "*Hint*: To limit the values in a column to only those that *contain* a certain string, pick the right `are.` predicate from the [Python Reference Sheet](https://www.data8.org/sp24/reference/#table-filtering-predicates).\n",
    "\n",
    "*Note:* Do **not** re-assign the `phoenix` variable; please use the `phoenix_with_ranges_2010` variable instead.\n"
   ]
  },
  {
   "cell_type": "code",
   "execution_count": 47,
   "id": "7c6ab7b5",
   "metadata": {
    "tags": []
   },
   "outputs": [
    {
     "data": {
      "text/plain": [
       "'1917-06-13'"
      ]
     },
     "execution_count": 47,
     "metadata": {},
     "output_type": "execute_result"
    }
   ],
   "source": [
    "tranges = phoenix.column('tmax') - phoenix.column('tmin')\n",
    "max_trange = max(tranges)\n",
    "phoenix_with_ranges_2010 = phoenix.with_column('trange', tranges)\n",
    "largest_2010_range_date = phoenix_with_ranges_2010.where('trange', are.equal_to(max_trange)).column('Date').item(0)\n",
    "largest_2010_range_date"
   ]
  },
  {
   "cell_type": "code",
   "execution_count": 48,
   "id": "a6d85bd0",
   "metadata": {
    "deletable": false,
    "editable": false
   },
   "outputs": [
    {
     "data": {
      "text/html": [
       "<p><strong><pre style='display: inline;'>q1_2_1</pre></strong> passed! 🌈</p>"
      ],
      "text/plain": [
       "q1_2_1 results: All test cases passed!"
      ]
     },
     "execution_count": 48,
     "metadata": {},
     "output_type": "execute_result"
    }
   ],
   "source": [
    "grader.check(\"q1_2_1\")"
   ]
  },
  {
   "cell_type": "markdown",
   "id": "de98bf0f",
   "metadata": {},
   "source": [
    "We can look back to our `phoenix` table to check the temperature readings for our `largest_2010_range_date` to see if anything special is going on. Run the cell below to find the row of the `phoenix` table that corresponds to the date we found above. "
   ]
  },
  {
   "cell_type": "code",
   "execution_count": 49,
   "id": "a94dd653",
   "metadata": {},
   "outputs": [
    {
     "data": {
      "text/html": [
       "<table border=\"1\" class=\"dataframe\">\n",
       "    <thead>\n",
       "        <tr>\n",
       "            <th>Date</th> <th>tmax</th> <th>tmin</th> <th>prcp</th>\n",
       "        </tr>\n",
       "    </thead>\n",
       "    <tbody>\n",
       "        <tr>\n",
       "            <td>1917-06-13</td> <td>107 </td> <td>59  </td> <td>0   </td>\n",
       "        </tr>\n",
       "    </tbody>\n",
       "</table>"
      ],
      "text/plain": [
       "Date       | tmax | tmin | prcp\n",
       "1917-06-13 | 107  | 59   | 0"
      ]
     },
     "execution_count": 49,
     "metadata": {},
     "output_type": "execute_result"
    }
   ],
   "source": [
    "# Just run this cell\n",
    "phoenix.where(\"Date\", largest_2010_range_date)"
   ]
  },
  {
   "cell_type": "markdown",
   "id": "54d94e0e",
   "metadata": {},
   "source": [
    "ZOO WEE MAMA! Look at the maximum temperature for that day. That's hot."
   ]
  },
  {
   "cell_type": "markdown",
   "id": "7586a0d9",
   "metadata": {},
   "source": [
    "The function `extract_year_from_date` takes a date string in the **YYYY-MM-DD** format and returns an integer representing the **year**. The function `extract_month_from_date` takes a date string and returns a string describing the month. Run this cell, but you do not need to understand how this code works or edit it."
   ]
  },
  {
   "cell_type": "code",
   "execution_count": 50,
   "id": "a896f578",
   "metadata": {},
   "outputs": [
    {
     "name": "stdout",
     "output_type": "stream",
     "text": [
      "2022-04-01 has year 2022 and month 04 (Apr)\n"
     ]
    }
   ],
   "source": [
    "# Just run this cell\n",
    "import calendar\n",
    "\n",
    "def extract_year_from_date(date):\n",
    "    \"\"\"Returns an integer corresponding to the year of the input string's date.\"\"\"\n",
    "    return int(date[:4])\n",
    "\n",
    "def extract_month_from_date(date):\n",
    "    \"Return an abbreviation of the name of the month for a string's date.\"\n",
    "    month = date[5:7]\n",
    "    return f'{month} ({calendar.month_abbr[int(date[5:7])]})'\n",
    "\n",
    "\n",
    "# Example\n",
    "print('2022-04-01 has year', extract_year_from_date('2022-04-01'),\n",
    "      'and month', extract_month_from_date('2022-04-01'))"
   ]
  },
  {
   "cell_type": "markdown",
   "id": "035b45f5",
   "metadata": {},
   "source": [
    "**Question 1.2.2:** Add two new columns called `Year` and `Month` to the `phoenix` table that contain the year as an **integer** and the month as a **string** (such as `\"04 (Apr)\"`) for each day, respectively. \n",
    "\n",
    "*Note*: The functions above may be helpful!\n"
   ]
  },
  {
   "cell_type": "code",
   "execution_count": 51,
   "id": "cac3eebb",
   "metadata": {
    "tags": []
   },
   "outputs": [
    {
     "data": {
      "text/html": [
       "<table border=\"1\" class=\"dataframe\">\n",
       "    <thead>\n",
       "        <tr>\n",
       "            <th>Date</th> <th>tmax</th> <th>tmin</th> <th>prcp</th> <th>Year</th> <th>Month</th>\n",
       "        </tr>\n",
       "    </thead>\n",
       "    <tbody>\n",
       "        <tr>\n",
       "            <td>1896-01-01</td> <td>66  </td> <td>30  </td> <td>0   </td> <td>1896</td> <td>01 (Jan)</td>\n",
       "        </tr>\n",
       "        <tr>\n",
       "            <td>1896-01-02</td> <td>64  </td> <td>30  </td> <td>0   </td> <td>1896</td> <td>01 (Jan)</td>\n",
       "        </tr>\n",
       "        <tr>\n",
       "            <td>1896-01-03</td> <td>68  </td> <td>30  </td> <td>0   </td> <td>1896</td> <td>01 (Jan)</td>\n",
       "        </tr>\n",
       "        <tr>\n",
       "            <td>1896-01-04</td> <td>69  </td> <td>34  </td> <td>0   </td> <td>1896</td> <td>01 (Jan)</td>\n",
       "        </tr>\n",
       "        <tr>\n",
       "            <td>1896-01-05</td> <td>70  </td> <td>46  </td> <td>0   </td> <td>1896</td> <td>01 (Jan)</td>\n",
       "        </tr>\n",
       "    </tbody>\n",
       "</table>\n",
       "<p>... (46016 rows omitted)</p>"
      ],
      "text/plain": [
       "<IPython.core.display.HTML object>"
      ]
     },
     "metadata": {},
     "output_type": "display_data"
    }
   ],
   "source": [
    "years_array = phoenix.apply(extract_year_from_date, 'Date')\n",
    "months_array = phoenix.apply(extract_month_from_date, 'Date')\n",
    "phoenix.append_column('Year', years_array).append_column('Month', months_array)\n",
    "phoenix.show(5)"
   ]
  },
  {
   "cell_type": "code",
   "execution_count": 52,
   "id": "fffb0f9b",
   "metadata": {
    "deletable": false,
    "editable": false
   },
   "outputs": [
    {
     "data": {
      "text/html": [
       "<p><strong><pre style='display: inline;'>q1_2_2</pre></strong> passed! 🎉</p>"
      ],
      "text/plain": [
       "q1_2_2 results: All test cases passed!"
      ]
     },
     "execution_count": 52,
     "metadata": {},
     "output_type": "execute_result"
    }
   ],
   "source": [
    "grader.check(\"q1_2_2\")"
   ]
  },
  {
   "cell_type": "markdown",
   "id": "2fc50abd",
   "metadata": {},
   "source": [
    "<!-- BEGIN QUESTION -->\n",
    "\n",
    "**Question 1.2.3:** Using the `phoenix` table, create an overlaid line plot of the **average maximum temperature** and **average minimum temperature** for each year between 1900 and 2020 (inclusive). \n",
    "\n",
    "*Hint:* To draw a line plot with more than one line, call `plot` on the column label of the x-axis values and all other columns will be treated as y-axis values.\n"
   ]
  },
  {
   "cell_type": "code",
   "execution_count": 53,
   "id": "0c23c59b",
   "metadata": {
    "tags": []
   },
   "outputs": [
    {
     "data": {
      "image/png": "[encoded data removed]",
      "text/plain": [
       "<Figure size 600x600 with 1 Axes>"
      ]
     },
     "metadata": {},
     "output_type": "display_data"
    }
   ],
   "source": [
    "phoenix.select('tmax', 'tmin', 'Year').group('Year', np.mean).plot('Year')"
   ]
  },
  {
   "cell_type": "markdown",
   "id": "e3df2f49",
   "metadata": {},
   "source": [
    "<!-- END QUESTION -->\n",
    "\n",
    "<!-- BEGIN QUESTION -->\n",
    "\n",
    "**Question 1.2.4:** Although still hotly debated (pun intended), many climate scientists agree that the effects of climate change began to surface in the early 1960s as a result of elevated levels of greenhouse gas emissions. How does the graph you produced in Question 1.2.3 support the claim that modern-day global warming began in the early 1960s? \n"
   ]
  },
  {
   "cell_type": "markdown",
   "id": "917abb63",
   "metadata": {},
   "source": [
    "<!-- _Type your answer here, replacing this text._ -->\n",
    "**Answer 1.2.4:** The average minimum temparature started to rise since 1960, as illustrated in the above diagram."
   ]
  },
  {
   "cell_type": "markdown",
   "id": "aef3bce4",
   "metadata": {},
   "source": [
    "<!-- END QUESTION -->\n",
    "\n",
    "Averaging temperatures across an entire year can obscure some effects of climate change. For example, if summers get hotter but winters get colder, the annual average may not change much. Let's investigate how average **monthly** maximum temperatures have changed over time in Phoenix. "
   ]
  },
  {
   "cell_type": "markdown",
   "id": "2bd2ba5c",
   "metadata": {},
   "source": [
    "**Question 1.2.5:** Create a `monthly_increases` table with one row per month and the following four columns in order: \n",
    "1. `\"Month\"`: The month (such as `\"02 (Feb)\"`)\n",
    "2. `\"Past\"`: The average max temperature in that month from 1900-1960 (both ends inclusive)\n",
    "3. `\"Present\"`: The average max temperature in that month from 2019-2021 (both ends inclusive)\n",
    "4. `\"Increase\"`: The difference between the present and past average max temperatures in that month\n",
    "\n",
    "First, make a copy of the `phoenix` table and add a new column containing the corresponding **period** for each row. The period refers to whether the year is in the `\"Past\"`, `\"Present\"`, or `\"Other\"` category. You may find the period function helpful to see which years correspond to each period. Then, use this new table to construct `monthly_increases`. Feel free to use as many lines as you need.\n",
    "\n",
    "*Hint*: What table method can we use to get each **unique value** as its own column? \n",
    "\n",
    "*Note*: Please do **not** re-assign the `phoenix` variable!\n"
   ]
  },
  {
   "cell_type": "code",
   "execution_count": 54,
   "id": "9d39711a",
   "metadata": {
    "tags": []
   },
   "outputs": [
    {
     "data": {
      "text/html": [
       "<table border=\"1\" class=\"dataframe\">\n",
       "    <thead>\n",
       "        <tr>\n",
       "            <th>Month</th> <th>Past</th> <th>Present</th> <th>Increase</th>\n",
       "        </tr>\n",
       "    </thead>\n",
       "    <tbody>\n",
       "        <tr>\n",
       "            <td>01 (Jan)</td> <td>65.0164</td> <td>67.8312</td> <td>2.81479 </td>\n",
       "        </tr>\n",
       "        <tr>\n",
       "            <td>02 (Feb)</td> <td>68.8485</td> <td>69.1859</td> <td>0.337362</td>\n",
       "        </tr>\n",
       "        <tr>\n",
       "            <td>03 (Mar)</td> <td>74.6499</td> <td>75.9796</td> <td>1.32965 </td>\n",
       "        </tr>\n",
       "        <tr>\n",
       "            <td>04 (Apr)</td> <td>82.6421</td> <td>88.4   </td> <td>5.75792 </td>\n",
       "        </tr>\n",
       "        <tr>\n",
       "            <td>05 (May)</td> <td>91.4299</td> <td>94.571 </td> <td>3.14104 </td>\n",
       "        </tr>\n",
       "        <tr>\n",
       "            <td>06 (Jun)</td> <td>101.166</td> <td>105.734</td> <td>4.56832 </td>\n",
       "        </tr>\n",
       "        <tr>\n",
       "            <td>07 (Jul)</td> <td>103.599</td> <td>107.245</td> <td>3.64654 </td>\n",
       "        </tr>\n",
       "        <tr>\n",
       "            <td>08 (Aug)</td> <td>101.416</td> <td>107.384</td> <td>5.96769 </td>\n",
       "        </tr>\n",
       "        <tr>\n",
       "            <td>09 (Sep)</td> <td>97.6874</td> <td>101.238</td> <td>3.55035 </td>\n",
       "        </tr>\n",
       "        <tr>\n",
       "            <td>10 (Oct)</td> <td>86.798 </td> <td>90.1667</td> <td>3.36868 </td>\n",
       "        </tr>\n",
       "    </tbody>\n",
       "</table>\n",
       "<p>... (2 rows omitted)</p>"
      ],
      "text/plain": [
       "<IPython.core.display.HTML object>"
      ]
     },
     "metadata": {},
     "output_type": "display_data"
    }
   ],
   "source": [
    "def period(year):\n",
    "    \"Output if a year is in the Past, Present, or Other.\"\n",
    "    if 1900 <= year <= 1960:\n",
    "        return \"Past\"\n",
    "    elif 2019 <= year <= 2021:\n",
    "        return \"Present\"\n",
    "    else:\n",
    "        return \"Other\"\n",
    "    \n",
    "phoenix_with_periods = phoenix.with_column('period', phoenix.apply(period, 'Year'))\n",
    "past = phoenix_with_periods.where('period', are.equal_to(\"Past\")).group('Month', np.mean).select('Month', 'tmax mean').relabeled('tmax mean', 'Past')\n",
    "present = phoenix_with_periods.where('period', are.equal_to(\"Present\")).group('Month', np.mean).select('Month', 'tmax mean').relabeled('tmax mean', 'Present')\n",
    "monthly_increases = past.join('Month', present)\n",
    "\n",
    "monthly_increases.append_column('Increase', monthly_increases.column('Present') - monthly_increases.column('Past'))\n",
    "monthly_increases.show(10)"
   ]
  },
  {
   "cell_type": "code",
   "execution_count": 55,
   "id": "945451ea",
   "metadata": {
    "deletable": false,
    "editable": false
   },
   "outputs": [
    {
     "data": {
      "text/html": [
       "<p><strong><pre style='display: inline;'>q1_2_5</pre></strong> passed! 🙌</p>"
      ],
      "text/plain": [
       "q1_2_5 results: All test cases passed!"
      ]
     },
     "execution_count": 55,
     "metadata": {},
     "output_type": "execute_result"
    }
   ],
   "source": [
    "grader.check(\"q1_2_5\")"
   ]
  },
  {
   "cell_type": "markdown",
   "id": "3ec0288d",
   "metadata": {},
   "source": [
    "### February in Phoenix"
   ]
  },
  {
   "cell_type": "markdown",
   "id": "da3505cf",
   "metadata": {},
   "source": [
    "The `\"Past\"` column values are averaged over many decades, and so they are reliable estimates of the average high temperatures in those months before the effects of modern climate change. However, the `\"Present\"` column is based on only three years of observations. February, the shortest month, has the fewest total observations: only 85 days. Run the following cell to see this."
   ]
  },
  {
   "cell_type": "code",
   "execution_count": 56,
   "id": "3255aedf",
   "metadata": {},
   "outputs": [
    {
     "data": {
      "text/html": [
       "<table border=\"1\" class=\"dataframe\">\n",
       "    <thead>\n",
       "        <tr>\n",
       "            <th>Date</th> <th>tmax</th> <th>tmin</th> <th>prcp</th> <th>Year</th> <th>Month</th>\n",
       "        </tr>\n",
       "    </thead>\n",
       "    <tbody>\n",
       "        <tr>\n",
       "            <td>2019-02-01</td> <td>75  </td> <td>54  </td> <td>0   </td> <td>2019</td> <td>02 (Feb)</td>\n",
       "        </tr>\n",
       "        <tr>\n",
       "            <td>2019-02-02</td> <td>73  </td> <td>55.9</td> <td>0   </td> <td>2019</td> <td>02 (Feb)</td>\n",
       "        </tr>\n",
       "        <tr>\n",
       "            <td>2019-02-03</td> <td>66.9</td> <td>55.9</td> <td>0.31</td> <td>2019</td> <td>02 (Feb)</td>\n",
       "        </tr>\n",
       "        <tr>\n",
       "            <td>2019-02-04</td> <td>66  </td> <td>55  </td> <td>0   </td> <td>2019</td> <td>02 (Feb)</td>\n",
       "        </tr>\n",
       "        <tr>\n",
       "            <td>2019-02-05</td> <td>66.9</td> <td>50  </td> <td>0.01</td> <td>2019</td> <td>02 (Feb)</td>\n",
       "        </tr>\n",
       "        <tr>\n",
       "            <td>2019-02-06</td> <td>55.9</td> <td>42.1</td> <td>0.07</td> <td>2019</td> <td>02 (Feb)</td>\n",
       "        </tr>\n",
       "        <tr>\n",
       "            <td>2019-02-07</td> <td>57  </td> <td>36  </td> <td>0   </td> <td>2019</td> <td>02 (Feb)</td>\n",
       "        </tr>\n",
       "        <tr>\n",
       "            <td>2019-02-08</td> <td>66.9</td> <td>37.9</td> <td>0   </td> <td>2019</td> <td>02 (Feb)</td>\n",
       "        </tr>\n",
       "        <tr>\n",
       "            <td>2019-02-09</td> <td>59  </td> <td>44.1</td> <td>0   </td> <td>2019</td> <td>02 (Feb)</td>\n",
       "        </tr>\n",
       "        <tr>\n",
       "            <td>2019-02-10</td> <td>66  </td> <td>37.9</td> <td>0   </td> <td>2019</td> <td>02 (Feb)</td>\n",
       "        </tr>\n",
       "    </tbody>\n",
       "</table>\n",
       "<p>... (75 rows omitted)</p>"
      ],
      "text/plain": [
       "<IPython.core.display.HTML object>"
      ]
     },
     "metadata": {},
     "output_type": "display_data"
    }
   ],
   "source": [
    "# Just run this cell\n",
    "feb_present = phoenix.where('Year', are.between_or_equal_to(2019, 2021)).where('Month', '02 (Feb)')\n",
    "feb_present.num_rows\n",
    "feb_present.show(10)"
   ]
  },
  {
   "cell_type": "markdown",
   "id": "6c224d7f",
   "metadata": {},
   "source": [
    "Look back to your `monthly_increases` table. Compared to the other months, the increase for the month of February is quite small; the February difference is very close to zero. Run the following cell to print out our observed difference."
   ]
  },
  {
   "cell_type": "code",
   "execution_count": 57,
   "id": "eddac3c1",
   "metadata": {},
   "outputs": [
    {
     "name": "stdout",
     "output_type": "stream",
     "text": [
      "February Difference: 0.3373623297258632\n"
     ]
    }
   ],
   "source": [
    "# Just run this cell\n",
    "print(f\"February Difference: {monthly_increases.row(1).item('Increase')}\")"
   ]
  },
  {
   "cell_type": "markdown",
   "id": "d98bfec3",
   "metadata": {},
   "source": [
    "Perhaps that small difference is somehow due to chance! To investigate this idea requires a thought experiment.\n",
    "\n",
    "We can observe all of the February maximum temperatures from 2019 to 2021 (the present period), so we have access to the census; there's no random sampling involved. But, we can imagine that if more years pass with the same present-day climate, there would be different but similar maximum temperatures in future February days. From the data we observe, we can try to estimate the **average maximum February temperature** in this imaginary collection of all future February days that would occur in our modern climate, assuming the climate doesn't change any further and many years pass.\n",
    "\n",
    "We can also imagine that the maximum temperature each day is like a **random draw from a distribution of max daily temperatures for that month**. Treating actual observations of natural events as if they were each *randomly* sampled from some unknown distribution is a simplifying assumption. These temperatures were not actually sampled at random—instead they occurred due to the complex interactions of the Earth's climate—but treating them as if they were random abstracts away the details of this naturally occuring process and allows us to carry out statistical inference.  Conclusions are only as valid as the assumptions upon which they rest, but in this case thinking of daily temperatures as random samples from some unknown climate distribution seems at least plausible.\n",
    "\n",
    "If we assume that the **actual temperatures were drawn at random from some large population of possible February days** in our modern climate, then we can not only estimate the population average of this distribution, but also quantify our uncertainty about that estimate using a confidence interval.\n",
    "\n",
    "**We will now compute the confidence interval of the present February average max daily temperature.** To unpack this statement, we are saying that this confidence interval is looking at present-day February conditions (think about which table is relevant to this), and the confidence interval is for present-day February average max daily temperatures. We will compare this confidence interval to the historical average (ie. the `\"Past\"` value in our `monthly_increases` table). How will we do the comparison? Well, since we are essentially interested in seeing if the average February max daily temperatures have ***changed*** since the past, we care about whether the historical average lies within the confidence interval we create. \n",
    "\n",
    "**Based on the information above, think what the null hypothesis and alternative hypothesis are.**"
   ]
  },
  {
   "cell_type": "markdown",
   "id": "4f4b32cb",
   "metadata": {},
   "source": [
    "**Question 1.2.6.** Complete the implementation of the function `make_ci`, which takes a one-column table `tbl` containing sample observations and a confidence `level` percentage such as 95 or 99. **It returns an array containing the lower and upper bound in that order, of a confidence interval** for the population mean constructed using 5,000 bootstrap resamples.\n",
    "\n",
    "After defining `make_ci`, we have provided a line of code that calls `make_ci` on the present-day February max temperatures to output the 99% confidence interval for the average of daily max temperatures in February. The result should be around 67 degrees for the lower bound and around 71 degrees for the upper bound of the interval."
   ]
  },
  {
   "cell_type": "code",
   "execution_count": 58,
   "id": "056dc12e",
   "metadata": {
    "tags": []
   },
   "outputs": [
    {
     "data": {
      "text/plain": [
       "array([ 66.96588235,  71.30941176])"
      ]
     },
     "execution_count": 58,
     "metadata": {},
     "output_type": "execute_result"
    }
   ],
   "source": [
    "def make_ci(tbl, level):\n",
    "    \"\"\"Compute a level% confidence interval of the average of the population for \n",
    "    which column 0 of Table tbl contains a sample. This function should return an \n",
    "    array of the lower and upper bounds of the confidence interval.\n",
    "    \"\"\"\n",
    "    stats = make_array()\n",
    "    for k in np.arange(5000):\n",
    "        stat = tbl.sample(with_replacement=True).column(0).mean()\n",
    "        stats = np.append(stats, stat)\n",
    "    lower_bound = percentile((100 - level) / 2, stats)\n",
    "    upper_bound = percentile(100 - (100 - level) / 2, stats)\n",
    "    return make_array(lower_bound, upper_bound)\n",
    "\n",
    "# Call make_ci on the max temperatures in present-day February to find the lower and upper bound of a 99% confidence interval.\n",
    "feb_present_ci = make_ci(feb_present.select('tmax'), 99)\n",
    "feb_present_ci"
   ]
  },
  {
   "cell_type": "code",
   "execution_count": 59,
   "id": "7ce443d0",
   "metadata": {
    "deletable": false,
    "editable": false
   },
   "outputs": [
    {
     "data": {
      "text/html": [
       "<p><strong><pre style='display: inline;'>q1_2_6</pre></strong> passed! 🍀</p>"
      ],
      "text/plain": [
       "q1_2_6 results: All test cases passed!"
      ]
     },
     "execution_count": 59,
     "metadata": {},
     "output_type": "execute_result"
    }
   ],
   "source": [
    "grader.check(\"q1_2_6\")"
   ]
  },
  {
   "cell_type": "markdown",
   "id": "213837d6",
   "metadata": {},
   "source": [
    "<!-- BEGIN QUESTION -->\n",
    "\n",
    "**Question 1.2.7** The `feb_present_ci` 99% confidence interval contains the observed past February average maximum temperature of 68.8485 (from the `monthly_increases` table). What conclusion can you draw about the effect of climate change on February maximum temperatures in Phoenix from this information? Use a 1% p-value cutoff.\n",
    "\n",
    "*Note*: If you're stuck on this question, re-reading the paragraphs under the *February* heading (particularly the first few) may be helpful."
   ]
  },
  {
   "cell_type": "markdown",
   "id": "62b28837",
   "metadata": {},
   "source": [
    "<!-- _Type your answer here, replacing this text._ -->\n",
    "**Answer 1.2.7** At a significance level of 1%, there is no obvious difference between Feburary average maximum temperature and present of the past and present."
   ]
  },
  {
   "cell_type": "markdown",
   "id": "a77e306d",
   "metadata": {},
   "source": [
    "<!-- END QUESTION -->\n",
    "\n",
    "### All Months"
   ]
  },
  {
   "cell_type": "markdown",
   "id": "1c777d3c",
   "metadata": {},
   "source": [
    "**Question 1.2.8.** Repeat the process of seeing whether the **past average for each month** is **contained within the 99% confidence interval** of the **present average**. Just as a note for the context, remember that these “averages” are averages of the max daily temperatures within those time periods. Code has already been written to print out the results in the format of a month (e.g., `02 (Feb)`), the observed past average, the confidence interval for the present average, and whether the past average was contained in the interval or not.\n",
    "\n",
    "Use the provided call to `print` in order to format the result as one line per month.\n",
    "\n",
    "*Hint*: Your code should follow the same format as our code from above (i.e. the *February* section)."
   ]
  },
  {
   "cell_type": "code",
   "execution_count": 60,
   "id": "0232664f",
   "metadata": {
    "tags": []
   },
   "outputs": [
    {
     "name": "stdout",
     "output_type": "stream",
     "text": [
      "For 01 (Jan) the past avg 65.0 is \u001b[1;31mNOT contained\u001b[0m in the interval [ 66.3  69.2] , the 99% CI of the present avg. \n",
      "\n",
      "For 02 (Feb) the past avg 68.8 is \u001b[1;32mcontained\u001b[0m in the interval [ 66.9  71.3] , the 99% CI of the present avg. \n",
      "\n",
      "For 03 (Mar) the past avg 74.6 is \u001b[1;32mcontained\u001b[0m in the interval [ 74.   77.9] , the 99% CI of the present avg. \n",
      "\n",
      "For 04 (Apr) the past avg 82.6 is \u001b[1;31mNOT contained\u001b[0m in the interval [ 86.5  90.3] , the 99% CI of the present avg. \n",
      "\n",
      "For 05 (May) the past avg 91.4 is \u001b[1;31mNOT contained\u001b[0m in the interval [ 92.5  96.6] , the 99% CI of the present avg. \n",
      "\n",
      "For 06 (Jun) the past avg 101.2 is \u001b[1;31mNOT contained\u001b[0m in the interval [ 104.3  107.2] , the 99% CI of the present avg. \n",
      "\n",
      "For 07 (Jul) the past avg 103.6 is \u001b[1;31mNOT contained\u001b[0m in the interval [ 105.4  108.8] , the 99% CI of the present avg. \n",
      "\n",
      "For 08 (Aug) the past avg 101.4 is \u001b[1;31mNOT contained\u001b[0m in the interval [ 105.8  108.9] , the 99% CI of the present avg. \n",
      "\n",
      "For 09 (Sep) the past avg 97.7 is \u001b[1;31mNOT contained\u001b[0m in the interval [  99.3  103.1] , the 99% CI of the present avg. \n",
      "\n",
      "For 10 (Oct) the past avg 86.8 is \u001b[1;31mNOT contained\u001b[0m in the interval [ 87.9  92.5] , the 99% CI of the present avg. \n",
      "\n",
      "For 11 (Nov) the past avg 74.6 is \u001b[1;31mNOT contained\u001b[0m in the interval [ 78.2  82.8] , the 99% CI of the present avg. \n",
      "\n",
      "For 12 (Dec) the past avg 65.9 is \u001b[1;32mcontained\u001b[0m in the interval [ 65.7  69.2] , the 99% CI of the present avg. \n",
      "\n"
     ]
    }
   ],
   "source": [
    "comparisons = make_array()\n",
    "months = monthly_increases.column('Month')\n",
    "for month in months:\n",
    "    past_average = monthly_increases.where('Month', are.equal_to(month)).column('Past').item(0)\n",
    "    present_observations = phoenix.where('Year', are.between_or_equal_to(2019, 2021)).where('Month', are.equal_to(month))\n",
    "    present_ci = make_ci(present_observations.select('tmax'), 99)\n",
    "    \n",
    "    # Do not change the code below this line\n",
    "    GREEN_BOLD = '\\033[1;32m'\n",
    "    RED_BOLD = '\\033[1;31m'\n",
    "    RESET_STYLE = '\\033[0m'\n",
    "    within = (past_average >= present_ci.item(0)) and (past_average <= present_ci.item(1))\n",
    "    if within:\n",
    "        comparison = f'{GREEN_BOLD}contained{RESET_STYLE}'\n",
    "    else:\n",
    "        comparison = f'{RED_BOLD}NOT contained{RESET_STYLE}'\n",
    "    comparisons = np.append(comparisons, comparison)\n",
    "    \n",
    "    print('For', month, 'the past avg', round(past_average, 1),\n",
    "    'is', comparison,\n",
    "    'in the interval', np.round(present_ci, 1),\n",
    "    ', the 99% CI of the present avg. \\n')"
   ]
  },
  {
   "cell_type": "code",
   "execution_count": 61,
   "id": "9de70ce4",
   "metadata": {
    "deletable": false,
    "editable": false
   },
   "outputs": [
    {
     "data": {
      "text/html": [
       "<p><strong><pre style='display: inline;'>q1_2_8</pre></strong> passed! 🎉</p>"
      ],
      "text/plain": [
       "q1_2_8 results: All test cases passed!"
      ]
     },
     "execution_count": 61,
     "metadata": {},
     "output_type": "execute_result"
    }
   ],
   "source": [
    "grader.check(\"q1_2_8\")"
   ]
  },
  {
   "cell_type": "markdown",
   "id": "2390cc14",
   "metadata": {},
   "source": [
    "<!-- BEGIN QUESTION -->\n",
    "\n",
    "**Question 1.2.9.** Summarize your findings. After checking whether the past average (of max temperatures, as defined above 1.2.6)  is contained in the 99% confidence interval for each month, what conclusions can we make about the monthly average maximum temperature in historical (1900-1960) vs. modern (2019-2021) times in the twelve months? In other words, what null hypothesis should you consider, and for which months would you reject or fail to reject the null hypothesis? Use a 1% p-value cutoff.\n",
    "\n",
    "*Hint*: Do you notice any seasonal patterns?"
   ]
  },
  {
   "cell_type": "markdown",
   "id": "ab63d1a8",
   "metadata": {},
   "source": [
    "<!-- _Type your answer here, replacing this text._ -->\n",
    "**Answer 1.2.9.** Our null hypothesis should be: the past average is the same with the present average. At a significance level of 1%, the null hypothesis is rejected for 04, 05, ..., 10 and 01, accepted for 02, 03 and 12."
   ]
  },
  {
   "cell_type": "markdown",
   "id": "c93054bd",
   "metadata": {},
   "source": [
    "<!-- END QUESTION -->\n",
    "\n",
    "> It is important to be wary of making conclusions based on the results of multiple hypothesis tests. Specifically, recall that a 1% p-value cutoff means that if the null is true, we would expect to incorrectly reject the null 1% of the time. Now, if we run multiple of these tests, the chance we observe an error will be greater than if we had just run one test – the error chance compounds. "
   ]
  },
  {
   "cell_type": "markdown",
   "id": "957ad069",
   "metadata": {
    "tags": []
   },
   "source": [
    "### Checkpoint (due Friday, 4/5 by 5:00pm PT)\n",
    "\n",
    "<img src=\"bella.jpeg\" alt=\"close-up picture of a golden doodle\" width=\"300\"/>\n",
    "\n",
    "Congrats on reaching the checkpoint! **Bella** is proud of you!\n",
    "\n",
    "**Run the following cells and submit to the <u>Project 2 Checkpoint</u>** Gradescope assignment."
   ]
  },
  {
   "cell_type": "markdown",
   "id": "537ebae9",
   "metadata": {},
   "source": [
    "--- \n",
    "\n",
    "To earn full credit for this checkpoint, you must pass all the public autograder tests above this cell. The cell below will re-run all of the autograder tests for Part 1 to double check your work."
   ]
  },
  {
   "cell_type": "code",
   "execution_count": 62,
   "id": "8792bbac",
   "metadata": {},
   "outputs": [
    {
     "data": {
      "text/html": [
       "<p><strong><pre style='display: inline;'>q1_1_3</pre></strong> passed! 🙌</p>"
      ],
      "text/plain": [
       "q1_1_3 results: All test cases passed!"
      ]
     },
     "metadata": {},
     "output_type": "display_data"
    },
    {
     "data": {
      "text/html": [
       "<p><strong><pre style='display: inline;'>q1_1_4</pre></strong> passed! ✨</p>"
      ],
      "text/plain": [
       "q1_1_4 results: All test cases passed!"
      ]
     },
     "metadata": {},
     "output_type": "display_data"
    },
    {
     "data": {
      "text/html": [
       "<p><strong><pre style='display: inline;'>q1_1_5</pre></strong> passed! 🌟</p>"
      ],
      "text/plain": [
       "q1_1_5 results: All test cases passed!"
      ]
     },
     "metadata": {},
     "output_type": "display_data"
    },
    {
     "data": {
      "text/html": [
       "<p><strong><pre style='display: inline;'>q1_2_1</pre></strong> passed! 🌟</p>"
      ],
      "text/plain": [
       "q1_2_1 results: All test cases passed!"
      ]
     },
     "metadata": {},
     "output_type": "display_data"
    },
    {
     "data": {
      "text/html": [
       "<p><strong><pre style='display: inline;'>q1_2_2</pre></strong> passed! 🚀</p>"
      ],
      "text/plain": [
       "q1_2_2 results: All test cases passed!"
      ]
     },
     "metadata": {},
     "output_type": "display_data"
    },
    {
     "data": {
      "text/html": [
       "<p><strong><pre style='display: inline;'>q1_2_5</pre></strong> passed! 🌟</p>"
      ],
      "text/plain": [
       "q1_2_5 results: All test cases passed!"
      ]
     },
     "metadata": {},
     "output_type": "display_data"
    },
    {
     "data": {
      "text/html": [
       "<p><strong><pre style='display: inline;'>q1_2_6</pre></strong> passed! 🚀</p>"
      ],
      "text/plain": [
       "q1_2_6 results: All test cases passed!"
      ]
     },
     "metadata": {},
     "output_type": "display_data"
    },
    {
     "data": {
      "text/html": [
       "<p><strong><pre style='display: inline;'>q1_2_8</pre></strong> passed! ✨</p>"
      ],
      "text/plain": [
       "q1_2_8 results: All test cases passed!"
      ]
     },
     "metadata": {},
     "output_type": "display_data"
    }
   ],
   "source": [
    "checkpoint_tests = [\"q1_1_3\", \"q1_1_4\", \"q1_1_5\", \n",
    "                    \"q1_2_1\", \"q1_2_2\", \"q1_2_5\", \"q1_2_6\", \"q1_2_8\"]\n",
    "\n",
    "for test in checkpoint_tests:\n",
    "    display(grader.check(test))"
   ]
  },
  {
   "cell_type": "markdown",
   "id": "cff2a79d",
   "metadata": {},
   "source": [
    "## Submission\n",
    "\n",
    "Make sure you have run all cells in your notebook in order before running the cell below, so that all images/graphs appear in the output. The cell below will generate a zip file for you to submit. **Please save before exporting!**\n",
    "\n",
    "**Reminders**:\n",
    "\n",
    "- If you worked on Project 2 with a partner, please remember to add your partner to your Gradescope submission. If you resubmit, make sure to re-add your partner, as Gradescope does not save any partner information.\n",
    "- Make sure to wait until the autograder finishes running to ensure that your submission was processed properly and that you submitted to the correct assignment."
   ]
  },
  {
   "cell_type": "code",
   "execution_count": null,
   "id": "8be77149",
   "metadata": {},
   "outputs": [],
   "source": [
    "# Save your notebook first, then run this cell to export your submission.\n",
    "# grader.export(pdf=False)"
   ]
  },
  {
   "cell_type": "code",
   "execution_count": null,
   "id": "af0a5957",
   "metadata": {},
   "outputs": [],
   "source": [
    "# Run this cell to set up the notebook, but please don't change it.\n",
    "from datascience import *\n",
    "import numpy as np\n",
    "\n",
    "%matplotlib inline\n",
    "import matplotlib.pyplot as plt\n",
    "plt.style.use('fivethirtyeight')\n",
    "np.set_printoptions(legacy='1.13')\n",
    " \n",
    "import warnings\n",
    "warnings.simplefilter('ignore')"
   ]
  },
  {
   "cell_type": "markdown",
   "id": "679faadd",
   "metadata": {
    "tags": []
   },
   "source": [
    "# Part 2: Drought"
   ]
  },
  {
   "cell_type": "markdown",
   "id": "4ad186b4",
   "metadata": {},
   "source": [
    "According to the [United States Environmental Protection Agency](https://www.epa.gov/climate-indicators/southwest), \"Large portions of the Southwest have experienced drought conditions since weekly Drought Monitor records began in 2000. For extended periods from 2002 to 2005 and from 2012 to 2020, nearly the entire region was abnormally dry or even drier.\" \n",
    "\n",
    "Assessing the impact of drought is challenging with just city-level data because so much of the water that people use is transported from elsewhere, but we'll explore the data we have and see what we can learn.\n",
    "\n",
    "Let's first take a look at the precipitation data in the Southwest region. The `southwest.csv` file contains total annual precipitation for 13 cities in the southwestern United States for each year from 1960 to 2021. This dataset is aggregated from the daily data and includes only the Southwest cities from the original dataset that have consistent precipitation records back to 1960."
   ]
  },
  {
   "cell_type": "code",
   "execution_count": null,
   "id": "a51d08fd",
   "metadata": {},
   "outputs": [],
   "source": [
    "southwest = Table.read_table('southwest.csv')\n",
    "southwest.show(5)"
   ]
  },
  {
   "cell_type": "markdown",
   "id": "4e88eeb4",
   "metadata": {},
   "source": [
    "**Question 2.1.** Create a table `totals` that has one row for each year in chronological order. It should contain the following columns:\n",
    "1. `\"Year\"`: The year (a number)\n",
    "2. `\"Precipitation\"`: The total precipitation in all 13 southwestern cities that year\n"
   ]
  },
  {
   "cell_type": "code",
   "execution_count": null,
   "id": "7ce602fe",
   "metadata": {
    "tags": []
   },
   "outputs": [],
   "source": [
    "totals = ...\n",
    "totals"
   ]
  },
  {
   "cell_type": "code",
   "execution_count": null,
   "id": "b3a6062f",
   "metadata": {
    "deletable": false,
    "editable": false
   },
   "outputs": [],
   "source": [
    "grader.check(\"q2_1\")"
   ]
  },
  {
   "cell_type": "markdown",
   "id": "713138e8",
   "metadata": {},
   "source": [
    "Run the cell below to plot the total precipitation in these cities over time, so that we can try to spot the drought visually. As a reminder, the drought years given by the EPA were  (2002-2005) and (2012-2020)."
   ]
  },
  {
   "cell_type": "code",
   "execution_count": null,
   "id": "045b902a",
   "metadata": {},
   "outputs": [],
   "source": [
    "# Just run this cell\n",
    "totals.plot(\"Year\", \"Precipitation\")"
   ]
  },
  {
   "cell_type": "markdown",
   "id": "0596ce41",
   "metadata": {},
   "source": [
    "This plot isn't very revealing. Each year has a different amount of precipitation, and there is quite a bit of variability across years, as if each year's precipitation is a random draw from a distribution of possible outcomes. \n",
    "\n",
    "Could it be that these so-called \"drought conditions\" from 2002-2005 and 2012-2020 can be explained by chance? In other words, could it be that the annual precipitation amounts in the Southwest for these drought years are like **random draws from the same underlying distribution** as for other years? Perhaps nothing about the Earth's precipitation patterns has really changed, and the Southwest U.S. just happened to experience a few dry years close together. \n",
    "\n",
    "To assess this idea, let's conduct an A/B test in which **each year's total precipitation** is an outcome, and the condition is **whether or not the year is in the EPA's drought period**."
   ]
  },
  {
   "cell_type": "markdown",
   "id": "cdf00565",
   "metadata": {},
   "source": [
    "This `drought_label` function distinguishes between drought years as described in the U.S. EPA statement above (2002-2005 and 2012-2020) and other years. Note that the label \"other\" is perhaps misleading, since there were other droughts before 2000, such as the massive [1988 drought](https://en.wikipedia.org/wiki/1988%E2%80%9390_North_American_drought) that affected much of the U.S. However, if we're interested in whether these modern drought periods (2002-2005 and 2012-2020) are *normal* or *abnormal*, it makes sense to distinguish the years in this way. "
   ]
  },
  {
   "cell_type": "code",
   "execution_count": null,
   "id": "472cfe41",
   "metadata": {},
   "outputs": [],
   "source": [
    "def drought_label(n):\n",
    "    \"\"\"Return the label for an input year n.\"\"\"\n",
    "    if 2002 <= n <= 2005 or 2012 <= n <= 2020:\n",
    "        return 'drought'\n",
    "    else:\n",
    "        return 'other'"
   ]
  },
  {
   "cell_type": "markdown",
   "id": "944f4218",
   "metadata": {},
   "source": [
    "<!-- BEGIN QUESTION -->\n",
    "\n",
    "**Question 2.2.** Define null and alternative hypotheses for an A/B test that investigates whether drought years are **drier** (have less precipitation) than other years.\n",
    "\n",
    "*Note:* Please format your answer using the following structure.\n",
    "\n",
    "- *Null hypothesis:* ...\n",
    "- *Alternative hypothesis:* ...\n"
   ]
  },
  {
   "cell_type": "markdown",
   "id": "121dcbe5",
   "metadata": {},
   "source": [
    "_Type your answer here, replacing this text._"
   ]
  },
  {
   "cell_type": "markdown",
   "id": "67f142bc",
   "metadata": {},
   "source": [
    "<!-- END QUESTION -->\n",
    "\n",
    "<!-- BEGIN QUESTION -->\n",
    "\n",
    "**Question 2.3.** First, define the table `drought`. It should contain one row per year and the following two columns:\n",
    "- `\"Label\"`: Denotes if a year is part of a `\"drought\"` year or an `\"other\"` year\n",
    "- `\"Precipitation\"`: The sum of the total precipitation in 13 Southwest cities that year\n",
    "\n",
    "Then, construct an overlaid histogram of two observed distributions: the total precipitation in drought years and the total precipitation in other years. \n",
    "\n",
    "*Note*: Use the provided `bins` when creating your histogram, and do not re-assign the `southwest` table. Feel free to use as many lines as you need!\n",
    "\n",
    "*Hint*: The optional `group` argument in a certain function might be helpful!\n"
   ]
  },
  {
   "cell_type": "code",
   "execution_count": null,
   "id": "c1bdccc0",
   "metadata": {
    "tags": []
   },
   "outputs": [],
   "source": [
    "bins = np.arange(85, 215+1, 13)\n",
    "drought = ...\n",
    "..."
   ]
  },
  {
   "cell_type": "markdown",
   "id": "a38b0547",
   "metadata": {},
   "source": [
    "<!-- END QUESTION -->\n",
    "\n",
    "Before you continue, inspect the histogram you just created and try to guess the conclusion of the A/B test. Building intuition about the result of hypothesis testing from visualizations is quite useful for data science applications. "
   ]
  },
  {
   "cell_type": "markdown",
   "id": "b235959c",
   "metadata": {},
   "source": [
    "**Question 2.4.** Our next step is to choose a test statistic based on our alternative hypothesis in Question 2.2. Which of the following options are valid choices for the test statistic? Assign `ab_test_stat` to **an array of integers** corresponding to valid choices. Assume averages and totals are taken over the total precipitation sums for each year.\n",
    "\n",
    "1. The difference between the **total** precipitation in **drought** years and the **total** precipitation in **other** years.\n",
    "2. The difference between the **total** precipitation in **others** years and the **total** precipitation in **drought** years.\n",
    "3. The **absolute** difference between the **total** precipitation in others years and the **total** precipitation in drought years.\n",
    "1. The difference between the **average** precipitation in **drought** years and the **average** precipitation in **other** years.\n",
    "2. The difference between the **average** precipitation in **others** years and the **average** precipitation in **drought** years.\n",
    "3. The **absolute** difference between the **average** precipitation in others years and the **average** precipitation in drought years.\n"
   ]
  },
  {
   "cell_type": "code",
   "execution_count": null,
   "id": "d676a370",
   "metadata": {
    "tags": []
   },
   "outputs": [],
   "source": [
    "ab_test_stat = ..."
   ]
  },
  {
   "cell_type": "code",
   "execution_count": null,
   "id": "7cff84ed",
   "metadata": {
    "deletable": false,
    "editable": false
   },
   "outputs": [],
   "source": [
    "grader.check(\"q2_4\")"
   ]
  },
  {
   "cell_type": "markdown",
   "id": "3f0e640e",
   "metadata": {},
   "source": [
    "<!-- BEGIN QUESTION -->\n",
    "\n",
    "**Question 2.5.** Fellow climate scientists Noah and Sarah point out that there are more **other** years than **drought** years, and so measuring the difference between total precipitation will always favor the **other** years. They conclude that all of the options above involving **total** precipitation are invalid test statistic choices. Do you agree with them? Why or why not?\n",
    "\n",
    "> *Hint:* Think about how permutation tests work with imbalanced classes!"
   ]
  },
  {
   "cell_type": "markdown",
   "id": "94802ad6",
   "metadata": {},
   "source": [
    "_Type your answer here, replacing this text._"
   ]
  },
  {
   "cell_type": "markdown",
   "id": "e42e4229",
   "metadata": {},
   "source": [
    "<!-- END QUESTION -->\n",
    "\n",
    "Before going on, check your `drought` table. It should have two columns `Label` and `Precipitation` with 61 rows, 13 of which are for `\"drought\"` years."
   ]
  },
  {
   "cell_type": "code",
   "execution_count": null,
   "id": "cd80dbd0",
   "metadata": {},
   "outputs": [],
   "source": [
    "drought.show(3)"
   ]
  },
  {
   "cell_type": "code",
   "execution_count": null,
   "id": "2a315597",
   "metadata": {},
   "outputs": [],
   "source": [
    "drought.group('Label')"
   ]
  },
  {
   "cell_type": "markdown",
   "id": "575b3169",
   "metadata": {},
   "source": [
    "**Question 2.6.** For our A/B test, we'll use the difference between the average precipitation in drought years and the average precipitation in other years as our test statistic:\n",
    "\n",
    "$$\\text{average precipitation in \"drought\" years} - \\text{average precipitation in \"other\" years}$$\n",
    "\n",
    "First, complete the function `test_statistic`. It should take in a two-column table `t` with one row per year and two columns:\n",
    "- `Label`: the label for that year (either `'drought'` or `'other'`)\n",
    "- `Precipitation`: the total precipitation in the 13 Southwest cities that year. \n",
    "\n",
    "Then, use the function you define to assign `observed_statistic` to the observed test statistic.\n"
   ]
  },
  {
   "cell_type": "code",
   "execution_count": null,
   "id": "641c523f",
   "metadata": {
    "tags": []
   },
   "outputs": [],
   "source": [
    "def test_statistic(t):\n",
    "    ...\n",
    "\n",
    "observed_statistic = ...\n",
    "observed_statistic"
   ]
  },
  {
   "cell_type": "code",
   "execution_count": null,
   "id": "63b04d0b",
   "metadata": {
    "deletable": false,
    "editable": false
   },
   "outputs": [],
   "source": [
    "grader.check(\"q2_6\")"
   ]
  },
  {
   "cell_type": "markdown",
   "id": "371fcc5b",
   "metadata": {},
   "source": [
    "Now that we have defined our hypotheses and test statistic, we are ready to conduct our hypothesis test. We’ll start by defining a function to simulate the test statistic under the null hypothesis, and then call that function 5,000 times to construct an empirical distribution under the null hypothesis."
   ]
  },
  {
   "cell_type": "markdown",
   "id": "0066ab63",
   "metadata": {},
   "source": [
    "**Question 2.7.** Write a function to simulate the test statistic under the null hypothesis. The `simulate_precipitation_null` function should simulate the null hypothesis once (not 5,000 times) and return the value of the test statistic for that simulated sample.\n",
    "\n",
    "*Hint*: Using `t.with_column(...)` with a column name that already exists in a table `t` will replace that column with the newly specified values.\n"
   ]
  },
  {
   "cell_type": "code",
   "execution_count": null,
   "id": "a2f8fd8b",
   "metadata": {
    "tags": []
   },
   "outputs": [],
   "source": [
    "def simulate_precipitation_null():\n",
    "    ...\n",
    "\n",
    "# Run your function a couple times to make sure that it works\n",
    "simulate_precipitation_null()"
   ]
  },
  {
   "cell_type": "code",
   "execution_count": null,
   "id": "bef9cc9c",
   "metadata": {
    "deletable": false,
    "editable": false
   },
   "outputs": [],
   "source": [
    "grader.check(\"q2_7\")"
   ]
  },
  {
   "cell_type": "markdown",
   "id": "2cd49a0b",
   "metadata": {},
   "source": [
    "**Question 2.8.** Fill in the blanks below to complete the simulation for the hypothesis test. Your simulation should compute 5,000 values of the test statistic under the null hypothesis and store the result in the array `sampled_stats`.\n",
    "\n",
    "*Hint:* You should use the `simulate_precipitation_null` function you wrote in the previous question!\n",
    "\n",
    "*Note:* Running this cell may take a few seconds. If it takes more than a minute, try to find a different (faster) way to implement your `simulate_precipitation_null` function.\n"
   ]
  },
  {
   "cell_type": "code",
   "execution_count": null,
   "id": "ec730c32",
   "metadata": {
    "tags": []
   },
   "outputs": [],
   "source": [
    "sampled_stats = ...\n",
    "\n",
    "repetitions = ...\n",
    "for i in np.arange(repetitions):\n",
    "    ...\n",
    "\n",
    "# Do not change these lines\n",
    "Table().with_column('Difference Between Means', sampled_stats).hist()\n",
    "plt.scatter(observed_statistic, 0, c=\"r\", s=50);\n",
    "plt.ylim(-0.01);"
   ]
  },
  {
   "cell_type": "code",
   "execution_count": null,
   "id": "4b61f79b",
   "metadata": {
    "deletable": false,
    "editable": false
   },
   "outputs": [],
   "source": [
    "grader.check(\"q2_8\")"
   ]
  },
  {
   "cell_type": "markdown",
   "id": "21a38dc5",
   "metadata": {},
   "source": [
    "**Question 2.9.** Compute the p-value for this hypothesis test, and assign it to the variable `precipitation_p_val`.\n"
   ]
  },
  {
   "cell_type": "code",
   "execution_count": null,
   "id": "66b930ce",
   "metadata": {
    "tags": []
   },
   "outputs": [],
   "source": [
    "precipitation_p_val = ...\n",
    "precipitation_p_val"
   ]
  },
  {
   "cell_type": "code",
   "execution_count": null,
   "id": "c5746444",
   "metadata": {
    "deletable": false,
    "editable": false
   },
   "outputs": [],
   "source": [
    "grader.check(\"q2_9\")"
   ]
  },
  {
   "cell_type": "markdown",
   "id": "c22c6efd",
   "metadata": {},
   "source": [
    "<!-- BEGIN QUESTION -->\n",
    "\n",
    "**Question 2.10.** State a conclusion from this test using a p-value cutoff of 5%. What have you learned about the EPA's statement on drought?\n"
   ]
  },
  {
   "cell_type": "markdown",
   "id": "7f85b6d5",
   "metadata": {},
   "source": [
    "_Type your answer here, replacing this text._"
   ]
  },
  {
   "cell_type": "markdown",
   "id": "d7393937",
   "metadata": {},
   "source": [
    "<!-- END QUESTION -->\n",
    "\n",
    "<!-- BEGIN QUESTION -->\n",
    "\n",
    "**Question 2.11.** Does your conclusion from Question 2.10 apply to the entire Southwest region of the U.S.? Why or why not?\n",
    "\n",
    "> *Note:* Feel free to do some research into geographical features of this region of the U.S.!"
   ]
  },
  {
   "cell_type": "markdown",
   "id": "80e4cc48",
   "metadata": {},
   "source": [
    "_Type your answer here, replacing this text._"
   ]
  },
  {
   "cell_type": "markdown",
   "id": "220cf309",
   "metadata": {},
   "source": [
    "<!-- END QUESTION -->\n",
    "\n",
    "# Conclusion"
   ]
  },
  {
   "cell_type": "markdown",
   "id": "de7f6d81",
   "metadata": {},
   "source": [
    "Data science plays a central role in climate change research because massive simulations of the Earth's climate are necessary to assess the implications of climate data recorded from weather stations, satellites, and other sensors. [Berkeley Earth](http://berkeleyearth.org/data/) is a common source of data for these kinds of projects.\n",
    "\n",
    "In this project, we found ways to apply our statistical inference technqiues that rely on random sampling even in situations where the data were not generated randomly, but instead by some complicated natural process that appeared random. We made assumptions about randomness and then came to conclusions based on those assumptions. Great care must be taken to choose assumptions that are realistic, so that the resulting conclusions are not misleading. However, making assumptions about data can be productive when doing so allows inference techniques to apply to novel situations."
   ]
  },
  {
   "cell_type": "markdown",
   "id": "377fe734",
   "metadata": {},
   "source": [
    "<img src=\"sylvester.jpeg\" alt=\"Picture of a tuxedo cat lounging in bed\" width=\"350\"/>\n",
    "\n",
    "**Congratulations -- Sylvester is proud of you for finishing Project 2!**\n"
   ]
  },
  {
   "cell_type": "markdown",
   "id": "a25c4b21",
   "metadata": {},
   "source": [
    "\n",
    "***Important Reminders:***\n",
    "\n",
    "- If you worked on Project 2 with a partner, please remember to add your partner to your Gradescope submission. If you resubmit, make sure to re-add your partner, as Gradescope does not save any partner information.\n",
    "- Make sure to wait until the autograder finishes running to ensure that your submission was processed properly and that you submitted to the correct assignment."
   ]
  },
  {
   "cell_type": "markdown",
   "id": "77375842",
   "metadata": {},
   "source": [
    "## Submission\n",
    "\n",
    "Below, you will see two cells. Running the first cell will automatically generate a PDF of all questions that need to be manually graded, and running the second cell will automatically generate a zip with your autograded answers. You are responsible for submitting both the coding portion (the zip) and the written portion (the PDF) to their respective Gradescope portals. **Please save before exporting!**\n",
    "\n",
    "> **Important: You must correctly assign the pages of your PDF after you submit to the correct gradescope assignment. If your pages are not correctly assigned and/or not in the correct PDF format by the deadline, we reserve the right to award no points for your written work.**\n",
    "\n",
    "If there are issues with automatically generating the PDF in the first cell, you can try downloading the notebook as a PDF by colicking on `File -> Save and Export Notebook As... -> PDF`. If that doesn't work either, you can manually take screenshots of your answers to the manually graded questions and submit those. Either way, **you are responsible for ensuring your submision follows our requirements, we will NOT be granting regrade requests for submissions that don't follow instructions.**\n",
    "\n",
    "**You must submit the PDF generated via one of these methods, we will not accept screenshots or Word documents.**"
   ]
  },
  {
   "cell_type": "code",
   "execution_count": null,
   "id": "d5c9aea8",
   "metadata": {},
   "outputs": [],
   "source": [
    "from otter.export import export_notebook\n",
    "from os import path\n",
    "from IPython.display import display, HTML\n",
    "name = 'project2'\n",
    "export_notebook(f\"{name}.ipynb\", filtering=True, pagebreaks=True)\n",
    "if(path.exists(f'{name}.pdf')):\n",
    "    display(HTML(f\"Download your PDF <a href='{name}.pdf' download>here</a>.\"))\n",
    "else:\n",
    "    print(\"\\n Pdf generation failed, please try the other methods described above\")"
   ]
  },
  {
   "cell_type": "markdown",
   "id": "3ca3a904",
   "metadata": {
    "deletable": false,
    "editable": false
   },
   "source": [
    "## Submission\n",
    "\n",
    "Make sure you have run all cells in your notebook in order before running the cell below, so that all images/graphs appear in the output. The cell below will generate a zip file for you to submit. **Please save before exporting!**"
   ]
  },
  {
   "cell_type": "code",
   "execution_count": null,
   "id": "e4edd152",
   "metadata": {
    "deletable": false,
    "editable": false
   },
   "outputs": [],
   "source": [
    "# Save your notebook first, then run this cell to export your submission.\n",
    "grader.export(pdf=False, run_tests=True)"
   ]
  },
  {
   "cell_type": "markdown",
   "id": "b74cbdb5",
   "metadata": {},
   "source": [
    " "
   ]
  }
 ],
 "metadata": {
  "kernelspec": {
   "display_name": "Data8 sp24",
   "language": "python",
   "name": "data8-sp24"
  },
  "language_info": {
   "codemirror_mode": {
    "name": "ipython",
    "version": 3
   },
   "file_extension": ".py",
   "mimetype": "text/x-python",
   "name": "python",
   "nbconvert_exporter": "python",
   "pygments_lexer": "ipython3",
   "version": "3.11.8"
  },
  "otter": {
   "OK_FORMAT": true,
   "tests": {
    "q1_1_3": {
     "name": "q1_1_3",
     "points": [
      0,
      0
     ],
     "suites": [
      {
       "cases": [
        {
         "code": ">>> type(num_unique_cities) in set([int, np.int32, np.int64])\nTrue",
         "hidden": false,
         "locked": false
        },
        {
         "code": ">>> # Make sure that num_unique_cities is greater than zero!\n>>> num_unique_cities > 0\nTrue",
         "hidden": false,
         "locked": false
        }
       ],
       "scored": true,
       "setup": "",
       "teardown": "",
       "type": "doctest"
      }
     ]
    },
    "q1_1_4": {
     "name": "q1_1_4",
     "points": [
      1
     ],
     "suites": [
      {
       "cases": [
        {
         "code": ">>> # Make sure the function outputs a string!\n>>> type(coordinates_to_region(50, 100)) == str\nTrue",
         "hidden": false,
         "locked": false
        }
       ],
       "scored": true,
       "setup": "",
       "teardown": "",
       "type": "doctest"
      }
     ]
    },
    "q1_1_5": {
     "name": "q1_1_5",
     "points": [
      0,
      0,
      1
     ],
     "suites": [
      {
       "cases": [
        {
         "code": ">>> len(cities.labels) == 8\nTrue",
         "hidden": false,
         "locked": false
        },
        {
         "code": ">>> cities.labels[-1] == \"Region\"\nTrue",
         "hidden": false,
         "locked": false
        },
        {
         "code": ">>> cities.row(0).item('Region') == 'Northwest'\nTrue",
         "hidden": false,
         "locked": false
        }
       ],
       "scored": true,
       "setup": "",
       "teardown": "",
       "type": "doctest"
      }
     ]
    },
    "q1_2_1": {
     "name": "q1_2_1",
     "points": [
      0
     ],
     "suites": [
      {
       "cases": [
        {
         "code": ">>> type(largest_2010_range_date) == str\nTrue",
         "hidden": false,
         "locked": false
        }
       ],
       "scored": true,
       "setup": "",
       "teardown": "",
       "type": "doctest"
      }
     ]
    },
    "q1_2_2": {
     "name": "q1_2_2",
     "points": [
      0,
      0,
      1
     ],
     "suites": [
      {
       "cases": [
        {
         "code": ">>> phoenix.num_rows == 46021\nTrue",
         "hidden": false,
         "locked": false
        },
        {
         "code": ">>> len(phoenix.labels) == 6\nTrue",
         "hidden": false,
         "locked": false
        },
        {
         "code": ">>> phoenix.labels == ('Date', 'tmax', 'tmin', 'prcp', 'Year', 'Month')\nTrue",
         "hidden": false,
         "locked": false
        }
       ],
       "scored": true,
       "setup": "",
       "teardown": "",
       "type": "doctest"
      }
     ]
    },
    "q1_2_5": {
     "name": "q1_2_5",
     "points": [
      0,
      1,
      1
     ],
     "suites": [
      {
       "cases": [
        {
         "code": ">>> monthly_increases.num_rows == 12\nTrue",
         "hidden": false,
         "locked": false
        },
        {
         "code": ">>> monthly_increases.labels == ('Month', 'Past', 'Present', 'Increase')\nTrue",
         "hidden": false,
         "locked": false
        },
        {
         "code": ">>> # Make sure your table is sorted from January to December.\n>>> monthly_increases.row(2).item('Month') == '03 (Mar)'\nTrue",
         "hidden": false,
         "locked": false
        }
       ],
       "scored": true,
       "setup": "",
       "teardown": "",
       "type": "doctest"
      }
     ]
    },
    "q1_2_6": {
     "name": "q1_2_6",
     "points": [
      2.5,
      2.5
     ],
     "suites": [
      {
       "cases": [
        {
         "code": ">>> 66.6 <= feb_present_ci.item(0) <= 67.3\nTrue",
         "hidden": false,
         "locked": false
        },
        {
         "code": ">>> 71 <= feb_present_ci.item(1) <= 72\nTrue",
         "hidden": false,
         "locked": false
        }
       ],
       "scored": true,
       "setup": "",
       "teardown": "",
       "type": "doctest"
      }
     ]
    },
    "q1_2_8": {
     "name": "q1_2_8",
     "points": [
      1
     ],
     "suites": [
      {
       "cases": [
        {
         "code": ">>> type(months) == np.ndarray\nTrue",
         "hidden": false,
         "locked": false
        }
       ],
       "scored": true,
       "setup": "",
       "teardown": "",
       "type": "doctest"
      }
     ]
    },
    "q2_1": {
     "name": "q2_1",
     "points": [
      0,
      1
     ],
     "suites": [
      {
       "cases": [
        {
         "code": ">>> totals.num_rows == 61\nTrue",
         "hidden": false,
         "locked": false
        },
        {
         "code": ">>> totals.labels == ('Year', 'Precipitation')\nTrue",
         "hidden": false,
         "locked": false
        }
       ],
       "scored": true,
       "setup": "",
       "teardown": "",
       "type": "doctest"
      }
     ]
    },
    "q2_4": {
     "name": "q2_4",
     "points": [
      0,
      0,
      2
     ],
     "suites": [
      {
       "cases": [
        {
         "code": ">>> type(ab_test_stat) == np.ndarray\nTrue",
         "hidden": false,
         "locked": false
        },
        {
         "code": ">>> all([1 <= option <= 6 for option in ab_test_stat])\nTrue",
         "hidden": false,
         "locked": false
        },
        {
         "code": ">>> all([type(option) in set([np.int64, np.int32, int]) for option in list(ab_test_stat)])\nTrue",
         "hidden": false,
         "locked": false
        }
       ],
       "scored": true,
       "setup": "",
       "teardown": "",
       "type": "doctest"
      }
     ]
    },
    "q2_6": {
     "name": "q2_6",
     "points": [
      1
     ],
     "suites": [
      {
       "cases": [
        {
         "code": ">>> observed_statistic < 0\nTrue",
         "hidden": false,
         "locked": false
        }
       ],
       "scored": true,
       "setup": "",
       "teardown": "",
       "type": "doctest"
      }
     ]
    },
    "q2_7": {
     "name": "q2_7",
     "points": [
      1
     ],
     "suites": [
      {
       "cases": [
        {
         "code": ">>> -50 < simulate_precipitation_null() < 50\nTrue",
         "hidden": false,
         "locked": false
        }
       ],
       "scored": true,
       "setup": "",
       "teardown": "",
       "type": "doctest"
      }
     ]
    },
    "q2_8": {
     "name": "q2_8",
     "points": [
      0,
      0
     ],
     "suites": [
      {
       "cases": [
        {
         "code": ">>> len(sampled_stats) == 5000\nTrue",
         "hidden": false,
         "locked": false
        },
        {
         "code": ">>> np.std(sampled_stats) > 0\nTrue",
         "hidden": false,
         "locked": false
        }
       ],
       "scored": true,
       "setup": "",
       "teardown": "",
       "type": "doctest"
      }
     ]
    },
    "q2_9": {
     "name": "q2_9",
     "points": [
      0,
      1
     ],
     "suites": [
      {
       "cases": [
        {
         "code": ">>> type(precipitation_p_val) in set([float, np.float32, np.float64])\nTrue",
         "hidden": false,
         "locked": false
        },
        {
         "code": ">>> 0 <= precipitation_p_val <= 1\nTrue",
         "hidden": false,
         "locked": false
        }
       ],
       "scored": true,
       "setup": "",
       "teardown": "",
       "type": "doctest"
      }
     ]
    }
   }
  }
 },
 "nbformat": 4,
 "nbformat_minor": 5
}
