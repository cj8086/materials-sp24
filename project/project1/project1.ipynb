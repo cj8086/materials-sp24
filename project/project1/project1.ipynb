{
 "cells": [
  {
   "cell_type": "code",
   "execution_count": 2,
   "id": "ced7cccc",
   "metadata": {
    "deletable": false,
    "editable": false
   },
   "outputs": [
    {
     "name": "stderr",
     "output_type": "stream",
     "text": [
      "c:\\Users\\cj\\scoop\\apps\\anaconda3\\2024.02-1\\App\\envs\\data8-sp24\\Lib\\site-packages\\nbformat\\__init__.py:93: MissingIDFieldWarning: Code cell is missing an id field, this will become a hard error in future nbformat versions. You may want to use `normalize()` on your notebooks before validations (available since nbformat 5.1.4). Previous versions of nbformat are fixing this issue transparently, and will stop doing so in the future.\n",
      "  validate(nb)\n"
     ]
    }
   ],
   "source": [
    "# Initialize Otter\n",
    "import otter\n",
    "grader = otter.Notebook(\"project1.ipynb\")"
   ]
  },
  {
   "cell_type": "markdown",
   "id": "f6f8b71b",
   "metadata": {},
   "source": [
    "# Project 1: World Population and Poverty"
   ]
  },
  {
   "cell_type": "markdown",
   "id": "b6cd850d",
   "metadata": {},
   "source": [
    "In this project, you'll explore data from [Gapminder.org](http://gapminder.org), a website dedicated to providing a fact-based view of the world and how it has changed. That site includes several data visualizations and presentations, but also publishes the raw data that we will use in this project to recreate and extend some of their most famous visualizations.\n",
    "\n",
    "The Gapminder website collects data from many sources and compiles them into tables that describe many countries around the world. All of the data they aggregate are published in the [Systema Globalis](https://github.com/open-numbers/ddf--gapminder--systema_globalis/blob/master/README.md). Their goal is \"to compile all public statistics; Social, Economic and Environmental; into a comparable total dataset.\" All data sets in this project are copied directly from the Systema Globalis without any changes.\n",
    "\n",
    "This project is dedicated to [Hans Rosling](https://en.wikipedia.org/wiki/Hans_Rosling) (1948-2017), who championed the use of data to understand and prioritize global development challenges."
   ]
  },
  {
   "cell_type": "markdown",
   "id": "a144322c",
   "metadata": {},
   "source": [
    "### Logistics\n",
    "\n",
    "**Deadline.**  This project is due at **5:00pm PT on Friday 2/23**. Projects will be accepted up to 1 day (24 hours) late. Projects submitted fewer than 24 hours after the deadline will receive 80% credit. Projects submitted 48 hours or more after the deadline will receive no credit. It's **much** better to be early than late, so start working now.\n",
    "\n",
    "**Checkpoint.**  For full credit on the checkpoint, you must complete the questions up to the checkpoint, **pass all _public_ autograder tests** for those sections, and submit to the Gradescope Project 1 Checkpoint assignment by **5:00pm PT on Friday, 2/16**. <span style=\"color: #BC412B\">**The checkpoint is worth 5% of your entire project grade**</span>. After you've submitted the checkpoint, you may still change your project answers before the final project deadline - only your final submission, to the \"Project 1\" assignment, will be graded for correctness. You will have some lab time to work on these questions, but we recommend that you start the project before lab and leave time to finish the checkpoint afterward.\n",
    "\n",
    "**Partners.** You may work with one other partner; your partner must be from your assigned lab section. **<span style=\"color: #BC412B\">Only one partner should submit the project notebook to Gradescope.</span> If both partners submit, you will be docked 10% of your project grade. On Gradescope, the person who submits should also designate their partner so that both of you receive credit.** Once you submit, click into your submission, and there will be an option to Add Group Member in the top right corner. You may also reference [this walkthrough video](https://drive.google.com/file/d/1POtij6KECSBjCUeOC_F0Lt3ZmKN7LKIq/view?usp=sharing) on how to add partners on Gradescope.\n",
    "\n",
    "\n",
    "**Rules.** Don't share your code with anybody but your partner. You are welcome to discuss questions with other students, but don't share the answers. The experience of solving the problems in this project will prepare you for exams (and life). If someone asks you for the answer, resist! Instead, you can demonstrate how you would solve a similar problem.\n",
    "\n",
    "**Support.** You are not alone! Come to office hours, post on Ed, and talk to your classmates. If you want to ask about the details of your solution to a problem, make a private Ed post and the staff will respond. If you're ever feeling overwhelmed or don't know how to make progress, email your TA or tutor for help. You can find contact information for the staff on the [course website](https://www.data8.org/sp24/).\n",
    "\n",
    "**Tests.** <span style=\"color: #BC412B\">The tests that are given are **not comprehensive** and passing the tests for a question **does not** mean that you answered the question correctly.</span> Tests usually only check that your table has the correct column labels. However, more tests will be applied to verify the correctness of your submission in order to assign your final score, so be careful and check your work! You might want to create your own checks along the way to see if your answers make sense. Additionally, before you submit, make sure that none of your cells take a very long time to run (several minutes).\n",
    "\n",
    "**Free Response Questions:** Make sure that you put the answers to the written questions in the indicated cell we provide. **Every free response question should include an explanation** that adequately answers the question.\n",
    "\n",
    "**Tabular Thinking Guide:** Feel free to reference [Tabular Thinking Guide](https://drive.google.com/file/d/1NvbBECCBdI0Ku380oPcTUOcpjH3RI230/view) for extra guidance.\n",
    "\n",
    "**Advice.** Develop your answers incrementally. To perform a complicated table manipulation, break it up into steps, perform each step on a different line, give a new name to each result, and check that each intermediate result is what you expect. You can add any additional names or functions you want to the provided cells. Make sure that you are using distinct and meaningful variable names throughout the notebook. Along that line, **DO NOT** reuse the variable names that we use when we grade your answers. For example, in Question 1 of the Global Poverty section we ask you to assign an answer to `latest`. Do not reassign the variable name `latest` to anything else in your notebook, otherwise there is the chance that our tests grade against what `latest` was reassigned to.\n",
    "\n",
    "You are **never** restricted to using only one line of code to solve a question in this project or any others. Feel free to use intermediate variables and multiple lines as much as you would like!\n",
    "\n",
    "---\n",
    "\n",
    "To get started, load `datascience`, `numpy`, `plots`, and `otter`."
   ]
  },
  {
   "cell_type": "code",
   "execution_count": 3,
   "id": "248ef3b6",
   "metadata": {
    "deletable": false
   },
   "outputs": [],
   "source": [
    "# Run this cell to set up the notebook, but please don't change it. \n",
    "\n",
    "# These lines import the NumPy and Datascience modules.\n",
    "from datascience import *\n",
    "import numpy as np\n",
    "\n",
    "# These lines do some fancy plotting magic.\n",
    "%matplotlib inline\n",
    "import matplotlib.pyplot as plots\n",
    "plots.style.use('fivethirtyeight')\n",
    "\n",
    "from ipywidgets import interact, interactive, fixed, interact_manual\n",
    "import ipywidgets as widgets"
   ]
  },
  {
   "cell_type": "markdown",
   "id": "13a8a7b7",
   "metadata": {},
   "source": [
    "## 0. Hazards with `.show`\n",
    "\n",
    "As a heads up, please do not run the function `tbl.show()` in this assignment without an argument. For instance if you want to view a table, please type `tbl.show(10)` instead of `tbl.show()`. This may break your notebook and we cannot gaurantee what we will have the capacity to aid you in this. Please answer the question below, and set the value to `True` to confirm you have read this and agree.\n"
   ]
  },
  {
   "cell_type": "code",
   "execution_count": 4,
   "id": "baf9a4bf",
   "metadata": {
    "tags": []
   },
   "outputs": [],
   "source": [
    "i_wont_use_show_without_an_argument = True"
   ]
  },
  {
   "cell_type": "code",
   "execution_count": 5,
   "id": "b8da6375",
   "metadata": {
    "deletable": false,
    "editable": false
   },
   "outputs": [
    {
     "data": {
      "text/html": [
       "<p><strong><pre style='display: inline;'>q0</pre></strong> passed! 🍀</p>"
      ],
      "text/plain": [
       "q0 results: All test cases passed!"
      ]
     },
     "execution_count": 5,
     "metadata": {},
     "output_type": "execute_result"
    }
   ],
   "source": [
    "grader.check(\"q0\")"
   ]
  },
  {
   "cell_type": "markdown",
   "id": "0198fe1e",
   "metadata": {
    "deletable": false,
    "editable": false
   },
   "source": [
    "## 1. Global Population Growth\n"
   ]
  },
  {
   "cell_type": "markdown",
   "id": "161b9fe3",
   "metadata": {
    "deletable": false,
    "editable": false
   },
   "source": [
    "The global population of humans reached 1 billion around 1800, 3 billion around 1960, and 7 billion around 2011. The potential impact of population growth has concerned scientists, economists, and politicians alike.\n",
    "\n",
    "The United Nations Population Division estimates that the world population will likely continue to grow throughout the 21st century, but at a slower rate, perhaps reaching and stabilizing at 11 billion by 2100. However, the UN does not rule out scenarios of slower or more extreme growth. These projections help us understand long-term population processes, even if they leave out possible global catastrophic events like war or climate crises.\n",
    "\n",
    "<a href=\"http://www.pewresearch.org/fact-tank/2015/06/08/scientists-more-worried-than-public-about-worlds-growing-population/ft_15-06-04_popcount/\"> \n",
    " <img src=\"pew_population_projection.png\"/> \n",
    "</a>\n",
    "\n",
    "In this part of the project, we will examine some of the factors that influence population growth and how they have been changing over the years and around the world. There are two main sub-parts of this analysis.\n",
    "\n",
    "- First, we will examine the data for one country, Poland. We will see how factors such as life expectancy, fertility rate, and child mortality have changed over time in Poland, and how they are related to the rate of population growth.\n",
    "- Next, we will examine whether the changes we have observed for Poland are particular to that country or whether they reflect general patterns observable in other countries too. We will study aspects of world population growth and see how they have been changing.\n",
    "\n",
    "The first table we will consider contains the total population of each country over time. Run the cell below.\n"
   ]
  },
  {
   "cell_type": "code",
   "execution_count": 6,
   "id": "1c3c47b8",
   "metadata": {
    "deletable": false,
    "scrolled": true
   },
   "outputs": [
    {
     "data": {
      "text/html": [
       "<table border=\"1\" class=\"dataframe\">\n",
       "    <thead>\n",
       "        <tr>\n",
       "            <th>geo</th> <th>time</th> <th>population_total</th>\n",
       "        </tr>\n",
       "    </thead>\n",
       "    <tbody>\n",
       "        <tr>\n",
       "            <td>afg </td> <td>1800</td> <td>3280000         </td>\n",
       "        </tr>\n",
       "        <tr>\n",
       "            <td>afg </td> <td>1801</td> <td>3280000         </td>\n",
       "        </tr>\n",
       "        <tr>\n",
       "            <td>afg </td> <td>1802</td> <td>3280000         </td>\n",
       "        </tr>\n",
       "    </tbody>\n",
       "</table>\n",
       "<p>... (43534 rows omitted)</p>"
      ],
      "text/plain": [
       "<IPython.core.display.HTML object>"
      ]
     },
     "metadata": {},
     "output_type": "display_data"
    }
   ],
   "source": [
    "population = Table.read_table('population.csv').where(\"time\", are.below(2021))\n",
    "population.show(3)"
   ]
  },
  {
   "cell_type": "markdown",
   "id": "ab563b42",
   "metadata": {},
   "source": [
    "**Note:** The population csv file can also be found [here](https://github.com/open-numbers/ddf--gapminder--gapminder_world/blob/master/ddf--datapoints--population_total--by--geo--time.csv).\n"
   ]
  },
  {
   "cell_type": "markdown",
   "id": "eb99bad2",
   "metadata": {
    "deletable": false
   },
   "source": [
    "### Poland\n",
    "\n",
    "The Central European nation of Poland has undergone many changes over the centuries. In modern times it was (re)created as a democratic republic in 1919 after World War I. It was invaded and divided in World War II between Germany and the Soviet Union. War and the Holocaust had a devastating impact on its people. Poland was constituted in its current borders at the end of World War II (1945) under a communist government. In 1989, with the fall of the Soviet Union, Poland re-established itself as a democratic republic.\n",
    "\n",
    "In this section of the project, we will examine aspects of the population of Poland since 1900. Poland's borders have changed, so we will look at the population within its current (2012) borders.\n",
    "\n",
    "In the `population` table, the `geo` column contains three-letter codes established by the [International Organization for Standardization](https://en.wikipedia.org/wiki/International_Organization_for_Standardization) (ISO) in the [Alpha-3](https://en.wikipedia.org/wiki/ISO_3166-1_alpha-3#Current_codes) standard. **Use the Alpha-3 link to find the 3-letter code for Poland.**\n"
   ]
  },
  {
   "cell_type": "markdown",
   "id": "356daeb6",
   "metadata": {},
   "source": [
    "**Question 1.** Create a table called `p_pop` that has two columns labeled `time` and `population_total`. The first column should contain the years from 1900 through 2020 (including both 1900 and 2020) and the second should contain the population of Poland in each of those years.\n"
   ]
  },
  {
   "cell_type": "code",
   "execution_count": 7,
   "id": "d259be55",
   "metadata": {
    "deletable": false,
    "tags": []
   },
   "outputs": [
    {
     "data": {
      "text/html": [
       "<table border=\"1\" class=\"dataframe\">\n",
       "    <thead>\n",
       "        <tr>\n",
       "            <th>time</th> <th>population_total</th>\n",
       "        </tr>\n",
       "    </thead>\n",
       "    <tbody>\n",
       "        <tr>\n",
       "            <td>1900</td> <td>24340168        </td>\n",
       "        </tr>\n",
       "        <tr>\n",
       "            <td>1901</td> <td>24517983        </td>\n",
       "        </tr>\n",
       "        <tr>\n",
       "            <td>1902</td> <td>24694172        </td>\n",
       "        </tr>\n",
       "        <tr>\n",
       "            <td>1903</td> <td>24868705        </td>\n",
       "        </tr>\n",
       "        <tr>\n",
       "            <td>1904</td> <td>25044468        </td>\n",
       "        </tr>\n",
       "        <tr>\n",
       "            <td>1905</td> <td>25221471        </td>\n",
       "        </tr>\n",
       "        <tr>\n",
       "            <td>1906</td> <td>25399722        </td>\n",
       "        </tr>\n",
       "        <tr>\n",
       "            <td>1907</td> <td>25579229        </td>\n",
       "        </tr>\n",
       "        <tr>\n",
       "            <td>1908</td> <td>25760003        </td>\n",
       "        </tr>\n",
       "        <tr>\n",
       "            <td>1909</td> <td>25848341        </td>\n",
       "        </tr>\n",
       "    </tbody>\n",
       "</table>\n",
       "<p>... (111 rows omitted)</p>"
      ],
      "text/plain": [
       "time | population_total\n",
       "1900 | 24340168\n",
       "1901 | 24517983\n",
       "1902 | 24694172\n",
       "1903 | 24868705\n",
       "1904 | 25044468\n",
       "1905 | 25221471\n",
       "1906 | 25399722\n",
       "1907 | 25579229\n",
       "1908 | 25760003\n",
       "1909 | 25848341\n",
       "... (111 rows omitted)"
      ]
     },
     "execution_count": 7,
     "metadata": {},
     "output_type": "execute_result"
    }
   ],
   "source": [
    "p_pop = population.where('geo', are.equal_to('pol')).drop('geo').where('time', are.between_or_equal_to(1900, 2020))\n",
    "p_pop"
   ]
  },
  {
   "cell_type": "code",
   "execution_count": 8,
   "id": "71e4ebb5",
   "metadata": {
    "deletable": false,
    "editable": false
   },
   "outputs": [
    {
     "data": {
      "text/html": [
       "<p><strong><pre style='display: inline;'>q1_1</pre></strong> passed! 🚀</p>"
      ],
      "text/plain": [
       "q1_1 results: All test cases passed!"
      ]
     },
     "execution_count": 8,
     "metadata": {},
     "output_type": "execute_result"
    }
   ],
   "source": [
    "grader.check(\"q1_1\")"
   ]
  },
  {
   "cell_type": "markdown",
   "id": "3e345b03",
   "metadata": {
    "deletable": false
   },
   "source": [
    "Run the following cell to create a table called `p_five` that has the population of Poland every five years.\n"
   ]
  },
  {
   "cell_type": "code",
   "execution_count": 9,
   "id": "92a9f91c",
   "metadata": {
    "deletable": false
   },
   "outputs": [
    {
     "data": {
      "text/html": [
       "<table border=\"1\" class=\"dataframe\">\n",
       "    <thead>\n",
       "        <tr>\n",
       "            <th>time</th> <th>population_total</th>\n",
       "        </tr>\n",
       "    </thead>\n",
       "    <tbody>\n",
       "        <tr>\n",
       "            <td>1900</td> <td>24,340,168      </td>\n",
       "        </tr>\n",
       "        <tr>\n",
       "            <td>1905</td> <td>25,221,471      </td>\n",
       "        </tr>\n",
       "        <tr>\n",
       "            <td>1910</td> <td>25,844,639      </td>\n",
       "        </tr>\n",
       "    </tbody>\n",
       "</table>\n",
       "<p>... (22 rows omitted)</p>"
      ],
      "text/plain": [
       "<IPython.core.display.HTML object>"
      ]
     },
     "metadata": {},
     "output_type": "display_data"
    }
   ],
   "source": [
    "p_pop.set_format('population_total', NumberFormatter)\n",
    "\n",
    "fives = np.arange(1900, 2021, 5) # 1900, 1905, 1910, ...\n",
    "p_five = p_pop.sort('time').where('time', are.contained_in(fives))\n",
    "p_five.show(3)"
   ]
  },
  {
   "cell_type": "markdown",
   "id": "a9241a26",
   "metadata": {},
   "source": [
    "Run the following cell to visualize the population over time. Following the devastating effects of World War I and World War II, Poland's population increased steadily from 1950 to 2000 and then leveled off. In the following questions we'll investigate this period of population growth.\n"
   ]
  },
  {
   "cell_type": "code",
   "execution_count": 10,
   "id": "41988b92",
   "metadata": {},
   "outputs": [
    {
     "data": {
      "image/png": "[encoded data removed]",
      "text/plain": [
       "<Figure size 600x600 with 1 Axes>"
      ]
     },
     "metadata": {},
     "output_type": "display_data"
    }
   ],
   "source": [
    "p_five.plot(0, 1)"
   ]
  },
  {
   "cell_type": "markdown",
   "id": "63ce64c4",
   "metadata": {},
   "source": [
    "**Question 2.** Assign `initial` to an array that contains the population for every five year interval from **1900 to 2015** (inclusive). Then, assign `changed` to an array that contains the population for every five year interval from **1905 to 2020** (inclusive). The first array should include both 1900 and 2015, and the second array should include both 1905 and 2020. You should use the `p_five` table to create both arrays, by first filtering the table to only contain the relevant years.\n",
    "\n",
    "The annual growth rate for a time period is equal to:\n",
    "\n",
    "$$\\left(\\left(\\frac{\\text{Population at end of period}}{\\text{Population at start of period}}\\right)^{\\displaystyle\\frac{1}{\\text{number of years}}}\\right) -1$$\n",
    "\n",
    "We have provided the code below that uses `initial` and `changed` in order to add a column to `p_five` called `annual_growth`. **Don't worry about the calculation of the growth rates**; run the test below to test your solution.\n",
    "\n",
    "If you are interested in how we came up with the formula for growth rates, consult the [growth rates](https://inferentialthinking.com/chapters/03/2/1/Growth.html) section of the textbook.\n"
   ]
  },
  {
   "cell_type": "code",
   "execution_count": 11,
   "id": "ee9ce626",
   "metadata": {
    "tags": []
   },
   "outputs": [
    {
     "data": {
      "text/html": [
       "<table border=\"1\" class=\"dataframe\">\n",
       "    <thead>\n",
       "        <tr>\n",
       "            <th>time</th> <th>population_total</th> <th>annual_growth</th>\n",
       "        </tr>\n",
       "    </thead>\n",
       "    <tbody>\n",
       "        <tr>\n",
       "            <td>1900</td> <td>24,340,168      </td> <td>0.71%        </td>\n",
       "        </tr>\n",
       "        <tr>\n",
       "            <td>1905</td> <td>25,221,471      </td> <td>0.49%        </td>\n",
       "        </tr>\n",
       "        <tr>\n",
       "            <td>1910</td> <td>25,844,639      </td> <td>-0.87%       </td>\n",
       "        </tr>\n",
       "        <tr>\n",
       "            <td>1915</td> <td>24,739,041      </td> <td>-0.75%       </td>\n",
       "        </tr>\n",
       "        <tr>\n",
       "            <td>1920</td> <td>23,827,906      </td> <td>1.32%        </td>\n",
       "        </tr>\n",
       "        <tr>\n",
       "            <td>1925</td> <td>25,439,942      </td> <td>1.52%        </td>\n",
       "        </tr>\n",
       "        <tr>\n",
       "            <td>1930</td> <td>27,427,399      </td> <td>0.75%        </td>\n",
       "        </tr>\n",
       "        <tr>\n",
       "            <td>1935</td> <td>28,465,230      </td> <td>0.32%        </td>\n",
       "        </tr>\n",
       "        <tr>\n",
       "            <td>1940</td> <td>28,927,566      </td> <td>-1.58%       </td>\n",
       "        </tr>\n",
       "        <tr>\n",
       "            <td>1945</td> <td>26,713,772      </td> <td>-1.46%       </td>\n",
       "        </tr>\n",
       "    </tbody>\n",
       "</table>\n",
       "<p>... (14 rows omitted)</p>"
      ],
      "text/plain": [
       "time | population_total | annual_growth\n",
       "1900 | 24,340,168       | 0.71%\n",
       "1905 | 25,221,471       | 0.49%\n",
       "1910 | 25,844,639       | -0.87%\n",
       "1915 | 24,739,041       | -0.75%\n",
       "1920 | 23,827,906       | 1.32%\n",
       "1925 | 25,439,942       | 1.52%\n",
       "1930 | 27,427,399       | 0.75%\n",
       "1935 | 28,465,230       | 0.32%\n",
       "1940 | 28,927,566       | -1.58%\n",
       "1945 | 26,713,772       | -1.46%\n",
       "... (14 rows omitted)"
      ]
     },
     "execution_count": 11,
     "metadata": {},
     "output_type": "execute_result"
    }
   ],
   "source": [
    "initial = p_five.where('time', are.between_or_equal_to(1900, 2015)).column('population_total')\n",
    "changed = p_five.where('time', are.between_or_equal_to(1905, 2020)).column('population_total')\n",
    "\n",
    "p_1900_through_2015 = p_five.where('time', are.below_or_equal_to(2015)) \n",
    "p_five_growth = p_1900_through_2015.with_column('annual_growth', (changed/initial)**0.2-1)\n",
    "p_five_growth.set_format('annual_growth', PercentFormatter)"
   ]
  },
  {
   "cell_type": "code",
   "execution_count": 12,
   "id": "457a4887",
   "metadata": {
    "deletable": false,
    "editable": false
   },
   "outputs": [
    {
     "data": {
      "text/html": [
       "<p><strong><pre style='display: inline;'>q1_2</pre></strong> passed! 🌟</p>"
      ],
      "text/plain": [
       "q1_2 results: All test cases passed!"
      ]
     },
     "execution_count": 12,
     "metadata": {},
     "output_type": "execute_result"
    }
   ],
   "source": [
    "grader.check(\"q1_2\")"
   ]
  },
  {
   "cell_type": "markdown",
   "id": "acf9cabe",
   "metadata": {
    "deletable": false
   },
   "source": [
    "The annual growth rate in Poland has been declining since 1950, as shown in the table below.\n"
   ]
  },
  {
   "cell_type": "code",
   "execution_count": 13,
   "id": "6fbe88de",
   "metadata": {},
   "outputs": [
    {
     "data": {
      "text/html": [
       "<table border=\"1\" class=\"dataframe\">\n",
       "    <thead>\n",
       "        <tr>\n",
       "            <th>time</th> <th>population_total</th> <th>annual_growth</th>\n",
       "        </tr>\n",
       "    </thead>\n",
       "    <tbody>\n",
       "        <tr>\n",
       "            <td>1950</td> <td>24,824,007      </td> <td>1.90%        </td>\n",
       "        </tr>\n",
       "        <tr>\n",
       "            <td>1955</td> <td>27,269,742      </td> <td>1.66%        </td>\n",
       "        </tr>\n",
       "        <tr>\n",
       "            <td>1960</td> <td>29,614,201      </td> <td>1.15%        </td>\n",
       "        </tr>\n",
       "        <tr>\n",
       "            <td>1965</td> <td>31,360,903      </td> <td>0.80%        </td>\n",
       "        </tr>\n",
       "        <tr>\n",
       "            <td>1970</td> <td>32,639,262      </td> <td>0.80%        </td>\n",
       "        </tr>\n",
       "        <tr>\n",
       "            <td>1975</td> <td>33,970,730      </td> <td>0.91%        </td>\n",
       "        </tr>\n",
       "        <tr>\n",
       "            <td>1980</td> <td>35,539,723      </td> <td>0.88%        </td>\n",
       "        </tr>\n",
       "        <tr>\n",
       "            <td>1985</td> <td>37,133,860      </td> <td>0.44%        </td>\n",
       "        </tr>\n",
       "        <tr>\n",
       "            <td>1990</td> <td>37,960,193      </td> <td>0.26%        </td>\n",
       "        </tr>\n",
       "        <tr>\n",
       "            <td>1995</td> <td>38,458,642      </td> <td>0.05%        </td>\n",
       "        </tr>\n",
       "        <tr>\n",
       "            <td>2000</td> <td>38,556,699      </td> <td>-0.10%       </td>\n",
       "        </tr>\n",
       "        <tr>\n",
       "            <td>2005</td> <td>38,368,957      </td> <td>-0.02%       </td>\n",
       "        </tr>\n",
       "        <tr>\n",
       "            <td>2010</td> <td>38,329,784      </td> <td>-0.15%       </td>\n",
       "        </tr>\n",
       "        <tr>\n",
       "            <td>2015</td> <td>38,034,076      </td> <td>-0.10%       </td>\n",
       "        </tr>\n",
       "    </tbody>\n",
       "</table>"
      ],
      "text/plain": [
       "<IPython.core.display.HTML object>"
      ]
     },
     "metadata": {},
     "output_type": "display_data"
    }
   ],
   "source": [
    "# Run this cell to view annual growth rates in Poland since 1950.\n",
    "p_five_growth.where('time', are.above_or_equal_to(1950)).show()"
   ]
  },
  {
   "cell_type": "markdown",
   "id": "90b17331",
   "metadata": {},
   "source": [
    "Next, we'll try to understand what has changed in Poland that might explain the slowing population growth rate. Run the next cell to load three additional tables of measurements about countries over time.\n"
   ]
  },
  {
   "cell_type": "code",
   "execution_count": 14,
   "id": "11c481e7",
   "metadata": {
    "deletable": false
   },
   "outputs": [],
   "source": [
    "life_expectancy = Table.read_table('life_expectancy.csv').where('time', are.below(2021))\n",
    "child_mortality = Table.read_table('child_mortality.csv').relabel(2, 'child_mortality_under_5_per_1000_born').where('time', are.below(2021))\n",
    "fertility = Table.read_table('fertility.csv').where('time', are.below(2021))"
   ]
  },
  {
   "cell_type": "markdown",
   "id": "5de30717",
   "metadata": {
    "deletable": false,
    "editable": false
   },
   "source": [
    "The `life_expectancy` table contains a statistic that is often used to measure how long people live, called _life expectancy at birth_. This number, for a country in a given year, [does not measure how long babies born in that year are expected to live](http://blogs.worldbank.org/opendata/what-does-life-expectancy-birth-really-mean). Instead, it measures how long someone would live, on average, if the _mortality conditions_ in that year persisted throughout their lifetime. These \"mortality conditions\" describe what fraction of people for each age survived the year. So, it is a way of measuring the proportion of people that are staying alive, aggregated over different age groups in the population.\n"
   ]
  },
  {
   "cell_type": "markdown",
   "id": "3b960c92",
   "metadata": {},
   "source": [
    "Run the following cells below to see `life_expectancy`, `child_mortality`, and `fertility`. Refer back to these tables as they will be helpful for answering further questions!\n"
   ]
  },
  {
   "cell_type": "code",
   "execution_count": 15,
   "id": "25ed00eb",
   "metadata": {},
   "outputs": [
    {
     "data": {
      "text/html": [
       "<table border=\"1\" class=\"dataframe\">\n",
       "    <thead>\n",
       "        <tr>\n",
       "            <th>geo</th> <th>time</th> <th>life_expectancy_years</th>\n",
       "        </tr>\n",
       "    </thead>\n",
       "    <tbody>\n",
       "        <tr>\n",
       "            <td>afg </td> <td>1800</td> <td>28.21                </td>\n",
       "        </tr>\n",
       "        <tr>\n",
       "            <td>afg </td> <td>1801</td> <td>28.2                 </td>\n",
       "        </tr>\n",
       "        <tr>\n",
       "            <td>afg </td> <td>1802</td> <td>28.19                </td>\n",
       "        </tr>\n",
       "    </tbody>\n",
       "</table>\n",
       "<p>... (41247 rows omitted)</p>"
      ],
      "text/plain": [
       "<IPython.core.display.HTML object>"
      ]
     },
     "metadata": {},
     "output_type": "display_data"
    }
   ],
   "source": [
    "life_expectancy.show(3)"
   ]
  },
  {
   "cell_type": "code",
   "execution_count": 16,
   "id": "110544e5",
   "metadata": {},
   "outputs": [
    {
     "data": {
      "text/html": [
       "<table border=\"1\" class=\"dataframe\">\n",
       "    <thead>\n",
       "        <tr>\n",
       "            <th>geo</th> <th>time</th> <th>child_mortality_under_5_per_1000_born</th>\n",
       "        </tr>\n",
       "    </thead>\n",
       "    <tbody>\n",
       "        <tr>\n",
       "            <td>afg </td> <td>1800</td> <td>468.58                               </td>\n",
       "        </tr>\n",
       "        <tr>\n",
       "            <td>afg </td> <td>1801</td> <td>468.58                               </td>\n",
       "        </tr>\n",
       "        <tr>\n",
       "            <td>afg </td> <td>1802</td> <td>468.58                               </td>\n",
       "        </tr>\n",
       "    </tbody>\n",
       "</table>\n",
       "<p>... (41734 rows omitted)</p>"
      ],
      "text/plain": [
       "<IPython.core.display.HTML object>"
      ]
     },
     "metadata": {},
     "output_type": "display_data"
    }
   ],
   "source": [
    "child_mortality.show(3)"
   ]
  },
  {
   "cell_type": "code",
   "execution_count": 17,
   "id": "3c918d0c",
   "metadata": {},
   "outputs": [
    {
     "data": {
      "text/html": [
       "<table border=\"1\" class=\"dataframe\">\n",
       "    <thead>\n",
       "        <tr>\n",
       "            <th>geo</th> <th>time</th> <th>children_per_woman_total_fertility</th>\n",
       "        </tr>\n",
       "    </thead>\n",
       "    <tbody>\n",
       "        <tr>\n",
       "            <td>abw </td> <td>1800</td> <td>5.64                              </td>\n",
       "        </tr>\n",
       "        <tr>\n",
       "            <td>abw </td> <td>1801</td> <td>5.64                              </td>\n",
       "        </tr>\n",
       "        <tr>\n",
       "            <td>abw </td> <td>1802</td> <td>5.64                              </td>\n",
       "        </tr>\n",
       "    </tbody>\n",
       "</table>\n",
       "<p>... (44632 rows omitted)</p>"
      ],
      "text/plain": [
       "<IPython.core.display.HTML object>"
      ]
     },
     "metadata": {},
     "output_type": "display_data"
    }
   ],
   "source": [
    "fertility.show(3)"
   ]
  },
  {
   "cell_type": "markdown",
   "id": "589b8437",
   "metadata": {},
   "source": [
    "<!-- BEGIN QUESTION -->\n",
    "\n",
    "**Question 3.** Is population growing more slowly perhaps because people aren’t living as long? Use the `life_expectancy` table to draw a line graph with the years 1950 and later on the horizontal axis that shows how the _life expectancy at birth_ has changed in Poland.\n",
    "\n",
    "_Hint_: Make sure you filter the table properly; otherwise, the graph may look funky!\n"
   ]
  },
  {
   "cell_type": "code",
   "execution_count": 18,
   "id": "42808499",
   "metadata": {
    "deletable": false,
    "manual_grade": true,
    "manual_problem_id": "global_pop_3",
    "tags": []
   },
   "outputs": [
    {
     "data": {
      "image/png": "[encoded data removed]",
      "text/plain": [
       "<Figure size 600x600 with 1 Axes>"
      ]
     },
     "metadata": {},
     "output_type": "display_data"
    }
   ],
   "source": [
    "# Fill in code here\n",
    "pol_life_expectancy = life_expectancy.where('geo', are.equal_to('pol'))\n",
    "pol_life_expectancy.where('time', are.above_or_equal_to(1950)).plot('time', 'life_expectancy_years')"
   ]
  },
  {
   "cell_type": "markdown",
   "id": "66bf9495",
   "metadata": {},
   "source": [
    "<!-- END QUESTION -->\n",
    "\n",
    "<!-- BEGIN QUESTION -->\n",
    "\n",
    "**Question 4.** Assuming everything else stays the same, do the trends in life expectancy in the graph above directly explain why the population growth rate decreased since 1950 in Poland? Why or why not?\n"
   ]
  },
  {
   "cell_type": "markdown",
   "id": "b27f83f9",
   "metadata": {},
   "source": [
    "<!-- _Type your answer here, replacing this text._ -->\n",
    "**Answer 4.** The trends in life expectancy in the graph does not explain why the population growth rate decreased. Because the life expectancy has been increasing since 1950."
   ]
  },
  {
   "cell_type": "markdown",
   "id": "babbdb03",
   "metadata": {
    "deletable": false,
    "editable": false
   },
   "source": [
    "<!-- END QUESTION -->\n",
    "\n",
    "The `fertility` table contains a statistic that is often used to measure how many babies are being born, the _total fertility rate_. This number describes the [number of children a woman would have in her lifetime](https://www.measureevaluation.org/prh/rh_indicators/specific/fertility/total-fertility-rate), on average, if the current rates of birth by age of the mother persisted throughout her child bearing years, assuming she survived through age 49.\n"
   ]
  },
  {
   "cell_type": "markdown",
   "id": "25087db5",
   "metadata": {},
   "source": [
    "**Question 5.** Complete the function `fertility_over_time`. It takes two input arguments, the Alpha-3 code of a country (denoted as `country_code`) and a year to `start` from (denoted as start). It returns a two-column table with the column labels `Year` and `Children per woman`. These columns can be used to generate a line chart of the country’s fertility rate each year, starting from the year given by `start`. The plot should include the start year and all later years that appear in the fertility table.\n",
    "\n",
    "Then, determine the Alpha-3 code for **Poland**. The code at the very bottom for `poland_code` and the year `1950` are inputted to your `fertility_over_time` function. The function returns a table which we use in order to plot how Poland's fertility rate has changed since `1950`. Note that the function `fertility_over_time` should not return the plot itself – it returns a two column table. The expression that draws the line plot is provided for you; please don’t change it.\n",
    "\n",
    "_Hint_: Read about `tbl.relabeled` in the [Python Reference](https://www.data8.org/sp24/reference/) to rename columns.\n"
   ]
  },
  {
   "cell_type": "code",
   "execution_count": 19,
   "id": "a679a163",
   "metadata": {
    "deletable": false,
    "tags": []
   },
   "outputs": [
    {
     "data": {
      "text/html": [
       "<table border=\"1\" class=\"dataframe\">\n",
       "    <thead>\n",
       "        <tr>\n",
       "            <th>Year</th> <th>Children per woman</th>\n",
       "        </tr>\n",
       "    </thead>\n",
       "    <tbody>\n",
       "        <tr>\n",
       "            <td>1950</td> <td>3.6               </td>\n",
       "        </tr>\n",
       "        <tr>\n",
       "            <td>1951</td> <td>3.62              </td>\n",
       "        </tr>\n",
       "        <tr>\n",
       "            <td>1952</td> <td>3.64              </td>\n",
       "        </tr>\n",
       "        <tr>\n",
       "            <td>1953</td> <td>3.65              </td>\n",
       "        </tr>\n",
       "        <tr>\n",
       "            <td>1954</td> <td>3.64              </td>\n",
       "        </tr>\n",
       "        <tr>\n",
       "            <td>1955</td> <td>3.6               </td>\n",
       "        </tr>\n",
       "        <tr>\n",
       "            <td>1956</td> <td>3.55              </td>\n",
       "        </tr>\n",
       "        <tr>\n",
       "            <td>1957</td> <td>3.47              </td>\n",
       "        </tr>\n",
       "        <tr>\n",
       "            <td>1958</td> <td>3.37              </td>\n",
       "        </tr>\n",
       "        <tr>\n",
       "            <td>1959</td> <td>3.25              </td>\n",
       "        </tr>\n",
       "    </tbody>\n",
       "</table>\n",
       "<p>... (61 rows omitted)</p>"
      ],
      "text/plain": [
       "Year | Children per woman\n",
       "1950 | 3.6\n",
       "1951 | 3.62\n",
       "1952 | 3.64\n",
       "1953 | 3.65\n",
       "1954 | 3.64\n",
       "1955 | 3.6\n",
       "1956 | 3.55\n",
       "1957 | 3.47\n",
       "1958 | 3.37\n",
       "1959 | 3.25\n",
       "... (61 rows omitted)"
      ]
     },
     "execution_count": 19,
     "metadata": {},
     "output_type": "execute_result"
    }
   ],
   "source": [
    "def fertility_over_time(country_code, start):\n",
    "    \"\"\"Create a two-column table that describes a country's total fertility rate each year.\"\"\"\n",
    "    # It's a good idea (but not required) to use multiple lines in your solution.\n",
    "    fert_table = fertility.where('geo', are.equal_to(country_code)).where('time', are.above_or_equal_to(start))\n",
    "    return fert_table.drop('geo').relabeled('time', 'Year').relabeled('children_per_woman_total_fertility', 'Children per woman')\n",
    "\n",
    "\n",
    "poland_code = 'pol'\n",
    "fertility_over_time(poland_code, 1950)"
   ]
  },
  {
   "cell_type": "code",
   "execution_count": 20,
   "id": "ec91c592",
   "metadata": {
    "deletable": false,
    "editable": false
   },
   "outputs": [
    {
     "data": {
      "text/html": [
       "<p><strong><pre style='display: inline;'>q1_5</pre></strong> passed! 🍀</p>"
      ],
      "text/plain": [
       "q1_5 results: All test cases passed!"
      ]
     },
     "execution_count": 20,
     "metadata": {},
     "output_type": "execute_result"
    }
   ],
   "source": [
    "grader.check(\"q1_5\")"
   ]
  },
  {
   "cell_type": "markdown",
   "id": "d2f040e8",
   "metadata": {},
   "source": [
    "Plotting the fertility rate in Poland since 1950, we see a downward trend.\n"
   ]
  },
  {
   "cell_type": "code",
   "execution_count": 21,
   "id": "9c927af0",
   "metadata": {},
   "outputs": [
    {
     "data": {
      "image/png": "[encoded data removed]",
      "text/plain": [
       "<Figure size 600x600 with 1 Axes>"
      ]
     },
     "metadata": {},
     "output_type": "display_data"
    }
   ],
   "source": [
    "fertility_over_time(poland_code, 1950).plot(0, 1)"
   ]
  },
  {
   "cell_type": "markdown",
   "id": "c92c8faf",
   "metadata": {},
   "source": [
    "<!-- BEGIN QUESTION -->\n",
    "\n",
    "**Question 6.** Assuming everything else is constant, do the trends in fertility in the graph above help directly explain why the population growth rate decreased from 1950 to 2020 in Poland? Why or why not?\n"
   ]
  },
  {
   "cell_type": "markdown",
   "id": "8963927c",
   "metadata": {},
   "source": [
    "<!-- _Type your answer here, replacing this text._ -->\n",
    "**Answer 6.** Yes. Since everything else is considered constant, the decreasing fertility explains why the population growth rate decreased from 1960 to 2020 in Poland."
   ]
  },
  {
   "cell_type": "markdown",
   "id": "c3e58913",
   "metadata": {
    "deletable": false
   },
   "source": [
    "<!-- END QUESTION -->\n",
    "\n",
    "It has been [observed](https://www.ageing.ox.ac.uk/download/143) that lower fertility rates are often associated with lower child mortality rates. We can see if this association is evident in Poland by plotting the relationship between total fertility rate and [child mortality rate per 1000 children](https://en.wikipedia.org/wiki/Child_mortality).\n"
   ]
  },
  {
   "cell_type": "markdown",
   "id": "5dea43e4",
   "metadata": {},
   "source": [
    "**Question 7.** Create a table `poland_since_1950` that contains one row per year starting with 1950 and:\n",
    "\n",
    "- A column `Year` containing the year\n",
    "- A column `Children per woman` describing total fertility in Poland that year\n",
    "- A column `Child deaths per 1000 born` describing child mortality in Poland that year\n"
   ]
  },
  {
   "cell_type": "code",
   "execution_count": 22,
   "id": "22c5d168",
   "metadata": {
    "deletable": false,
    "scrolled": false,
    "tags": []
   },
   "outputs": [],
   "source": [
    "pol_fertility = fertility_over_time(poland_code, 1950)  # Try starting with the table you built already!\n",
    "# It's a good idea (but not required) to use multiple lines in your solution.\n",
    "pol_child_mortality = child_mortality.where('geo', are.equal_to(poland_code)).where('time', are.above_or_equal_to(1950))\n",
    "pol_fertility_and_child_mortality = pol_fertility.with_column('Child deaths per 1000 born', pol_child_mortality.column(2))\n",
    "# pol_fertility_and_child_mortality.show(10)\n",
    "# poland_since_1950 = pol_fertility.with_column('Child deaths per 1000 born', pol_child_mortality)\n",
    "poland_since_1950 = pol_fertility_and_child_mortality"
   ]
  },
  {
   "cell_type": "code",
   "execution_count": 23,
   "id": "8136e024",
   "metadata": {
    "deletable": false,
    "editable": false
   },
   "outputs": [
    {
     "data": {
      "text/html": [
       "<p><strong><pre style='display: inline;'>q1_7</pre></strong> passed! 🍀</p>"
      ],
      "text/plain": [
       "q1_7 results: All test cases passed!"
      ]
     },
     "execution_count": 23,
     "metadata": {},
     "output_type": "execute_result"
    }
   ],
   "source": [
    "grader.check(\"q1_7\")"
   ]
  },
  {
   "cell_type": "markdown",
   "id": "64c22bf2",
   "metadata": {},
   "source": [
    "Run the following cell to generate a scatter plot from the `poland_since_1950` table you created.\n",
    "\n",
    "The plot uses **color** to encode data about the `Year` column. The colors, ranging from dark blue to white, represent the passing of time between 1950 and 2020. For example, a point on the scatter plot representing data from the 1950s would appear as **dark blue** and a point from the 2010s would appear as **light blue**.\n"
   ]
  },
  {
   "cell_type": "code",
   "execution_count": 24,
   "id": "36f3f620",
   "metadata": {},
   "outputs": [
    {
     "data": {
      "image/png": "[encoded data removed]",
      "text/plain": [
       "<Figure size 600x600 with 2 Axes>"
      ]
     },
     "metadata": {},
     "output_type": "display_data"
    }
   ],
   "source": [
    "x_births = poland_since_1950.column(\"Children per woman\")\n",
    "y_deaths = poland_since_1950.column(\"Child deaths per 1000 born\")\n",
    "time_colors = poland_since_1950.column(\"Year\")\n",
    "\n",
    "plots.figure(figsize=(6,6))\n",
    "plots.scatter(x_births, y_deaths, c=time_colors, cmap=\"Blues_r\")\n",
    "plots.colorbar()                  \n",
    "plots.xlabel(\"Children per woman\")\n",
    "plots.ylabel(\"Child deaths per 1000 born\");"
   ]
  },
  {
   "cell_type": "markdown",
   "id": "5c164abe",
   "metadata": {},
   "source": [
    "<!-- BEGIN QUESTION -->\n",
    "\n",
    "**Question 8.** In one or two sentences, describe the association (if any) that is illustrated by this scatter plot. Does the diagram show any causal relation between between fertility and child mortality?\n"
   ]
  },
  {
   "cell_type": "markdown",
   "id": "e2aa6438",
   "metadata": {},
   "source": [
    "<!-- _Type your answer here, replacing this text._ -->\n",
    "**Answer 8.** Since 1950, the children per woman has been decreasing, with children death rate been falling. The falling death rate might be the reason why the ferility rate fell."
   ]
  },
  {
   "cell_type": "markdown",
   "id": "9dee040f",
   "metadata": {},
   "source": [
    "<!-- END QUESTION -->\n",
    "\n",
    "_Optional food for thought_: What other context or information you would need in order to better understand the factors affecting life expectancy, child mortality, and fertility?\n"
   ]
  },
  {
   "attachments": {},
   "cell_type": "markdown",
   "id": "0b3b264c",
   "metadata": {},
   "source": [
    "### Checkpoint (due Friday 2/16 by 5:00 PM PT)\n",
    "\n",
    "<img src=\"harvey.png\" alt=\"Close-up photo of a golden retriever looking at the camera\" width=\"300\"/>\n",
    "\n",
    "**WOOOHOO!!!** Harvey wants to congratulate you on reaching the checkpoint!\n",
    "\n",
    "**Run the following cells and submit to the Gradescope assignment corresponding to the checkpoint: <u>Project 1 Checkpoint</u>**\n",
    "\n",
    "**<span style=\"color: #BC412B\">Remember to add your project partner to your submission on Gradescope!</span>** <u>Only one partner should submit to Gradescope.</u>"
   ]
  },
  {
   "cell_type": "markdown",
   "id": "51017882",
   "metadata": {},
   "source": [
    "--- \n",
    "\n",
    "To double check your work, the cell below will rerun all of the autograder tests for Section 1. "
   ]
  },
  {
   "cell_type": "code",
   "execution_count": 25,
   "id": "43fe3a70",
   "metadata": {},
   "outputs": [
    {
     "data": {
      "text/html": [
       "<p><strong><pre style='display: inline;'>q1_1</pre></strong> passed! 🌟</p>"
      ],
      "text/plain": [
       "q1_1 results: All test cases passed!"
      ]
     },
     "metadata": {},
     "output_type": "display_data"
    },
    {
     "data": {
      "text/html": [
       "<p><strong><pre style='display: inline;'>q1_2</pre></strong> passed! 🌈</p>"
      ],
      "text/plain": [
       "q1_2 results: All test cases passed!"
      ]
     },
     "metadata": {},
     "output_type": "display_data"
    },
    {
     "data": {
      "text/html": [
       "<p><strong><pre style='display: inline;'>q1_5</pre></strong> passed! 🌟</p>"
      ],
      "text/plain": [
       "q1_5 results: All test cases passed!"
      ]
     },
     "metadata": {},
     "output_type": "display_data"
    },
    {
     "data": {
      "text/html": [
       "<p><strong><pre style='display: inline;'>q1_7</pre></strong> passed! 🎉</p>"
      ],
      "text/plain": [
       "q1_7 results: All test cases passed!"
      ]
     },
     "metadata": {},
     "output_type": "display_data"
    }
   ],
   "source": [
    "checkpoint_tests = [\"q1_1\", \"q1_2\", \"q1_5\", \"q1_7\"]\n",
    "for test in checkpoint_tests:\n",
    "    display(grader.check(test))"
   ]
  },
  {
   "cell_type": "markdown",
   "id": "14c45095",
   "metadata": {},
   "source": [
    "## Submission\n",
    "\n",
    "Make sure you have run all cells in your notebook in order before running the cell below, so that all images/graphs appear in the output. The cell below will generate a zip file for you to submit. **Please save before exporting!**"
   ]
  },
  {
   "cell_type": "code",
   "execution_count": 26,
   "id": "555fd9f8",
   "metadata": {},
   "outputs": [],
   "source": [
    "# Save your notebook first, then run this cell to export your submission.\n",
    "# grader.export(pdf=False)"
   ]
  },
  {
   "cell_type": "markdown",
   "id": "608e6ca4",
   "metadata": {
    "deletable": false
   },
   "source": [
    "### The World\n",
    "\n",
    "The changes observed in Poland can also be observed in many other countries: except during periods of extended war, famine, and social chaos, health services generally improve, life expectancy increases, and child mortality decreases. At the same time, the fertility rate often plummets, and where it does, the population growth rate decreases despite increasing longevity."
   ]
  },
  {
   "cell_type": "markdown",
   "id": "bbeefd70",
   "metadata": {
    "deletable": false
   },
   "source": [
    "Run the cell below to generate two overlaid histograms, one for 1962 and one for 2010, that show the distributions of total fertility rates for these two years among all 201 countries in the `fertility` table."
   ]
  },
  {
   "cell_type": "code",
   "execution_count": 27,
   "id": "0589e84b",
   "metadata": {
    "deletable": false
   },
   "outputs": [
    {
     "data": {
      "image/png": "[encoded data removed]",
      "text/plain": [
       "<Figure size 600x400 with 1 Axes>"
      ]
     },
     "metadata": {},
     "output_type": "display_data"
    }
   ],
   "source": [
    "Table().with_columns( \n",
    "    '1962', fertility.where('time', 1962).column(2),\n",
    "    '2010', fertility.where('time', 2010).column(2)\n",
    ").hist(bins=np.arange(0, 10, 0.5), unit='child per woman')\n",
    "_ = plots.xlabel('Children per woman')\n",
    "_ = plots.ylabel('Percent per children per woman')\n",
    "_ = plots.xticks(np.arange(10))"
   ]
  },
  {
   "cell_type": "markdown",
   "id": "de97dfe7",
   "metadata": {},
   "source": [
    "**Question 9.** Assign `fertility_statements` to an **array** of the numbers of each statement below that can be correctly inferred from these histograms.\n",
    "\n",
    "1. About the same number of countries had a fertility rate between 3.5 and 4.5 in both 1962 and 2010.\n",
    "1. In 1962, less than 20% of countries had a fertility rate below 3.\n",
    "1. At least half of countries had a fertility rate between 5 and 8 in 1962.\n",
    "1. In 2010, about 40% of countries had a fertility rate between 1.5 and 2.\n",
    "1. At least half of countries had a fertility rate below 3 in 2010.\n",
    "1. More countries had a fertility rate above 3 in 1962 than in 2010.\n"
   ]
  },
  {
   "cell_type": "code",
   "execution_count": 28,
   "id": "b2c814fe",
   "metadata": {
    "deletable": false,
    "tags": []
   },
   "outputs": [],
   "source": [
    "fertility_statements = make_array(3, 5, 6)"
   ]
  },
  {
   "cell_type": "code",
   "execution_count": 29,
   "id": "5af1e959",
   "metadata": {
    "deletable": false,
    "editable": false
   },
   "outputs": [
    {
     "data": {
      "text/html": [
       "<p><strong><pre style='display: inline;'>q1_9</pre></strong> passed! 🚀</p>"
      ],
      "text/plain": [
       "q1_9 results: All test cases passed!"
      ]
     },
     "execution_count": 29,
     "metadata": {},
     "output_type": "execute_result"
    }
   ],
   "source": [
    "grader.check(\"q1_9\")"
   ]
  },
  {
   "cell_type": "markdown",
   "id": "8b1a7429",
   "metadata": {},
   "source": [
    "<!-- BEGIN QUESTION -->\n",
    "\n",
    "**Question 10.** Draw a line plot of the **world population** from 1800 through 2020 (inclusive of both endpoints). The world population is the sum of all of the countries' populations. You should use the `population` table defined earlier in the project. \n"
   ]
  },
  {
   "cell_type": "code",
   "execution_count": 30,
   "id": "7919a966",
   "metadata": {
    "deletable": false,
    "manual_grade": true,
    "manual_problem_id": "global_pop_10",
    "tags": []
   },
   "outputs": [
    {
     "data": {
      "image/png": "[encoded data removed]",
      "text/plain": [
       "<Figure size 600x600 with 1 Axes>"
      ]
     },
     "metadata": {},
     "output_type": "display_data"
    }
   ],
   "source": [
    "# NOTE: The following code gives wrong plot due to int overflow, you may see negative numbers in the plot\n",
    "# populaiton.drop('geo').group('time', sum).plot('time', 'population_total sum')\n",
    "\n",
    "population_total_int64 = population.column('population_total').astype(np.int64)\n",
    "population_int64 = population.select('geo', 'time').with_column('population_total', population_total_int64)\n",
    "world_population = population_int64.group('time', np.sum)\n",
    "world_population.plot('time', 'population_total sum')"
   ]
  },
  {
   "attachments": {},
   "cell_type": "markdown",
   "id": "eb40206a",
   "metadata": {},
   "source": [
    "<!-- END QUESTION -->\n",
    "\n",
    "**Question 11.** Create a function `stats_for_year` that takes a `year` and returns a table of statistics. The table it returns should have four columns: `geo`, `population_total`, `children_per_woman_total_fertility`, and `child_mortality_under_5_per_1000_born`. Each row should contain one unique Alpha-3 country code and three statistics: population, fertility rate, and child mortality for that `year` from the `population`, `fertility` and `child_mortality` tables. Only include rows for which all three statistics are available for the country and year.\n",
    "\n",
    "In addition, restrict the result to country codes that appears in `big_50`, an array of the 50 most populous countries in 2020. This restriction will speed up computations later in the project.\n",
    "\n",
    "After you write `stats_for_year`, try calling `stats_for_year` on any year between 1960 and 2020. Try to understand the output of stats_for_year.\n",
    "\n",
    "*Hint*: The tests for this question are quite comprehensive, so if you pass the tests, your function is probably correct. However, without calling your function yourself and looking at the output, it will be very difficult to understand any problems you have, so try your best to write the function correctly and check that it works before you rely on the `grader` tests to confirm your work.\n",
    "\n",
    "*Hint*: What do all three tables have in common (pay attention to column names)?\n",
    "\n",
    "*Hint*: Create additional cells before directly writing the function.\n"
   ]
  },
  {
   "cell_type": "code",
   "execution_count": 31,
   "id": "27fb5277",
   "metadata": {
    "deletable": false,
    "tags": []
   },
   "outputs": [
    {
     "data": {
      "text/html": [
       "<table border=\"1\" class=\"dataframe\">\n",
       "    <thead>\n",
       "        <tr>\n",
       "            <th>geo</th> <th>population_total</th> <th>children_per_woman_total_fertility</th> <th>child_mortality_under_5_per_1000_born</th>\n",
       "        </tr>\n",
       "    </thead>\n",
       "    <tbody>\n",
       "        <tr>\n",
       "            <td>afg </td> <td>8996967         </td> <td>7.45                              </td> <td>356.9                                </td>\n",
       "        </tr>\n",
       "        <tr>\n",
       "            <td>ago </td> <td>5454938         </td> <td>7.48                              </td> <td>308.45                               </td>\n",
       "        </tr>\n",
       "        <tr>\n",
       "            <td>arg </td> <td>20481781        </td> <td>3.11                              </td> <td>73.28                                </td>\n",
       "        </tr>\n",
       "        <tr>\n",
       "            <td>bgd </td> <td>48013505        </td> <td>6.73                              </td> <td>260.24                               </td>\n",
       "        </tr>\n",
       "        <tr>\n",
       "            <td>bra </td> <td>72179235        </td> <td>6.21                              </td> <td>169.18                               </td>\n",
       "        </tr>\n",
       "        <tr>\n",
       "            <td>can </td> <td>17847404        </td> <td>3.88                              </td> <td>32.6                                 </td>\n",
       "        </tr>\n",
       "        <tr>\n",
       "            <td>chn </td> <td>660408054       </td> <td>3.99                              </td> <td>308.99                               </td>\n",
       "        </tr>\n",
       "        <tr>\n",
       "            <td>cod </td> <td>15248256        </td> <td>6                                 </td> <td>273.92                               </td>\n",
       "        </tr>\n",
       "        <tr>\n",
       "            <td>col </td> <td>16057714        </td> <td>6.81                              </td> <td>135.64                               </td>\n",
       "        </tr>\n",
       "        <tr>\n",
       "            <td>deu </td> <td>73414229        </td> <td>2.4                               </td> <td>40.47                                </td>\n",
       "        </tr>\n",
       "    </tbody>\n",
       "</table>\n",
       "<p>... (40 rows omitted)</p>"
      ],
      "text/plain": [
       "geo  | population_total | children_per_woman_total_fertility | child_mortality_under_5_per_1000_born\n",
       "afg  | 8996967          | 7.45                               | 356.9\n",
       "ago  | 5454938          | 7.48                               | 308.45\n",
       "arg  | 20481781         | 3.11                               | 73.28\n",
       "bgd  | 48013505         | 6.73                               | 260.24\n",
       "bra  | 72179235         | 6.21                               | 169.18\n",
       "can  | 17847404         | 3.88                               | 32.6\n",
       "chn  | 660408054        | 3.99                               | 308.99\n",
       "cod  | 15248256         | 6                                  | 273.92\n",
       "col  | 16057714         | 6.81                               | 135.64\n",
       "deu  | 73414229         | 2.4                                | 40.47\n",
       "... (40 rows omitted)"
      ]
     },
     "execution_count": 31,
     "metadata": {},
     "output_type": "execute_result"
    }
   ],
   "source": [
    "# We first create a population table that only includes the \n",
    "# 50 countries with the largest 2020 populations. We focus on \n",
    "# these 50 countries only so that plotting later will run faster.\n",
    "big_50 = population_int64.where('time', are.equal_to(2020)).sort(\"population_total\", descending=True).take(np.arange(50)).column('geo')\n",
    "population_of_big_50 = population_int64.where('time', are.above(1959)).where('geo', are.contained_in(big_50))\n",
    "\n",
    "def stats_for_year(year):\n",
    "    \"\"\"Return a table of the stats for each country that year.\"\"\"\n",
    "    p = population_of_big_50.where('time', are.equal_to(year)).drop('time')\n",
    "    f = fertility.where('time', are.equal_to(year)).drop('time')\n",
    "    c = child_mortality.where('time', are.equal_to(year)).drop('time')\n",
    "    return p.join('geo', f).join('geo', c)\n",
    "\n",
    "\n",
    "stats_for_year(1960)"
   ]
  },
  {
   "cell_type": "code",
   "execution_count": 32,
   "id": "bacdfb66",
   "metadata": {
    "deletable": false,
    "editable": false
   },
   "outputs": [
    {
     "data": {
      "text/html": [
       "<p><strong><pre style='display: inline;'>q1_11</pre></strong> passed! ✨</p>"
      ],
      "text/plain": [
       "q1_11 results: All test cases passed!"
      ]
     },
     "execution_count": 32,
     "metadata": {},
     "output_type": "execute_result"
    }
   ],
   "source": [
    "grader.check(\"q1_11\")"
   ]
  },
  {
   "cell_type": "markdown",
   "id": "3fa19ce7",
   "metadata": {},
   "source": [
    "**Question 12.** Create a table called `pop_by_decade` with two columns called `decade` and `population`, in this order. It has a row for each year that starts a decade, in increasing order starting with 1960 and ending with 2020. For example, 1960 is the start of the 1960's decade. The `population` column contains the total population of all countries included in the result of `stats_for_year(year)` for the first `year` of the decade. You should see that these countries contain most of the world's population.\n",
    "\n",
    "*Hint:* One approach is to define a function `pop_for_year` that computes this total population, then `apply` it to the `decade` column.  **Think about how you can use the `stats_for_year` function** from the previous question if you want to implement `pop_for_year`.\n",
    "\n",
    "This first test is just a sanity check for your helper function if you choose to use it. **You will not lose points for not implementing the function `pop_for_year`**.\n",
    "\n",
    "**Note:** The cell where you will generate the `pop_by_decade` table is below the cell where you can choose to define the helper function `pop_for_year`. You should define your `pop_by_decade` table in the cell that starts with the table `decades` being defined. \n"
   ]
  },
  {
   "cell_type": "code",
   "execution_count": 33,
   "id": "f61d10f8",
   "metadata": {
    "tags": []
   },
   "outputs": [],
   "source": [
    "def pop_for_year(year):\n",
    "    \"\"\"Return the total population for the specified year.\"\"\"\n",
    "    world_pop = np.sum(stats_for_year(year).column('population_total'))\n",
    "    return world_pop\n",
    "\n",
    "# NOTE: if the code below prints \"error\", there must be integer overflow. Uncomment and run it to check.\n",
    "\n",
    "# pop_for_year(1960)\n",
    "# for y in range(1960, 2020):\n",
    "#     if pop_for_year(y) < 0:\n",
    "#         print(\"error\")"
   ]
  },
  {
   "cell_type": "code",
   "execution_count": 34,
   "id": "501a09d9",
   "metadata": {
    "deletable": false,
    "editable": false
   },
   "outputs": [
    {
     "data": {
      "text/html": [
       "<p><strong><pre style='display: inline;'>q1_12_0</pre></strong> passed! 🎉</p>"
      ],
      "text/plain": [
       "q1_12_0 results: All test cases passed!"
      ]
     },
     "execution_count": 34,
     "metadata": {},
     "output_type": "execute_result"
    }
   ],
   "source": [
    "grader.check(\"q1_12_0\")"
   ]
  },
  {
   "cell_type": "markdown",
   "id": "19c28dc3",
   "metadata": {},
   "source": [
    "Now that you've defined your helper function (if you've chosen to do so), define the `pop_by_decade` table.\n"
   ]
  },
  {
   "cell_type": "code",
   "execution_count": 35,
   "id": "91e7b504",
   "metadata": {
    "deletable": false,
    "tags": []
   },
   "outputs": [
    {
     "data": {
      "text/html": [
       "<table border=\"1\" class=\"dataframe\">\n",
       "    <thead>\n",
       "        <tr>\n",
       "            <th>decade</th> <th>population</th>\n",
       "        </tr>\n",
       "    </thead>\n",
       "    <tbody>\n",
       "        <tr>\n",
       "            <td>1960  </td> <td>2,635,123,897</td>\n",
       "        </tr>\n",
       "        <tr>\n",
       "            <td>1970  </td> <td>3,221,457,416</td>\n",
       "        </tr>\n",
       "        <tr>\n",
       "            <td>1980  </td> <td>3,890,044,418</td>\n",
       "        </tr>\n",
       "        <tr>\n",
       "            <td>1990  </td> <td>4,656,339,803</td>\n",
       "        </tr>\n",
       "        <tr>\n",
       "            <td>2000  </td> <td>5,377,062,169</td>\n",
       "        </tr>\n",
       "        <tr>\n",
       "            <td>2010  </td> <td>6,064,674,132</td>\n",
       "        </tr>\n",
       "        <tr>\n",
       "            <td>2020  </td> <td>6,765,161,289</td>\n",
       "        </tr>\n",
       "    </tbody>\n",
       "</table>"
      ],
      "text/plain": [
       "decade | population\n",
       "1960   | 2,635,123,897\n",
       "1970   | 3,221,457,416\n",
       "1980   | 3,890,044,418\n",
       "1990   | 4,656,339,803\n",
       "2000   | 5,377,062,169\n",
       "2010   | 6,064,674,132\n",
       "2020   | 6,765,161,289"
      ]
     },
     "execution_count": 35,
     "metadata": {},
     "output_type": "execute_result"
    }
   ],
   "source": [
    "decades = Table().with_column('decade', np.arange(1960, 2021, 10))\n",
    "\n",
    "pop_by_decade = decades.with_column('population', decades.apply(pop_for_year, 'decade'))\n",
    "pop_by_decade.set_format(1, NumberFormatter)"
   ]
  },
  {
   "cell_type": "code",
   "execution_count": 36,
   "id": "bfef2b16",
   "metadata": {
    "deletable": false,
    "editable": false
   },
   "outputs": [
    {
     "data": {
      "text/html": [
       "<p><strong><pre style='display: inline;'>q1_12</pre></strong> passed! 🙌</p>"
      ],
      "text/plain": [
       "q1_12 results: All test cases passed!"
      ]
     },
     "execution_count": 36,
     "metadata": {},
     "output_type": "execute_result"
    }
   ],
   "source": [
    "grader.check(\"q1_12\")"
   ]
  },
  {
   "cell_type": "markdown",
   "id": "3265af89",
   "metadata": {
    "deletable": false,
    "editable": false
   },
   "source": [
    "The `countries` table describes various characteristics of countries. The `country` column contains the same codes as the `geo` column in each of the other data tables (`population`, `fertility`, and `child_mortality`). The `world_6region` column classifies each country into a region of the world. Run the cell below to inspect the data."
   ]
  },
  {
   "cell_type": "code",
   "execution_count": 37,
   "id": "af153689",
   "metadata": {},
   "outputs": [
    {
     "data": {
      "text/html": [
       "<table border=\"1\" class=\"dataframe\">\n",
       "    <thead>\n",
       "        <tr>\n",
       "            <th>country</th> <th>name</th> <th>world_6region</th>\n",
       "        </tr>\n",
       "    </thead>\n",
       "    <tbody>\n",
       "        <tr>\n",
       "            <td>afg    </td> <td>Afghanistan         </td> <td>south_asia              </td>\n",
       "        </tr>\n",
       "        <tr>\n",
       "            <td>ago    </td> <td>Angola              </td> <td>sub_saharan_africa      </td>\n",
       "        </tr>\n",
       "        <tr>\n",
       "            <td>alb    </td> <td>Albania             </td> <td>europe_central_asia     </td>\n",
       "        </tr>\n",
       "        <tr>\n",
       "            <td>and    </td> <td>Andorra             </td> <td>europe_central_asia     </td>\n",
       "        </tr>\n",
       "        <tr>\n",
       "            <td>are    </td> <td>United Arab Emirates</td> <td>middle_east_north_africa</td>\n",
       "        </tr>\n",
       "        <tr>\n",
       "            <td>arg    </td> <td>Argentina           </td> <td>america                 </td>\n",
       "        </tr>\n",
       "        <tr>\n",
       "            <td>arm    </td> <td>Armenia             </td> <td>europe_central_asia     </td>\n",
       "        </tr>\n",
       "        <tr>\n",
       "            <td>atg    </td> <td>Antigua and Barbuda </td> <td>america                 </td>\n",
       "        </tr>\n",
       "        <tr>\n",
       "            <td>aus    </td> <td>Australia           </td> <td>east_asia_pacific       </td>\n",
       "        </tr>\n",
       "        <tr>\n",
       "            <td>aut    </td> <td>Austria             </td> <td>europe_central_asia     </td>\n",
       "        </tr>\n",
       "    </tbody>\n",
       "</table>\n",
       "<p>... (187 rows omitted)</p>"
      ],
      "text/plain": [
       "country | name                 | world_6region\n",
       "afg     | Afghanistan          | south_asia\n",
       "ago     | Angola               | sub_saharan_africa\n",
       "alb     | Albania              | europe_central_asia\n",
       "and     | Andorra              | europe_central_asia\n",
       "are     | United Arab Emirates | middle_east_north_africa\n",
       "arg     | Argentina            | america\n",
       "arm     | Armenia              | europe_central_asia\n",
       "atg     | Antigua and Barbuda  | america\n",
       "aus     | Australia            | east_asia_pacific\n",
       "aut     | Austria              | europe_central_asia\n",
       "... (187 rows omitted)"
      ]
     },
     "execution_count": 37,
     "metadata": {},
     "output_type": "execute_result"
    }
   ],
   "source": [
    "countries = Table.read_table('countries.csv').where('country', are.contained_in(population.group('geo').column('geo')))\n",
    "countries.select('country', 'name', 'world_6region')"
   ]
  },
  {
   "cell_type": "markdown",
   "id": "26d30692",
   "metadata": {},
   "source": [
    "**Question 13.** Create a table called `region_counts`. It should contain two columns called `region` and `count`. The `region` column should contain regions of the world, and the `count` column should contain the number of countries in each region that appears in the result of `stats_for_year(2020)`. \n",
    "\n",
    "For example, one row would have `south_asia` as its `region` value and an integer as its `count` value: the number of large South Asian countries for which we have population, fertility, and child mortality numbers from 2020.\n",
    "\n",
    "*Hint*: You may have to relabel a column to name it `region`. \n"
   ]
  },
  {
   "cell_type": "code",
   "execution_count": 38,
   "id": "d0b29db6",
   "metadata": {
    "deletable": false,
    "tags": []
   },
   "outputs": [
    {
     "data": {
      "text/html": [
       "<table border=\"1\" class=\"dataframe\">\n",
       "    <thead>\n",
       "        <tr>\n",
       "            <th>region</th> <th>count</th>\n",
       "        </tr>\n",
       "    </thead>\n",
       "    <tbody>\n",
       "        <tr>\n",
       "            <td>america                 </td> <td>8    </td>\n",
       "        </tr>\n",
       "        <tr>\n",
       "            <td>east_asia_pacific       </td> <td>9    </td>\n",
       "        </tr>\n",
       "        <tr>\n",
       "            <td>europe_central_asia     </td> <td>10   </td>\n",
       "        </tr>\n",
       "        <tr>\n",
       "            <td>middle_east_north_africa</td> <td>7    </td>\n",
       "        </tr>\n",
       "        <tr>\n",
       "            <td>south_asia              </td> <td>5    </td>\n",
       "        </tr>\n",
       "        <tr>\n",
       "            <td>sub_saharan_africa      </td> <td>11   </td>\n",
       "        </tr>\n",
       "    </tbody>\n",
       "</table>"
      ],
      "text/plain": [
       "region                   | count\n",
       "america                  | 8\n",
       "east_asia_pacific        | 9\n",
       "europe_central_asia      | 10\n",
       "middle_east_north_africa | 7\n",
       "south_asia               | 5\n",
       "sub_saharan_africa       | 11"
      ]
     },
     "execution_count": 38,
     "metadata": {},
     "output_type": "execute_result"
    }
   ],
   "source": [
    "stats_for_2020 = stats_for_year(2020)\n",
    "region_counts = countries.where('country', are.contained_in(stats_for_2020.column('geo'))).select('world_6region', 'country').group('world_6region').relabeled('world_6region', 'region')\n",
    "region_counts"
   ]
  },
  {
   "cell_type": "code",
   "execution_count": 39,
   "id": "aaf16d05",
   "metadata": {
    "deletable": false,
    "editable": false
   },
   "outputs": [
    {
     "data": {
      "text/html": [
       "<p><strong><pre style='display: inline;'>q1_13</pre></strong> passed! 💯</p>"
      ],
      "text/plain": [
       "q1_13 results: All test cases passed!"
      ]
     },
     "execution_count": 39,
     "metadata": {},
     "output_type": "execute_result"
    }
   ],
   "source": [
    "grader.check(\"q1_13\")"
   ]
  },
  {
   "cell_type": "markdown",
   "id": "9e33e7d8",
   "metadata": {
    "deletable": false
   },
   "source": [
    "The following scatter diagram compares total fertility rate and child mortality rate for each country in 1960. The area of each dot represents the population of the country, and the color represents its region of the world. Run the cell. Do you think you can identify any of the dots?"
   ]
  },
  {
   "cell_type": "code",
   "execution_count": 40,
   "id": "c087ae6d",
   "metadata": {
    "deletable": false
   },
   "outputs": [
    {
     "data": {
      "image/png": "[encoded data removed]",
      "text/plain": [
       "<Figure size 500x500 with 1 Axes>"
      ]
     },
     "metadata": {},
     "output_type": "display_data"
    }
   ],
   "source": [
    "from functools import lru_cache as cache\n",
    "\n",
    "# This cache annotation makes sure that if the same year\n",
    "# is passed as an argument twice, the work of computing\n",
    "# the result is only carried out once.\n",
    "@cache(None)\n",
    "def stats_relabeled(year):\n",
    "    \"\"\"Relabeled and cached version of stats_for_year.\"\"\"\n",
    "    return stats_for_year(year).relabel(2, 'Children per woman').relabel(3, 'Child deaths per 1000 born')\n",
    "\n",
    "def fertility_vs_child_mortality(year):\n",
    "    \"\"\"Draw a color scatter diagram comparing child mortality and fertility.\"\"\"\n",
    "    with_region = stats_relabeled(year).join('geo', countries.select('country', 'world_6region'), 'country')\n",
    "    with_region.scatter(2, 3, sizes=1, group=4, s=500)\n",
    "    plots.xlim(0,10)\n",
    "    plots.ylim(-50, 500)\n",
    "    plots.title(year)\n",
    "    plots.show()\n",
    "\n",
    "fertility_vs_child_mortality(1960)"
   ]
  },
  {
   "cell_type": "markdown",
   "id": "8dc424a3",
   "metadata": {},
   "source": [
    "**Question 14.** Assign `scatter_statements` to an array of the numbers of each statement below that can be inferred from this scatter diagram for 1960. \n",
    "1. All countries in `europe_central_asia` had uniformly low fertility rates.\n",
    "1. The lowest child mortality rate of any country was from an `east_asia_pacific` country.\n",
    "1. Most countries had a fertility rate above 5.\n",
    "1. There was an association between child mortality and fertility.\n",
    "1. The two largest countries by population also had the two highest child mortality rates.\n"
   ]
  },
  {
   "cell_type": "code",
   "execution_count": 41,
   "id": "c327f0a4",
   "metadata": {
    "deletable": false,
    "tags": []
   },
   "outputs": [],
   "source": [
    "scatter_statements = make_array(1, 3, 4)"
   ]
  },
  {
   "cell_type": "code",
   "execution_count": 42,
   "id": "71f35e4d",
   "metadata": {
    "deletable": false,
    "editable": false
   },
   "outputs": [
    {
     "data": {
      "text/html": [
       "<p><strong><pre style='display: inline;'>q1_14</pre></strong> passed! 🙌</p>"
      ],
      "text/plain": [
       "q1_14 results: All test cases passed!"
      ]
     },
     "execution_count": 42,
     "metadata": {},
     "output_type": "execute_result"
    }
   ],
   "source": [
    "grader.check(\"q1_14\")"
   ]
  },
  {
   "cell_type": "markdown",
   "id": "27cc3d49",
   "metadata": {
    "deletable": false
   },
   "source": [
    "The result of the cell below is interactive. Drag the slider to the right to see how countries have changed over time. You’ll find that in terms of population growth, the divide between the countries of the global North and global South that existed in the 1960s has shrunk significantly. \n",
    "\n",
    "This shift in fertility rates is the reason that the global population is expected to grow more slowly in the 21st century than it did in the 19th and 20th centuries. Fertility rates change for reasons that include cultural patterns, better prospects for children surviving to adulthood, and family planning (such as contraception and women’s greater control over their reproduction).\n",
    "\n",
    "**Note:** Don't worry if a red warning pops up when running the cell below. You'll still be able to run the cell!"
   ]
  },
  {
   "cell_type": "code",
   "execution_count": 43,
   "id": "9e9a9ce2",
   "metadata": {
    "deletable": false,
    "scrolled": true
   },
   "outputs": [
    {
     "data": {
      "application/vnd.jupyter.widget-view+json": {
       "model_id": "2753b5ef725a4de9a7b39be2547dce6e",
       "version_major": 2,
       "version_minor": 0
      },
      "text/plain": [
       "interactive(children=(IntSlider(value=1960, description='year', max=2020, min=1960), Output()), _dom_classes=(…"
      ]
     },
     "metadata": {},
     "output_type": "display_data"
    }
   ],
   "source": [
    "_ = widgets.interact(fertility_vs_child_mortality, \n",
    "                     year=widgets.IntSlider(min=1960, max=2020, value=1960))"
   ]
  },
  {
   "cell_type": "markdown",
   "id": "23f841e6",
   "metadata": {
    "deletable": false,
    "editable": false
   },
   "source": [
    "Now is a great time to take a break and watch the same data presented by [Hans Rosling in a 2010 TEDx talk](https://www.gapminder.org/videos/reducing-child-mortality-a-moral-and-environmental-imperative) with smoother animation and witty commentary."
   ]
  },
  {
   "cell_type": "markdown",
   "id": "517454eb",
   "metadata": {},
   "source": [
    "When we look at population and fertility as data scientists, we need to learn about the experiences of people in real life, not just abstractly as data. We should also recognize that population studies have sometimes had political undercurrents. Those undercurrents have included population control, control of women’s reproduction, or fears of shifts between racial groups. To do better as data scientists, we should check our assumptions to avoid unthinkingly reproducing past patterns."
   ]
  },
  {
   "cell_type": "markdown",
   "id": "02a493e6",
   "metadata": {
    "deletable": false
   },
   "source": [
    "## 2. Global Poverty"
   ]
  },
  {
   "cell_type": "markdown",
   "id": "3d2b3c11",
   "metadata": {
    "deletable": false
   },
   "source": [
    "In 1800, 85% of the world's 1 billion people lived in [extreme poverty](https://en.wikipedia.org/wiki/Extreme_poverty), defined by the United Nations as \"a condition characterized by severe deprivation of basic human needs, including food, safe drinking water, sanitation facilities, health, shelter, education and information.\" At the time when the data in this project were gathered, a common definition of extreme poverty was a person living on less than \\$1.25 a day.\n",
    "\n",
    "In 2018, the proportion of people living in extreme poverty was estimated to be [about 9\\%](https://unstats.un.org/sdgs/report/2019/goal-01/). Although the world rate of extreme poverty has declined consistently for hundreds of years, the number of people living in extreme poverty is still over 600 million. The United Nations adopted an [ambitious goal](http://www.un.org/sustainabledevelopment/poverty/): \"By 2030, eradicate extreme poverty for all people everywhere.\"\n",
    "\n",
    "In this part of the project, we will examine some aspects of global poverty that might affect whether the goal is achievable. The causes of poverty are complex. They include global histories, such as colonialism, as well as factors such as health care, economics, and social inequality in each country."
   ]
  },
  {
   "cell_type": "markdown",
   "id": "51eb08a9",
   "metadata": {
    "deletable": false,
    "editable": false
   },
   "source": [
    "First, load the population and poverty rate by country and year and the country descriptions. While the `population` table has values for every recent year for many countries, the `poverty` table only includes certain years for each country in which a measurement of the rate of extreme poverty was available."
   ]
  },
  {
   "cell_type": "code",
   "execution_count": 44,
   "id": "7bf002c7",
   "metadata": {},
   "outputs": [
    {
     "data": {
      "text/html": [
       "<table border=\"1\" class=\"dataframe\">\n",
       "    <thead>\n",
       "        <tr>\n",
       "            <th>geo</th> <th>time</th> <th>extreme_poverty_percent_people_below_125_a_day</th>\n",
       "        </tr>\n",
       "    </thead>\n",
       "    <tbody>\n",
       "        <tr>\n",
       "            <td>alb </td> <td>1996</td> <td>0.2                                           </td>\n",
       "        </tr>\n",
       "        <tr>\n",
       "            <td>alb </td> <td>2002</td> <td>0.73                                          </td>\n",
       "        </tr>\n",
       "        <tr>\n",
       "            <td>alb </td> <td>2004</td> <td>0.53                                          </td>\n",
       "        </tr>\n",
       "    </tbody>\n",
       "</table>\n",
       "<p>... (1096 rows omitted)</p>"
      ],
      "text/plain": [
       "<IPython.core.display.HTML object>"
      ]
     },
     "metadata": {},
     "output_type": "display_data"
    }
   ],
   "source": [
    "population = Table.read_table('population.csv') \n",
    "countries = Table.read_table('countries.csv').where('country', are.contained_in(population.group('geo').column('geo')))\n",
    "poverty = Table.read_table('poverty.csv')\n",
    "poverty.show(3)"
   ]
  },
  {
   "cell_type": "markdown",
   "id": "23aee642",
   "metadata": {},
   "source": [
    "**Question 1.** Assign `latest_poverty` to a three-column table with one row for each country that appears in the `poverty` table. The first column should contain the 3-letter code for the country. The second column should contain the most recent year for which an extreme poverty rate is available for the country. The third column should contain the poverty rate in that year. **Do not change the last line, so that the labels of your table are set correctly.**\n",
    "\n",
    "*Hint*: think about how ```group``` works: it does a sequential search of the table (from top to bottom) and collects values in the array in the order in which they appear, and then applies a function to that array. The `first` function may be helpful, but you are not required to use it.\n"
   ]
  },
  {
   "cell_type": "code",
   "execution_count": 45,
   "id": "ebcbd2c2",
   "metadata": {
    "deletable": false,
    "tags": []
   },
   "outputs": [
    {
     "data": {
      "text/html": [
       "<table border=\"1\" class=\"dataframe\">\n",
       "    <thead>\n",
       "        <tr>\n",
       "            <th>geo</th> <th>time</th> <th>poverty_percent</th>\n",
       "        </tr>\n",
       "    </thead>\n",
       "    <tbody>\n",
       "        <tr>\n",
       "            <td>ago </td> <td>2009</td> <td>43.37          </td>\n",
       "        </tr>\n",
       "        <tr>\n",
       "            <td>alb </td> <td>2012</td> <td>0.46           </td>\n",
       "        </tr>\n",
       "        <tr>\n",
       "            <td>arg </td> <td>2011</td> <td>1.41           </td>\n",
       "        </tr>\n",
       "        <tr>\n",
       "            <td>arm </td> <td>2012</td> <td>1.75           </td>\n",
       "        </tr>\n",
       "        <tr>\n",
       "            <td>aus </td> <td>2003</td> <td>1.36           </td>\n",
       "        </tr>\n",
       "        <tr>\n",
       "            <td>aut </td> <td>2004</td> <td>0.34           </td>\n",
       "        </tr>\n",
       "        <tr>\n",
       "            <td>aze </td> <td>2008</td> <td>0.31           </td>\n",
       "        </tr>\n",
       "        <tr>\n",
       "            <td>bdi </td> <td>2006</td> <td>81.32          </td>\n",
       "        </tr>\n",
       "        <tr>\n",
       "            <td>bel </td> <td>2000</td> <td>0.5            </td>\n",
       "        </tr>\n",
       "        <tr>\n",
       "            <td>ben </td> <td>2012</td> <td>51.61          </td>\n",
       "        </tr>\n",
       "    </tbody>\n",
       "</table>\n",
       "<p>... (135 rows omitted)</p>"
      ],
      "text/plain": [
       "geo  | time | poverty_percent\n",
       "ago  | 2009 | 43.37\n",
       "alb  | 2012 | 0.46\n",
       "arg  | 2011 | 1.41\n",
       "arm  | 2012 | 1.75\n",
       "aus  | 2003 | 1.36\n",
       "aut  | 2004 | 0.34\n",
       "aze  | 2008 | 0.31\n",
       "bdi  | 2006 | 81.32\n",
       "bel  | 2000 | 0.5\n",
       "ben  | 2012 | 51.61\n",
       "... (135 rows omitted)"
      ]
     },
     "execution_count": 45,
     "metadata": {},
     "output_type": "execute_result"
    }
   ],
   "source": [
    "def first(values):\n",
    "    return values.item(0)\n",
    "def last(values):\n",
    "    return values.item(len(values)-1)\n",
    "latest_poverty = poverty.group('geo', last)\n",
    "latest_poverty = latest_poverty.relabeled(0, 'geo').relabeled(1, 'time').relabeled(2, 'poverty_percent') # You should *not* change this line.\n",
    "latest_poverty"
   ]
  },
  {
   "cell_type": "code",
   "execution_count": 46,
   "id": "d129ae35",
   "metadata": {
    "deletable": false,
    "editable": false
   },
   "outputs": [
    {
     "data": {
      "text/html": [
       "<p><strong><pre style='display: inline;'>q2_1</pre></strong> passed! 🙌</p>"
      ],
      "text/plain": [
       "q2_1 results: All test cases passed!"
      ]
     },
     "execution_count": 46,
     "metadata": {},
     "output_type": "execute_result"
    }
   ],
   "source": [
    "grader.check(\"q2_1\")"
   ]
  },
  {
   "cell_type": "markdown",
   "id": "8806d6bf",
   "metadata": {},
   "source": [
    "**Question 2.** Using both `latest_poverty` and `population`, create a four-column table called `recent_poverty_total` with one row for each country in `latest_poverty`. The four columns should have the following labels and contents:\n",
    "1. `geo` contains the 3-letter country code,\n",
    "1. `poverty_percent` contains the most recent poverty percent,\n",
    "1. `population_total` contains the population of the country in 2010,\n",
    "1. `poverty_total` contains the number of people in poverty **rounded to the nearest integer**, based on the 2010 population and most recent poverty rate.\n",
    "\n",
    "*Hint*: You are not required to use `poverty_and_pop`, and you are always welcome to add any additional names. "
   ]
  },
  {
   "cell_type": "code",
   "execution_count": 47,
   "id": "03d3ca4f",
   "metadata": {
    "deletable": false,
    "tags": []
   },
   "outputs": [
    {
     "data": {
      "text/html": [
       "<table border=\"1\" class=\"dataframe\">\n",
       "    <thead>\n",
       "        <tr>\n",
       "            <th>geo</th> <th>poverty_percent</th> <th>population_total</th> <th>poverty_total</th>\n",
       "        </tr>\n",
       "    </thead>\n",
       "    <tbody>\n",
       "        <tr>\n",
       "            <td>ago </td> <td>43.37          </td> <td>23356247        </td> <td>10129604     </td>\n",
       "        </tr>\n",
       "        <tr>\n",
       "            <td>alb </td> <td>0.46           </td> <td>2948029         </td> <td>13561        </td>\n",
       "        </tr>\n",
       "        <tr>\n",
       "            <td>arg </td> <td>1.41           </td> <td>40895751        </td> <td>576630       </td>\n",
       "        </tr>\n",
       "        <tr>\n",
       "            <td>arm </td> <td>1.75           </td> <td>2877314         </td> <td>50353        </td>\n",
       "        </tr>\n",
       "        <tr>\n",
       "            <td>aus </td> <td>1.36           </td> <td>22154687        </td> <td>301304       </td>\n",
       "        </tr>\n",
       "        <tr>\n",
       "            <td>aut </td> <td>0.34           </td> <td>8409945         </td> <td>28594        </td>\n",
       "        </tr>\n",
       "        <tr>\n",
       "            <td>aze </td> <td>0.31           </td> <td>9032465         </td> <td>28001        </td>\n",
       "        </tr>\n",
       "        <tr>\n",
       "            <td>bdi </td> <td>81.32          </td> <td>8675606         </td> <td>7055003      </td>\n",
       "        </tr>\n",
       "        <tr>\n",
       "            <td>bel </td> <td>0.5            </td> <td>10938735        </td> <td>54694        </td>\n",
       "        </tr>\n",
       "        <tr>\n",
       "            <td>ben </td> <td>51.61          </td> <td>9199254         </td> <td>4747735      </td>\n",
       "        </tr>\n",
       "    </tbody>\n",
       "</table>\n",
       "<p>... (135 rows omitted)</p>"
      ],
      "text/plain": [
       "geo  | poverty_percent | population_total | poverty_total\n",
       "ago  | 43.37           | 23356247         | 10129604\n",
       "alb  | 0.46            | 2948029          | 13561\n",
       "arg  | 1.41            | 40895751         | 576630\n",
       "arm  | 1.75            | 2877314          | 50353\n",
       "aus  | 1.36            | 22154687         | 301304\n",
       "aut  | 0.34            | 8409945          | 28594\n",
       "aze  | 0.31            | 9032465          | 28001\n",
       "bdi  | 81.32           | 8675606          | 7055003\n",
       "bel  | 0.5             | 10938735         | 54694\n",
       "ben  | 51.61           | 9199254          | 4747735\n",
       "... (135 rows omitted)"
      ]
     },
     "execution_count": 47,
     "metadata": {},
     "output_type": "execute_result"
    }
   ],
   "source": [
    "poverty_and_pop = population_int64.where('time', are.equal_to(2010)).drop('time').join('geo', latest_poverty.drop('time')).move_column('poverty_percent', 1)\n",
    "\n",
    "def calc_population_in_poverty(rate, pop):\n",
    "    return round(pop * rate / 100)\n",
    "\n",
    "\n",
    "recent_poverty_total = poverty_and_pop.with_column(\n",
    "    'poverty_total', poverty_and_pop.apply(calc_population_in_poverty, 'poverty_percent', 'population_total')\n",
    ")\n",
    "recent_poverty_total"
   ]
  },
  {
   "cell_type": "code",
   "execution_count": 48,
   "id": "892d82a0",
   "metadata": {
    "deletable": false,
    "editable": false
   },
   "outputs": [
    {
     "data": {
      "text/html": [
       "<p><strong><pre style='display: inline;'>q2_2</pre></strong> passed! 🚀</p>"
      ],
      "text/plain": [
       "q2_2 results: All test cases passed!"
      ]
     },
     "execution_count": 48,
     "metadata": {},
     "output_type": "execute_result"
    }
   ],
   "source": [
    "grader.check(\"q2_2\")"
   ]
  },
  {
   "cell_type": "markdown",
   "id": "d016f4ba",
   "metadata": {},
   "source": [
    "**Question 3.** Assign the name `poverty_percent` to the known percentage of the world’s 2010 population that were living in extreme poverty. Assume that the `poverty_total` numbers in the `recent_poverty_total` table describe **all** people in 2010 living in extreme poverty. You should get a number that is above the 2018 global estimate of 9%, since many country-specific poverty rates are older than 2018.\n",
    "\n",
    "*Hint*: The sum of the `population_total` column in the `recent_poverty_total` table is not the world population, because only a subset of the world's countries are included in the `recent_poverty_total` table (only some countries have known poverty rates). Use the `population` table to compute the world's 2010 total population.\n",
    "\n",
    "*Hint*: We are computing a percentage (value between 0 and 100), not a proportion (value between 0 and 1).\n"
   ]
  },
  {
   "cell_type": "code",
   "execution_count": 49,
   "id": "71927dfd",
   "metadata": {
    "deletable": false,
    "tags": []
   },
   "outputs": [
    {
     "data": {
      "text/plain": [
       "14.248865303997139"
      ]
     },
     "execution_count": 49,
     "metadata": {},
     "output_type": "execute_result"
    }
   ],
   "source": [
    "poverty_percent = sum(recent_poverty_total.column('poverty_total')) / sum(population_int64.where('time', are.equal_to(2010)).column('population_total')) * 100\n",
    "poverty_percent"
   ]
  },
  {
   "cell_type": "code",
   "execution_count": 50,
   "id": "a4f55bd9",
   "metadata": {
    "deletable": false,
    "editable": false
   },
   "outputs": [
    {
     "data": {
      "text/html": [
       "<p><strong><pre style='display: inline;'>q2_3</pre></strong> passed! 🍀</p>"
      ],
      "text/plain": [
       "q2_3 results: All test cases passed!"
      ]
     },
     "execution_count": 50,
     "metadata": {},
     "output_type": "execute_result"
    }
   ],
   "source": [
    "grader.check(\"q2_3\")"
   ]
  },
  {
   "cell_type": "markdown",
   "id": "1e548fbc",
   "metadata": {
    "deletable": false,
    "editable": false
   },
   "source": [
    "The `countries` table includes not only the name and region of countries, but also their positions on the globe."
   ]
  },
  {
   "cell_type": "code",
   "execution_count": 51,
   "id": "d1d0bea4",
   "metadata": {
    "deletable": false,
    "editable": false
   },
   "outputs": [
    {
     "data": {
      "text/html": [
       "<table border=\"1\" class=\"dataframe\">\n",
       "    <thead>\n",
       "        <tr>\n",
       "            <th>country</th> <th>name</th> <th>world_4region</th> <th>latitude</th> <th>longitude</th>\n",
       "        </tr>\n",
       "    </thead>\n",
       "    <tbody>\n",
       "        <tr>\n",
       "            <td>afg    </td> <td>Afghanistan         </td> <td>asia         </td> <td>33      </td> <td>66       </td>\n",
       "        </tr>\n",
       "        <tr>\n",
       "            <td>ago    </td> <td>Angola              </td> <td>africa       </td> <td>-12.5   </td> <td>18.5     </td>\n",
       "        </tr>\n",
       "        <tr>\n",
       "            <td>alb    </td> <td>Albania             </td> <td>europe       </td> <td>41      </td> <td>20       </td>\n",
       "        </tr>\n",
       "        <tr>\n",
       "            <td>and    </td> <td>Andorra             </td> <td>europe       </td> <td>42.5078 </td> <td>1.52109  </td>\n",
       "        </tr>\n",
       "        <tr>\n",
       "            <td>are    </td> <td>United Arab Emirates</td> <td>asia         </td> <td>23.75   </td> <td>54.5     </td>\n",
       "        </tr>\n",
       "        <tr>\n",
       "            <td>arg    </td> <td>Argentina           </td> <td>americas     </td> <td>-34     </td> <td>-64      </td>\n",
       "        </tr>\n",
       "        <tr>\n",
       "            <td>arm    </td> <td>Armenia             </td> <td>europe       </td> <td>40.25   </td> <td>45       </td>\n",
       "        </tr>\n",
       "        <tr>\n",
       "            <td>atg    </td> <td>Antigua and Barbuda </td> <td>americas     </td> <td>17.05   </td> <td>-61.8    </td>\n",
       "        </tr>\n",
       "        <tr>\n",
       "            <td>aus    </td> <td>Australia           </td> <td>asia         </td> <td>-25     </td> <td>135      </td>\n",
       "        </tr>\n",
       "        <tr>\n",
       "            <td>aut    </td> <td>Austria             </td> <td>europe       </td> <td>47.3333 </td> <td>13.3333  </td>\n",
       "        </tr>\n",
       "    </tbody>\n",
       "</table>\n",
       "<p>... (187 rows omitted)</p>"
      ],
      "text/plain": [
       "country | name                 | world_4region | latitude | longitude\n",
       "afg     | Afghanistan          | asia          | 33       | 66\n",
       "ago     | Angola               | africa        | -12.5    | 18.5\n",
       "alb     | Albania              | europe        | 41       | 20\n",
       "and     | Andorra              | europe        | 42.5078  | 1.52109\n",
       "are     | United Arab Emirates | asia          | 23.75    | 54.5\n",
       "arg     | Argentina            | americas      | -34      | -64\n",
       "arm     | Armenia              | europe        | 40.25    | 45\n",
       "atg     | Antigua and Barbuda  | americas      | 17.05    | -61.8\n",
       "aus     | Australia            | asia          | -25      | 135\n",
       "aut     | Austria              | europe        | 47.3333  | 13.3333\n",
       "... (187 rows omitted)"
      ]
     },
     "execution_count": 51,
     "metadata": {},
     "output_type": "execute_result"
    }
   ],
   "source": [
    "countries.select('country', 'name', 'world_4region', 'latitude', 'longitude')"
   ]
  },
  {
   "cell_type": "markdown",
   "id": "ae5416e0",
   "metadata": {},
   "source": [
    "**Question 4.** Using both `countries` and `recent_poverty_total`, create a five-column table called `poverty_map` with one row for every country in `recent_poverty_total`.  The five columns should have the following labels and contents, in this order:\n",
    "1. `latitude` contains the country's latitude,\n",
    "1. `longitude` contains the country's longitude,\n",
    "1. `name` contains the country's name,\n",
    "1. `region` contains the country's region from the `world_4region` column of `countries`,\n",
    "1. `poverty_total` contains the country's poverty total.\n"
   ]
  },
  {
   "cell_type": "code",
   "execution_count": 52,
   "id": "2edee950",
   "metadata": {
    "deletable": false,
    "tags": []
   },
   "outputs": [
    {
     "data": {
      "text/html": [
       "<table border=\"1\" class=\"dataframe\">\n",
       "    <thead>\n",
       "        <tr>\n",
       "            <th>latitude</th> <th>longitude</th> <th>name</th> <th>region</th> <th>poverty_total</th>\n",
       "        </tr>\n",
       "    </thead>\n",
       "    <tbody>\n",
       "        <tr>\n",
       "            <td>-12.5   </td> <td>18.5     </td> <td>Angola    </td> <td>africa  </td> <td>10129604     </td>\n",
       "        </tr>\n",
       "        <tr>\n",
       "            <td>41      </td> <td>20       </td> <td>Albania   </td> <td>europe  </td> <td>13561        </td>\n",
       "        </tr>\n",
       "        <tr>\n",
       "            <td>-34     </td> <td>-64      </td> <td>Argentina </td> <td>americas</td> <td>576630       </td>\n",
       "        </tr>\n",
       "        <tr>\n",
       "            <td>40.25   </td> <td>45       </td> <td>Armenia   </td> <td>europe  </td> <td>50353        </td>\n",
       "        </tr>\n",
       "        <tr>\n",
       "            <td>-25     </td> <td>135      </td> <td>Australia </td> <td>asia    </td> <td>301304       </td>\n",
       "        </tr>\n",
       "        <tr>\n",
       "            <td>47.3333 </td> <td>13.3333  </td> <td>Austria   </td> <td>europe  </td> <td>28594        </td>\n",
       "        </tr>\n",
       "        <tr>\n",
       "            <td>40.5    </td> <td>47.5     </td> <td>Azerbaijan</td> <td>europe  </td> <td>28001        </td>\n",
       "        </tr>\n",
       "        <tr>\n",
       "            <td>-3.5    </td> <td>30       </td> <td>Burundi   </td> <td>africa  </td> <td>7055003      </td>\n",
       "        </tr>\n",
       "        <tr>\n",
       "            <td>50.75   </td> <td>4.5      </td> <td>Belgium   </td> <td>europe  </td> <td>54694        </td>\n",
       "        </tr>\n",
       "        <tr>\n",
       "            <td>9.5     </td> <td>2.25     </td> <td>Benin     </td> <td>africa  </td> <td>4747735      </td>\n",
       "        </tr>\n",
       "    </tbody>\n",
       "</table>\n",
       "<p>... (135 rows omitted)</p>"
      ],
      "text/plain": [
       "<IPython.core.display.HTML object>"
      ]
     },
     "metadata": {},
     "output_type": "display_data"
    }
   ],
   "source": [
    "poverty_map = countries.select('country', 'name', 'world_4region', 'latitude', 'longitude').relabeled('country', 'geo').join('geo', recent_poverty_total.drop('poverty_percent', 'population_total')).drop('geo').relabeled('world_4region', 'region').move_column('name', 3).move_column('region', 3)\n",
    "poverty_map.show(10)"
   ]
  },
  {
   "cell_type": "code",
   "execution_count": 53,
   "id": "f1c325d4",
   "metadata": {
    "deletable": false,
    "editable": false
   },
   "outputs": [
    {
     "data": {
      "text/html": [
       "<p><strong><pre style='display: inline;'>q2_4</pre></strong> passed! ✨</p>"
      ],
      "text/plain": [
       "q2_4 results: All test cases passed!"
      ]
     },
     "execution_count": 53,
     "metadata": {},
     "output_type": "execute_result"
    }
   ],
   "source": [
    "grader.check(\"q2_4\")"
   ]
  },
  {
   "cell_type": "markdown",
   "id": "4ced447f",
   "metadata": {
    "deletable": false,
    "editable": false
   },
   "source": [
    "Run the cell below to draw a map of the world in which the areas of circles represent the number of people living in extreme poverty. Double-click on the map to zoom in.\n",
    "\n",
    "> ***Note:*** If the cell below isn't loading, you can view the output [here](https://github.jonathanferrari.com/static/poverty_map.html)"
   ]
  },
  {
   "cell_type": "code",
   "execution_count": 54,
   "id": "2ee6dcbd",
   "metadata": {
    "deletable": false,
    "editable": false,
    "scrolled": true
   },
   "outputs": [
    {
     "data": {
      "text/html": [
       "<div style=\"width:100%;\"><div style=\"position:relative;width:100%;height:0;padding-bottom:60%;\"><span style=\"color:#565656\">Make this Notebook Trusted to load map: File -> Trust Notebook</span><iframe srcdoc=\"&lt;!DOCTYPE html&gt;\n",
       "&lt;html&gt;\n",
       "&lt;head&gt;\n",
       "    \n",
       "    &lt;meta http-equiv=&quot;content-type&quot; content=&quot;text/html; charset=UTF-8&quot; /&gt;\n",
       "    \n",
       "        &lt;script&gt;\n",
       "            L_NO_TOUCH = false;\n",
       "            L_DISABLE_3D = false;\n",
       "        &lt;/script&gt;\n",
       "    \n",
       "    &lt;style&gt;html, body {width: 100%;height: 100%;margin: 0;padding: 0;}&lt;/style&gt;\n",
       "    &lt;style&gt;#map {position:absolute;top:0;bottom:0;right:0;left:0;}&lt;/style&gt;\n",
       "    &lt;script src=&quot;https://cdn.jsdelivr.net/npm/leaflet@1.9.3/dist/leaflet.js&quot;&gt;&lt;/script&gt;\n",
       "    &lt;script src=&quot;https://code.jquery.com/jquery-3.7.1.min.js&quot;&gt;&lt;/script&gt;\n",
       "    &lt;script src=&quot;https://cdn.jsdelivr.net/npm/bootstrap@5.2.2/dist/js/bootstrap.bundle.min.js&quot;&gt;&lt;/script&gt;\n",
       "    &lt;script src=&quot;https://cdnjs.cloudflare.com/ajax/libs/Leaflet.awesome-markers/2.0.2/leaflet.awesome-markers.js&quot;&gt;&lt;/script&gt;\n",
       "    &lt;link rel=&quot;stylesheet&quot; href=&quot;https://cdn.jsdelivr.net/npm/leaflet@1.9.3/dist/leaflet.css&quot;/&gt;\n",
       "    &lt;link rel=&quot;stylesheet&quot; href=&quot;https://cdn.jsdelivr.net/npm/bootstrap@5.2.2/dist/css/bootstrap.min.css&quot;/&gt;\n",
       "    &lt;link rel=&quot;stylesheet&quot; href=&quot;https://netdna.bootstrapcdn.com/bootstrap/3.0.0/css/bootstrap.min.css&quot;/&gt;\n",
       "    &lt;link rel=&quot;stylesheet&quot; href=&quot;https://cdn.jsdelivr.net/npm/@fortawesome/fontawesome-free@6.2.0/css/all.min.css&quot;/&gt;\n",
       "    &lt;link rel=&quot;stylesheet&quot; href=&quot;https://cdnjs.cloudflare.com/ajax/libs/Leaflet.awesome-markers/2.0.2/leaflet.awesome-markers.css&quot;/&gt;\n",
       "    &lt;link rel=&quot;stylesheet&quot; href=&quot;https://cdn.jsdelivr.net/gh/python-visualization/folium/folium/templates/leaflet.awesome.rotate.min.css&quot;/&gt;\n",
       "    \n",
       "            &lt;meta name=&quot;viewport&quot; content=&quot;width=device-width,\n",
       "                initial-scale=1.0, maximum-scale=1.0, user-scalable=no&quot; /&gt;\n",
       "            &lt;style&gt;\n",
       "                #map_255fb209e9c02195a79cde7bbbc19ad7 {\n",
       "                    position: relative;\n",
       "                    width: 960.0px;\n",
       "                    height: 500.0px;\n",
       "                    left: 0.0%;\n",
       "                    top: 0.0%;\n",
       "                }\n",
       "                .leaflet-container { font-size: 1rem; }\n",
       "            &lt;/style&gt;\n",
       "        \n",
       "&lt;/head&gt;\n",
       "&lt;body&gt;\n",
       "    \n",
       "    \n",
       "            &lt;div class=&quot;folium-map&quot; id=&quot;map_255fb209e9c02195a79cde7bbbc19ad7&quot; &gt;&lt;/div&gt;\n",
       "        \n",
       "&lt;/body&gt;\n",
       "&lt;script&gt;\n",
       "    \n",
       "    \n",
       "            var map_255fb209e9c02195a79cde7bbbc19ad7 = L.map(\n",
       "                &quot;map_255fb209e9c02195a79cde7bbbc19ad7&quot;,\n",
       "                {\n",
       "                    center: [15.0, 32.17871],\n",
       "                    crs: L.CRS.EPSG3857,\n",
       "                    zoom: 1,\n",
       "                    zoomControl: true,\n",
       "                    preferCanvas: false,\n",
       "                    clusteredMarker: false,\n",
       "                    includeColorScaleOutliers: true,\n",
       "                    radiusInMeters: false,\n",
       "                }\n",
       "            );\n",
       "\n",
       "            \n",
       "\n",
       "        \n",
       "    \n",
       "            var tile_layer_d8f5463e1e5e256da971d0a485b151f2 = L.tileLayer(\n",
       "                &quot;https://tile.openstreetmap.org/{z}/{x}/{y}.png&quot;,\n",
       "                {&quot;attribution&quot;: &quot;\\u0026copy; \\u003ca href=\\&quot;https://www.openstreetmap.org/copyright\\&quot;\\u003eOpenStreetMap\\u003c/a\\u003e contributors&quot;, &quot;detectRetina&quot;: false, &quot;maxNativeZoom&quot;: 19, &quot;maxZoom&quot;: 19, &quot;minZoom&quot;: -1, &quot;noWrap&quot;: false, &quot;opacity&quot;: 1, &quot;subdomains&quot;: &quot;abc&quot;, &quot;tms&quot;: false}\n",
       "            );\n",
       "        \n",
       "    \n",
       "            tile_layer_d8f5463e1e5e256da971d0a485b151f2.addTo(map_255fb209e9c02195a79cde7bbbc19ad7);\n",
       "        \n",
       "    \n",
       "            var circle_marker_95b9d539722745170bf47cafd3671c70 = L.circleMarker(\n",
       "                [-12.5, 18.5],\n",
       "                {&quot;bubblingMouseEvents&quot;: true, &quot;color&quot;: &quot;blue&quot;, &quot;dashArray&quot;: null, &quot;dashOffset&quot;: null, &quot;fill&quot;: true, &quot;fillColor&quot;: &quot;blue&quot;, &quot;fillOpacity&quot;: 0.2, &quot;fillRule&quot;: &quot;evenodd&quot;, &quot;lineCap&quot;: &quot;round&quot;, &quot;lineJoin&quot;: &quot;round&quot;, &quot;opacity&quot;: 1.0, &quot;radius&quot;: 17.956483776972792, &quot;stroke&quot;: true, &quot;weight&quot;: 3}\n",
       "            ).addTo(map_255fb209e9c02195a79cde7bbbc19ad7);\n",
       "        \n",
       "    \n",
       "        var popup_0891582aba9c4dfee450429b444b5609 = L.popup({&quot;maxWidth&quot;: &quot;100%&quot;});\n",
       "\n",
       "        \n",
       "            \n",
       "                var html_36d6dc4ab15d71c90e1a3ef9f66ca255 = $(`&lt;div id=&quot;html_36d6dc4ab15d71c90e1a3ef9f66ca255&quot; style=&quot;width: 100.0%; height: 100.0%;&quot;&gt;Angola&lt;/div&gt;`)[0];\n",
       "                popup_0891582aba9c4dfee450429b444b5609.setContent(html_36d6dc4ab15d71c90e1a3ef9f66ca255);\n",
       "            \n",
       "        \n",
       "\n",
       "        circle_marker_95b9d539722745170bf47cafd3671c70.bindPopup(popup_0891582aba9c4dfee450429b444b5609)\n",
       "        ;\n",
       "\n",
       "        \n",
       "    \n",
       "    \n",
       "            var circle_marker_942cefeac4fe88b2be9029c223f71665 = L.circleMarker(\n",
       "                [41.0, 20.0],\n",
       "                {&quot;bubblingMouseEvents&quot;: true, &quot;color&quot;: &quot;black&quot;, &quot;dashArray&quot;: null, &quot;dashOffset&quot;: null, &quot;fill&quot;: true, &quot;fillColor&quot;: &quot;black&quot;, &quot;fillOpacity&quot;: 0.2, &quot;fillRule&quot;: &quot;evenodd&quot;, &quot;lineCap&quot;: &quot;round&quot;, &quot;lineJoin&quot;: &quot;round&quot;, &quot;opacity&quot;: 1.0, &quot;radius&quot;: 0.6570083992262493, &quot;stroke&quot;: true, &quot;weight&quot;: 3}\n",
       "            ).addTo(map_255fb209e9c02195a79cde7bbbc19ad7);\n",
       "        \n",
       "    \n",
       "        var popup_78d42af69b029c6c295a40416f8f1fe0 = L.popup({&quot;maxWidth&quot;: &quot;100%&quot;});\n",
       "\n",
       "        \n",
       "            \n",
       "                var html_20478405b1eb1d0a220a266dfcbf02c0 = $(`&lt;div id=&quot;html_20478405b1eb1d0a220a266dfcbf02c0&quot; style=&quot;width: 100.0%; height: 100.0%;&quot;&gt;Albania&lt;/div&gt;`)[0];\n",
       "                popup_78d42af69b029c6c295a40416f8f1fe0.setContent(html_20478405b1eb1d0a220a266dfcbf02c0);\n",
       "            \n",
       "        \n",
       "\n",
       "        circle_marker_942cefeac4fe88b2be9029c223f71665.bindPopup(popup_78d42af69b029c6c295a40416f8f1fe0)\n",
       "        ;\n",
       "\n",
       "        \n",
       "    \n",
       "    \n",
       "            var circle_marker_1eb4dd16cf3305bb1b4f5afbfd44ad2c = L.circleMarker(\n",
       "                [-34.0, -64.0],\n",
       "                {&quot;bubblingMouseEvents&quot;: true, &quot;color&quot;: &quot;green&quot;, &quot;dashArray&quot;: null, &quot;dashOffset&quot;: null, &quot;fill&quot;: true, &quot;fillColor&quot;: &quot;green&quot;, &quot;fillOpacity&quot;: 0.2, &quot;fillRule&quot;: &quot;evenodd&quot;, &quot;lineCap&quot;: &quot;round&quot;, &quot;lineJoin&quot;: &quot;round&quot;, &quot;opacity&quot;: 1.0, &quot;radius&quot;: 4.284238901720576, &quot;stroke&quot;: true, &quot;weight&quot;: 3}\n",
       "            ).addTo(map_255fb209e9c02195a79cde7bbbc19ad7);\n",
       "        \n",
       "    \n",
       "        var popup_7f55885e26d817fa153f169abd334553 = L.popup({&quot;maxWidth&quot;: &quot;100%&quot;});\n",
       "\n",
       "        \n",
       "            \n",
       "                var html_751b1d6c6c6af9df93bedb4f07e0bad0 = $(`&lt;div id=&quot;html_751b1d6c6c6af9df93bedb4f07e0bad0&quot; style=&quot;width: 100.0%; height: 100.0%;&quot;&gt;Argentina&lt;/div&gt;`)[0];\n",
       "                popup_7f55885e26d817fa153f169abd334553.setContent(html_751b1d6c6c6af9df93bedb4f07e0bad0);\n",
       "            \n",
       "        \n",
       "\n",
       "        circle_marker_1eb4dd16cf3305bb1b4f5afbfd44ad2c.bindPopup(popup_7f55885e26d817fa153f169abd334553)\n",
       "        ;\n",
       "\n",
       "        \n",
       "    \n",
       "    \n",
       "            var circle_marker_f7ac03b561fb05e93a3b0ca1836cac7a = L.circleMarker(\n",
       "                [40.25, 45.0],\n",
       "                {&quot;bubblingMouseEvents&quot;: true, &quot;color&quot;: &quot;black&quot;, &quot;dashArray&quot;: null, &quot;dashOffset&quot;: null, &quot;fill&quot;: true, &quot;fillColor&quot;: &quot;black&quot;, &quot;fillOpacity&quot;: 0.2, &quot;fillRule&quot;: &quot;evenodd&quot;, &quot;lineCap&quot;: &quot;round&quot;, &quot;lineJoin&quot;: &quot;round&quot;, &quot;opacity&quot;: 1.0, &quot;radius&quot;: 1.2660117574103493, &quot;stroke&quot;: true, &quot;weight&quot;: 3}\n",
       "            ).addTo(map_255fb209e9c02195a79cde7bbbc19ad7);\n",
       "        \n",
       "    \n",
       "        var popup_5b53eb8f045134cfabc5385bea151578 = L.popup({&quot;maxWidth&quot;: &quot;100%&quot;});\n",
       "\n",
       "        \n",
       "            \n",
       "                var html_98c7006ff4254fbc49ce604c42a3ef4b = $(`&lt;div id=&quot;html_98c7006ff4254fbc49ce604c42a3ef4b&quot; style=&quot;width: 100.0%; height: 100.0%;&quot;&gt;Armenia&lt;/div&gt;`)[0];\n",
       "                popup_5b53eb8f045134cfabc5385bea151578.setContent(html_98c7006ff4254fbc49ce604c42a3ef4b);\n",
       "            \n",
       "        \n",
       "\n",
       "        circle_marker_f7ac03b561fb05e93a3b0ca1836cac7a.bindPopup(popup_5b53eb8f045134cfabc5385bea151578)\n",
       "        ;\n",
       "\n",
       "        \n",
       "    \n",
       "    \n",
       "            var circle_marker_e8670db0b600cf3e550280d534db3237 = L.circleMarker(\n",
       "                [-25.0, 135.0],\n",
       "                {&quot;bubblingMouseEvents&quot;: true, &quot;color&quot;: &quot;red&quot;, &quot;dashArray&quot;: null, &quot;dashOffset&quot;: null, &quot;fill&quot;: true, &quot;fillColor&quot;: &quot;red&quot;, &quot;fillOpacity&quot;: 0.2, &quot;fillRule&quot;: &quot;evenodd&quot;, &quot;lineCap&quot;: &quot;round&quot;, &quot;lineJoin&quot;: &quot;round&quot;, &quot;opacity&quot;: 1.0, &quot;radius&quot;: 3.0969023547202914, &quot;stroke&quot;: true, &quot;weight&quot;: 3}\n",
       "            ).addTo(map_255fb209e9c02195a79cde7bbbc19ad7);\n",
       "        \n",
       "    \n",
       "        var popup_81afcb954ccddb218529f6371f797fa0 = L.popup({&quot;maxWidth&quot;: &quot;100%&quot;});\n",
       "\n",
       "        \n",
       "            \n",
       "                var html_7553c02e284ec69cb630cd340875b1fc = $(`&lt;div id=&quot;html_7553c02e284ec69cb630cd340875b1fc&quot; style=&quot;width: 100.0%; height: 100.0%;&quot;&gt;Australia&lt;/div&gt;`)[0];\n",
       "                popup_81afcb954ccddb218529f6371f797fa0.setContent(html_7553c02e284ec69cb630cd340875b1fc);\n",
       "            \n",
       "        \n",
       "\n",
       "        circle_marker_e8670db0b600cf3e550280d534db3237.bindPopup(popup_81afcb954ccddb218529f6371f797fa0)\n",
       "        ;\n",
       "\n",
       "        \n",
       "    \n",
       "    \n",
       "            var circle_marker_dff37491566de3d66a16f405a76ab090 = L.circleMarker(\n",
       "                [47.33333, 13.33333],\n",
       "                {&quot;bubblingMouseEvents&quot;: true, &quot;color&quot;: &quot;black&quot;, &quot;dashArray&quot;: null, &quot;dashOffset&quot;: null, &quot;fill&quot;: true, &quot;fillColor&quot;: &quot;black&quot;, &quot;fillOpacity&quot;: 0.2, &quot;fillRule&quot;: &quot;evenodd&quot;, &quot;lineCap&quot;: &quot;round&quot;, &quot;lineJoin&quot;: &quot;round&quot;, &quot;opacity&quot;: 1.0, &quot;radius&quot;: 0.9540310731595334, &quot;stroke&quot;: true, &quot;weight&quot;: 3}\n",
       "            ).addTo(map_255fb209e9c02195a79cde7bbbc19ad7);\n",
       "        \n",
       "    \n",
       "        var popup_a34ab52f133947d7d8ec2129df698b3c = L.popup({&quot;maxWidth&quot;: &quot;100%&quot;});\n",
       "\n",
       "        \n",
       "            \n",
       "                var html_cdb18a50adf3c813c2399c076f142fad = $(`&lt;div id=&quot;html_cdb18a50adf3c813c2399c076f142fad&quot; style=&quot;width: 100.0%; height: 100.0%;&quot;&gt;Austria&lt;/div&gt;`)[0];\n",
       "                popup_a34ab52f133947d7d8ec2129df698b3c.setContent(html_cdb18a50adf3c813c2399c076f142fad);\n",
       "            \n",
       "        \n",
       "\n",
       "        circle_marker_dff37491566de3d66a16f405a76ab090.bindPopup(popup_a34ab52f133947d7d8ec2129df698b3c)\n",
       "        ;\n",
       "\n",
       "        \n",
       "    \n",
       "    \n",
       "            var circle_marker_79753df23c86a97ff568517b1292621b = L.circleMarker(\n",
       "                [40.5, 47.5],\n",
       "                {&quot;bubblingMouseEvents&quot;: true, &quot;color&quot;: &quot;black&quot;, &quot;dashArray&quot;: null, &quot;dashOffset&quot;: null, &quot;fill&quot;: true, &quot;fillColor&quot;: &quot;black&quot;, &quot;fillOpacity&quot;: 0.2, &quot;fillRule&quot;: &quot;evenodd&quot;, &quot;lineCap&quot;: &quot;round&quot;, &quot;lineJoin&quot;: &quot;round&quot;, &quot;opacity&quot;: 1.0, &quot;radius&quot;: 0.9440866021203946, &quot;stroke&quot;: true, &quot;weight&quot;: 3}\n",
       "            ).addTo(map_255fb209e9c02195a79cde7bbbc19ad7);\n",
       "        \n",
       "    \n",
       "        var popup_b847a4e1225b3f2a90b70ed0735b6dd1 = L.popup({&quot;maxWidth&quot;: &quot;100%&quot;});\n",
       "\n",
       "        \n",
       "            \n",
       "                var html_aaf740dfab8f6a95d0c876015913ffe2 = $(`&lt;div id=&quot;html_aaf740dfab8f6a95d0c876015913ffe2&quot; style=&quot;width: 100.0%; height: 100.0%;&quot;&gt;Azerbaijan&lt;/div&gt;`)[0];\n",
       "                popup_b847a4e1225b3f2a90b70ed0735b6dd1.setContent(html_aaf740dfab8f6a95d0c876015913ffe2);\n",
       "            \n",
       "        \n",
       "\n",
       "        circle_marker_79753df23c86a97ff568517b1292621b.bindPopup(popup_b847a4e1225b3f2a90b70ed0735b6dd1)\n",
       "        ;\n",
       "\n",
       "        \n",
       "    \n",
       "    \n",
       "            var circle_marker_8e70bfa62611af8bb97e7230aafcfe7c = L.circleMarker(\n",
       "                [-3.5, 30.0],\n",
       "                {&quot;bubblingMouseEvents&quot;: true, &quot;color&quot;: &quot;blue&quot;, &quot;dashArray&quot;: null, &quot;dashOffset&quot;: null, &quot;fill&quot;: true, &quot;fillColor&quot;: &quot;blue&quot;, &quot;fillOpacity&quot;: 0.2, &quot;fillRule&quot;: &quot;evenodd&quot;, &quot;lineCap&quot;: &quot;round&quot;, &quot;lineJoin&quot;: &quot;round&quot;, &quot;opacity&quot;: 1.0, &quot;radius&quot;: 14.985583745574617, &quot;stroke&quot;: true, &quot;weight&quot;: 3}\n",
       "            ).addTo(map_255fb209e9c02195a79cde7bbbc19ad7);\n",
       "        \n",
       "    \n",
       "        var popup_59de243dc8a9840409687e46964c1625 = L.popup({&quot;maxWidth&quot;: &quot;100%&quot;});\n",
       "\n",
       "        \n",
       "            \n",
       "                var html_894047dd9801ae3593bc100a5b2cbb1b = $(`&lt;div id=&quot;html_894047dd9801ae3593bc100a5b2cbb1b&quot; style=&quot;width: 100.0%; height: 100.0%;&quot;&gt;Burundi&lt;/div&gt;`)[0];\n",
       "                popup_59de243dc8a9840409687e46964c1625.setContent(html_894047dd9801ae3593bc100a5b2cbb1b);\n",
       "            \n",
       "        \n",
       "\n",
       "        circle_marker_8e70bfa62611af8bb97e7230aafcfe7c.bindPopup(popup_59de243dc8a9840409687e46964c1625)\n",
       "        ;\n",
       "\n",
       "        \n",
       "    \n",
       "    \n",
       "            var circle_marker_58f1356248bf0595318d6b32f9396ddc = L.circleMarker(\n",
       "                [50.75, 4.5],\n",
       "                {&quot;bubblingMouseEvents&quot;: true, &quot;color&quot;: &quot;black&quot;, &quot;dashArray&quot;: null, &quot;dashOffset&quot;: null, &quot;fill&quot;: true, &quot;fillColor&quot;: &quot;black&quot;, &quot;fillOpacity&quot;: 0.2, &quot;fillRule&quot;: &quot;evenodd&quot;, &quot;lineCap&quot;: &quot;round&quot;, &quot;lineJoin&quot;: &quot;round&quot;, &quot;opacity&quot;: 1.0, &quot;radius&quot;: 1.3194559831588262, &quot;stroke&quot;: true, &quot;weight&quot;: 3}\n",
       "            ).addTo(map_255fb209e9c02195a79cde7bbbc19ad7);\n",
       "        \n",
       "    \n",
       "        var popup_4258a3eda33dcab736142da66beb0be5 = L.popup({&quot;maxWidth&quot;: &quot;100%&quot;});\n",
       "\n",
       "        \n",
       "            \n",
       "                var html_b6163d775b9daa46ed66153ff60b547a = $(`&lt;div id=&quot;html_b6163d775b9daa46ed66153ff60b547a&quot; style=&quot;width: 100.0%; height: 100.0%;&quot;&gt;Belgium&lt;/div&gt;`)[0];\n",
       "                popup_4258a3eda33dcab736142da66beb0be5.setContent(html_b6163d775b9daa46ed66153ff60b547a);\n",
       "            \n",
       "        \n",
       "\n",
       "        circle_marker_58f1356248bf0595318d6b32f9396ddc.bindPopup(popup_4258a3eda33dcab736142da66beb0be5)\n",
       "        ;\n",
       "\n",
       "        \n",
       "    \n",
       "    \n",
       "            var circle_marker_1fe8137f74fe7d8cb320579c4e2caf13 = L.circleMarker(\n",
       "                [9.5, 2.25],\n",
       "                {&quot;bubblingMouseEvents&quot;: true, &quot;color&quot;: &quot;blue&quot;, &quot;dashArray&quot;: null, &quot;dashOffset&quot;: null, &quot;fill&quot;: true, &quot;fillColor&quot;: &quot;blue&quot;, &quot;fillOpacity&quot;: 0.2, &quot;fillRule&quot;: &quot;evenodd&quot;, &quot;lineCap&quot;: &quot;round&quot;, &quot;lineJoin&quot;: &quot;round&quot;, &quot;opacity&quot;: 1.0, &quot;radius&quot;: 12.293294869483931, &quot;stroke&quot;: true, &quot;weight&quot;: 3}\n",
       "            ).addTo(map_255fb209e9c02195a79cde7bbbc19ad7);\n",
       "        \n",
       "    \n",
       "        var popup_89a99a11ea249e3bf303ea19dc91e409 = L.popup({&quot;maxWidth&quot;: &quot;100%&quot;});\n",
       "\n",
       "        \n",
       "            \n",
       "                var html_e6c979e47228deaf37b4b5bfdb444bc4 = $(`&lt;div id=&quot;html_e6c979e47228deaf37b4b5bfdb444bc4&quot; style=&quot;width: 100.0%; height: 100.0%;&quot;&gt;Benin&lt;/div&gt;`)[0];\n",
       "                popup_89a99a11ea249e3bf303ea19dc91e409.setContent(html_e6c979e47228deaf37b4b5bfdb444bc4);\n",
       "            \n",
       "        \n",
       "\n",
       "        circle_marker_1fe8137f74fe7d8cb320579c4e2caf13.bindPopup(popup_89a99a11ea249e3bf303ea19dc91e409)\n",
       "        ;\n",
       "\n",
       "        \n",
       "    \n",
       "    \n",
       "            var circle_marker_6cbf3ff6b2030ef218d1b005cb2aa21b = L.circleMarker(\n",
       "                [12.5, -1.66667],\n",
       "                {&quot;bubblingMouseEvents&quot;: true, &quot;color&quot;: &quot;blue&quot;, &quot;dashArray&quot;: null, &quot;dashOffset&quot;: null, &quot;fill&quot;: true, &quot;fillColor&quot;: &quot;blue&quot;, &quot;fillOpacity&quot;: 0.2, &quot;fillRule&quot;: &quot;evenodd&quot;, &quot;lineCap&quot;: &quot;round&quot;, &quot;lineJoin&quot;: &quot;round&quot;, &quot;opacity&quot;: 1.0, &quot;radius&quot;: 14.860883218047224, &quot;stroke&quot;: true, &quot;weight&quot;: 3}\n",
       "            ).addTo(map_255fb209e9c02195a79cde7bbbc19ad7);\n",
       "        \n",
       "    \n",
       "        var popup_99b5780415c8840fa3e334078a877031 = L.popup({&quot;maxWidth&quot;: &quot;100%&quot;});\n",
       "\n",
       "        \n",
       "            \n",
       "                var html_1c43d263b535afd8a453775a91cdeb39 = $(`&lt;div id=&quot;html_1c43d263b535afd8a453775a91cdeb39&quot; style=&quot;width: 100.0%; height: 100.0%;&quot;&gt;Burkina Faso&lt;/div&gt;`)[0];\n",
       "                popup_99b5780415c8840fa3e334078a877031.setContent(html_1c43d263b535afd8a453775a91cdeb39);\n",
       "            \n",
       "        \n",
       "\n",
       "        circle_marker_6cbf3ff6b2030ef218d1b005cb2aa21b.bindPopup(popup_99b5780415c8840fa3e334078a877031)\n",
       "        ;\n",
       "\n",
       "        \n",
       "    \n",
       "    \n",
       "            var circle_marker_c3c777e4c542a21806663f1296d79829 = L.circleMarker(\n",
       "                [24.0, 90.0],\n",
       "                {&quot;bubblingMouseEvents&quot;: true, &quot;color&quot;: &quot;red&quot;, &quot;dashArray&quot;: null, &quot;dashOffset&quot;: null, &quot;fill&quot;: true, &quot;fillColor&quot;: &quot;red&quot;, &quot;fillOpacity&quot;: 0.2, &quot;fillRule&quot;: &quot;evenodd&quot;, &quot;lineCap&quot;: &quot;round&quot;, &quot;lineJoin&quot;: &quot;round&quot;, &quot;opacity&quot;: 1.0, &quot;radius&quot;: 45.07390171903687, &quot;stroke&quot;: true, &quot;weight&quot;: 3}\n",
       "            ).addTo(map_255fb209e9c02195a79cde7bbbc19ad7);\n",
       "        \n",
       "    \n",
       "        var popup_d1ec0925f5bbaacb10f98bc1ae23b558 = L.popup({&quot;maxWidth&quot;: &quot;100%&quot;});\n",
       "\n",
       "        \n",
       "            \n",
       "                var html_a1f9b3b22bfebc95c62ca589fc6f475f = $(`&lt;div id=&quot;html_a1f9b3b22bfebc95c62ca589fc6f475f&quot; style=&quot;width: 100.0%; height: 100.0%;&quot;&gt;Bangladesh&lt;/div&gt;`)[0];\n",
       "                popup_d1ec0925f5bbaacb10f98bc1ae23b558.setContent(html_a1f9b3b22bfebc95c62ca589fc6f475f);\n",
       "            \n",
       "        \n",
       "\n",
       "        circle_marker_c3c777e4c542a21806663f1296d79829.bindPopup(popup_d1ec0925f5bbaacb10f98bc1ae23b558)\n",
       "        ;\n",
       "\n",
       "        \n",
       "    \n",
       "    \n",
       "            var circle_marker_c60ef2b54806ef4c6761e770be1a4920 = L.circleMarker(\n",
       "                [42.66667, 25.25],\n",
       "                {&quot;bubblingMouseEvents&quot;: true, &quot;color&quot;: &quot;black&quot;, &quot;dashArray&quot;: null, &quot;dashOffset&quot;: null, &quot;fill&quot;: true, &quot;fillColor&quot;: &quot;black&quot;, &quot;fillOpacity&quot;: 0.2, &quot;fillRule&quot;: &quot;evenodd&quot;, &quot;lineCap&quot;: &quot;round&quot;, &quot;lineJoin&quot;: &quot;round&quot;, &quot;opacity&quot;: 1.0, &quot;radius&quot;: 2.119093372019701, &quot;stroke&quot;: true, &quot;weight&quot;: 3}\n",
       "            ).addTo(map_255fb209e9c02195a79cde7bbbc19ad7);\n",
       "        \n",
       "    \n",
       "        var popup_351b9ba7b13a9583b91cb77bb7ae416a = L.popup({&quot;maxWidth&quot;: &quot;100%&quot;});\n",
       "\n",
       "        \n",
       "            \n",
       "                var html_b709c95a0d1c8515a7163e1123aa6f7c = $(`&lt;div id=&quot;html_b709c95a0d1c8515a7163e1123aa6f7c&quot; style=&quot;width: 100.0%; height: 100.0%;&quot;&gt;Bulgaria&lt;/div&gt;`)[0];\n",
       "                popup_351b9ba7b13a9583b91cb77bb7ae416a.setContent(html_b709c95a0d1c8515a7163e1123aa6f7c);\n",
       "            \n",
       "        \n",
       "\n",
       "        circle_marker_c60ef2b54806ef4c6761e770be1a4920.bindPopup(popup_351b9ba7b13a9583b91cb77bb7ae416a)\n",
       "        ;\n",
       "\n",
       "        \n",
       "    \n",
       "    \n",
       "            var circle_marker_1757299ff09bf05c7b04ac87ddde74b0 = L.circleMarker(\n",
       "                [44.25, 17.83333],\n",
       "                {&quot;bubblingMouseEvents&quot;: true, &quot;color&quot;: &quot;black&quot;, &quot;dashArray&quot;: null, &quot;dashOffset&quot;: null, &quot;fill&quot;: true, &quot;fillColor&quot;: &quot;black&quot;, &quot;fillOpacity&quot;: 0.2, &quot;fillRule&quot;: &quot;evenodd&quot;, &quot;lineCap&quot;: &quot;round&quot;, &quot;lineJoin&quot;: &quot;round&quot;, &quot;opacity&quot;: 1.0, &quot;radius&quot;: 0.217194671049816, &quot;stroke&quot;: true, &quot;weight&quot;: 3}\n",
       "            ).addTo(map_255fb209e9c02195a79cde7bbbc19ad7);\n",
       "        \n",
       "    \n",
       "        var popup_bbc20cdd8ebc7885578bb6fd63634827 = L.popup({&quot;maxWidth&quot;: &quot;100%&quot;});\n",
       "\n",
       "        \n",
       "            \n",
       "                var html_0068b6e1636354d2d12d9c4e62ec650d = $(`&lt;div id=&quot;html_0068b6e1636354d2d12d9c4e62ec650d&quot; style=&quot;width: 100.0%; height: 100.0%;&quot;&gt;Bosnia and Herzegovina&lt;/div&gt;`)[0];\n",
       "                popup_bbc20cdd8ebc7885578bb6fd63634827.setContent(html_0068b6e1636354d2d12d9c4e62ec650d);\n",
       "            \n",
       "        \n",
       "\n",
       "        circle_marker_1757299ff09bf05c7b04ac87ddde74b0.bindPopup(popup_bbc20cdd8ebc7885578bb6fd63634827)\n",
       "        ;\n",
       "\n",
       "        \n",
       "    \n",
       "    \n",
       "            var circle_marker_e9882f68cf9c99e00ce9e2f5d0ddbffb = L.circleMarker(\n",
       "                [53.0, 28.0],\n",
       "                {&quot;bubblingMouseEvents&quot;: true, &quot;color&quot;: &quot;black&quot;, &quot;dashArray&quot;: null, &quot;dashOffset&quot;: null, &quot;fill&quot;: true, &quot;fillColor&quot;: &quot;black&quot;, &quot;fillOpacity&quot;: 0.2, &quot;fillRule&quot;: &quot;evenodd&quot;, &quot;lineCap&quot;: &quot;round&quot;, &quot;lineJoin&quot;: &quot;round&quot;, &quot;opacity&quot;: 1.0, &quot;stroke&quot;: true, &quot;weight&quot;: 3}\n",
       "            ).addTo(map_255fb209e9c02195a79cde7bbbc19ad7);\n",
       "        \n",
       "    \n",
       "        var popup_e8c35c19bb13141cd08f59c2e9cb9736 = L.popup({&quot;maxWidth&quot;: &quot;100%&quot;});\n",
       "\n",
       "        \n",
       "            \n",
       "                var html_5e90496196bc349188c5624e82e14d06 = $(`&lt;div id=&quot;html_5e90496196bc349188c5624e82e14d06&quot; style=&quot;width: 100.0%; height: 100.0%;&quot;&gt;Belarus&lt;/div&gt;`)[0];\n",
       "                popup_e8c35c19bb13141cd08f59c2e9cb9736.setContent(html_5e90496196bc349188c5624e82e14d06);\n",
       "            \n",
       "        \n",
       "\n",
       "        circle_marker_e9882f68cf9c99e00ce9e2f5d0ddbffb.bindPopup(popup_e8c35c19bb13141cd08f59c2e9cb9736)\n",
       "        ;\n",
       "\n",
       "        \n",
       "    \n",
       "    \n",
       "            var circle_marker_c78ba416f2c10c19ab3489cf427514b5 = L.circleMarker(\n",
       "                [17.49952, -88.19756],\n",
       "                {&quot;bubblingMouseEvents&quot;: true, &quot;color&quot;: &quot;green&quot;, &quot;dashArray&quot;: null, &quot;dashOffset&quot;: null, &quot;fill&quot;: true, &quot;fillColor&quot;: &quot;green&quot;, &quot;fillOpacity&quot;: 0.2, &quot;fillRule&quot;: &quot;evenodd&quot;, &quot;lineCap&quot;: &quot;round&quot;, &quot;lineJoin&quot;: &quot;round&quot;, &quot;opacity&quot;: 1.0, &quot;radius&quot;: 1.1195005649268066, &quot;stroke&quot;: true, &quot;weight&quot;: 3}\n",
       "            ).addTo(map_255fb209e9c02195a79cde7bbbc19ad7);\n",
       "        \n",
       "    \n",
       "        var popup_1be04ac0426b340adc6f64d74aae4e80 = L.popup({&quot;maxWidth&quot;: &quot;100%&quot;});\n",
       "\n",
       "        \n",
       "            \n",
       "                var html_c8b18fb40f96f6a06ccd1cc66194fbe2 = $(`&lt;div id=&quot;html_c8b18fb40f96f6a06ccd1cc66194fbe2&quot; style=&quot;width: 100.0%; height: 100.0%;&quot;&gt;Belize&lt;/div&gt;`)[0];\n",
       "                popup_1be04ac0426b340adc6f64d74aae4e80.setContent(html_c8b18fb40f96f6a06ccd1cc66194fbe2);\n",
       "            \n",
       "        \n",
       "\n",
       "        circle_marker_c78ba416f2c10c19ab3489cf427514b5.bindPopup(popup_1be04ac0426b340adc6f64d74aae4e80)\n",
       "        ;\n",
       "\n",
       "        \n",
       "    \n",
       "    \n",
       "            var circle_marker_01c19739c3e05bc071f6077e5f58a7ee = L.circleMarker(\n",
       "                [-17.0, -65.0],\n",
       "                {&quot;bubblingMouseEvents&quot;: true, &quot;color&quot;: &quot;green&quot;, &quot;dashArray&quot;: null, &quot;dashOffset&quot;: null, &quot;fill&quot;: true, &quot;fillColor&quot;: &quot;green&quot;, &quot;fillOpacity&quot;: 0.2, &quot;fillRule&quot;: &quot;evenodd&quot;, &quot;lineCap&quot;: &quot;round&quot;, &quot;lineJoin&quot;: &quot;round&quot;, &quot;opacity&quot;: 1.0, &quot;radius&quot;: 5.0521846256177705, &quot;stroke&quot;: true, &quot;weight&quot;: 3}\n",
       "            ).addTo(map_255fb209e9c02195a79cde7bbbc19ad7);\n",
       "        \n",
       "    \n",
       "        var popup_bddf2454db197d4de55ab67b052f6915 = L.popup({&quot;maxWidth&quot;: &quot;100%&quot;});\n",
       "\n",
       "        \n",
       "            \n",
       "                var html_0a2c7a255f2f32837f7f28f84c2fa41d = $(`&lt;div id=&quot;html_0a2c7a255f2f32837f7f28f84c2fa41d&quot; style=&quot;width: 100.0%; height: 100.0%;&quot;&gt;Bolivia&lt;/div&gt;`)[0];\n",
       "                popup_bddf2454db197d4de55ab67b052f6915.setContent(html_0a2c7a255f2f32837f7f28f84c2fa41d);\n",
       "            \n",
       "        \n",
       "\n",
       "        circle_marker_01c19739c3e05bc071f6077e5f58a7ee.bindPopup(popup_bddf2454db197d4de55ab67b052f6915)\n",
       "        ;\n",
       "\n",
       "        \n",
       "    \n",
       "    \n",
       "            var circle_marker_98a6a7102328bebeae68bad0c2c8d864 = L.circleMarker(\n",
       "                [-10.0, -55.0],\n",
       "                {&quot;bubblingMouseEvents&quot;: true, &quot;color&quot;: &quot;green&quot;, &quot;dashArray&quot;: null, &quot;dashOffset&quot;: null, &quot;fill&quot;: true, &quot;fillColor&quot;: &quot;green&quot;, &quot;fillOpacity&quot;: 0.2, &quot;fillRule&quot;: &quot;evenodd&quot;, &quot;lineCap&quot;: &quot;round&quot;, &quot;lineJoin&quot;: &quot;round&quot;, &quot;opacity&quot;: 1.0, &quot;radius&quot;: 15.284499774553087, &quot;stroke&quot;: true, &quot;weight&quot;: 3}\n",
       "            ).addTo(map_255fb209e9c02195a79cde7bbbc19ad7);\n",
       "        \n",
       "    \n",
       "        var popup_c7a48c2994c55742ffd0f2c815f7a348 = L.popup({&quot;maxWidth&quot;: &quot;100%&quot;});\n",
       "\n",
       "        \n",
       "            \n",
       "                var html_24cb068fe2cd6b48e9faa43bf32af16e = $(`&lt;div id=&quot;html_24cb068fe2cd6b48e9faa43bf32af16e&quot; style=&quot;width: 100.0%; height: 100.0%;&quot;&gt;Brazil&lt;/div&gt;`)[0];\n",
       "                popup_c7a48c2994c55742ffd0f2c815f7a348.setContent(html_24cb068fe2cd6b48e9faa43bf32af16e);\n",
       "            \n",
       "        \n",
       "\n",
       "        circle_marker_98a6a7102328bebeae68bad0c2c8d864.bindPopup(popup_c7a48c2994c55742ffd0f2c815f7a348)\n",
       "        ;\n",
       "\n",
       "        \n",
       "    \n",
       "    \n",
       "            var circle_marker_f162b6d5f5e2d1b7e61eec6f5208f75f = L.circleMarker(\n",
       "                [27.5, 90.5],\n",
       "                {&quot;bubblingMouseEvents&quot;: true, &quot;color&quot;: &quot;red&quot;, &quot;dashArray&quot;: null, &quot;dashOffset&quot;: null, &quot;fill&quot;: true, &quot;fillColor&quot;: &quot;red&quot;, &quot;fillOpacity&quot;: 0.2, &quot;fillRule&quot;: &quot;evenodd&quot;, &quot;lineCap&quot;: &quot;round&quot;, &quot;lineJoin&quot;: &quot;round&quot;, &quot;opacity&quot;: 1.0, &quot;radius&quot;: 0.7206403952796807, &quot;stroke&quot;: true, &quot;weight&quot;: 3}\n",
       "            ).addTo(map_255fb209e9c02195a79cde7bbbc19ad7);\n",
       "        \n",
       "    \n",
       "        var popup_37fb6696fab1ec0b4a3729fd09be1f28 = L.popup({&quot;maxWidth&quot;: &quot;100%&quot;});\n",
       "\n",
       "        \n",
       "            \n",
       "                var html_2a72deeb72586c00f2f8bc837dbea44b = $(`&lt;div id=&quot;html_2a72deeb72586c00f2f8bc837dbea44b&quot; style=&quot;width: 100.0%; height: 100.0%;&quot;&gt;Bhutan&lt;/div&gt;`)[0];\n",
       "                popup_37fb6696fab1ec0b4a3729fd09be1f28.setContent(html_2a72deeb72586c00f2f8bc837dbea44b);\n",
       "            \n",
       "        \n",
       "\n",
       "        circle_marker_f162b6d5f5e2d1b7e61eec6f5208f75f.bindPopup(popup_37fb6696fab1ec0b4a3729fd09be1f28)\n",
       "        ;\n",
       "\n",
       "        \n",
       "    \n",
       "    \n",
       "            var circle_marker_8d12f8368e725ea288e5ca691e13ce39 = L.circleMarker(\n",
       "                [-22.0, 24.0],\n",
       "                {&quot;bubblingMouseEvents&quot;: true, &quot;color&quot;: &quot;blue&quot;, &quot;dashArray&quot;: null, &quot;dashOffset&quot;: null, &quot;fill&quot;: true, &quot;fillColor&quot;: &quot;blue&quot;, &quot;fillOpacity&quot;: 0.2, &quot;fillRule&quot;: &quot;evenodd&quot;, &quot;lineCap&quot;: &quot;round&quot;, &quot;lineJoin&quot;: &quot;round&quot;, &quot;opacity&quot;: 1.0, &quot;radius&quot;: 2.9123934088869396, &quot;stroke&quot;: true, &quot;weight&quot;: 3}\n",
       "            ).addTo(map_255fb209e9c02195a79cde7bbbc19ad7);\n",
       "        \n",
       "    \n",
       "        var popup_75e88e50d930bf144f094b3f846caa42 = L.popup({&quot;maxWidth&quot;: &quot;100%&quot;});\n",
       "\n",
       "        \n",
       "            \n",
       "                var html_3db2cf5b5a6fed716e028a97a183df6a = $(`&lt;div id=&quot;html_3db2cf5b5a6fed716e028a97a183df6a&quot; style=&quot;width: 100.0%; height: 100.0%;&quot;&gt;Botswana&lt;/div&gt;`)[0];\n",
       "                popup_75e88e50d930bf144f094b3f846caa42.setContent(html_3db2cf5b5a6fed716e028a97a183df6a);\n",
       "            \n",
       "        \n",
       "\n",
       "        circle_marker_8d12f8368e725ea288e5ca691e13ce39.bindPopup(popup_75e88e50d930bf144f094b3f846caa42)\n",
       "        ;\n",
       "\n",
       "        \n",
       "    \n",
       "    \n",
       "            var circle_marker_3239fa15458cbff5a1a8ecddde98da36 = L.circleMarker(\n",
       "                [7.0, 21.0],\n",
       "                {&quot;bubblingMouseEvents&quot;: true, &quot;color&quot;: &quot;blue&quot;, &quot;dashArray&quot;: null, &quot;dashOffset&quot;: null, &quot;fill&quot;: true, &quot;fillColor&quot;: &quot;blue&quot;, &quot;fillOpacity&quot;: 0.2, &quot;fillRule&quot;: &quot;evenodd&quot;, &quot;lineCap&quot;: &quot;round&quot;, &quot;lineJoin&quot;: &quot;round&quot;, &quot;opacity&quot;: 1.0, &quot;radius&quot;: 9.366573447847983, &quot;stroke&quot;: true, &quot;weight&quot;: 3}\n",
       "            ).addTo(map_255fb209e9c02195a79cde7bbbc19ad7);\n",
       "        \n",
       "    \n",
       "        var popup_8b86930628478116bafdede6cf5c2f4a = L.popup({&quot;maxWidth&quot;: &quot;100%&quot;});\n",
       "\n",
       "        \n",
       "            \n",
       "                var html_ff609d5a21e480a101ea1f4e9fa89a27 = $(`&lt;div id=&quot;html_ff609d5a21e480a101ea1f4e9fa89a27&quot; style=&quot;width: 100.0%; height: 100.0%;&quot;&gt;Central African Republic&lt;/div&gt;`)[0];\n",
       "                popup_8b86930628478116bafdede6cf5c2f4a.setContent(html_ff609d5a21e480a101ea1f4e9fa89a27);\n",
       "            \n",
       "        \n",
       "\n",
       "        circle_marker_3239fa15458cbff5a1a8ecddde98da36.bindPopup(popup_8b86930628478116bafdede6cf5c2f4a)\n",
       "        ;\n",
       "\n",
       "        \n",
       "    \n",
       "    \n",
       "            var circle_marker_b0ef576f094b15bdc4c677eeaf2bb49e = L.circleMarker(\n",
       "                [60.10867, -113.64258],\n",
       "                {&quot;bubblingMouseEvents&quot;: true, &quot;color&quot;: &quot;green&quot;, &quot;dashArray&quot;: null, &quot;dashOffset&quot;: null, &quot;fill&quot;: true, &quot;fillColor&quot;: &quot;green&quot;, &quot;fillOpacity&quot;: 0.2, &quot;fillRule&quot;: &quot;evenodd&quot;, &quot;lineCap&quot;: &quot;round&quot;, &quot;lineJoin&quot;: &quot;round&quot;, &quot;opacity&quot;: 1.0, &quot;radius&quot;: 1.9224051187434574, &quot;stroke&quot;: true, &quot;weight&quot;: 3}\n",
       "            ).addTo(map_255fb209e9c02195a79cde7bbbc19ad7);\n",
       "        \n",
       "    \n",
       "        var popup_ce08fdc09b44ef2f6fff51a56a9fe593 = L.popup({&quot;maxWidth&quot;: &quot;100%&quot;});\n",
       "\n",
       "        \n",
       "            \n",
       "                var html_c40d94f5b99118e7eab5c8f703f43d63 = $(`&lt;div id=&quot;html_c40d94f5b99118e7eab5c8f703f43d63&quot; style=&quot;width: 100.0%; height: 100.0%;&quot;&gt;Canada&lt;/div&gt;`)[0];\n",
       "                popup_ce08fdc09b44ef2f6fff51a56a9fe593.setContent(html_c40d94f5b99118e7eab5c8f703f43d63);\n",
       "            \n",
       "        \n",
       "\n",
       "        circle_marker_b0ef576f094b15bdc4c677eeaf2bb49e.bindPopup(popup_ce08fdc09b44ef2f6fff51a56a9fe593)\n",
       "        ;\n",
       "\n",
       "        \n",
       "    \n",
       "    \n",
       "            var circle_marker_8a3717c0d50aedfc37d0f7f2819c7bd4 = L.circleMarker(\n",
       "                [47.00016, 8.01427],\n",
       "                {&quot;bubblingMouseEvents&quot;: true, &quot;color&quot;: &quot;black&quot;, &quot;dashArray&quot;: null, &quot;dashOffset&quot;: null, &quot;fill&quot;: true, &quot;fillColor&quot;: &quot;black&quot;, &quot;fillOpacity&quot;: 0.2, &quot;fillRule&quot;: &quot;evenodd&quot;, &quot;lineCap&quot;: &quot;round&quot;, &quot;lineJoin&quot;: &quot;round&quot;, &quot;opacity&quot;: 1.0, &quot;radius&quot;: 1.2904780751862297, &quot;stroke&quot;: true, &quot;weight&quot;: 3}\n",
       "            ).addTo(map_255fb209e9c02195a79cde7bbbc19ad7);\n",
       "        \n",
       "    \n",
       "        var popup_683af705b884e9ce0bf42fde37afc138 = L.popup({&quot;maxWidth&quot;: &quot;100%&quot;});\n",
       "\n",
       "        \n",
       "            \n",
       "                var html_aa454ca695bc13fbdc1947d019c74f31 = $(`&lt;div id=&quot;html_aa454ca695bc13fbdc1947d019c74f31&quot; style=&quot;width: 100.0%; height: 100.0%;&quot;&gt;Switzerland&lt;/div&gt;`)[0];\n",
       "                popup_683af705b884e9ce0bf42fde37afc138.setContent(html_aa454ca695bc13fbdc1947d019c74f31);\n",
       "            \n",
       "        \n",
       "\n",
       "        circle_marker_8a3717c0d50aedfc37d0f7f2819c7bd4.bindPopup(popup_683af705b884e9ce0bf42fde37afc138)\n",
       "        ;\n",
       "\n",
       "        \n",
       "    \n",
       "    \n",
       "            var circle_marker_df4d26efdd657a1d2bfe3a4d43d33f7c = L.circleMarker(\n",
       "                [-33.45694, -70.64827],\n",
       "                {&quot;bubblingMouseEvents&quot;: true, &quot;color&quot;: &quot;green&quot;, &quot;dashArray&quot;: null, &quot;dashOffset&quot;: null, &quot;fill&quot;: true, &quot;fillColor&quot;: &quot;green&quot;, &quot;fillOpacity&quot;: 0.2, &quot;fillRule&quot;: &quot;evenodd&quot;, &quot;lineCap&quot;: &quot;round&quot;, &quot;lineJoin&quot;: &quot;round&quot;, &quot;opacity&quot;: 1.0, &quot;radius&quot;: 2.123175164028212, &quot;stroke&quot;: true, &quot;weight&quot;: 3}\n",
       "            ).addTo(map_255fb209e9c02195a79cde7bbbc19ad7);\n",
       "        \n",
       "    \n",
       "        var popup_ebcd842e749af529a35cb44294c57a6a = L.popup({&quot;maxWidth&quot;: &quot;100%&quot;});\n",
       "\n",
       "        \n",
       "            \n",
       "                var html_f504e91922ff25fc1de886ffb19ae093 = $(`&lt;div id=&quot;html_f504e91922ff25fc1de886ffb19ae093&quot; style=&quot;width: 100.0%; height: 100.0%;&quot;&gt;Chile&lt;/div&gt;`)[0];\n",
       "                popup_ebcd842e749af529a35cb44294c57a6a.setContent(html_f504e91922ff25fc1de886ffb19ae093);\n",
       "            \n",
       "        \n",
       "\n",
       "        circle_marker_df4d26efdd657a1d2bfe3a4d43d33f7c.bindPopup(popup_ebcd842e749af529a35cb44294c57a6a)\n",
       "        ;\n",
       "\n",
       "        \n",
       "    \n",
       "    \n",
       "            var circle_marker_4c2e792d23dc26d9c32b0ed863ab3447 = L.circleMarker(\n",
       "                [35.0, 105.0],\n",
       "                {&quot;bubblingMouseEvents&quot;: true, &quot;color&quot;: &quot;red&quot;, &quot;dashArray&quot;: null, &quot;dashOffset&quot;: null, &quot;fill&quot;: true, &quot;fillColor&quot;: &quot;red&quot;, &quot;fillOpacity&quot;: 0.2, &quot;fillRule&quot;: &quot;evenodd&quot;, &quot;lineCap&quot;: &quot;round&quot;, &quot;lineJoin&quot;: &quot;round&quot;, &quot;opacity&quot;: 1.0, &quot;radius&quot;: 52.225656891999506, &quot;stroke&quot;: true, &quot;weight&quot;: 3}\n",
       "            ).addTo(map_255fb209e9c02195a79cde7bbbc19ad7);\n",
       "        \n",
       "    \n",
       "        var popup_dd0bb63042f11bdee9c70bbf3d230394 = L.popup({&quot;maxWidth&quot;: &quot;100%&quot;});\n",
       "\n",
       "        \n",
       "            \n",
       "                var html_d05f40b35a0de64bb72e9c76539e3f20 = $(`&lt;div id=&quot;html_d05f40b35a0de64bb72e9c76539e3f20&quot; style=&quot;width: 100.0%; height: 100.0%;&quot;&gt;China&lt;/div&gt;`)[0];\n",
       "                popup_dd0bb63042f11bdee9c70bbf3d230394.setContent(html_d05f40b35a0de64bb72e9c76539e3f20);\n",
       "            \n",
       "        \n",
       "\n",
       "        circle_marker_4c2e792d23dc26d9c32b0ed863ab3447.bindPopup(popup_dd0bb63042f11bdee9c70bbf3d230394)\n",
       "        ;\n",
       "\n",
       "        \n",
       "    \n",
       "    \n",
       "            var circle_marker_80edd6eb59adf45a0f51058bbc1d0cfd = L.circleMarker(\n",
       "                [8.0, -5.5],\n",
       "                {&quot;bubblingMouseEvents&quot;: true, &quot;color&quot;: &quot;blue&quot;, &quot;dashArray&quot;: null, &quot;dashOffset&quot;: null, &quot;fill&quot;: true, &quot;fillColor&quot;: &quot;blue&quot;, &quot;fillOpacity&quot;: 0.2, &quot;fillRule&quot;: &quot;evenodd&quot;, &quot;lineCap&quot;: &quot;round&quot;, &quot;lineJoin&quot;: &quot;round&quot;, &quot;opacity&quot;: 1.0, &quot;radius&quot;: 15.133268463096499, &quot;stroke&quot;: true, &quot;weight&quot;: 3}\n",
       "            ).addTo(map_255fb209e9c02195a79cde7bbbc19ad7);\n",
       "        \n",
       "    \n",
       "        var popup_3e8ed6506a1022d50e97071a8a6e4eaa = L.popup({&quot;maxWidth&quot;: &quot;100%&quot;});\n",
       "\n",
       "        \n",
       "            \n",
       "                var html_158bdbc7ea6ebc8130837907c8221e0c = $(`&lt;div id=&quot;html_158bdbc7ea6ebc8130837907c8221e0c&quot; style=&quot;width: 100.0%; height: 100.0%;&quot;&gt;Cote d&#x27;Ivoire&lt;/div&gt;`)[0];\n",
       "                popup_3e8ed6506a1022d50e97071a8a6e4eaa.setContent(html_158bdbc7ea6ebc8130837907c8221e0c);\n",
       "            \n",
       "        \n",
       "\n",
       "        circle_marker_80edd6eb59adf45a0f51058bbc1d0cfd.bindPopup(popup_3e8ed6506a1022d50e97071a8a6e4eaa)\n",
       "        ;\n",
       "\n",
       "        \n",
       "    \n",
       "    \n",
       "            var circle_marker_82705d810fae52d4252be021ac615fde = L.circleMarker(\n",
       "                [6.0, 12.5],\n",
       "                {&quot;bubblingMouseEvents&quot;: true, &quot;color&quot;: &quot;blue&quot;, &quot;dashArray&quot;: null, &quot;dashOffset&quot;: null, &quot;fill&quot;: true, &quot;fillColor&quot;: &quot;blue&quot;, &quot;fillOpacity&quot;: 0.2, &quot;fillRule&quot;: &quot;evenodd&quot;, &quot;lineCap&quot;: &quot;round&quot;, &quot;lineJoin&quot;: &quot;round&quot;, &quot;opacity&quot;: 1.0, &quot;radius&quot;: 13.37047776795466, &quot;stroke&quot;: true, &quot;weight&quot;: 3}\n",
       "            ).addTo(map_255fb209e9c02195a79cde7bbbc19ad7);\n",
       "        \n",
       "    \n",
       "        var popup_d7d754f153a67c9eac4d7f157155040b = L.popup({&quot;maxWidth&quot;: &quot;100%&quot;});\n",
       "\n",
       "        \n",
       "            \n",
       "                var html_2e830f9b694253a17c3c9bd231e635cf = $(`&lt;div id=&quot;html_2e830f9b694253a17c3c9bd231e635cf&quot; style=&quot;width: 100.0%; height: 100.0%;&quot;&gt;Cameroon&lt;/div&gt;`)[0];\n",
       "                popup_d7d754f153a67c9eac4d7f157155040b.setContent(html_2e830f9b694253a17c3c9bd231e635cf);\n",
       "            \n",
       "        \n",
       "\n",
       "        circle_marker_82705d810fae52d4252be021ac615fde.bindPopup(popup_d7d754f153a67c9eac4d7f157155040b)\n",
       "        ;\n",
       "\n",
       "        \n",
       "    \n",
       "    \n",
       "            var circle_marker_80bd441683ef1a582addf4190e5352b8 = L.circleMarker(\n",
       "                [-2.5, 23.5],\n",
       "                {&quot;bubblingMouseEvents&quot;: true, &quot;color&quot;: &quot;blue&quot;, &quot;dashArray&quot;: null, &quot;dashOffset&quot;: null, &quot;fill&quot;: true, &quot;fillColor&quot;: &quot;blue&quot;, &quot;fillOpacity&quot;: 0.2, &quot;fillRule&quot;: &quot;evenodd&quot;, &quot;lineCap&quot;: &quot;round&quot;, &quot;lineJoin&quot;: &quot;round&quot;, &quot;opacity&quot;: 1.0, &quot;radius&quot;: 42.45893492268982, &quot;stroke&quot;: true, &quot;weight&quot;: 3}\n",
       "            ).addTo(map_255fb209e9c02195a79cde7bbbc19ad7);\n",
       "        \n",
       "    \n",
       "        var popup_ecbb218112e6181b1bb6cc3b424b581c = L.popup({&quot;maxWidth&quot;: &quot;100%&quot;});\n",
       "\n",
       "        \n",
       "            \n",
       "                var html_eb0910df2be09c988bb9d0f5e45673b9 = $(`&lt;div id=&quot;html_eb0910df2be09c988bb9d0f5e45673b9&quot; style=&quot;width: 100.0%; height: 100.0%;&quot;&gt;Congo, Dem. Rep.&lt;/div&gt;`)[0];\n",
       "                popup_ecbb218112e6181b1bb6cc3b424b581c.setContent(html_eb0910df2be09c988bb9d0f5e45673b9);\n",
       "            \n",
       "        \n",
       "\n",
       "        circle_marker_80bd441683ef1a582addf4190e5352b8.bindPopup(popup_ecbb218112e6181b1bb6cc3b424b581c)\n",
       "        ;\n",
       "\n",
       "        \n",
       "    \n",
       "    \n",
       "            var circle_marker_7cc49ab88df362635ac12de15b9abaa7 = L.circleMarker(\n",
       "                [-1.0, 15.5],\n",
       "                {&quot;bubblingMouseEvents&quot;: true, &quot;color&quot;: &quot;blue&quot;, &quot;dashArray&quot;: null, &quot;dashOffset&quot;: null, &quot;fill&quot;: true, &quot;fillColor&quot;: &quot;blue&quot;, &quot;fillOpacity&quot;: 0.2, &quot;fillRule&quot;: &quot;evenodd&quot;, &quot;lineCap&quot;: &quot;round&quot;, &quot;lineJoin&quot;: &quot;round&quot;, &quot;opacity&quot;: 1.0, &quot;radius&quot;: 6.681874714978711, &quot;stroke&quot;: true, &quot;weight&quot;: 3}\n",
       "            ).addTo(map_255fb209e9c02195a79cde7bbbc19ad7);\n",
       "        \n",
       "    \n",
       "        var popup_c4647ecbd25234f80ff2f8223008d79e = L.popup({&quot;maxWidth&quot;: &quot;100%&quot;});\n",
       "\n",
       "        \n",
       "            \n",
       "                var html_f496fa417e94f827e9c2059f346b0088 = $(`&lt;div id=&quot;html_f496fa417e94f827e9c2059f346b0088&quot; style=&quot;width: 100.0%; height: 100.0%;&quot;&gt;Congo, Rep.&lt;/div&gt;`)[0];\n",
       "                popup_c4647ecbd25234f80ff2f8223008d79e.setContent(html_f496fa417e94f827e9c2059f346b0088);\n",
       "            \n",
       "        \n",
       "\n",
       "        circle_marker_7cc49ab88df362635ac12de15b9abaa7.bindPopup(popup_c4647ecbd25234f80ff2f8223008d79e)\n",
       "        ;\n",
       "\n",
       "        \n",
       "    \n",
       "    \n",
       "            var circle_marker_9a78cad771954418474f7e929149852c = L.circleMarker(\n",
       "                [4.0, -73.25],\n",
       "                {&quot;bubblingMouseEvents&quot;: true, &quot;color&quot;: &quot;green&quot;, &quot;dashArray&quot;: null, &quot;dashOffset&quot;: null, &quot;fill&quot;: true, &quot;fillColor&quot;: &quot;green&quot;, &quot;fillOpacity&quot;: 0.2, &quot;fillRule&quot;: &quot;evenodd&quot;, &quot;lineCap&quot;: &quot;round&quot;, &quot;lineJoin&quot;: &quot;round&quot;, &quot;opacity&quot;: 1.0, &quot;radius&quot;: 9.002383384413296, &quot;stroke&quot;: true, &quot;weight&quot;: 3}\n",
       "            ).addTo(map_255fb209e9c02195a79cde7bbbc19ad7);\n",
       "        \n",
       "    \n",
       "        var popup_72109479da0e2747c69c6534ae7ec7f6 = L.popup({&quot;maxWidth&quot;: &quot;100%&quot;});\n",
       "\n",
       "        \n",
       "            \n",
       "                var html_5277feb746d992cbaa38e53032a4c388 = $(`&lt;div id=&quot;html_5277feb746d992cbaa38e53032a4c388&quot; style=&quot;width: 100.0%; height: 100.0%;&quot;&gt;Colombia&lt;/div&gt;`)[0];\n",
       "                popup_72109479da0e2747c69c6534ae7ec7f6.setContent(html_5277feb746d992cbaa38e53032a4c388);\n",
       "            \n",
       "        \n",
       "\n",
       "        circle_marker_9a78cad771954418474f7e929149852c.bindPopup(popup_72109479da0e2747c69c6534ae7ec7f6)\n",
       "        ;\n",
       "\n",
       "        \n",
       "    \n",
       "    \n",
       "            var circle_marker_10241f5664ee5c97740b1f02b10537cb = L.circleMarker(\n",
       "                [-12.23333, 44.44553],\n",
       "                {&quot;bubblingMouseEvents&quot;: true, &quot;color&quot;: &quot;blue&quot;, &quot;dashArray&quot;: null, &quot;dashOffset&quot;: null, &quot;fill&quot;: true, &quot;fillColor&quot;: &quot;blue&quot;, &quot;fillOpacity&quot;: 0.2, &quot;fillRule&quot;: &quot;evenodd&quot;, &quot;lineCap&quot;: &quot;round&quot;, &quot;lineJoin&quot;: &quot;round&quot;, &quot;opacity&quot;: 1.0, &quot;radius&quot;: 3.1816440984856076, &quot;stroke&quot;: true, &quot;weight&quot;: 3}\n",
       "            ).addTo(map_255fb209e9c02195a79cde7bbbc19ad7);\n",
       "        \n",
       "    \n",
       "        var popup_e2df8cb492e41393eff6a3098f6044d1 = L.popup({&quot;maxWidth&quot;: &quot;100%&quot;});\n",
       "\n",
       "        \n",
       "            \n",
       "                var html_a44584d009da1edb436c52b6357e84fd = $(`&lt;div id=&quot;html_a44584d009da1edb436c52b6357e84fd&quot; style=&quot;width: 100.0%; height: 100.0%;&quot;&gt;Comoros&lt;/div&gt;`)[0];\n",
       "                popup_e2df8cb492e41393eff6a3098f6044d1.setContent(html_a44584d009da1edb436c52b6357e84fd);\n",
       "            \n",
       "        \n",
       "\n",
       "        circle_marker_10241f5664ee5c97740b1f02b10537cb.bindPopup(popup_e2df8cb492e41393eff6a3098f6044d1)\n",
       "        ;\n",
       "\n",
       "        \n",
       "    \n",
       "    \n",
       "            var circle_marker_9fdfdd7ce97783c65a48e759fa8f501f = L.circleMarker(\n",
       "                [16.0, -24.0],\n",
       "                {&quot;bubblingMouseEvents&quot;: true, &quot;color&quot;: &quot;blue&quot;, &quot;dashArray&quot;: null, &quot;dashOffset&quot;: null, &quot;fill&quot;: true, &quot;fillColor&quot;: &quot;blue&quot;, &quot;fillOpacity&quot;: 0.2, &quot;fillRule&quot;: &quot;evenodd&quot;, &quot;lineCap&quot;: &quot;round&quot;, &quot;lineJoin&quot;: &quot;round&quot;, &quot;opacity&quot;: 1.0, &quot;radius&quot;: 1.4667952657766725, &quot;stroke&quot;: true, &quot;weight&quot;: 3}\n",
       "            ).addTo(map_255fb209e9c02195a79cde7bbbc19ad7);\n",
       "        \n",
       "    \n",
       "        var popup_a4cfd2234e52b4d0c9b3ffc2eccc3045 = L.popup({&quot;maxWidth&quot;: &quot;100%&quot;});\n",
       "\n",
       "        \n",
       "            \n",
       "                var html_11f99fe5242fff7deddb1a4466241c48 = $(`&lt;div id=&quot;html_11f99fe5242fff7deddb1a4466241c48&quot; style=&quot;width: 100.0%; height: 100.0%;&quot;&gt;Cape Verde&lt;/div&gt;`)[0];\n",
       "                popup_a4cfd2234e52b4d0c9b3ffc2eccc3045.setContent(html_11f99fe5242fff7deddb1a4466241c48);\n",
       "            \n",
       "        \n",
       "\n",
       "        circle_marker_9fdfdd7ce97783c65a48e759fa8f501f.bindPopup(popup_a4cfd2234e52b4d0c9b3ffc2eccc3045)\n",
       "        ;\n",
       "\n",
       "        \n",
       "    \n",
       "    \n",
       "            var circle_marker_fb56cb6e52bed27f2270910b8033bdba = L.circleMarker(\n",
       "                [10.0, -84.0],\n",
       "                {&quot;bubblingMouseEvents&quot;: true, &quot;color&quot;: &quot;green&quot;, &quot;dashArray&quot;: null, &quot;dashOffset&quot;: null, &quot;fill&quot;: true, &quot;fillColor&quot;: &quot;green&quot;, &quot;fillOpacity&quot;: 0.2, &quot;fillRule&quot;: &quot;evenodd&quot;, &quot;lineCap&quot;: &quot;round&quot;, &quot;lineJoin&quot;: &quot;round&quot;, &quot;opacity&quot;: 1.0, &quot;radius&quot;: 1.402496325012203, &quot;stroke&quot;: true, &quot;weight&quot;: 3}\n",
       "            ).addTo(map_255fb209e9c02195a79cde7bbbc19ad7);\n",
       "        \n",
       "    \n",
       "        var popup_d2204ebaf717fcbde08fb5aad30294d0 = L.popup({&quot;maxWidth&quot;: &quot;100%&quot;});\n",
       "\n",
       "        \n",
       "            \n",
       "                var html_f8a05087399bd6395602700ae3ee28ff = $(`&lt;div id=&quot;html_f8a05087399bd6395602700ae3ee28ff&quot; style=&quot;width: 100.0%; height: 100.0%;&quot;&gt;Costa Rica&lt;/div&gt;`)[0];\n",
       "                popup_d2204ebaf717fcbde08fb5aad30294d0.setContent(html_f8a05087399bd6395602700ae3ee28ff);\n",
       "            \n",
       "        \n",
       "\n",
       "        circle_marker_fb56cb6e52bed27f2270910b8033bdba.bindPopup(popup_d2204ebaf717fcbde08fb5aad30294d0)\n",
       "        ;\n",
       "\n",
       "        \n",
       "    \n",
       "    \n",
       "            var circle_marker_0d3822405ad5337aeb4c60de839c37f7 = L.circleMarker(\n",
       "                [49.75, 15.0],\n",
       "                {&quot;bubblingMouseEvents&quot;: true, &quot;color&quot;: &quot;black&quot;, &quot;dashArray&quot;: null, &quot;dashOffset&quot;: null, &quot;fill&quot;: true, &quot;fillColor&quot;: &quot;black&quot;, &quot;fillOpacity&quot;: 0.2, &quot;fillRule&quot;: &quot;evenodd&quot;, &quot;lineCap&quot;: &quot;round&quot;, &quot;lineJoin&quot;: &quot;round&quot;, &quot;opacity&quot;: 1.0, &quot;radius&quot;: 0.31720301862166483, &quot;stroke&quot;: true, &quot;weight&quot;: 3}\n",
       "            ).addTo(map_255fb209e9c02195a79cde7bbbc19ad7);\n",
       "        \n",
       "    \n",
       "        var popup_b07f93c9621f53c7ec8eaf6c6ecbd9a7 = L.popup({&quot;maxWidth&quot;: &quot;100%&quot;});\n",
       "\n",
       "        \n",
       "            \n",
       "                var html_e249c770c1a66c669de0438e4054c1bc = $(`&lt;div id=&quot;html_e249c770c1a66c669de0438e4054c1bc&quot; style=&quot;width: 100.0%; height: 100.0%;&quot;&gt;Czech Republic&lt;/div&gt;`)[0];\n",
       "                popup_b07f93c9621f53c7ec8eaf6c6ecbd9a7.setContent(html_e249c770c1a66c669de0438e4054c1bc);\n",
       "            \n",
       "        \n",
       "\n",
       "        circle_marker_0d3822405ad5337aeb4c60de839c37f7.bindPopup(popup_b07f93c9621f53c7ec8eaf6c6ecbd9a7)\n",
       "        ;\n",
       "\n",
       "        \n",
       "    \n",
       "    \n",
       "            var circle_marker_03b78e2721661e382d78645250adf482 = L.circleMarker(\n",
       "                [51.5, 10.5],\n",
       "                {&quot;bubblingMouseEvents&quot;: true, &quot;color&quot;: &quot;black&quot;, &quot;dashArray&quot;: null, &quot;dashOffset&quot;: null, &quot;fill&quot;: true, &quot;fillColor&quot;: &quot;black&quot;, &quot;fillOpacity&quot;: 0.2, &quot;fillRule&quot;: &quot;evenodd&quot;, &quot;lineCap&quot;: &quot;round&quot;, &quot;lineJoin&quot;: &quot;round&quot;, &quot;opacity&quot;: 1.0, &quot;radius&quot;: 2.957623648166546, &quot;stroke&quot;: true, &quot;weight&quot;: 3}\n",
       "            ).addTo(map_255fb209e9c02195a79cde7bbbc19ad7);\n",
       "        \n",
       "    \n",
       "        var popup_db6bc32209e23e9883c170f4d34097a7 = L.popup({&quot;maxWidth&quot;: &quot;100%&quot;});\n",
       "\n",
       "        \n",
       "            \n",
       "                var html_6130d191ab6d055ff4782ccc20e187bb = $(`&lt;div id=&quot;html_6130d191ab6d055ff4782ccc20e187bb&quot; style=&quot;width: 100.0%; height: 100.0%;&quot;&gt;Germany&lt;/div&gt;`)[0];\n",
       "                popup_db6bc32209e23e9883c170f4d34097a7.setContent(html_6130d191ab6d055ff4782ccc20e187bb);\n",
       "            \n",
       "        \n",
       "\n",
       "        circle_marker_03b78e2721661e382d78645250adf482.bindPopup(popup_db6bc32209e23e9883c170f4d34097a7)\n",
       "        ;\n",
       "\n",
       "        \n",
       "    \n",
       "    \n",
       "            var circle_marker_544618fdda73160047d705d9792388b0 = L.circleMarker(\n",
       "                [11.58901, 43.14503],\n",
       "                {&quot;bubblingMouseEvents&quot;: true, &quot;color&quot;: &quot;blue&quot;, &quot;dashArray&quot;: null, &quot;dashOffset&quot;: null, &quot;fill&quot;: true, &quot;fillColor&quot;: &quot;blue&quot;, &quot;fillOpacity&quot;: 0.2, &quot;fillRule&quot;: &quot;evenodd&quot;, &quot;lineCap&quot;: &quot;round&quot;, &quot;lineJoin&quot;: &quot;round&quot;, &quot;opacity&quot;: 1.0, &quot;radius&quot;: 2.244091994176071, &quot;stroke&quot;: true, &quot;weight&quot;: 3}\n",
       "            ).addTo(map_255fb209e9c02195a79cde7bbbc19ad7);\n",
       "        \n",
       "    \n",
       "        var popup_15ad9b892496145c272de0860ab651a2 = L.popup({&quot;maxWidth&quot;: &quot;100%&quot;});\n",
       "\n",
       "        \n",
       "            \n",
       "                var html_4dda983572706077a970730d965fbbe0 = $(`&lt;div id=&quot;html_4dda983572706077a970730d965fbbe0&quot; style=&quot;width: 100.0%; height: 100.0%;&quot;&gt;Djibouti&lt;/div&gt;`)[0];\n",
       "                popup_15ad9b892496145c272de0860ab651a2.setContent(html_4dda983572706077a970730d965fbbe0);\n",
       "            \n",
       "        \n",
       "\n",
       "        circle_marker_544618fdda73160047d705d9792388b0.bindPopup(popup_15ad9b892496145c272de0860ab651a2)\n",
       "        ;\n",
       "\n",
       "        \n",
       "    \n",
       "    \n",
       "            var circle_marker_00ac4665957415be1f5eef9c47c2e4bc = L.circleMarker(\n",
       "                [56.0, 10.0],\n",
       "                {&quot;bubblingMouseEvents&quot;: true, &quot;color&quot;: &quot;black&quot;, &quot;dashArray&quot;: null, &quot;dashOffset&quot;: null, &quot;fill&quot;: true, &quot;fillColor&quot;: &quot;black&quot;, &quot;fillOpacity&quot;: 0.2, &quot;fillRule&quot;: &quot;evenodd&quot;, &quot;lineCap&quot;: &quot;round&quot;, &quot;lineJoin&quot;: &quot;round&quot;, &quot;opacity&quot;: 1.0, &quot;radius&quot;: 1.0884180738164053, &quot;stroke&quot;: true, &quot;weight&quot;: 3}\n",
       "            ).addTo(map_255fb209e9c02195a79cde7bbbc19ad7);\n",
       "        \n",
       "    \n",
       "        var popup_6045f4b239657c0fa060df8519e4f92c = L.popup({&quot;maxWidth&quot;: &quot;100%&quot;});\n",
       "\n",
       "        \n",
       "            \n",
       "                var html_c95aac48b795bd807fa415f00165b6d8 = $(`&lt;div id=&quot;html_c95aac48b795bd807fa415f00165b6d8&quot; style=&quot;width: 100.0%; height: 100.0%;&quot;&gt;Denmark&lt;/div&gt;`)[0];\n",
       "                popup_6045f4b239657c0fa060df8519e4f92c.setContent(html_c95aac48b795bd807fa415f00165b6d8);\n",
       "            \n",
       "        \n",
       "\n",
       "        circle_marker_00ac4665957415be1f5eef9c47c2e4bc.bindPopup(popup_6045f4b239657c0fa060df8519e4f92c)\n",
       "        ;\n",
       "\n",
       "        \n",
       "    \n",
       "    \n",
       "            var circle_marker_670b860de8d881d6cbc5d6ce9f2d1def = L.circleMarker(\n",
       "                [19.0, -70.66667],\n",
       "                {&quot;bubblingMouseEvents&quot;: true, &quot;color&quot;: &quot;green&quot;, &quot;dashArray&quot;: null, &quot;dashOffset&quot;: null, &quot;fill&quot;: true, &quot;fillColor&quot;: &quot;green&quot;, &quot;fillOpacity&quot;: 0.2, &quot;fillRule&quot;: &quot;evenodd&quot;, &quot;lineCap&quot;: &quot;round&quot;, &quot;lineJoin&quot;: &quot;round&quot;, &quot;opacity&quot;: 1.0, &quot;radius&quot;: 2.6350734064183507, &quot;stroke&quot;: true, &quot;weight&quot;: 3}\n",
       "            ).addTo(map_255fb209e9c02195a79cde7bbbc19ad7);\n",
       "        \n",
       "    \n",
       "        var popup_873e62afa374531850129a9cff2187e4 = L.popup({&quot;maxWidth&quot;: &quot;100%&quot;});\n",
       "\n",
       "        \n",
       "            \n",
       "                var html_4376aae325a7f33c0564307d29b79b5f = $(`&lt;div id=&quot;html_4376aae325a7f33c0564307d29b79b5f&quot; style=&quot;width: 100.0%; height: 100.0%;&quot;&gt;Dominican Republic&lt;/div&gt;`)[0];\n",
       "                popup_873e62afa374531850129a9cff2187e4.setContent(html_4376aae325a7f33c0564307d29b79b5f);\n",
       "            \n",
       "        \n",
       "\n",
       "        circle_marker_670b860de8d881d6cbc5d6ce9f2d1def.bindPopup(popup_873e62afa374531850129a9cff2187e4)\n",
       "        ;\n",
       "\n",
       "        \n",
       "    \n",
       "    \n",
       "            var circle_marker_615a3ed5bf42656a860fbee91c2ccd53 = L.circleMarker(\n",
       "                [28.0, 3.0],\n",
       "                {&quot;bubblingMouseEvents&quot;: true, &quot;color&quot;: &quot;blue&quot;, &quot;dashArray&quot;: null, &quot;dashOffset&quot;: null, &quot;fill&quot;: true, &quot;fillColor&quot;: &quot;blue&quot;, &quot;fillOpacity&quot;: 0.2, &quot;fillRule&quot;: &quot;evenodd&quot;, &quot;lineCap&quot;: &quot;round&quot;, &quot;lineJoin&quot;: &quot;round&quot;, &quot;opacity&quot;: 1.0, &quot;radius&quot;: 8.547725420605834, &quot;stroke&quot;: true, &quot;weight&quot;: 3}\n",
       "            ).addTo(map_255fb209e9c02195a79cde7bbbc19ad7);\n",
       "        \n",
       "    \n",
       "        var popup_aa8b171a806e2f3cbca5d515a5c2c9d4 = L.popup({&quot;maxWidth&quot;: &quot;100%&quot;});\n",
       "\n",
       "        \n",
       "            \n",
       "                var html_958d6670176b4247ac5abaea92a5e0fb = $(`&lt;div id=&quot;html_958d6670176b4247ac5abaea92a5e0fb&quot; style=&quot;width: 100.0%; height: 100.0%;&quot;&gt;Algeria&lt;/div&gt;`)[0];\n",
       "                popup_aa8b171a806e2f3cbca5d515a5c2c9d4.setContent(html_958d6670176b4247ac5abaea92a5e0fb);\n",
       "            \n",
       "        \n",
       "\n",
       "        circle_marker_615a3ed5bf42656a860fbee91c2ccd53.bindPopup(popup_aa8b171a806e2f3cbca5d515a5c2c9d4)\n",
       "        ;\n",
       "\n",
       "        \n",
       "    \n",
       "    \n",
       "            var circle_marker_fbd054aeb3de5cf874ab97da73df8b11 = L.circleMarker(\n",
       "                [-1.25, -78.25],\n",
       "                {&quot;bubblingMouseEvents&quot;: true, &quot;color&quot;: &quot;green&quot;, &quot;dashArray&quot;: null, &quot;dashOffset&quot;: null, &quot;fill&quot;: true, &quot;fillColor&quot;: &quot;green&quot;, &quot;fillOpacity&quot;: 0.2, &quot;fillRule&quot;: &quot;evenodd&quot;, &quot;lineCap&quot;: &quot;round&quot;, &quot;lineJoin&quot;: &quot;round&quot;, &quot;opacity&quot;: 1.0, &quot;radius&quot;: 4.34440267014846, &quot;stroke&quot;: true, &quot;weight&quot;: 3}\n",
       "            ).addTo(map_255fb209e9c02195a79cde7bbbc19ad7);\n",
       "        \n",
       "    \n",
       "        var popup_8fb4f80dfe6630958010963e2b5b0308 = L.popup({&quot;maxWidth&quot;: &quot;100%&quot;});\n",
       "\n",
       "        \n",
       "            \n",
       "                var html_98f972c2a241a25690a323d030edb16b = $(`&lt;div id=&quot;html_98f972c2a241a25690a323d030edb16b&quot; style=&quot;width: 100.0%; height: 100.0%;&quot;&gt;Ecuador&lt;/div&gt;`)[0];\n",
       "                popup_8fb4f80dfe6630958010963e2b5b0308.setContent(html_98f972c2a241a25690a323d030edb16b);\n",
       "            \n",
       "        \n",
       "\n",
       "        circle_marker_fbd054aeb3de5cf874ab97da73df8b11.bindPopup(popup_8fb4f80dfe6630958010963e2b5b0308)\n",
       "        ;\n",
       "\n",
       "        \n",
       "    \n",
       "    \n",
       "            var circle_marker_afec41984611e8cce14615173cced1fb = L.circleMarker(\n",
       "                [27.0, 30.0],\n",
       "                {&quot;bubblingMouseEvents&quot;: true, &quot;color&quot;: &quot;blue&quot;, &quot;dashArray&quot;: null, &quot;dashOffset&quot;: null, &quot;fill&quot;: true, &quot;fillColor&quot;: &quot;blue&quot;, &quot;fillOpacity&quot;: 0.2, &quot;fillRule&quot;: &quot;evenodd&quot;, &quot;lineCap&quot;: &quot;round&quot;, &quot;lineJoin&quot;: &quot;round&quot;, &quot;opacity&quot;: 1.0, &quot;radius&quot;: 6.652627784125568, &quot;stroke&quot;: true, &quot;weight&quot;: 3}\n",
       "            ).addTo(map_255fb209e9c02195a79cde7bbbc19ad7);\n",
       "        \n",
       "    \n",
       "        var popup_c95b3a6b275314f8bc1415d572453188 = L.popup({&quot;maxWidth&quot;: &quot;100%&quot;});\n",
       "\n",
       "        \n",
       "            \n",
       "                var html_d1af1dcb4aa8a3e37d0b37ec04e0e767 = $(`&lt;div id=&quot;html_d1af1dcb4aa8a3e37d0b37ec04e0e767&quot; style=&quot;width: 100.0%; height: 100.0%;&quot;&gt;Egypt&lt;/div&gt;`)[0];\n",
       "                popup_c95b3a6b275314f8bc1415d572453188.setContent(html_d1af1dcb4aa8a3e37d0b37ec04e0e767);\n",
       "            \n",
       "        \n",
       "\n",
       "        circle_marker_afec41984611e8cce14615173cced1fb.bindPopup(popup_c95b3a6b275314f8bc1415d572453188)\n",
       "        ;\n",
       "\n",
       "        \n",
       "    \n",
       "    \n",
       "            var circle_marker_c188498f5bd44a03d51002c530071b32 = L.circleMarker(\n",
       "                [40.0, -4.0],\n",
       "                {&quot;bubblingMouseEvents&quot;: true, &quot;color&quot;: &quot;black&quot;, &quot;dashArray&quot;: null, &quot;dashOffset&quot;: null, &quot;fill&quot;: true, &quot;fillColor&quot;: &quot;black&quot;, &quot;fillOpacity&quot;: 0.2, &quot;fillRule&quot;: &quot;evenodd&quot;, &quot;lineCap&quot;: &quot;round&quot;, &quot;lineJoin&quot;: &quot;round&quot;, &quot;opacity&quot;: 1.0, &quot;radius&quot;: 5.912389201233562, &quot;stroke&quot;: true, &quot;weight&quot;: 3}\n",
       "            ).addTo(map_255fb209e9c02195a79cde7bbbc19ad7);\n",
       "        \n",
       "    \n",
       "        var popup_94b5b96919d55092798b13cf119ae8ee = L.popup({&quot;maxWidth&quot;: &quot;100%&quot;});\n",
       "\n",
       "        \n",
       "            \n",
       "                var html_189ee78d5138dd0a50dc3d8bf43b4a61 = $(`&lt;div id=&quot;html_189ee78d5138dd0a50dc3d8bf43b4a61&quot; style=&quot;width: 100.0%; height: 100.0%;&quot;&gt;Spain&lt;/div&gt;`)[0];\n",
       "                popup_94b5b96919d55092798b13cf119ae8ee.setContent(html_189ee78d5138dd0a50dc3d8bf43b4a61);\n",
       "            \n",
       "        \n",
       "\n",
       "        circle_marker_c188498f5bd44a03d51002c530071b32.bindPopup(popup_94b5b96919d55092798b13cf119ae8ee)\n",
       "        ;\n",
       "\n",
       "        \n",
       "    \n",
       "    \n",
       "            var circle_marker_815d6a4fce3a4fac571508517de768c7 = L.circleMarker(\n",
       "                [59.0, 26.0],\n",
       "                {&quot;bubblingMouseEvents&quot;: true, &quot;color&quot;: &quot;black&quot;, &quot;dashArray&quot;: null, &quot;dashOffset&quot;: null, &quot;fill&quot;: true, &quot;fillColor&quot;: &quot;black&quot;, &quot;fillOpacity&quot;: 0.2, &quot;fillRule&quot;: &quot;evenodd&quot;, &quot;lineCap&quot;: &quot;round&quot;, &quot;lineJoin&quot;: &quot;round&quot;, &quot;opacity&quot;: 1.0, &quot;radius&quot;: 0.6446344362605358, &quot;stroke&quot;: true, &quot;weight&quot;: 3}\n",
       "            ).addTo(map_255fb209e9c02195a79cde7bbbc19ad7);\n",
       "        \n",
       "    \n",
       "        var popup_15019eb53bcb151f6e5194dd67b38bb7 = L.popup({&quot;maxWidth&quot;: &quot;100%&quot;});\n",
       "\n",
       "        \n",
       "            \n",
       "                var html_0a0fb77955312f2ec286686b8dab01fc = $(`&lt;div id=&quot;html_0a0fb77955312f2ec286686b8dab01fc&quot; style=&quot;width: 100.0%; height: 100.0%;&quot;&gt;Estonia&lt;/div&gt;`)[0];\n",
       "                popup_15019eb53bcb151f6e5194dd67b38bb7.setContent(html_0a0fb77955312f2ec286686b8dab01fc);\n",
       "            \n",
       "        \n",
       "\n",
       "        circle_marker_815d6a4fce3a4fac571508517de768c7.bindPopup(popup_15019eb53bcb151f6e5194dd67b38bb7)\n",
       "        ;\n",
       "\n",
       "        \n",
       "    \n",
       "    \n",
       "            var circle_marker_93d6a3c4c2e4d202a4162c933dacfb08 = L.circleMarker(\n",
       "                [9.0, 39.5],\n",
       "                {&quot;bubblingMouseEvents&quot;: true, &quot;color&quot;: &quot;blue&quot;, &quot;dashArray&quot;: null, &quot;dashOffset&quot;: null, &quot;fill&quot;: true, &quot;fillColor&quot;: &quot;blue&quot;, &quot;fillOpacity&quot;: 0.2, &quot;fillRule&quot;: &quot;evenodd&quot;, &quot;lineCap&quot;: &quot;round&quot;, &quot;lineJoin&quot;: &quot;round&quot;, &quot;opacity&quot;: 1.0, &quot;radius&quot;: 32.036203795508186, &quot;stroke&quot;: true, &quot;weight&quot;: 3}\n",
       "            ).addTo(map_255fb209e9c02195a79cde7bbbc19ad7);\n",
       "        \n",
       "    \n",
       "        var popup_d1ffa11ab190020d8e67e7e4cf921478 = L.popup({&quot;maxWidth&quot;: &quot;100%&quot;});\n",
       "\n",
       "        \n",
       "            \n",
       "                var html_1ac7fe0d62354d8290378c8e79a58f24 = $(`&lt;div id=&quot;html_1ac7fe0d62354d8290378c8e79a58f24&quot; style=&quot;width: 100.0%; height: 100.0%;&quot;&gt;Ethiopia&lt;/div&gt;`)[0];\n",
       "                popup_d1ffa11ab190020d8e67e7e4cf921478.setContent(html_1ac7fe0d62354d8290378c8e79a58f24);\n",
       "            \n",
       "        \n",
       "\n",
       "        circle_marker_93d6a3c4c2e4d202a4162c933dacfb08.bindPopup(popup_d1ffa11ab190020d8e67e7e4cf921478)\n",
       "        ;\n",
       "\n",
       "        \n",
       "    \n",
       "    \n",
       "            var circle_marker_18c19380dc4fe98f43a658f6d5bd29c9 = L.circleMarker(\n",
       "                [64.0, 26.0],\n",
       "                {&quot;bubblingMouseEvents&quot;: true, &quot;color&quot;: &quot;black&quot;, &quot;dashArray&quot;: null, &quot;dashOffset&quot;: null, &quot;fill&quot;: true, &quot;fillColor&quot;: &quot;black&quot;, &quot;fillOpacity&quot;: 0.2, &quot;fillRule&quot;: &quot;evenodd&quot;, &quot;lineCap&quot;: &quot;round&quot;, &quot;lineJoin&quot;: &quot;round&quot;, &quot;opacity&quot;: 1.0, &quot;stroke&quot;: true, &quot;weight&quot;: 3}\n",
       "            ).addTo(map_255fb209e9c02195a79cde7bbbc19ad7);\n",
       "        \n",
       "    \n",
       "        var popup_0bae7851681fe4dd386a412ad37a4d71 = L.popup({&quot;maxWidth&quot;: &quot;100%&quot;});\n",
       "\n",
       "        \n",
       "            \n",
       "                var html_addd2b272610b7c840b70954f23e5638 = $(`&lt;div id=&quot;html_addd2b272610b7c840b70954f23e5638&quot; style=&quot;width: 100.0%; height: 100.0%;&quot;&gt;Finland&lt;/div&gt;`)[0];\n",
       "                popup_0bae7851681fe4dd386a412ad37a4d71.setContent(html_addd2b272610b7c840b70954f23e5638);\n",
       "            \n",
       "        \n",
       "\n",
       "        circle_marker_18c19380dc4fe98f43a658f6d5bd29c9.bindPopup(popup_0bae7851681fe4dd386a412ad37a4d71)\n",
       "        ;\n",
       "\n",
       "        \n",
       "    \n",
       "    \n",
       "            var circle_marker_a6fc0bda39cf76f473af8d8fcc5d4a12 = L.circleMarker(\n",
       "                [-18.0, 178.0],\n",
       "                {&quot;bubblingMouseEvents&quot;: true, &quot;color&quot;: &quot;red&quot;, &quot;dashArray&quot;: null, &quot;dashOffset&quot;: null, &quot;fill&quot;: true, &quot;fillColor&quot;: &quot;red&quot;, &quot;fillOpacity&quot;: 0.2, &quot;fillRule&quot;: &quot;evenodd&quot;, &quot;lineCap&quot;: &quot;round&quot;, &quot;lineJoin&quot;: &quot;round&quot;, &quot;opacity&quot;: 1.0, &quot;radius&quot;: 1.2685737233520922, &quot;stroke&quot;: true, &quot;weight&quot;: 3}\n",
       "            ).addTo(map_255fb209e9c02195a79cde7bbbc19ad7);\n",
       "        \n",
       "    \n",
       "        var popup_1bcd3a2ecde14d6ff106eaa2d7b2c09c = L.popup({&quot;maxWidth&quot;: &quot;100%&quot;});\n",
       "\n",
       "        \n",
       "            \n",
       "                var html_4ce1263942879c69a0c91651e1507173 = $(`&lt;div id=&quot;html_4ce1263942879c69a0c91651e1507173&quot; style=&quot;width: 100.0%; height: 100.0%;&quot;&gt;Fiji&lt;/div&gt;`)[0];\n",
       "                popup_1bcd3a2ecde14d6ff106eaa2d7b2c09c.setContent(html_4ce1263942879c69a0c91651e1507173);\n",
       "            \n",
       "        \n",
       "\n",
       "        circle_marker_a6fc0bda39cf76f473af8d8fcc5d4a12.bindPopup(popup_1bcd3a2ecde14d6ff106eaa2d7b2c09c)\n",
       "        ;\n",
       "\n",
       "        \n",
       "    \n",
       "    \n",
       "            var circle_marker_cb4e3ed620d1095ee1f4836f03760265 = L.circleMarker(\n",
       "                [46.0, 2.0],\n",
       "                {&quot;bubblingMouseEvents&quot;: true, &quot;color&quot;: &quot;black&quot;, &quot;dashArray&quot;: null, &quot;dashOffset&quot;: null, &quot;fill&quot;: true, &quot;fillColor&quot;: &quot;black&quot;, &quot;fillOpacity&quot;: 0.2, &quot;fillRule&quot;: &quot;evenodd&quot;, &quot;lineCap&quot;: &quot;round&quot;, &quot;lineJoin&quot;: &quot;round&quot;, &quot;opacity&quot;: 1.0, &quot;radius&quot;: 2.57001824901904, &quot;stroke&quot;: true, &quot;weight&quot;: 3}\n",
       "            ).addTo(map_255fb209e9c02195a79cde7bbbc19ad7);\n",
       "        \n",
       "    \n",
       "        var popup_4a728dcd3ef2eb02ac6b8167c2de1934 = L.popup({&quot;maxWidth&quot;: &quot;100%&quot;});\n",
       "\n",
       "        \n",
       "            \n",
       "                var html_d46d1dc045c65c1b67d9ac09cc12cd7f = $(`&lt;div id=&quot;html_d46d1dc045c65c1b67d9ac09cc12cd7f&quot; style=&quot;width: 100.0%; height: 100.0%;&quot;&gt;France&lt;/div&gt;`)[0];\n",
       "                popup_4a728dcd3ef2eb02ac6b8167c2de1934.setContent(html_d46d1dc045c65c1b67d9ac09cc12cd7f);\n",
       "            \n",
       "        \n",
       "\n",
       "        circle_marker_cb4e3ed620d1095ee1f4836f03760265.bindPopup(popup_4a728dcd3ef2eb02ac6b8167c2de1934)\n",
       "        ;\n",
       "\n",
       "        \n",
       "    \n",
       "    \n",
       "            var circle_marker_365047828c43da70a5154a577cd1e349 = L.circleMarker(\n",
       "                [6.924, 158.162],\n",
       "                {&quot;bubblingMouseEvents&quot;: true, &quot;color&quot;: &quot;red&quot;, &quot;dashArray&quot;: null, &quot;dashOffset&quot;: null, &quot;fill&quot;: true, &quot;fillColor&quot;: &quot;red&quot;, &quot;fillOpacity&quot;: 0.2, &quot;fillRule&quot;: &quot;evenodd&quot;, &quot;lineCap&quot;: &quot;round&quot;, &quot;lineJoin&quot;: &quot;round&quot;, &quot;opacity&quot;: 1.0, &quot;radius&quot;: 1.0101672302782327, &quot;stroke&quot;: true, &quot;weight&quot;: 3}\n",
       "            ).addTo(map_255fb209e9c02195a79cde7bbbc19ad7);\n",
       "        \n",
       "    \n",
       "        var popup_21b1c75cabe1ae06aee919f9e6876408 = L.popup({&quot;maxWidth&quot;: &quot;100%&quot;});\n",
       "\n",
       "        \n",
       "            \n",
       "                var html_1456a57fcc9d5b8309504ef803dda64b = $(`&lt;div id=&quot;html_1456a57fcc9d5b8309504ef803dda64b&quot; style=&quot;width: 100.0%; height: 100.0%;&quot;&gt;Micronesia, Fed. Sts.&lt;/div&gt;`)[0];\n",
       "                popup_21b1c75cabe1ae06aee919f9e6876408.setContent(html_1456a57fcc9d5b8309504ef803dda64b);\n",
       "            \n",
       "        \n",
       "\n",
       "        circle_marker_365047828c43da70a5154a577cd1e349.bindPopup(popup_21b1c75cabe1ae06aee919f9e6876408)\n",
       "        ;\n",
       "\n",
       "        \n",
       "    \n",
       "    \n",
       "            var circle_marker_b8e07b437d2637657f95565ad4124a61 = L.circleMarker(\n",
       "                [-1.0, 11.75],\n",
       "                {&quot;bubblingMouseEvents&quot;: true, &quot;color&quot;: &quot;blue&quot;, &quot;dashArray&quot;: null, &quot;dashOffset&quot;: null, &quot;fill&quot;: true, &quot;fillColor&quot;: &quot;blue&quot;, &quot;fillOpacity&quot;: 0.2, &quot;fillRule&quot;: &quot;evenodd&quot;, &quot;lineCap&quot;: &quot;round&quot;, &quot;lineJoin&quot;: &quot;round&quot;, &quot;opacity&quot;: 1.0, &quot;radius&quot;: 1.7743739978493467, &quot;stroke&quot;: true, &quot;weight&quot;: 3}\n",
       "            ).addTo(map_255fb209e9c02195a79cde7bbbc19ad7);\n",
       "        \n",
       "    \n",
       "        var popup_a1c3061266fd5ea608ae2492e2246685 = L.popup({&quot;maxWidth&quot;: &quot;100%&quot;});\n",
       "\n",
       "        \n",
       "            \n",
       "                var html_fec9ad7010fe1fac0639afed48a11b8f = $(`&lt;div id=&quot;html_fec9ad7010fe1fac0639afed48a11b8f&quot; style=&quot;width: 100.0%; height: 100.0%;&quot;&gt;Gabon&lt;/div&gt;`)[0];\n",
       "                popup_a1c3061266fd5ea608ae2492e2246685.setContent(html_fec9ad7010fe1fac0639afed48a11b8f);\n",
       "            \n",
       "        \n",
       "\n",
       "        circle_marker_b8e07b437d2637657f95565ad4124a61.bindPopup(popup_a1c3061266fd5ea608ae2492e2246685)\n",
       "        ;\n",
       "\n",
       "        \n",
       "    \n",
       "    \n",
       "            var circle_marker_78acaa6773bff9381316b17c35608bcf = L.circleMarker(\n",
       "                [54.75844, -2.69531],\n",
       "                {&quot;bubblingMouseEvents&quot;: true, &quot;color&quot;: &quot;black&quot;, &quot;dashArray&quot;: null, &quot;dashOffset&quot;: null, &quot;fill&quot;: true, &quot;fillColor&quot;: &quot;black&quot;, &quot;fillOpacity&quot;: 0.2, &quot;fillRule&quot;: &quot;evenodd&quot;, &quot;lineCap&quot;: &quot;round&quot;, &quot;lineJoin&quot;: &quot;round&quot;, &quot;opacity&quot;: 1.0, &quot;radius&quot;: 4.516844160364442, &quot;stroke&quot;: true, &quot;weight&quot;: 3}\n",
       "            ).addTo(map_255fb209e9c02195a79cde7bbbc19ad7);\n",
       "        \n",
       "    \n",
       "        var popup_f2352e308ba41ddce74de7b3eee928ad = L.popup({&quot;maxWidth&quot;: &quot;100%&quot;});\n",
       "\n",
       "        \n",
       "            \n",
       "                var html_d8263e944165f60d3a11e2612d69b2ec = $(`&lt;div id=&quot;html_d8263e944165f60d3a11e2612d69b2ec&quot; style=&quot;width: 100.0%; height: 100.0%;&quot;&gt;United Kingdom&lt;/div&gt;`)[0];\n",
       "                popup_f2352e308ba41ddce74de7b3eee928ad.setContent(html_d8263e944165f60d3a11e2612d69b2ec);\n",
       "            \n",
       "        \n",
       "\n",
       "        circle_marker_78acaa6773bff9381316b17c35608bcf.bindPopup(popup_f2352e308ba41ddce74de7b3eee928ad)\n",
       "        ;\n",
       "\n",
       "        \n",
       "    \n",
       "    \n",
       "            var circle_marker_f9dfb47be3077a5f3471e065c3ddb49d = L.circleMarker(\n",
       "                [41.99998, 43.4999],\n",
       "                {&quot;bubblingMouseEvents&quot;: true, &quot;color&quot;: &quot;black&quot;, &quot;dashArray&quot;: null, &quot;dashOffset&quot;: null, &quot;fill&quot;: true, &quot;fillColor&quot;: &quot;black&quot;, &quot;fillOpacity&quot;: 0.2, &quot;fillRule&quot;: &quot;evenodd&quot;, &quot;lineCap&quot;: &quot;round&quot;, &quot;lineJoin&quot;: &quot;round&quot;, &quot;opacity&quot;: 1.0, &quot;radius&quot;: 4.2953024311538215, &quot;stroke&quot;: true, &quot;weight&quot;: 3}\n",
       "            ).addTo(map_255fb209e9c02195a79cde7bbbc19ad7);\n",
       "        \n",
       "    \n",
       "        var popup_7388eaa5f0bd66288636b2e6503a81d1 = L.popup({&quot;maxWidth&quot;: &quot;100%&quot;});\n",
       "\n",
       "        \n",
       "            \n",
       "                var html_ba4133a93411a274e6c65c90c5ee550b = $(`&lt;div id=&quot;html_ba4133a93411a274e6c65c90c5ee550b&quot; style=&quot;width: 100.0%; height: 100.0%;&quot;&gt;Georgia&lt;/div&gt;`)[0];\n",
       "                popup_7388eaa5f0bd66288636b2e6503a81d1.setContent(html_ba4133a93411a274e6c65c90c5ee550b);\n",
       "            \n",
       "        \n",
       "\n",
       "        circle_marker_f9dfb47be3077a5f3471e065c3ddb49d.bindPopup(popup_7388eaa5f0bd66288636b2e6503a81d1)\n",
       "        ;\n",
       "\n",
       "        \n",
       "    \n",
       "    \n",
       "            var circle_marker_73495286cc859fc85d00c2b062e6e55e = L.circleMarker(\n",
       "                [8.1, -1.2],\n",
       "                {&quot;bubblingMouseEvents&quot;: true, &quot;color&quot;: &quot;blue&quot;, &quot;dashArray&quot;: null, &quot;dashOffset&quot;: null, &quot;fill&quot;: true, &quot;fillColor&quot;: &quot;blue&quot;, &quot;fillOpacity&quot;: 0.2, &quot;fillRule&quot;: &quot;evenodd&quot;, &quot;lineCap&quot;: &quot;round&quot;, &quot;lineJoin&quot;: &quot;round&quot;, &quot;opacity&quot;: 1.0, &quot;radius&quot;: 15.016869987417403, &quot;stroke&quot;: true, &quot;weight&quot;: 3}\n",
       "            ).addTo(map_255fb209e9c02195a79cde7bbbc19ad7);\n",
       "        \n",
       "    \n",
       "        var popup_0e6e2d92e480a62e18ed67f86b80cbe8 = L.popup({&quot;maxWidth&quot;: &quot;100%&quot;});\n",
       "\n",
       "        \n",
       "            \n",
       "                var html_df55bea4944e46daeda255d6ec14577e = $(`&lt;div id=&quot;html_df55bea4944e46daeda255d6ec14577e&quot; style=&quot;width: 100.0%; height: 100.0%;&quot;&gt;Ghana&lt;/div&gt;`)[0];\n",
       "                popup_0e6e2d92e480a62e18ed67f86b80cbe8.setContent(html_df55bea4944e46daeda255d6ec14577e);\n",
       "            \n",
       "        \n",
       "\n",
       "        circle_marker_73495286cc859fc85d00c2b062e6e55e.bindPopup(popup_0e6e2d92e480a62e18ed67f86b80cbe8)\n",
       "        ;\n",
       "\n",
       "        \n",
       "    \n",
       "    \n",
       "            var circle_marker_07907410c38b381b2ad4d1d17314e669 = L.circleMarker(\n",
       "                [10.83333, -10.66667],\n",
       "                {&quot;bubblingMouseEvents&quot;: true, &quot;color&quot;: &quot;blue&quot;, &quot;dashArray&quot;: null, &quot;dashOffset&quot;: null, &quot;fill&quot;: true, &quot;fillColor&quot;: &quot;blue&quot;, &quot;fillOpacity&quot;: 0.2, &quot;fillRule&quot;: &quot;evenodd&quot;, &quot;lineCap&quot;: &quot;round&quot;, &quot;lineJoin&quot;: &quot;round&quot;, &quot;opacity&quot;: 1.0, &quot;radius&quot;: 11.514913134644747, &quot;stroke&quot;: true, &quot;weight&quot;: 3}\n",
       "            ).addTo(map_255fb209e9c02195a79cde7bbbc19ad7);\n",
       "        \n",
       "    \n",
       "        var popup_95c11a0e278cf9cfa2dec88b35ed4063 = L.popup({&quot;maxWidth&quot;: &quot;100%&quot;});\n",
       "\n",
       "        \n",
       "            \n",
       "                var html_f8d1f0e4c7aa3f6cefe3e94d9e3b595d = $(`&lt;div id=&quot;html_f8d1f0e4c7aa3f6cefe3e94d9e3b595d&quot; style=&quot;width: 100.0%; height: 100.0%;&quot;&gt;Guinea&lt;/div&gt;`)[0];\n",
       "                popup_95c11a0e278cf9cfa2dec88b35ed4063.setContent(html_f8d1f0e4c7aa3f6cefe3e94d9e3b595d);\n",
       "            \n",
       "        \n",
       "\n",
       "        circle_marker_07907410c38b381b2ad4d1d17314e669.bindPopup(popup_95c11a0e278cf9cfa2dec88b35ed4063)\n",
       "        ;\n",
       "\n",
       "        \n",
       "    \n",
       "    \n",
       "            var circle_marker_93a4b8b03c5e246fb98e123dff6b6955 = L.circleMarker(\n",
       "                [13.5, -15.5],\n",
       "                {&quot;bubblingMouseEvents&quot;: true, &quot;color&quot;: &quot;blue&quot;, &quot;dashArray&quot;: null, &quot;dashOffset&quot;: null, &quot;fill&quot;: true, &quot;fillColor&quot;: &quot;blue&quot;, &quot;fillOpacity&quot;: 0.2, &quot;fillRule&quot;: &quot;evenodd&quot;, &quot;lineCap&quot;: &quot;round&quot;, &quot;lineJoin&quot;: &quot;round&quot;, &quot;opacity&quot;: 1.0, &quot;radius&quot;: 4.381298115773378, &quot;stroke&quot;: true, &quot;weight&quot;: 3}\n",
       "            ).addTo(map_255fb209e9c02195a79cde7bbbc19ad7);\n",
       "        \n",
       "    \n",
       "        var popup_f8c775827484afadc9b9a828cd9c932d = L.popup({&quot;maxWidth&quot;: &quot;100%&quot;});\n",
       "\n",
       "        \n",
       "            \n",
       "                var html_4fad3d5b4c2c095ed65ba3d50e6dc71e = $(`&lt;div id=&quot;html_4fad3d5b4c2c095ed65ba3d50e6dc71e&quot; style=&quot;width: 100.0%; height: 100.0%;&quot;&gt;Gambia&lt;/div&gt;`)[0];\n",
       "                popup_f8c775827484afadc9b9a828cd9c932d.setContent(html_4fad3d5b4c2c095ed65ba3d50e6dc71e);\n",
       "            \n",
       "        \n",
       "\n",
       "        circle_marker_93a4b8b03c5e246fb98e123dff6b6955.bindPopup(popup_f8c775827484afadc9b9a828cd9c932d)\n",
       "        ;\n",
       "\n",
       "        \n",
       "    \n",
       "    \n",
       "            var circle_marker_c8119232941bcc45428ada054f908261 = L.circleMarker(\n",
       "                [12.0, -15.0],\n",
       "                {&quot;bubblingMouseEvents&quot;: true, &quot;color&quot;: &quot;blue&quot;, &quot;dashArray&quot;: null, &quot;dashOffset&quot;: null, &quot;fill&quot;: true, &quot;fillColor&quot;: &quot;blue&quot;, &quot;fillOpacity&quot;: 0.2, &quot;fillRule&quot;: &quot;evenodd&quot;, &quot;lineCap&quot;: &quot;round&quot;, &quot;lineJoin&quot;: &quot;round&quot;, &quot;opacity&quot;: 1.0, &quot;radius&quot;: 4.868250000644995, &quot;stroke&quot;: true, &quot;weight&quot;: 3}\n",
       "            ).addTo(map_255fb209e9c02195a79cde7bbbc19ad7);\n",
       "        \n",
       "    \n",
       "        var popup_f30ad37344fbdcfdaa4d43734502aa6d = L.popup({&quot;maxWidth&quot;: &quot;100%&quot;});\n",
       "\n",
       "        \n",
       "            \n",
       "                var html_46d5212b573cab58b65b11b3690b861d = $(`&lt;div id=&quot;html_46d5212b573cab58b65b11b3690b861d&quot; style=&quot;width: 100.0%; height: 100.0%;&quot;&gt;Guinea-Bissau&lt;/div&gt;`)[0];\n",
       "                popup_f30ad37344fbdcfdaa4d43734502aa6d.setContent(html_46d5212b573cab58b65b11b3690b861d);\n",
       "            \n",
       "        \n",
       "\n",
       "        circle_marker_c8119232941bcc45428ada054f908261.bindPopup(popup_f30ad37344fbdcfdaa4d43734502aa6d)\n",
       "        ;\n",
       "\n",
       "        \n",
       "    \n",
       "    \n",
       "            var circle_marker_3838a34af6ae5b5aaa79ea32ab5fc24e = L.circleMarker(\n",
       "                [39.0, 22.0],\n",
       "                {&quot;bubblingMouseEvents&quot;: true, &quot;color&quot;: &quot;black&quot;, &quot;dashArray&quot;: null, &quot;dashOffset&quot;: null, &quot;fill&quot;: true, &quot;fillColor&quot;: &quot;black&quot;, &quot;fillOpacity&quot;: 0.2, &quot;fillRule&quot;: &quot;evenodd&quot;, &quot;lineCap&quot;: &quot;round&quot;, &quot;lineJoin&quot;: &quot;round&quot;, &quot;opacity&quot;: 1.0, &quot;radius&quot;: 2.178977304449507, &quot;stroke&quot;: true, &quot;weight&quot;: 3}\n",
       "            ).addTo(map_255fb209e9c02195a79cde7bbbc19ad7);\n",
       "        \n",
       "    \n",
       "        var popup_0c760e44c230fe08600fab2cc0194c22 = L.popup({&quot;maxWidth&quot;: &quot;100%&quot;});\n",
       "\n",
       "        \n",
       "            \n",
       "                var html_aebb575ae6c215c7fa346831c761fa1d = $(`&lt;div id=&quot;html_aebb575ae6c215c7fa346831c761fa1d&quot; style=&quot;width: 100.0%; height: 100.0%;&quot;&gt;Greece&lt;/div&gt;`)[0];\n",
       "                popup_0c760e44c230fe08600fab2cc0194c22.setContent(html_aebb575ae6c215c7fa346831c761fa1d);\n",
       "            \n",
       "        \n",
       "\n",
       "        circle_marker_3838a34af6ae5b5aaa79ea32ab5fc24e.bindPopup(popup_0c760e44c230fe08600fab2cc0194c22)\n",
       "        ;\n",
       "\n",
       "        \n",
       "    \n",
       "    \n",
       "            var circle_marker_e651e1ce3c4903c463fe361ef44146a1 = L.circleMarker(\n",
       "                [14.64072, -90.51327],\n",
       "                {&quot;bubblingMouseEvents&quot;: true, &quot;color&quot;: &quot;green&quot;, &quot;dashArray&quot;: null, &quot;dashOffset&quot;: null, &quot;fill&quot;: true, &quot;fillColor&quot;: &quot;green&quot;, &quot;fillOpacity&quot;: 0.2, &quot;fillRule&quot;: &quot;evenodd&quot;, &quot;lineCap&quot;: &quot;round&quot;, &quot;lineJoin&quot;: &quot;round&quot;, &quot;opacity&quot;: 1.0, &quot;radius&quot;: 7.987553755377376, &quot;stroke&quot;: true, &quot;weight&quot;: 3}\n",
       "            ).addTo(map_255fb209e9c02195a79cde7bbbc19ad7);\n",
       "        \n",
       "    \n",
       "        var popup_e2325e16a30307a4b76c5a8d2ca3c135 = L.popup({&quot;maxWidth&quot;: &quot;100%&quot;});\n",
       "\n",
       "        \n",
       "            \n",
       "                var html_8e00cd3ab6bc200c34d0e02d38006fbe = $(`&lt;div id=&quot;html_8e00cd3ab6bc200c34d0e02d38006fbe&quot; style=&quot;width: 100.0%; height: 100.0%;&quot;&gt;Guatemala&lt;/div&gt;`)[0];\n",
       "                popup_e2325e16a30307a4b76c5a8d2ca3c135.setContent(html_8e00cd3ab6bc200c34d0e02d38006fbe);\n",
       "            \n",
       "        \n",
       "\n",
       "        circle_marker_e651e1ce3c4903c463fe361ef44146a1.bindPopup(popup_e2325e16a30307a4b76c5a8d2ca3c135)\n",
       "        ;\n",
       "\n",
       "        \n",
       "    \n",
       "    \n",
       "            var circle_marker_434f87abff6c00fbb1d445ad94c53fb3 = L.circleMarker(\n",
       "                [5.0, -59.0],\n",
       "                {&quot;bubblingMouseEvents&quot;: true, &quot;color&quot;: &quot;green&quot;, &quot;dashArray&quot;: null, &quot;dashOffset&quot;: null, &quot;fill&quot;: true, &quot;fillColor&quot;: &quot;green&quot;, &quot;fillOpacity&quot;: 0.2, &quot;fillRule&quot;: &quot;evenodd&quot;, &quot;lineCap&quot;: &quot;round&quot;, &quot;lineJoin&quot;: &quot;round&quot;, &quot;opacity&quot;: 1.0, &quot;radius&quot;: 1.4406180819073164, &quot;stroke&quot;: true, &quot;weight&quot;: 3}\n",
       "            ).addTo(map_255fb209e9c02195a79cde7bbbc19ad7);\n",
       "        \n",
       "    \n",
       "        var popup_6f0594a1341ed43f8a5160fdd063ee01 = L.popup({&quot;maxWidth&quot;: &quot;100%&quot;});\n",
       "\n",
       "        \n",
       "            \n",
       "                var html_1f06db49195d7b46ae4c12c11f1b8e19 = $(`&lt;div id=&quot;html_1f06db49195d7b46ae4c12c11f1b8e19&quot; style=&quot;width: 100.0%; height: 100.0%;&quot;&gt;Guyana&lt;/div&gt;`)[0];\n",
       "                popup_6f0594a1341ed43f8a5160fdd063ee01.setContent(html_1f06db49195d7b46ae4c12c11f1b8e19);\n",
       "            \n",
       "        \n",
       "\n",
       "        circle_marker_434f87abff6c00fbb1d445ad94c53fb3.bindPopup(popup_6f0594a1341ed43f8a5160fdd063ee01)\n",
       "        ;\n",
       "\n",
       "        \n",
       "    \n",
       "    \n",
       "            var circle_marker_05b3b98c9be057b7a928290d477e3c9f = L.circleMarker(\n",
       "                [15.0, -86.5],\n",
       "                {&quot;bubblingMouseEvents&quot;: true, &quot;color&quot;: &quot;green&quot;, &quot;dashArray&quot;: null, &quot;dashOffset&quot;: null, &quot;fill&quot;: true, &quot;fillColor&quot;: &quot;green&quot;, &quot;fillOpacity&quot;: 0.2, &quot;fillRule&quot;: &quot;evenodd&quot;, &quot;lineCap&quot;: &quot;round&quot;, &quot;lineJoin&quot;: &quot;round&quot;, &quot;opacity&quot;: 1.0, &quot;radius&quot;: 6.605402401670616, &quot;stroke&quot;: true, &quot;weight&quot;: 3}\n",
       "            ).addTo(map_255fb209e9c02195a79cde7bbbc19ad7);\n",
       "        \n",
       "    \n",
       "        var popup_f21901b43a22217f0ceafb82bb14a082 = L.popup({&quot;maxWidth&quot;: &quot;100%&quot;});\n",
       "\n",
       "        \n",
       "            \n",
       "                var html_d45aad046066efb68b3f26d245c24c69 = $(`&lt;div id=&quot;html_d45aad046066efb68b3f26d245c24c69&quot; style=&quot;width: 100.0%; height: 100.0%;&quot;&gt;Honduras&lt;/div&gt;`)[0];\n",
       "                popup_f21901b43a22217f0ceafb82bb14a082.setContent(html_d45aad046066efb68b3f26d245c24c69);\n",
       "            \n",
       "        \n",
       "\n",
       "        circle_marker_05b3b98c9be057b7a928290d477e3c9f.bindPopup(popup_f21901b43a22217f0ceafb82bb14a082)\n",
       "        ;\n",
       "\n",
       "        \n",
       "    \n",
       "    \n",
       "            var circle_marker_86340203018ead571954dd42291ac403 = L.circleMarker(\n",
       "                [45.16667, 15.5],\n",
       "                {&quot;bubblingMouseEvents&quot;: true, &quot;color&quot;: &quot;black&quot;, &quot;dashArray&quot;: null, &quot;dashOffset&quot;: null, &quot;fill&quot;: true, &quot;fillColor&quot;: &quot;black&quot;, &quot;fillOpacity&quot;: 0.2, &quot;fillRule&quot;: &quot;evenodd&quot;, &quot;lineCap&quot;: &quot;round&quot;, &quot;lineJoin&quot;: &quot;round&quot;, &quot;opacity&quot;: 1.0, &quot;stroke&quot;: true, &quot;weight&quot;: 3}\n",
       "            ).addTo(map_255fb209e9c02195a79cde7bbbc19ad7);\n",
       "        \n",
       "    \n",
       "        var popup_b65a4780d1e4f3013268dd63be81aafc = L.popup({&quot;maxWidth&quot;: &quot;100%&quot;});\n",
       "\n",
       "        \n",
       "            \n",
       "                var html_90b390eb2fdfe2494028c95ae6f5e95f = $(`&lt;div id=&quot;html_90b390eb2fdfe2494028c95ae6f5e95f&quot; style=&quot;width: 100.0%; height: 100.0%;&quot;&gt;Croatia&lt;/div&gt;`)[0];\n",
       "                popup_b65a4780d1e4f3013268dd63be81aafc.setContent(html_90b390eb2fdfe2494028c95ae6f5e95f);\n",
       "            \n",
       "        \n",
       "\n",
       "        circle_marker_86340203018ead571954dd42291ac403.bindPopup(popup_b65a4780d1e4f3013268dd63be81aafc)\n",
       "        ;\n",
       "\n",
       "        \n",
       "    \n",
       "    \n",
       "            var circle_marker_043b598bd747a5d885a11880259772e3 = L.circleMarker(\n",
       "                [19.0, -72.41667],\n",
       "                {&quot;bubblingMouseEvents&quot;: true, &quot;color&quot;: &quot;green&quot;, &quot;dashArray&quot;: null, &quot;dashOffset&quot;: null, &quot;fill&quot;: true, &quot;fillColor&quot;: &quot;green&quot;, &quot;fillOpacity&quot;: 0.2, &quot;fillRule&quot;: &quot;evenodd&quot;, &quot;lineCap&quot;: &quot;round&quot;, &quot;lineJoin&quot;: &quot;round&quot;, &quot;opacity&quot;: 1.0, &quot;radius&quot;: 13.979752671774591, &quot;stroke&quot;: true, &quot;weight&quot;: 3}\n",
       "            ).addTo(map_255fb209e9c02195a79cde7bbbc19ad7);\n",
       "        \n",
       "    \n",
       "        var popup_a06227c0eeff6d83e27f92a46b08d5e3 = L.popup({&quot;maxWidth&quot;: &quot;100%&quot;});\n",
       "\n",
       "        \n",
       "            \n",
       "                var html_c72e4761f5d36feca7fcfcd9558a025e = $(`&lt;div id=&quot;html_c72e4761f5d36feca7fcfcd9558a025e&quot; style=&quot;width: 100.0%; height: 100.0%;&quot;&gt;Haiti&lt;/div&gt;`)[0];\n",
       "                popup_a06227c0eeff6d83e27f92a46b08d5e3.setContent(html_c72e4761f5d36feca7fcfcd9558a025e);\n",
       "            \n",
       "        \n",
       "\n",
       "        circle_marker_043b598bd747a5d885a11880259772e3.bindPopup(popup_a06227c0eeff6d83e27f92a46b08d5e3)\n",
       "        ;\n",
       "\n",
       "        \n",
       "    \n",
       "    \n",
       "            var circle_marker_e8de3bf035b3b9f6ea95ffcc4ead5fad = L.circleMarker(\n",
       "                [47.0, 20.0],\n",
       "                {&quot;bubblingMouseEvents&quot;: true, &quot;color&quot;: &quot;black&quot;, &quot;dashArray&quot;: null, &quot;dashOffset&quot;: null, &quot;fill&quot;: true, &quot;fillColor&quot;: &quot;black&quot;, &quot;fillOpacity&quot;: 0.2, &quot;fillRule&quot;: &quot;evenodd&quot;, &quot;lineCap&quot;: &quot;round&quot;, &quot;lineJoin&quot;: &quot;round&quot;, &quot;opacity&quot;: 1.0, &quot;radius&quot;: 0.39750349369739346, &quot;stroke&quot;: true, &quot;weight&quot;: 3}\n",
       "            ).addTo(map_255fb209e9c02195a79cde7bbbc19ad7);\n",
       "        \n",
       "    \n",
       "        var popup_bcbd99d602237c055f94710e92aef225 = L.popup({&quot;maxWidth&quot;: &quot;100%&quot;});\n",
       "\n",
       "        \n",
       "            \n",
       "                var html_b9f094675ef91368d6a69e70c6cb8e5a = $(`&lt;div id=&quot;html_b9f094675ef91368d6a69e70c6cb8e5a&quot; style=&quot;width: 100.0%; height: 100.0%;&quot;&gt;Hungary&lt;/div&gt;`)[0];\n",
       "                popup_bcbd99d602237c055f94710e92aef225.setContent(html_b9f094675ef91368d6a69e70c6cb8e5a);\n",
       "            \n",
       "        \n",
       "\n",
       "        circle_marker_e8de3bf035b3b9f6ea95ffcc4ead5fad.bindPopup(popup_bcbd99d602237c055f94710e92aef225)\n",
       "        ;\n",
       "\n",
       "        \n",
       "    \n",
       "    \n",
       "            var circle_marker_400da02f075ae0e4a9d848b7d81f99a2 = L.circleMarker(\n",
       "                [-5.0, 120.0],\n",
       "                {&quot;bubblingMouseEvents&quot;: true, &quot;color&quot;: &quot;red&quot;, &quot;dashArray&quot;: null, &quot;dashOffset&quot;: null, &quot;fill&quot;: true, &quot;fillColor&quot;: &quot;red&quot;, &quot;fillOpacity&quot;: 0.2, &quot;fillRule&quot;: &quot;evenodd&quot;, &quot;lineCap&quot;: &quot;round&quot;, &quot;lineJoin&quot;: &quot;round&quot;, &quot;opacity&quot;: 1.0, &quot;radius&quot;: 35.313556272281424, &quot;stroke&quot;: true, &quot;weight&quot;: 3}\n",
       "            ).addTo(map_255fb209e9c02195a79cde7bbbc19ad7);\n",
       "        \n",
       "    \n",
       "        var popup_74623399671644e06c4b36b781d7708e = L.popup({&quot;maxWidth&quot;: &quot;100%&quot;});\n",
       "\n",
       "        \n",
       "            \n",
       "                var html_ecd415d66d4983a03f12384dab33414d = $(`&lt;div id=&quot;html_ecd415d66d4983a03f12384dab33414d&quot; style=&quot;width: 100.0%; height: 100.0%;&quot;&gt;Indonesia&lt;/div&gt;`)[0];\n",
       "                popup_74623399671644e06c4b36b781d7708e.setContent(html_ecd415d66d4983a03f12384dab33414d);\n",
       "            \n",
       "        \n",
       "\n",
       "        circle_marker_400da02f075ae0e4a9d848b7d81f99a2.bindPopup(popup_74623399671644e06c4b36b781d7708e)\n",
       "        ;\n",
       "\n",
       "        \n",
       "    \n",
       "    \n",
       "            var circle_marker_12e56b389b84faad3d1af6d04bf4c65b = L.circleMarker(\n",
       "                [22.0, 79.0],\n",
       "                {&quot;bubblingMouseEvents&quot;: true, &quot;color&quot;: &quot;red&quot;, &quot;dashArray&quot;: null, &quot;dashOffset&quot;: null, &quot;fill&quot;: true, &quot;fillColor&quot;: &quot;red&quot;, &quot;fillOpacity&quot;: 0.2, &quot;fillRule&quot;: &quot;evenodd&quot;, &quot;lineCap&quot;: &quot;round&quot;, &quot;lineJoin&quot;: &quot;round&quot;, &quot;opacity&quot;: 1.0, &quot;radius&quot;: 96.35271911284168, &quot;stroke&quot;: true, &quot;weight&quot;: 3}\n",
       "            ).addTo(map_255fb209e9c02195a79cde7bbbc19ad7);\n",
       "        \n",
       "    \n",
       "        var popup_ca8840c323e8d457de48b371b66a724f = L.popup({&quot;maxWidth&quot;: &quot;100%&quot;});\n",
       "\n",
       "        \n",
       "            \n",
       "                var html_6b746cf4a3256c138f753f5cf7b11d81 = $(`&lt;div id=&quot;html_6b746cf4a3256c138f753f5cf7b11d81&quot; style=&quot;width: 100.0%; height: 100.0%;&quot;&gt;India&lt;/div&gt;`)[0];\n",
       "                popup_ca8840c323e8d457de48b371b66a724f.setContent(html_6b746cf4a3256c138f753f5cf7b11d81);\n",
       "            \n",
       "        \n",
       "\n",
       "        circle_marker_12e56b389b84faad3d1af6d04bf4c65b.bindPopup(popup_ca8840c323e8d457de48b371b66a724f)\n",
       "        ;\n",
       "\n",
       "        \n",
       "    \n",
       "    \n",
       "            var circle_marker_3aa63bfa69c84f56bff9f664782bf0a5 = L.circleMarker(\n",
       "                [53.0, -8.0],\n",
       "                {&quot;bubblingMouseEvents&quot;: true, &quot;color&quot;: &quot;black&quot;, &quot;dashArray&quot;: null, &quot;dashOffset&quot;: null, &quot;fill&quot;: true, &quot;fillColor&quot;: &quot;black&quot;, &quot;fillOpacity&quot;: 0.2, &quot;fillRule&quot;: &quot;evenodd&quot;, &quot;lineCap&quot;: &quot;round&quot;, &quot;lineJoin&quot;: &quot;round&quot;, &quot;opacity&quot;: 1.0, &quot;radius&quot;: 0.7224270824013612, &quot;stroke&quot;: true, &quot;weight&quot;: 3}\n",
       "            ).addTo(map_255fb209e9c02195a79cde7bbbc19ad7);\n",
       "        \n",
       "    \n",
       "        var popup_2348e54c733e34f868cf3574cd39b904 = L.popup({&quot;maxWidth&quot;: &quot;100%&quot;});\n",
       "\n",
       "        \n",
       "            \n",
       "                var html_e4363f3ef10b942f32d21cdddb4b41ea = $(`&lt;div id=&quot;html_e4363f3ef10b942f32d21cdddb4b41ea&quot; style=&quot;width: 100.0%; height: 100.0%;&quot;&gt;Ireland&lt;/div&gt;`)[0];\n",
       "                popup_2348e54c733e34f868cf3574cd39b904.setContent(html_e4363f3ef10b942f32d21cdddb4b41ea);\n",
       "            \n",
       "        \n",
       "\n",
       "        circle_marker_3aa63bfa69c84f56bff9f664782bf0a5.bindPopup(popup_2348e54c733e34f868cf3574cd39b904)\n",
       "        ;\n",
       "\n",
       "        \n",
       "    \n",
       "    \n",
       "            var circle_marker_838cdf232f8eeb5d9d2727dfadf35b2c = L.circleMarker(\n",
       "                [32.0, 53.0],\n",
       "                {&quot;bubblingMouseEvents&quot;: true, &quot;color&quot;: &quot;red&quot;, &quot;dashArray&quot;: null, &quot;dashOffset&quot;: null, &quot;fill&quot;: true, &quot;fillColor&quot;: &quot;red&quot;, &quot;fillOpacity&quot;: 0.2, &quot;fillRule&quot;: &quot;evenodd&quot;, &quot;lineCap&quot;: &quot;round&quot;, &quot;lineJoin&quot;: &quot;round&quot;, &quot;opacity&quot;: 1.0, &quot;radius&quot;: 5.834814195302852, &quot;stroke&quot;: true, &quot;weight&quot;: 3}\n",
       "            ).addTo(map_255fb209e9c02195a79cde7bbbc19ad7);\n",
       "        \n",
       "    \n",
       "        var popup_d7f848f5a2ea8d06d952fc1bacd4d6ed = L.popup({&quot;maxWidth&quot;: &quot;100%&quot;});\n",
       "\n",
       "        \n",
       "            \n",
       "                var html_ffbcb535c1fb380278031a3dd67e53d0 = $(`&lt;div id=&quot;html_ffbcb535c1fb380278031a3dd67e53d0&quot; style=&quot;width: 100.0%; height: 100.0%;&quot;&gt;Iran&lt;/div&gt;`)[0];\n",
       "                popup_d7f848f5a2ea8d06d952fc1bacd4d6ed.setContent(html_ffbcb535c1fb380278031a3dd67e53d0);\n",
       "            \n",
       "        \n",
       "\n",
       "        circle_marker_838cdf232f8eeb5d9d2727dfadf35b2c.bindPopup(popup_d7f848f5a2ea8d06d952fc1bacd4d6ed)\n",
       "        ;\n",
       "\n",
       "        \n",
       "    \n",
       "    \n",
       "            var circle_marker_49e87ae5c80668af12c010c239075702 = L.circleMarker(\n",
       "                [33.0, 44.0],\n",
       "                {&quot;bubblingMouseEvents&quot;: true, &quot;color&quot;: &quot;red&quot;, &quot;dashArray&quot;: null, &quot;dashOffset&quot;: null, &quot;fill&quot;: true, &quot;fillColor&quot;: &quot;red&quot;, &quot;fillOpacity&quot;: 0.2, &quot;fillRule&quot;: &quot;evenodd&quot;, &quot;lineCap&quot;: &quot;round&quot;, &quot;lineJoin&quot;: &quot;round&quot;, &quot;opacity&quot;: 1.0, &quot;radius&quot;: 6.084127448138132, &quot;stroke&quot;: true, &quot;weight&quot;: 3}\n",
       "            ).addTo(map_255fb209e9c02195a79cde7bbbc19ad7);\n",
       "        \n",
       "    \n",
       "        var popup_1c776d1f96d130b9df426be1dbb5a42f = L.popup({&quot;maxWidth&quot;: &quot;100%&quot;});\n",
       "\n",
       "        \n",
       "            \n",
       "                var html_1883e9794e4a381d1c02f16523042370 = $(`&lt;div id=&quot;html_1883e9794e4a381d1c02f16523042370&quot; style=&quot;width: 100.0%; height: 100.0%;&quot;&gt;Iraq&lt;/div&gt;`)[0];\n",
       "                popup_1c776d1f96d130b9df426be1dbb5a42f.setContent(html_1883e9794e4a381d1c02f16523042370);\n",
       "            \n",
       "        \n",
       "\n",
       "        circle_marker_49e87ae5c80668af12c010c239075702.bindPopup(popup_1c776d1f96d130b9df426be1dbb5a42f)\n",
       "        ;\n",
       "\n",
       "        \n",
       "    \n",
       "    \n",
       "            var circle_marker_8c3f1d7a1f0fc1a09a40fc5efcb33969 = L.circleMarker(\n",
       "                [31.5, 34.75],\n",
       "                {&quot;bubblingMouseEvents&quot;: true, &quot;color&quot;: &quot;red&quot;, &quot;dashArray&quot;: null, &quot;dashOffset&quot;: null, &quot;fill&quot;: true, &quot;fillColor&quot;: &quot;red&quot;, &quot;fillOpacity&quot;: 0.2, &quot;fillRule&quot;: &quot;evenodd&quot;, &quot;lineCap&quot;: &quot;round&quot;, &quot;lineJoin&quot;: &quot;round&quot;, &quot;opacity&quot;: 1.0, &quot;radius&quot;: 0.9549814945354589, &quot;stroke&quot;: true, &quot;weight&quot;: 3}\n",
       "            ).addTo(map_255fb209e9c02195a79cde7bbbc19ad7);\n",
       "        \n",
       "    \n",
       "        var popup_4eef0b4b1f5e0b95390aee5b3e96d398 = L.popup({&quot;maxWidth&quot;: &quot;100%&quot;});\n",
       "\n",
       "        \n",
       "            \n",
       "                var html_e26fe5deef923254160b7a673246ca46 = $(`&lt;div id=&quot;html_e26fe5deef923254160b7a673246ca46&quot; style=&quot;width: 100.0%; height: 100.0%;&quot;&gt;Israel&lt;/div&gt;`)[0];\n",
       "                popup_4eef0b4b1f5e0b95390aee5b3e96d398.setContent(html_e26fe5deef923254160b7a673246ca46);\n",
       "            \n",
       "        \n",
       "\n",
       "        circle_marker_8c3f1d7a1f0fc1a09a40fc5efcb33969.bindPopup(popup_4eef0b4b1f5e0b95390aee5b3e96d398)\n",
       "        ;\n",
       "\n",
       "        \n",
       "    \n",
       "    \n",
       "            var circle_marker_ed82a4b34488ebac28dd1aa898ea8c75 = L.circleMarker(\n",
       "                [42.83333, 12.83333],\n",
       "                {&quot;bubblingMouseEvents&quot;: true, &quot;color&quot;: &quot;black&quot;, &quot;dashArray&quot;: null, &quot;dashOffset&quot;: null, &quot;fill&quot;: true, &quot;fillColor&quot;: &quot;black&quot;, &quot;fillOpacity&quot;: 0.2, &quot;fillRule&quot;: &quot;evenodd&quot;, &quot;lineCap&quot;: &quot;round&quot;, &quot;lineJoin&quot;: &quot;round&quot;, &quot;opacity&quot;: 1.0, &quot;radius&quot;: 5.049074400874107, &quot;stroke&quot;: true, &quot;weight&quot;: 3}\n",
       "            ).addTo(map_255fb209e9c02195a79cde7bbbc19ad7);\n",
       "        \n",
       "    \n",
       "        var popup_bffeaeb9bc9085e537c6c8eb38eaabdf = L.popup({&quot;maxWidth&quot;: &quot;100%&quot;});\n",
       "\n",
       "        \n",
       "            \n",
       "                var html_662bbdb135a17a9f9cad19715cf6b180 = $(`&lt;div id=&quot;html_662bbdb135a17a9f9cad19715cf6b180&quot; style=&quot;width: 100.0%; height: 100.0%;&quot;&gt;Italy&lt;/div&gt;`)[0];\n",
       "                popup_bffeaeb9bc9085e537c6c8eb38eaabdf.setContent(html_662bbdb135a17a9f9cad19715cf6b180);\n",
       "            \n",
       "        \n",
       "\n",
       "        circle_marker_ed82a4b34488ebac28dd1aa898ea8c75.bindPopup(popup_bffeaeb9bc9085e537c6c8eb38eaabdf)\n",
       "        ;\n",
       "\n",
       "        \n",
       "    \n",
       "    \n",
       "            var circle_marker_3eb18a06071cde780e4e9da941abd654 = L.circleMarker(\n",
       "                [18.16667, -77.25],\n",
       "                {&quot;bubblingMouseEvents&quot;: true, &quot;color&quot;: &quot;green&quot;, &quot;dashArray&quot;: null, &quot;dashOffset&quot;: null, &quot;fill&quot;: true, &quot;fillColor&quot;: &quot;green&quot;, &quot;fillOpacity&quot;: 0.2, &quot;fillRule&quot;: &quot;evenodd&quot;, &quot;lineCap&quot;: &quot;round&quot;, &quot;lineJoin&quot;: &quot;round&quot;, &quot;opacity&quot;: 1.0, &quot;radius&quot;: 0.4633573332008104, &quot;stroke&quot;: true, &quot;weight&quot;: 3}\n",
       "            ).addTo(map_255fb209e9c02195a79cde7bbbc19ad7);\n",
       "        \n",
       "    \n",
       "        var popup_f45c3e85ca7583de0f26ce86d635544d = L.popup({&quot;maxWidth&quot;: &quot;100%&quot;});\n",
       "\n",
       "        \n",
       "            \n",
       "                var html_709eadccc39aacbe4736302c2f60f13d = $(`&lt;div id=&quot;html_709eadccc39aacbe4736302c2f60f13d&quot; style=&quot;width: 100.0%; height: 100.0%;&quot;&gt;Jamaica&lt;/div&gt;`)[0];\n",
       "                popup_f45c3e85ca7583de0f26ce86d635544d.setContent(html_709eadccc39aacbe4736302c2f60f13d);\n",
       "            \n",
       "        \n",
       "\n",
       "        circle_marker_3eb18a06071cde780e4e9da941abd654.bindPopup(popup_f45c3e85ca7583de0f26ce86d635544d)\n",
       "        ;\n",
       "\n",
       "        \n",
       "    \n",
       "    \n",
       "            var circle_marker_bf86cce60974738af78b201f0fe10297 = L.circleMarker(\n",
       "                [31.0, 36.0],\n",
       "                {&quot;bubblingMouseEvents&quot;: true, &quot;color&quot;: &quot;red&quot;, &quot;dashArray&quot;: null, &quot;dashOffset&quot;: null, &quot;fill&quot;: true, &quot;fillColor&quot;: &quot;red&quot;, &quot;fillOpacity&quot;: 0.2, &quot;fillRule&quot;: &quot;evenodd&quot;, &quot;lineCap&quot;: &quot;round&quot;, &quot;lineJoin&quot;: &quot;round&quot;, &quot;opacity&quot;: 1.0, &quot;radius&quot;: 0.4300072242232263, &quot;stroke&quot;: true, &quot;weight&quot;: 3}\n",
       "            ).addTo(map_255fb209e9c02195a79cde7bbbc19ad7);\n",
       "        \n",
       "    \n",
       "        var popup_42efbd9ba600cfea0039444ee39af1f1 = L.popup({&quot;maxWidth&quot;: &quot;100%&quot;});\n",
       "\n",
       "        \n",
       "            \n",
       "                var html_8ffe36be686c2de41484e4a3bf5f94cc = $(`&lt;div id=&quot;html_8ffe36be686c2de41484e4a3bf5f94cc&quot; style=&quot;width: 100.0%; height: 100.0%;&quot;&gt;Jordan&lt;/div&gt;`)[0];\n",
       "                popup_42efbd9ba600cfea0039444ee39af1f1.setContent(html_8ffe36be686c2de41484e4a3bf5f94cc);\n",
       "            \n",
       "        \n",
       "\n",
       "        circle_marker_bf86cce60974738af78b201f0fe10297.bindPopup(popup_42efbd9ba600cfea0039444ee39af1f1)\n",
       "        ;\n",
       "\n",
       "        \n",
       "    \n",
       "    \n",
       "            var circle_marker_734f95c55063704deb1322b0c736964e = L.circleMarker(\n",
       "                [35.68536, 139.75309],\n",
       "                {&quot;bubblingMouseEvents&quot;: true, &quot;color&quot;: &quot;red&quot;, &quot;dashArray&quot;: null, &quot;dashOffset&quot;: null, &quot;fill&quot;: true, &quot;fillColor&quot;: &quot;red&quot;, &quot;fillOpacity&quot;: 0.2, &quot;fillRule&quot;: &quot;evenodd&quot;, &quot;lineCap&quot;: &quot;round&quot;, &quot;lineJoin&quot;: &quot;round&quot;, &quot;opacity&quot;: 1.0, &quot;radius&quot;: 3.784269826192565, &quot;stroke&quot;: true, &quot;weight&quot;: 3}\n",
       "            ).addTo(map_255fb209e9c02195a79cde7bbbc19ad7);\n",
       "        \n",
       "    \n",
       "        var popup_cb9ba36b620ca6b8cfc6dc1f1afddc20 = L.popup({&quot;maxWidth&quot;: &quot;100%&quot;});\n",
       "\n",
       "        \n",
       "            \n",
       "                var html_e11baedb4fd5bbe38e94bdf033540afc = $(`&lt;div id=&quot;html_e11baedb4fd5bbe38e94bdf033540afc&quot; style=&quot;width: 100.0%; height: 100.0%;&quot;&gt;Japan&lt;/div&gt;`)[0];\n",
       "                popup_cb9ba36b620ca6b8cfc6dc1f1afddc20.setContent(html_e11baedb4fd5bbe38e94bdf033540afc);\n",
       "            \n",
       "        \n",
       "\n",
       "        circle_marker_734f95c55063704deb1322b0c736964e.bindPopup(popup_cb9ba36b620ca6b8cfc6dc1f1afddc20)\n",
       "        ;\n",
       "\n",
       "        \n",
       "    \n",
       "    \n",
       "            var circle_marker_5e132b41fac1956cf8e5e6d7914e8dec = L.circleMarker(\n",
       "                [48.0, 68.0],\n",
       "                {&quot;bubblingMouseEvents&quot;: true, &quot;color&quot;: &quot;red&quot;, &quot;dashArray&quot;: null, &quot;dashOffset&quot;: null, &quot;fill&quot;: true, &quot;fillColor&quot;: &quot;red&quot;, &quot;fillOpacity&quot;: 0.2, &quot;fillRule&quot;: &quot;evenodd&quot;, &quot;lineCap&quot;: &quot;round&quot;, &quot;lineJoin&quot;: &quot;round&quot;, &quot;opacity&quot;: 1.0, &quot;radius&quot;: 0.5571211448310092, &quot;stroke&quot;: true, &quot;weight&quot;: 3}\n",
       "            ).addTo(map_255fb209e9c02195a79cde7bbbc19ad7);\n",
       "        \n",
       "    \n",
       "        var popup_8168d5464f695f28b353097fe2f5568e = L.popup({&quot;maxWidth&quot;: &quot;100%&quot;});\n",
       "\n",
       "        \n",
       "            \n",
       "                var html_4e8078aa5f692038c53296e767c8b222 = $(`&lt;div id=&quot;html_4e8078aa5f692038c53296e767c8b222&quot; style=&quot;width: 100.0%; height: 100.0%;&quot;&gt;Kazakhstan&lt;/div&gt;`)[0];\n",
       "                popup_8168d5464f695f28b353097fe2f5568e.setContent(html_4e8078aa5f692038c53296e767c8b222);\n",
       "            \n",
       "        \n",
       "\n",
       "        circle_marker_5e132b41fac1956cf8e5e6d7914e8dec.bindPopup(popup_8168d5464f695f28b353097fe2f5568e)\n",
       "        ;\n",
       "\n",
       "        \n",
       "    \n",
       "    \n",
       "            var circle_marker_c2fff15e349dbde16935413e050340e2 = L.circleMarker(\n",
       "                [1.0, 38.0],\n",
       "                {&quot;bubblingMouseEvents&quot;: true, &quot;color&quot;: &quot;blue&quot;, &quot;dashArray&quot;: null, &quot;dashOffset&quot;: null, &quot;fill&quot;: true, &quot;fillColor&quot;: &quot;blue&quot;, &quot;fillOpacity&quot;: 0.2, &quot;fillRule&quot;: &quot;evenodd&quot;, &quot;lineCap&quot;: &quot;round&quot;, &quot;lineJoin&quot;: &quot;round&quot;, &quot;opacity&quot;: 1.0, &quot;radius&quot;: 24.088125640567295, &quot;stroke&quot;: true, &quot;weight&quot;: 3}\n",
       "            ).addTo(map_255fb209e9c02195a79cde7bbbc19ad7);\n",
       "        \n",
       "    \n",
       "        var popup_00feb2b2d98b73a18819df02d974c06b = L.popup({&quot;maxWidth&quot;: &quot;100%&quot;});\n",
       "\n",
       "        \n",
       "            \n",
       "                var html_96bd7e4781e6e0ddf69eda353f94a085 = $(`&lt;div id=&quot;html_96bd7e4781e6e0ddf69eda353f94a085&quot; style=&quot;width: 100.0%; height: 100.0%;&quot;&gt;Kenya&lt;/div&gt;`)[0];\n",
       "                popup_00feb2b2d98b73a18819df02d974c06b.setContent(html_96bd7e4781e6e0ddf69eda353f94a085);\n",
       "            \n",
       "        \n",
       "\n",
       "        circle_marker_c2fff15e349dbde16935413e050340e2.bindPopup(popup_00feb2b2d98b73a18819df02d974c06b)\n",
       "        ;\n",
       "\n",
       "        \n",
       "    \n",
       "    \n",
       "            var circle_marker_7965a56463b1f4dfacc4458c928c1487 = L.circleMarker(\n",
       "                [41.5, 75.0],\n",
       "                {&quot;bubblingMouseEvents&quot;: true, &quot;color&quot;: &quot;red&quot;, &quot;dashArray&quot;: null, &quot;dashOffset&quot;: null, &quot;fill&quot;: true, &quot;fillColor&quot;: &quot;red&quot;, &quot;fillOpacity&quot;: 0.2, &quot;fillRule&quot;: &quot;evenodd&quot;, &quot;lineCap&quot;: &quot;round&quot;, &quot;lineJoin&quot;: &quot;round&quot;, &quot;opacity&quot;: 1.0, &quot;radius&quot;: 2.9697977196085015, &quot;stroke&quot;: true, &quot;weight&quot;: 3}\n",
       "            ).addTo(map_255fb209e9c02195a79cde7bbbc19ad7);\n",
       "        \n",
       "    \n",
       "        var popup_cd9db06fd695807e482d3cad53aef53b = L.popup({&quot;maxWidth&quot;: &quot;100%&quot;});\n",
       "\n",
       "        \n",
       "            \n",
       "                var html_57109ad5bad65aa8fca2cdc68694bd76 = $(`&lt;div id=&quot;html_57109ad5bad65aa8fca2cdc68694bd76&quot; style=&quot;width: 100.0%; height: 100.0%;&quot;&gt;Kyrgyz Republic&lt;/div&gt;`)[0];\n",
       "                popup_cd9db06fd695807e482d3cad53aef53b.setContent(html_57109ad5bad65aa8fca2cdc68694bd76);\n",
       "            \n",
       "        \n",
       "\n",
       "        circle_marker_7965a56463b1f4dfacc4458c928c1487.bindPopup(popup_cd9db06fd695807e482d3cad53aef53b)\n",
       "        ;\n",
       "\n",
       "        \n",
       "    \n",
       "    \n",
       "            var circle_marker_368394cec2ac5b4254a1edcd1b9ada2b = L.circleMarker(\n",
       "                [13.0, 105.0],\n",
       "                {&quot;bubblingMouseEvents&quot;: true, &quot;color&quot;: &quot;red&quot;, &quot;dashArray&quot;: null, &quot;dashOffset&quot;: null, &quot;fill&quot;: true, &quot;fillColor&quot;: &quot;red&quot;, &quot;fillOpacity&quot;: 0.2, &quot;fillRule&quot;: &quot;evenodd&quot;, &quot;lineCap&quot;: &quot;round&quot;, &quot;lineJoin&quot;: &quot;round&quot;, &quot;opacity&quot;: 1.0, &quot;radius&quot;: 6.766458594858778, &quot;stroke&quot;: true, &quot;weight&quot;: 3}\n",
       "            ).addTo(map_255fb209e9c02195a79cde7bbbc19ad7);\n",
       "        \n",
       "    \n",
       "        var popup_950a7d3707067e87834ec53702245d88 = L.popup({&quot;maxWidth&quot;: &quot;100%&quot;});\n",
       "\n",
       "        \n",
       "            \n",
       "                var html_7b20d75874e2cf87674685536906d5d4 = $(`&lt;div id=&quot;html_7b20d75874e2cf87674685536906d5d4&quot; style=&quot;width: 100.0%; height: 100.0%;&quot;&gt;Cambodia&lt;/div&gt;`)[0];\n",
       "                popup_950a7d3707067e87834ec53702245d88.setContent(html_7b20d75874e2cf87674685536906d5d4);\n",
       "            \n",
       "        \n",
       "\n",
       "        circle_marker_368394cec2ac5b4254a1edcd1b9ada2b.bindPopup(popup_950a7d3707067e87834ec53702245d88)\n",
       "        ;\n",
       "\n",
       "        \n",
       "    \n",
       "    \n",
       "            var circle_marker_49b851c83ecc7ff521cf3541f394a466 = L.circleMarker(\n",
       "                [18.0, 105.0],\n",
       "                {&quot;bubblingMouseEvents&quot;: true, &quot;color&quot;: &quot;red&quot;, &quot;dashArray&quot;: null, &quot;dashOffset&quot;: null, &quot;fill&quot;: true, &quot;fillColor&quot;: &quot;red&quot;, &quot;fillOpacity&quot;: 0.2, &quot;fillRule&quot;: &quot;evenodd&quot;, &quot;lineCap&quot;: &quot;round&quot;, &quot;lineJoin&quot;: &quot;round&quot;, &quot;opacity&quot;: 1.0, &quot;radius&quot;: 7.758371982276796, &quot;stroke&quot;: true, &quot;weight&quot;: 3}\n",
       "            ).addTo(map_255fb209e9c02195a79cde7bbbc19ad7);\n",
       "        \n",
       "    \n",
       "        var popup_1bc06056cb0a53a620b5693a9ced074f = L.popup({&quot;maxWidth&quot;: &quot;100%&quot;});\n",
       "\n",
       "        \n",
       "            \n",
       "                var html_705cb140f5dab7e051204f58ebc8feac = $(`&lt;div id=&quot;html_705cb140f5dab7e051204f58ebc8feac&quot; style=&quot;width: 100.0%; height: 100.0%;&quot;&gt;Lao&lt;/div&gt;`)[0];\n",
       "                popup_1bc06056cb0a53a620b5693a9ced074f.setContent(html_705cb140f5dab7e051204f58ebc8feac);\n",
       "            \n",
       "        \n",
       "\n",
       "        circle_marker_49b851c83ecc7ff521cf3541f394a466.bindPopup(popup_1bc06056cb0a53a620b5693a9ced074f)\n",
       "        ;\n",
       "\n",
       "        \n",
       "    \n",
       "    \n",
       "            var circle_marker_39d9b5f74213c5f5e6ea61d25c9ab767 = L.circleMarker(\n",
       "                [6.5, -9.5],\n",
       "                {&quot;bubblingMouseEvents&quot;: true, &quot;color&quot;: &quot;blue&quot;, &quot;dashArray&quot;: null, &quot;dashOffset&quot;: null, &quot;fill&quot;: true, &quot;fillColor&quot;: &quot;blue&quot;, &quot;fillOpacity&quot;: 0.2, &quot;fillRule&quot;: &quot;evenodd&quot;, &quot;lineCap&quot;: &quot;round&quot;, &quot;lineJoin&quot;: &quot;round&quot;, &quot;opacity&quot;: 1.0, &quot;radius&quot;: 10.185772240421114, &quot;stroke&quot;: true, &quot;weight&quot;: 3}\n",
       "            ).addTo(map_255fb209e9c02195a79cde7bbbc19ad7);\n",
       "        \n",
       "    \n",
       "        var popup_550c1c47f3e889027346355627e75fe6 = L.popup({&quot;maxWidth&quot;: &quot;100%&quot;});\n",
       "\n",
       "        \n",
       "            \n",
       "                var html_c8c883f18f75b5bd5148c2db86ec8e59 = $(`&lt;div id=&quot;html_c8c883f18f75b5bd5148c2db86ec8e59&quot; style=&quot;width: 100.0%; height: 100.0%;&quot;&gt;Liberia&lt;/div&gt;`)[0];\n",
       "                popup_550c1c47f3e889027346355627e75fe6.setContent(html_c8c883f18f75b5bd5148c2db86ec8e59);\n",
       "            \n",
       "        \n",
       "\n",
       "        circle_marker_39d9b5f74213c5f5e6ea61d25c9ab767.bindPopup(popup_550c1c47f3e889027346355627e75fe6)\n",
       "        ;\n",
       "\n",
       "        \n",
       "    \n",
       "    \n",
       "            var circle_marker_c7a9bbb0cb4e8ad18a9ee45cda2172ca = L.circleMarker(\n",
       "                [13.88333, -60.96667],\n",
       "                {&quot;bubblingMouseEvents&quot;: true, &quot;color&quot;: &quot;green&quot;, &quot;dashArray&quot;: null, &quot;dashOffset&quot;: null, &quot;fill&quot;: true, &quot;fillColor&quot;: &quot;green&quot;, &quot;fillOpacity&quot;: 0.2, &quot;fillRule&quot;: &quot;evenodd&quot;, &quot;lineCap&quot;: &quot;round&quot;, &quot;lineJoin&quot;: &quot;round&quot;, &quot;opacity&quot;: 1.0, &quot;radius&quot;: 1.0777350206264305, &quot;stroke&quot;: true, &quot;weight&quot;: 3}\n",
       "            ).addTo(map_255fb209e9c02195a79cde7bbbc19ad7);\n",
       "        \n",
       "    \n",
       "        var popup_f049f81b7947c9f8d0716035924cc70d = L.popup({&quot;maxWidth&quot;: &quot;100%&quot;});\n",
       "\n",
       "        \n",
       "            \n",
       "                var html_9ac40c8056c0568bddbc034fec339c5a = $(`&lt;div id=&quot;html_9ac40c8056c0568bddbc034fec339c5a&quot; style=&quot;width: 100.0%; height: 100.0%;&quot;&gt;St. Lucia&lt;/div&gt;`)[0];\n",
       "                popup_f049f81b7947c9f8d0716035924cc70d.setContent(html_9ac40c8056c0568bddbc034fec339c5a);\n",
       "            \n",
       "        \n",
       "\n",
       "        circle_marker_c7a9bbb0cb4e8ad18a9ee45cda2172ca.bindPopup(popup_f049f81b7947c9f8d0716035924cc70d)\n",
       "        ;\n",
       "\n",
       "        \n",
       "    \n",
       "    \n",
       "            var circle_marker_1d7d3cd8173a8c57f9568e6f51ee8524 = L.circleMarker(\n",
       "                [7.75, 80.75],\n",
       "                {&quot;bubblingMouseEvents&quot;: true, &quot;color&quot;: &quot;red&quot;, &quot;dashArray&quot;: null, &quot;dashOffset&quot;: null, &quot;fill&quot;: true, &quot;fillColor&quot;: &quot;red&quot;, &quot;fillOpacity&quot;: 0.2, &quot;fillRule&quot;: &quot;evenodd&quot;, &quot;lineCap&quot;: &quot;round&quot;, &quot;lineJoin&quot;: &quot;round&quot;, &quot;opacity&quot;: 1.0, &quot;radius&quot;: 5.148541404016821, &quot;stroke&quot;: true, &quot;weight&quot;: 3}\n",
       "            ).addTo(map_255fb209e9c02195a79cde7bbbc19ad7);\n",
       "        \n",
       "    \n",
       "        var popup_43ef2e2e0bbe6f29d72b8408ca548836 = L.popup({&quot;maxWidth&quot;: &quot;100%&quot;});\n",
       "\n",
       "        \n",
       "            \n",
       "                var html_e02321e93da3b9077513a152ad34843c = $(`&lt;div id=&quot;html_e02321e93da3b9077513a152ad34843c&quot; style=&quot;width: 100.0%; height: 100.0%;&quot;&gt;Sri Lanka&lt;/div&gt;`)[0];\n",
       "                popup_43ef2e2e0bbe6f29d72b8408ca548836.setContent(html_e02321e93da3b9077513a152ad34843c);\n",
       "            \n",
       "        \n",
       "\n",
       "        circle_marker_1d7d3cd8173a8c57f9568e6f51ee8524.bindPopup(popup_43ef2e2e0bbe6f29d72b8408ca548836)\n",
       "        ;\n",
       "\n",
       "        \n",
       "    \n",
       "    \n",
       "            var circle_marker_2b86952cfc51dcd57b150e61b96eee1a = L.circleMarker(\n",
       "                [-29.5, 28.25],\n",
       "                {&quot;bubblingMouseEvents&quot;: true, &quot;color&quot;: &quot;blue&quot;, &quot;dashArray&quot;: null, &quot;dashOffset&quot;: null, &quot;fill&quot;: true, &quot;fillColor&quot;: &quot;blue&quot;, &quot;fillOpacity&quot;: 0.2, &quot;fillRule&quot;: &quot;evenodd&quot;, &quot;lineCap&quot;: &quot;round&quot;, &quot;lineJoin&quot;: &quot;round&quot;, &quot;opacity&quot;: 1.0, &quot;radius&quot;: 5.97591567065859, &quot;stroke&quot;: true, &quot;weight&quot;: 3}\n",
       "            ).addTo(map_255fb209e9c02195a79cde7bbbc19ad7);\n",
       "        \n",
       "    \n",
       "        var popup_74b84ff765386db8f3ce440e704a9682 = L.popup({&quot;maxWidth&quot;: &quot;100%&quot;});\n",
       "\n",
       "        \n",
       "            \n",
       "                var html_eab227ddf36163011a08ec05b96f61d1 = $(`&lt;div id=&quot;html_eab227ddf36163011a08ec05b96f61d1&quot; style=&quot;width: 100.0%; height: 100.0%;&quot;&gt;Lesotho&lt;/div&gt;`)[0];\n",
       "                popup_74b84ff765386db8f3ce440e704a9682.setContent(html_eab227ddf36163011a08ec05b96f61d1);\n",
       "            \n",
       "        \n",
       "\n",
       "        circle_marker_2b86952cfc51dcd57b150e61b96eee1a.bindPopup(popup_74b84ff765386db8f3ce440e704a9682)\n",
       "        ;\n",
       "\n",
       "        \n",
       "    \n",
       "    \n",
       "            var circle_marker_a9cc91d4dc6602240be8c423d3e40642 = L.circleMarker(\n",
       "                [55.41667, 24.0],\n",
       "                {&quot;bubblingMouseEvents&quot;: true, &quot;color&quot;: &quot;black&quot;, &quot;dashArray&quot;: null, &quot;dashOffset&quot;: null, &quot;fill&quot;: true, &quot;fillColor&quot;: &quot;black&quot;, &quot;fillOpacity&quot;: 0.2, &quot;fillRule&quot;: &quot;evenodd&quot;, &quot;lineCap&quot;: &quot;round&quot;, &quot;lineJoin&quot;: &quot;round&quot;, &quot;opacity&quot;: 1.0, &quot;radius&quot;: 0.9084678711420302, &quot;stroke&quot;: true, &quot;weight&quot;: 3}\n",
       "            ).addTo(map_255fb209e9c02195a79cde7bbbc19ad7);\n",
       "        \n",
       "    \n",
       "        var popup_e4c4af55f8cb04d975646b00a295329e = L.popup({&quot;maxWidth&quot;: &quot;100%&quot;});\n",
       "\n",
       "        \n",
       "            \n",
       "                var html_c80767761298dcfdd1e2e508d7869f4b = $(`&lt;div id=&quot;html_c80767761298dcfdd1e2e508d7869f4b&quot; style=&quot;width: 100.0%; height: 100.0%;&quot;&gt;Lithuania&lt;/div&gt;`)[0];\n",
       "                popup_e4c4af55f8cb04d975646b00a295329e.setContent(html_c80767761298dcfdd1e2e508d7869f4b);\n",
       "            \n",
       "        \n",
       "\n",
       "        circle_marker_a9cc91d4dc6602240be8c423d3e40642.bindPopup(popup_e4c4af55f8cb04d975646b00a295329e)\n",
       "        ;\n",
       "\n",
       "        \n",
       "    \n",
       "    \n",
       "            var circle_marker_74bbe7b939dd0f8d1855c229e260854d = L.circleMarker(\n",
       "                [57.0, 25.0],\n",
       "                {&quot;bubblingMouseEvents&quot;: true, &quot;color&quot;: &quot;black&quot;, &quot;dashArray&quot;: null, &quot;dashOffset&quot;: null, &quot;fill&quot;: true, &quot;fillColor&quot;: &quot;black&quot;, &quot;fillOpacity&quot;: 0.2, &quot;fillRule&quot;: &quot;evenodd&quot;, &quot;lineCap&quot;: &quot;round&quot;, &quot;lineJoin&quot;: &quot;round&quot;, &quot;opacity&quot;: 1.0, &quot;radius&quot;: 0.8495129039372447, &quot;stroke&quot;: true, &quot;weight&quot;: 3}\n",
       "            ).addTo(map_255fb209e9c02195a79cde7bbbc19ad7);\n",
       "        \n",
       "    \n",
       "        var popup_97fd7440bb2b5e077289d1b6d9b942c4 = L.popup({&quot;maxWidth&quot;: &quot;100%&quot;});\n",
       "\n",
       "        \n",
       "            \n",
       "                var html_97d2c0e471c9748430f65f6dd08c5dc9 = $(`&lt;div id=&quot;html_97d2c0e471c9748430f65f6dd08c5dc9&quot; style=&quot;width: 100.0%; height: 100.0%;&quot;&gt;Latvia&lt;/div&gt;`)[0];\n",
       "                popup_97fd7440bb2b5e077289d1b6d9b942c4.setContent(html_97d2c0e471c9748430f65f6dd08c5dc9);\n",
       "            \n",
       "        \n",
       "\n",
       "        circle_marker_74bbe7b939dd0f8d1855c229e260854d.bindPopup(popup_97fd7440bb2b5e077289d1b6d9b942c4)\n",
       "        ;\n",
       "\n",
       "        \n",
       "    \n",
       "    \n",
       "            var circle_marker_1d7bc27735d28cc3202ea2018508a47a = L.circleMarker(\n",
       "                [32.0, -6.0],\n",
       "                {&quot;bubblingMouseEvents&quot;: true, &quot;color&quot;: &quot;blue&quot;, &quot;dashArray&quot;: null, &quot;dashOffset&quot;: null, &quot;fill&quot;: true, &quot;fillColor&quot;: &quot;blue&quot;, &quot;fillOpacity&quot;: 0.2, &quot;fillRule&quot;: &quot;evenodd&quot;, &quot;lineCap&quot;: &quot;round&quot;, &quot;lineJoin&quot;: &quot;round&quot;, &quot;opacity&quot;: 1.0, &quot;radius&quot;: 5.143803409376387, &quot;stroke&quot;: true, &quot;weight&quot;: 3}\n",
       "            ).addTo(map_255fb209e9c02195a79cde7bbbc19ad7);\n",
       "        \n",
       "    \n",
       "        var popup_7a2f1ab5efadbe97ef4c399bdf3b7fab = L.popup({&quot;maxWidth&quot;: &quot;100%&quot;});\n",
       "\n",
       "        \n",
       "            \n",
       "                var html_bd72c6d6a2192619070ebd17da74e047 = $(`&lt;div id=&quot;html_bd72c6d6a2192619070ebd17da74e047&quot; style=&quot;width: 100.0%; height: 100.0%;&quot;&gt;Morocco&lt;/div&gt;`)[0];\n",
       "                popup_7a2f1ab5efadbe97ef4c399bdf3b7fab.setContent(html_bd72c6d6a2192619070ebd17da74e047);\n",
       "            \n",
       "        \n",
       "\n",
       "        circle_marker_1d7bc27735d28cc3202ea2018508a47a.bindPopup(popup_7a2f1ab5efadbe97ef4c399bdf3b7fab)\n",
       "        ;\n",
       "\n",
       "        \n",
       "    \n",
       "    \n",
       "            var circle_marker_624244d390bccb9bdc81b0f23c9e136a = L.circleMarker(\n",
       "                [47.25, 28.58333],\n",
       "                {&quot;bubblingMouseEvents&quot;: true, &quot;color&quot;: &quot;black&quot;, &quot;dashArray&quot;: null, &quot;dashOffset&quot;: null, &quot;fill&quot;: true, &quot;fillColor&quot;: &quot;black&quot;, &quot;fillOpacity&quot;: 0.2, &quot;fillRule&quot;: &quot;evenodd&quot;, &quot;lineCap&quot;: &quot;round&quot;, &quot;lineJoin&quot;: &quot;round&quot;, &quot;opacity&quot;: 1.0, &quot;radius&quot;: 0.5469439011777409, &quot;stroke&quot;: true, &quot;weight&quot;: 3}\n",
       "            ).addTo(map_255fb209e9c02195a79cde7bbbc19ad7);\n",
       "        \n",
       "    \n",
       "        var popup_4f758fe38faf6b365d598915e9b59c59 = L.popup({&quot;maxWidth&quot;: &quot;100%&quot;});\n",
       "\n",
       "        \n",
       "            \n",
       "                var html_9591ff551a8779afcf10cb927dc01c19 = $(`&lt;div id=&quot;html_9591ff551a8779afcf10cb927dc01c19&quot; style=&quot;width: 100.0%; height: 100.0%;&quot;&gt;Moldova&lt;/div&gt;`)[0];\n",
       "                popup_4f758fe38faf6b365d598915e9b59c59.setContent(html_9591ff551a8779afcf10cb927dc01c19);\n",
       "            \n",
       "        \n",
       "\n",
       "        circle_marker_624244d390bccb9bdc81b0f23c9e136a.bindPopup(popup_4f758fe38faf6b365d598915e9b59c59)\n",
       "        ;\n",
       "\n",
       "        \n",
       "    \n",
       "    \n",
       "            var circle_marker_33cef5f375b2800f8b75578dd86928da = L.circleMarker(\n",
       "                [-20.0, 47.0],\n",
       "                {&quot;bubblingMouseEvents&quot;: true, &quot;color&quot;: &quot;blue&quot;, &quot;dashArray&quot;: null, &quot;dashOffset&quot;: null, &quot;fill&quot;: true, &quot;fillColor&quot;: &quot;blue&quot;, &quot;fillOpacity&quot;: 0.2, &quot;fillRule&quot;: &quot;evenodd&quot;, &quot;lineCap&quot;: &quot;round&quot;, &quot;lineJoin&quot;: &quot;round&quot;, &quot;opacity&quot;: 1.0, &quot;radius&quot;: 24.295318258386423, &quot;stroke&quot;: true, &quot;weight&quot;: 3}\n",
       "            ).addTo(map_255fb209e9c02195a79cde7bbbc19ad7);\n",
       "        \n",
       "    \n",
       "        var popup_affbbfb7555a31ded83bb6a51465c8e0 = L.popup({&quot;maxWidth&quot;: &quot;100%&quot;});\n",
       "\n",
       "        \n",
       "            \n",
       "                var html_8e0676317ea7ef216f4accc262defd43 = $(`&lt;div id=&quot;html_8e0676317ea7ef216f4accc262defd43&quot; style=&quot;width: 100.0%; height: 100.0%;&quot;&gt;Madagascar&lt;/div&gt;`)[0];\n",
       "                popup_affbbfb7555a31ded83bb6a51465c8e0.setContent(html_8e0676317ea7ef216f4accc262defd43);\n",
       "            \n",
       "        \n",
       "\n",
       "        circle_marker_33cef5f375b2800f8b75578dd86928da.bindPopup(popup_affbbfb7555a31ded83bb6a51465c8e0)\n",
       "        ;\n",
       "\n",
       "        \n",
       "    \n",
       "    \n",
       "            var circle_marker_8e4b048d5766fe3ce7b118799735e09c = L.circleMarker(\n",
       "                [3.2, 73.0],\n",
       "                {&quot;bubblingMouseEvents&quot;: true, &quot;color&quot;: &quot;red&quot;, &quot;dashArray&quot;: null, &quot;dashOffset&quot;: null, &quot;fill&quot;: true, &quot;fillColor&quot;: &quot;red&quot;, &quot;fillOpacity&quot;: 0.2, &quot;fillRule&quot;: &quot;evenodd&quot;, &quot;lineCap&quot;: &quot;round&quot;, &quot;lineJoin&quot;: &quot;round&quot;, &quot;opacity&quot;: 1.0, &quot;radius&quot;: 0.4150917264789626, &quot;stroke&quot;: true, &quot;weight&quot;: 3}\n",
       "            ).addTo(map_255fb209e9c02195a79cde7bbbc19ad7);\n",
       "        \n",
       "    \n",
       "        var popup_c2865b1b3bf2ad7c0cc68246639b62ae = L.popup({&quot;maxWidth&quot;: &quot;100%&quot;});\n",
       "\n",
       "        \n",
       "            \n",
       "                var html_8754c791a823225b475b577da83f9fbd = $(`&lt;div id=&quot;html_8754c791a823225b475b577da83f9fbd&quot; style=&quot;width: 100.0%; height: 100.0%;&quot;&gt;Maldives&lt;/div&gt;`)[0];\n",
       "                popup_c2865b1b3bf2ad7c0cc68246639b62ae.setContent(html_8754c791a823225b475b577da83f9fbd);\n",
       "            \n",
       "        \n",
       "\n",
       "        circle_marker_8e4b048d5766fe3ce7b118799735e09c.bindPopup(popup_c2865b1b3bf2ad7c0cc68246639b62ae)\n",
       "        ;\n",
       "\n",
       "        \n",
       "    \n",
       "    \n",
       "            var circle_marker_27ac8ca44595c1519859f7655cb22c2d = L.circleMarker(\n",
       "                [19.42847, -99.12766],\n",
       "                {&quot;bubblingMouseEvents&quot;: true, &quot;color&quot;: &quot;green&quot;, &quot;dashArray&quot;: null, &quot;dashOffset&quot;: null, &quot;fill&quot;: true, &quot;fillColor&quot;: &quot;green&quot;, &quot;fillOpacity&quot;: 0.2, &quot;fillRule&quot;: &quot;evenodd&quot;, &quot;lineCap&quot;: &quot;round&quot;, &quot;lineJoin&quot;: &quot;round&quot;, &quot;opacity&quot;: 1.0, &quot;radius&quot;: 6.116077917408222, &quot;stroke&quot;: true, &quot;weight&quot;: 3}\n",
       "            ).addTo(map_255fb209e9c02195a79cde7bbbc19ad7);\n",
       "        \n",
       "    \n",
       "        var popup_e1891a1556afeffccfc854ffe99248bd = L.popup({&quot;maxWidth&quot;: &quot;100%&quot;});\n",
       "\n",
       "        \n",
       "            \n",
       "                var html_b8e6892ffc1b70e8b38976b3b0c99e9c = $(`&lt;div id=&quot;html_b8e6892ffc1b70e8b38976b3b0c99e9c&quot; style=&quot;width: 100.0%; height: 100.0%;&quot;&gt;Mexico&lt;/div&gt;`)[0];\n",
       "                popup_e1891a1556afeffccfc854ffe99248bd.setContent(html_b8e6892ffc1b70e8b38976b3b0c99e9c);\n",
       "            \n",
       "        \n",
       "\n",
       "        circle_marker_27ac8ca44595c1519859f7655cb22c2d.bindPopup(popup_e1891a1556afeffccfc854ffe99248bd)\n",
       "        ;\n",
       "\n",
       "        \n",
       "    \n",
       "    \n",
       "            var circle_marker_320f85bb6d12e227c66a80b62e31bfa0 = L.circleMarker(\n",
       "                [41.66667, 21.75],\n",
       "                {&quot;bubblingMouseEvents&quot;: true, &quot;color&quot;: &quot;black&quot;, &quot;dashArray&quot;: null, &quot;dashOffset&quot;: null, &quot;fill&quot;: true, &quot;fillColor&quot;: &quot;black&quot;, &quot;fillOpacity&quot;: 0.2, &quot;fillRule&quot;: &quot;evenodd&quot;, &quot;lineCap&quot;: &quot;round&quot;, &quot;lineJoin&quot;: &quot;round&quot;, &quot;opacity&quot;: 1.0, &quot;radius&quot;: 0.42959989759002715, &quot;stroke&quot;: true, &quot;weight&quot;: 3}\n",
       "            ).addTo(map_255fb209e9c02195a79cde7bbbc19ad7);\n",
       "        \n",
       "    \n",
       "        var popup_b006c997141fa650c6dd3c9362cb946a = L.popup({&quot;maxWidth&quot;: &quot;100%&quot;});\n",
       "\n",
       "        \n",
       "            \n",
       "                var html_d4b628368d37b746def1dab346c2a1c4 = $(`&lt;div id=&quot;html_d4b628368d37b746def1dab346c2a1c4&quot; style=&quot;width: 100.0%; height: 100.0%;&quot;&gt;North Macedonia&lt;/div&gt;`)[0];\n",
       "                popup_b006c997141fa650c6dd3c9362cb946a.setContent(html_d4b628368d37b746def1dab346c2a1c4);\n",
       "            \n",
       "        \n",
       "\n",
       "        circle_marker_320f85bb6d12e227c66a80b62e31bfa0.bindPopup(popup_b006c997141fa650c6dd3c9362cb946a)\n",
       "        ;\n",
       "\n",
       "        \n",
       "    \n",
       "    \n",
       "            var circle_marker_f1e976c50d1f9820e2e4b9bfd3dfdb0b = L.circleMarker(\n",
       "                [18.0, -2.0],\n",
       "                {&quot;bubblingMouseEvents&quot;: true, &quot;color&quot;: &quot;blue&quot;, &quot;dashArray&quot;: null, &quot;dashOffset&quot;: null, &quot;fill&quot;: true, &quot;fillColor&quot;: &quot;blue&quot;, &quot;fillOpacity&quot;: 0.2, &quot;fillRule&quot;: &quot;evenodd&quot;, &quot;lineCap&quot;: &quot;round&quot;, &quot;lineJoin&quot;: &quot;round&quot;, &quot;opacity&quot;: 1.0, &quot;radius&quot;: 15.570484664876235, &quot;stroke&quot;: true, &quot;weight&quot;: 3}\n",
       "            ).addTo(map_255fb209e9c02195a79cde7bbbc19ad7);\n",
       "        \n",
       "    \n",
       "        var popup_f7cab9acd5f21e4e2db6b72ac0a9ebb0 = L.popup({&quot;maxWidth&quot;: &quot;100%&quot;});\n",
       "\n",
       "        \n",
       "            \n",
       "                var html_c2d3fc75f0d5c4fdc0e3a04d52a76d21 = $(`&lt;div id=&quot;html_c2d3fc75f0d5c4fdc0e3a04d52a76d21&quot; style=&quot;width: 100.0%; height: 100.0%;&quot;&gt;Mali&lt;/div&gt;`)[0];\n",
       "                popup_f7cab9acd5f21e4e2db6b72ac0a9ebb0.setContent(html_c2d3fc75f0d5c4fdc0e3a04d52a76d21);\n",
       "            \n",
       "        \n",
       "\n",
       "        circle_marker_f1e976c50d1f9820e2e4b9bfd3dfdb0b.bindPopup(popup_f7cab9acd5f21e4e2db6b72ac0a9ebb0)\n",
       "        ;\n",
       "\n",
       "        \n",
       "    \n",
       "    \n",
       "            var circle_marker_81de75d33abaedc8b21fe6b18107bb68 = L.circleMarker(\n",
       "                [42.75, 19.25],\n",
       "                {&quot;bubblingMouseEvents&quot;: true, &quot;color&quot;: &quot;black&quot;, &quot;dashArray&quot;: null, &quot;dashOffset&quot;: null, &quot;fill&quot;: true, &quot;fillColor&quot;: &quot;black&quot;, &quot;fillOpacity&quot;: 0.2, &quot;fillRule&quot;: &quot;evenodd&quot;, &quot;lineCap&quot;: &quot;round&quot;, &quot;lineJoin&quot;: &quot;round&quot;, &quot;opacity&quot;: 1.0, &quot;radius&quot;: 0.2042802635564556, &quot;stroke&quot;: true, &quot;weight&quot;: 3}\n",
       "            ).addTo(map_255fb209e9c02195a79cde7bbbc19ad7);\n",
       "        \n",
       "    \n",
       "        var popup_7a7704086704cbf7a18124f883a3ab29 = L.popup({&quot;maxWidth&quot;: &quot;100%&quot;});\n",
       "\n",
       "        \n",
       "            \n",
       "                var html_a9533e8178ed9ada287a29c52f052824 = $(`&lt;div id=&quot;html_a9533e8178ed9ada287a29c52f052824&quot; style=&quot;width: 100.0%; height: 100.0%;&quot;&gt;Montenegro&lt;/div&gt;`)[0];\n",
       "                popup_7a7704086704cbf7a18124f883a3ab29.setContent(html_a9533e8178ed9ada287a29c52f052824);\n",
       "            \n",
       "        \n",
       "\n",
       "        circle_marker_81de75d33abaedc8b21fe6b18107bb68.bindPopup(popup_7a7704086704cbf7a18124f883a3ab29)\n",
       "        ;\n",
       "\n",
       "        \n",
       "    \n",
       "    \n",
       "            var circle_marker_1671856b8829e171fcad14ddce7a592c = L.circleMarker(\n",
       "                [-18.25, 35.0],\n",
       "                {&quot;bubblingMouseEvents&quot;: true, &quot;color&quot;: &quot;blue&quot;, &quot;dashArray&quot;: null, &quot;dashOffset&quot;: null, &quot;fill&quot;: true, &quot;fillColor&quot;: &quot;blue&quot;, &quot;fillOpacity&quot;: 0.2, &quot;fillRule&quot;: &quot;evenodd&quot;, &quot;lineCap&quot;: &quot;round&quot;, &quot;lineJoin&quot;: &quot;round&quot;, &quot;opacity&quot;: 1.0, &quot;radius&quot;: 21.32458555367499, &quot;stroke&quot;: true, &quot;weight&quot;: 3}\n",
       "            ).addTo(map_255fb209e9c02195a79cde7bbbc19ad7);\n",
       "        \n",
       "    \n",
       "        var popup_100b76b9a8faf96124fe349efea46e68 = L.popup({&quot;maxWidth&quot;: &quot;100%&quot;});\n",
       "\n",
       "        \n",
       "            \n",
       "                var html_297a714b4c7f5315a90713032c99ad31 = $(`&lt;div id=&quot;html_297a714b4c7f5315a90713032c99ad31&quot; style=&quot;width: 100.0%; height: 100.0%;&quot;&gt;Mozambique&lt;/div&gt;`)[0];\n",
       "                popup_100b76b9a8faf96124fe349efea46e68.setContent(html_297a714b4c7f5315a90713032c99ad31);\n",
       "            \n",
       "        \n",
       "\n",
       "        circle_marker_1671856b8829e171fcad14ddce7a592c.bindPopup(popup_100b76b9a8faf96124fe349efea46e68)\n",
       "        ;\n",
       "\n",
       "        \n",
       "    \n",
       "    \n",
       "            var circle_marker_a0a074a432cf4569b2f98a640b1a4bf2 = L.circleMarker(\n",
       "                [20.25, -10.5],\n",
       "                {&quot;bubblingMouseEvents&quot;: true, &quot;color&quot;: &quot;blue&quot;, &quot;dashArray&quot;: null, &quot;dashOffset&quot;: null, &quot;fill&quot;: true, &quot;fillColor&quot;: &quot;blue&quot;, &quot;fillOpacity&quot;: 0.2, &quot;fillRule&quot;: &quot;evenodd&quot;, &quot;lineCap&quot;: &quot;round&quot;, &quot;lineJoin&quot;: &quot;round&quot;, &quot;opacity&quot;: 1.0, &quot;radius&quot;: 5.104874523724298, &quot;stroke&quot;: true, &quot;weight&quot;: 3}\n",
       "            ).addTo(map_255fb209e9c02195a79cde7bbbc19ad7);\n",
       "        \n",
       "    \n",
       "        var popup_3663ab765e11f0cf0865ce26d3c26779 = L.popup({&quot;maxWidth&quot;: &quot;100%&quot;});\n",
       "\n",
       "        \n",
       "            \n",
       "                var html_6e57e268e6f31fca6844f75a89ece7a8 = $(`&lt;div id=&quot;html_6e57e268e6f31fca6844f75a89ece7a8&quot; style=&quot;width: 100.0%; height: 100.0%;&quot;&gt;Mauritania&lt;/div&gt;`)[0];\n",
       "                popup_3663ab765e11f0cf0865ce26d3c26779.setContent(html_6e57e268e6f31fca6844f75a89ece7a8);\n",
       "            \n",
       "        \n",
       "\n",
       "        circle_marker_a0a074a432cf4569b2f98a640b1a4bf2.bindPopup(popup_3663ab765e11f0cf0865ce26d3c26779)\n",
       "        ;\n",
       "\n",
       "        \n",
       "    \n",
       "    \n",
       "            var circle_marker_0c49b7efb52e4479197c3fb4cb7b7c61 = L.circleMarker(\n",
       "                [-13.5, 34.0],\n",
       "                {&quot;bubblingMouseEvents&quot;: true, &quot;color&quot;: &quot;blue&quot;, &quot;dashArray&quot;: null, &quot;dashOffset&quot;: null, &quot;fill&quot;: true, &quot;fillColor&quot;: &quot;blue&quot;, &quot;fillOpacity&quot;: 0.2, &quot;fillRule&quot;: &quot;evenodd&quot;, &quot;lineCap&quot;: &quot;round&quot;, &quot;lineJoin&quot;: &quot;round&quot;, &quot;opacity&quot;: 1.0, &quot;radius&quot;: 18.27467628792681, &quot;stroke&quot;: true, &quot;weight&quot;: 3}\n",
       "            ).addTo(map_255fb209e9c02195a79cde7bbbc19ad7);\n",
       "        \n",
       "    \n",
       "        var popup_52a3697b7c06a35dd9621e4d06fc96b0 = L.popup({&quot;maxWidth&quot;: &quot;100%&quot;});\n",
       "\n",
       "        \n",
       "            \n",
       "                var html_3c7a91f4dc39749e58f2f115811e9049 = $(`&lt;div id=&quot;html_3c7a91f4dc39749e58f2f115811e9049&quot; style=&quot;width: 100.0%; height: 100.0%;&quot;&gt;Malawi&lt;/div&gt;`)[0];\n",
       "                popup_52a3697b7c06a35dd9621e4d06fc96b0.setContent(html_3c7a91f4dc39749e58f2f115811e9049);\n",
       "            \n",
       "        \n",
       "\n",
       "        circle_marker_0c49b7efb52e4479197c3fb4cb7b7c61.bindPopup(popup_52a3697b7c06a35dd9621e4d06fc96b0)\n",
       "        ;\n",
       "\n",
       "        \n",
       "    \n",
       "    \n",
       "            var circle_marker_c47d5febbbaa5b417ed31fd788ddc8f7 = L.circleMarker(\n",
       "                [2.5, 112.5],\n",
       "                {&quot;bubblingMouseEvents&quot;: true, &quot;color&quot;: &quot;red&quot;, &quot;dashArray&quot;: null, &quot;dashOffset&quot;: null, &quot;fill&quot;: true, &quot;fillColor&quot;: &quot;red&quot;, &quot;fillOpacity&quot;: 0.2, &quot;fillRule&quot;: &quot;evenodd&quot;, &quot;lineCap&quot;: &quot;round&quot;, &quot;lineJoin&quot;: &quot;round&quot;, &quot;opacity&quot;: 1.0, &quot;stroke&quot;: true, &quot;weight&quot;: 3}\n",
       "            ).addTo(map_255fb209e9c02195a79cde7bbbc19ad7);\n",
       "        \n",
       "    \n",
       "        var popup_37f0006bfd48da8e27fa2c7f2a22ae2c = L.popup({&quot;maxWidth&quot;: &quot;100%&quot;});\n",
       "\n",
       "        \n",
       "            \n",
       "                var html_a246429da73d63603c9bb4c67547fa69 = $(`&lt;div id=&quot;html_a246429da73d63603c9bb4c67547fa69&quot; style=&quot;width: 100.0%; height: 100.0%;&quot;&gt;Malaysia&lt;/div&gt;`)[0];\n",
       "                popup_37f0006bfd48da8e27fa2c7f2a22ae2c.setContent(html_a246429da73d63603c9bb4c67547fa69);\n",
       "            \n",
       "        \n",
       "\n",
       "        circle_marker_c47d5febbbaa5b417ed31fd788ddc8f7.bindPopup(popup_37f0006bfd48da8e27fa2c7f2a22ae2c)\n",
       "        ;\n",
       "\n",
       "        \n",
       "    \n",
       "    \n",
       "            var circle_marker_b3eedbc1f32f0f6ff3c5b16d8e861d55 = L.circleMarker(\n",
       "                [-22.0, 17.0],\n",
       "                {&quot;bubblingMouseEvents&quot;: true, &quot;color&quot;: &quot;blue&quot;, &quot;dashArray&quot;: null, &quot;dashOffset&quot;: null, &quot;fill&quot;: true, &quot;fillColor&quot;: &quot;blue&quot;, &quot;fillOpacity&quot;: 0.2, &quot;fillRule&quot;: &quot;evenodd&quot;, &quot;lineCap&quot;: &quot;round&quot;, &quot;lineJoin&quot;: &quot;round&quot;, &quot;opacity&quot;: 1.0, &quot;radius&quot;: 3.9845687128006193, &quot;stroke&quot;: true, &quot;weight&quot;: 3}\n",
       "            ).addTo(map_255fb209e9c02195a79cde7bbbc19ad7);\n",
       "        \n",
       "    \n",
       "        var popup_ac3be224db13b4e0c54beb8312ec0556 = L.popup({&quot;maxWidth&quot;: &quot;100%&quot;});\n",
       "\n",
       "        \n",
       "            \n",
       "                var html_b1199644acfc961b78e1d6d251f725b7 = $(`&lt;div id=&quot;html_b1199644acfc961b78e1d6d251f725b7&quot; style=&quot;width: 100.0%; height: 100.0%;&quot;&gt;Namibia&lt;/div&gt;`)[0];\n",
       "                popup_ac3be224db13b4e0c54beb8312ec0556.setContent(html_b1199644acfc961b78e1d6d251f725b7);\n",
       "            \n",
       "        \n",
       "\n",
       "        circle_marker_b3eedbc1f32f0f6ff3c5b16d8e861d55.bindPopup(popup_ac3be224db13b4e0c54beb8312ec0556)\n",
       "        ;\n",
       "\n",
       "        \n",
       "    \n",
       "    \n",
       "            var circle_marker_1cd95e5c608083f991cf32a5450d7a4c = L.circleMarker(\n",
       "                [18.0, 9.0],\n",
       "                {&quot;bubblingMouseEvents&quot;: true, &quot;color&quot;: &quot;blue&quot;, &quot;dashArray&quot;: null, &quot;dashOffset&quot;: null, &quot;fill&quot;: true, &quot;fillColor&quot;: &quot;blue&quot;, &quot;fillOpacity&quot;: 0.2, &quot;fillRule&quot;: &quot;evenodd&quot;, &quot;lineCap&quot;: &quot;round&quot;, &quot;lineJoin&quot;: &quot;round&quot;, &quot;opacity&quot;: 1.0, &quot;radius&quot;: 14.624343601209656, &quot;stroke&quot;: true, &quot;weight&quot;: 3}\n",
       "            ).addTo(map_255fb209e9c02195a79cde7bbbc19ad7);\n",
       "        \n",
       "    \n",
       "        var popup_5a144481a4e94aa39ba22f6f774ba636 = L.popup({&quot;maxWidth&quot;: &quot;100%&quot;});\n",
       "\n",
       "        \n",
       "            \n",
       "                var html_ee88e1d27e30a6bb2b5c46c2148c1559 = $(`&lt;div id=&quot;html_ee88e1d27e30a6bb2b5c46c2148c1559&quot; style=&quot;width: 100.0%; height: 100.0%;&quot;&gt;Niger&lt;/div&gt;`)[0];\n",
       "                popup_5a144481a4e94aa39ba22f6f774ba636.setContent(html_ee88e1d27e30a6bb2b5c46c2148c1559);\n",
       "            \n",
       "        \n",
       "\n",
       "        circle_marker_1cd95e5c608083f991cf32a5450d7a4c.bindPopup(popup_5a144481a4e94aa39ba22f6f774ba636)\n",
       "        ;\n",
       "\n",
       "        \n",
       "    \n",
       "    \n",
       "            var circle_marker_cdf6695c7dfdeac6409af9c8e7bfd72d = L.circleMarker(\n",
       "                [10.0, 8.0],\n",
       "                {&quot;bubblingMouseEvents&quot;: true, &quot;color&quot;: &quot;blue&quot;, &quot;dashArray&quot;: null, &quot;dashOffset&quot;: null, &quot;fill&quot;: true, &quot;fillColor&quot;: &quot;blue&quot;, &quot;fillOpacity&quot;: 0.2, &quot;fillRule&quot;: &quot;evenodd&quot;, &quot;lineCap&quot;: &quot;round&quot;, &quot;lineJoin&quot;: &quot;round&quot;, &quot;opacity&quot;: 1.0, &quot;radius&quot;: 55.94290002503713, &quot;stroke&quot;: true, &quot;weight&quot;: 3}\n",
       "            ).addTo(map_255fb209e9c02195a79cde7bbbc19ad7);\n",
       "        \n",
       "    \n",
       "        var popup_fa43ec2fc8c36e1cddc2c4f807ae6e34 = L.popup({&quot;maxWidth&quot;: &quot;100%&quot;});\n",
       "\n",
       "        \n",
       "            \n",
       "                var html_9ba4e6fda904a8ef2a1e2cb44bd67d86 = $(`&lt;div id=&quot;html_9ba4e6fda904a8ef2a1e2cb44bd67d86&quot; style=&quot;width: 100.0%; height: 100.0%;&quot;&gt;Nigeria&lt;/div&gt;`)[0];\n",
       "                popup_fa43ec2fc8c36e1cddc2c4f807ae6e34.setContent(html_9ba4e6fda904a8ef2a1e2cb44bd67d86);\n",
       "            \n",
       "        \n",
       "\n",
       "        circle_marker_cdf6695c7dfdeac6409af9c8e7bfd72d.bindPopup(popup_fa43ec2fc8c36e1cddc2c4f807ae6e34)\n",
       "        ;\n",
       "\n",
       "        \n",
       "    \n",
       "    \n",
       "            var circle_marker_4d25df46fb7f919adfb62bb2088476cf = L.circleMarker(\n",
       "                [13.0, -85.0],\n",
       "                {&quot;bubblingMouseEvents&quot;: true, &quot;color&quot;: &quot;green&quot;, &quot;dashArray&quot;: null, &quot;dashOffset&quot;: null, &quot;fill&quot;: true, &quot;fillColor&quot;: &quot;green&quot;, &quot;fillOpacity&quot;: 0.2, &quot;fillRule&quot;: &quot;evenodd&quot;, &quot;lineCap&quot;: &quot;round&quot;, &quot;lineJoin&quot;: &quot;round&quot;, &quot;opacity&quot;: 1.0, &quot;radius&quot;: 3.9789367881465885, &quot;stroke&quot;: true, &quot;weight&quot;: 3}\n",
       "            ).addTo(map_255fb209e9c02195a79cde7bbbc19ad7);\n",
       "        \n",
       "    \n",
       "        var popup_4516875dbfbc9860a58190e3268a7864 = L.popup({&quot;maxWidth&quot;: &quot;100%&quot;});\n",
       "\n",
       "        \n",
       "            \n",
       "                var html_81dcef6be067f695a4cf65cc78761740 = $(`&lt;div id=&quot;html_81dcef6be067f695a4cf65cc78761740&quot; style=&quot;width: 100.0%; height: 100.0%;&quot;&gt;Nicaragua&lt;/div&gt;`)[0];\n",
       "                popup_4516875dbfbc9860a58190e3268a7864.setContent(html_81dcef6be067f695a4cf65cc78761740);\n",
       "            \n",
       "        \n",
       "\n",
       "        circle_marker_4d25df46fb7f919adfb62bb2088476cf.bindPopup(popup_4516875dbfbc9860a58190e3268a7864)\n",
       "        ;\n",
       "\n",
       "        \n",
       "    \n",
       "    \n",
       "            var circle_marker_c81b68459a93af6e0f38031c6931c3f7 = L.circleMarker(\n",
       "                [52.25, 5.75],\n",
       "                {&quot;bubblingMouseEvents&quot;: true, &quot;color&quot;: &quot;black&quot;, &quot;dashArray&quot;: null, &quot;dashOffset&quot;: null, &quot;fill&quot;: true, &quot;fillColor&quot;: &quot;black&quot;, &quot;fillOpacity&quot;: 0.2, &quot;fillRule&quot;: &quot;evenodd&quot;, &quot;lineCap&quot;: &quot;round&quot;, &quot;lineJoin&quot;: &quot;round&quot;, &quot;opacity&quot;: 1.0, &quot;radius&quot;: 1.363308998513233, &quot;stroke&quot;: true, &quot;weight&quot;: 3}\n",
       "            ).addTo(map_255fb209e9c02195a79cde7bbbc19ad7);\n",
       "        \n",
       "    \n",
       "        var popup_a0d07f6a63fffe63de77494aa200b9dc = L.popup({&quot;maxWidth&quot;: &quot;100%&quot;});\n",
       "\n",
       "        \n",
       "            \n",
       "                var html_b04a9a0b5995e7f48f6761b27cdaa83c = $(`&lt;div id=&quot;html_b04a9a0b5995e7f48f6761b27cdaa83c&quot; style=&quot;width: 100.0%; height: 100.0%;&quot;&gt;Netherlands&lt;/div&gt;`)[0];\n",
       "                popup_a0d07f6a63fffe63de77494aa200b9dc.setContent(html_b04a9a0b5995e7f48f6761b27cdaa83c);\n",
       "            \n",
       "        \n",
       "\n",
       "        circle_marker_c81b68459a93af6e0f38031c6931c3f7.bindPopup(popup_a0d07f6a63fffe63de77494aa200b9dc)\n",
       "        ;\n",
       "\n",
       "        \n",
       "    \n",
       "    \n",
       "            var circle_marker_acfd9e446fb012295e863db47754a92c = L.circleMarker(\n",
       "                [62.0, 10.0],\n",
       "                {&quot;bubblingMouseEvents&quot;: true, &quot;color&quot;: &quot;black&quot;, &quot;dashArray&quot;: null, &quot;dashOffset&quot;: null, &quot;fill&quot;: true, &quot;fillColor&quot;: &quot;black&quot;, &quot;fillOpacity&quot;: 0.2, &quot;fillRule&quot;: &quot;evenodd&quot;, &quot;lineCap&quot;: &quot;round&quot;, &quot;lineJoin&quot;: &quot;round&quot;, &quot;opacity&quot;: 1.0, &quot;radius&quot;: 1.0207778467534643, &quot;stroke&quot;: true, &quot;weight&quot;: 3}\n",
       "            ).addTo(map_255fb209e9c02195a79cde7bbbc19ad7);\n",
       "        \n",
       "    \n",
       "        var popup_08387d4d79f81f3741931f7c270e5f8b = L.popup({&quot;maxWidth&quot;: &quot;100%&quot;});\n",
       "\n",
       "        \n",
       "            \n",
       "                var html_95fa1a0bf38bafb047fca7c0eccf761b = $(`&lt;div id=&quot;html_95fa1a0bf38bafb047fca7c0eccf761b&quot; style=&quot;width: 100.0%; height: 100.0%;&quot;&gt;Norway&lt;/div&gt;`)[0];\n",
       "                popup_08387d4d79f81f3741931f7c270e5f8b.setContent(html_95fa1a0bf38bafb047fca7c0eccf761b);\n",
       "            \n",
       "        \n",
       "\n",
       "        circle_marker_acfd9e446fb012295e863db47754a92c.bindPopup(popup_08387d4d79f81f3741931f7c270e5f8b)\n",
       "        ;\n",
       "\n",
       "        \n",
       "    \n",
       "    \n",
       "            var circle_marker_463f12d52127bc72482b4f78aa47841f = L.circleMarker(\n",
       "                [28.0, 84.0],\n",
       "                {&quot;bubblingMouseEvents&quot;: true, &quot;color&quot;: &quot;red&quot;, &quot;dashArray&quot;: null, &quot;dashOffset&quot;: null, &quot;fill&quot;: true, &quot;fillColor&quot;: &quot;red&quot;, &quot;fillOpacity&quot;: 0.2, &quot;fillRule&quot;: &quot;evenodd&quot;, &quot;lineCap&quot;: &quot;round&quot;, &quot;lineJoin&quot;: &quot;round&quot;, &quot;opacity&quot;: 1.0, &quot;radius&quot;: 14.287409177153314, &quot;stroke&quot;: true, &quot;weight&quot;: 3}\n",
       "            ).addTo(map_255fb209e9c02195a79cde7bbbc19ad7);\n",
       "        \n",
       "    \n",
       "        var popup_0f74e283248273f8d2ad629b0031e4e3 = L.popup({&quot;maxWidth&quot;: &quot;100%&quot;});\n",
       "\n",
       "        \n",
       "            \n",
       "                var html_16e60c9625ba730b31b4f008bb5a4649 = $(`&lt;div id=&quot;html_16e60c9625ba730b31b4f008bb5a4649&quot; style=&quot;width: 100.0%; height: 100.0%;&quot;&gt;Nepal&lt;/div&gt;`)[0];\n",
       "                popup_0f74e283248273f8d2ad629b0031e4e3.setContent(html_16e60c9625ba730b31b4f008bb5a4649);\n",
       "            \n",
       "        \n",
       "\n",
       "        circle_marker_463f12d52127bc72482b4f78aa47841f.bindPopup(popup_0f74e283248273f8d2ad629b0031e4e3)\n",
       "        ;\n",
       "\n",
       "        \n",
       "    \n",
       "    \n",
       "            var circle_marker_75b6a21c71ce45ece7c2427ee07b1a8e = L.circleMarker(\n",
       "                [30.0, 70.0],\n",
       "                {&quot;bubblingMouseEvents&quot;: true, &quot;color&quot;: &quot;red&quot;, &quot;dashArray&quot;: null, &quot;dashOffset&quot;: null, &quot;fill&quot;: true, &quot;fillColor&quot;: &quot;red&quot;, &quot;fillOpacity&quot;: 0.2, &quot;fillRule&quot;: &quot;evenodd&quot;, &quot;lineCap&quot;: &quot;round&quot;, &quot;lineJoin&quot;: &quot;round&quot;, &quot;opacity&quot;: 1.0, &quot;radius&quot;: 26.974340020303398, &quot;stroke&quot;: true, &quot;weight&quot;: 3}\n",
       "            ).addTo(map_255fb209e9c02195a79cde7bbbc19ad7);\n",
       "        \n",
       "    \n",
       "        var popup_f0d20e708bec9dda0a04244f6b0f4575 = L.popup({&quot;maxWidth&quot;: &quot;100%&quot;});\n",
       "\n",
       "        \n",
       "            \n",
       "                var html_c0165d1f1fc78e98b8a6ef0321d76b32 = $(`&lt;div id=&quot;html_c0165d1f1fc78e98b8a6ef0321d76b32&quot; style=&quot;width: 100.0%; height: 100.0%;&quot;&gt;Pakistan&lt;/div&gt;`)[0];\n",
       "                popup_f0d20e708bec9dda0a04244f6b0f4575.setContent(html_c0165d1f1fc78e98b8a6ef0321d76b32);\n",
       "            \n",
       "        \n",
       "\n",
       "        circle_marker_75b6a21c71ce45ece7c2427ee07b1a8e.bindPopup(popup_f0d20e708bec9dda0a04244f6b0f4575)\n",
       "        ;\n",
       "\n",
       "        \n",
       "    \n",
       "    \n",
       "            var circle_marker_354f5dcf4740b11bf5c89fdf0ab24274 = L.circleMarker(\n",
       "                [8.9936, -79.51973],\n",
       "                {&quot;bubblingMouseEvents&quot;: true, &quot;color&quot;: &quot;green&quot;, &quot;dashArray&quot;: null, &quot;dashOffset&quot;: null, &quot;fill&quot;: true, &quot;fillColor&quot;: &quot;green&quot;, &quot;fillOpacity&quot;: 0.2, &quot;fillRule&quot;: &quot;evenodd&quot;, &quot;lineCap&quot;: &quot;round&quot;, &quot;lineJoin&quot;: &quot;round&quot;, &quot;opacity&quot;: 1.0, &quot;radius&quot;: 2.15090943062721, &quot;stroke&quot;: true, &quot;weight&quot;: 3}\n",
       "            ).addTo(map_255fb209e9c02195a79cde7bbbc19ad7);\n",
       "        \n",
       "    \n",
       "        var popup_6fdef55624e3f405922e38060fae2837 = L.popup({&quot;maxWidth&quot;: &quot;100%&quot;});\n",
       "\n",
       "        \n",
       "            \n",
       "                var html_5d6277ee00a96efbfcf02215d1d46c1f = $(`&lt;div id=&quot;html_5d6277ee00a96efbfcf02215d1d46c1f&quot; style=&quot;width: 100.0%; height: 100.0%;&quot;&gt;Panama&lt;/div&gt;`)[0];\n",
       "                popup_6fdef55624e3f405922e38060fae2837.setContent(html_5d6277ee00a96efbfcf02215d1d46c1f);\n",
       "            \n",
       "        \n",
       "\n",
       "        circle_marker_354f5dcf4740b11bf5c89fdf0ab24274.bindPopup(popup_6fdef55624e3f405922e38060fae2837)\n",
       "        ;\n",
       "\n",
       "        \n",
       "    \n",
       "    \n",
       "            var circle_marker_c10d2b79c8243a5459c2022afa018b49 = L.circleMarker(\n",
       "                [-10.0, -75.25],\n",
       "                {&quot;bubblingMouseEvents&quot;: true, &quot;color&quot;: &quot;green&quot;, &quot;dashArray&quot;: null, &quot;dashOffset&quot;: null, &quot;fill&quot;: true, &quot;fillColor&quot;: &quot;green&quot;, &quot;fillOpacity&quot;: 0.2, &quot;fillRule&quot;: &quot;evenodd&quot;, &quot;lineCap&quot;: &quot;round&quot;, &quot;lineJoin&quot;: &quot;round&quot;, &quot;opacity&quot;: 1.0, &quot;radius&quot;: 5.167496139520397, &quot;stroke&quot;: true, &quot;weight&quot;: 3}\n",
       "            ).addTo(map_255fb209e9c02195a79cde7bbbc19ad7);\n",
       "        \n",
       "    \n",
       "        var popup_f7b12c5ae92fc63287bef366db3d5861 = L.popup({&quot;maxWidth&quot;: &quot;100%&quot;});\n",
       "\n",
       "        \n",
       "            \n",
       "                var html_b0ae28a414f142f9365daf3729dbf27e = $(`&lt;div id=&quot;html_b0ae28a414f142f9365daf3729dbf27e&quot; style=&quot;width: 100.0%; height: 100.0%;&quot;&gt;Peru&lt;/div&gt;`)[0];\n",
       "                popup_f7b12c5ae92fc63287bef366db3d5861.setContent(html_b0ae28a414f142f9365daf3729dbf27e);\n",
       "            \n",
       "        \n",
       "\n",
       "        circle_marker_c10d2b79c8243a5459c2022afa018b49.bindPopup(popup_f7b12c5ae92fc63287bef366db3d5861)\n",
       "        ;\n",
       "\n",
       "        \n",
       "    \n",
       "    \n",
       "            var circle_marker_5b09162c9fdd60ac7f6870a51e456b2d = L.circleMarker(\n",
       "                [13.0, 122.0],\n",
       "                {&quot;bubblingMouseEvents&quot;: true, &quot;color&quot;: &quot;red&quot;, &quot;dashArray&quot;: null, &quot;dashOffset&quot;: null, &quot;fill&quot;: true, &quot;fillColor&quot;: &quot;red&quot;, &quot;fillOpacity&quot;: 0.2, &quot;fillRule&quot;: &quot;evenodd&quot;, &quot;lineCap&quot;: &quot;round&quot;, &quot;lineJoin&quot;: &quot;round&quot;, &quot;opacity&quot;: 1.0, &quot;radius&quot;: 23.813948433342183, &quot;stroke&quot;: true, &quot;weight&quot;: 3}\n",
       "            ).addTo(map_255fb209e9c02195a79cde7bbbc19ad7);\n",
       "        \n",
       "    \n",
       "        var popup_0b4c160982047e204ac2a5431dc41f4a = L.popup({&quot;maxWidth&quot;: &quot;100%&quot;});\n",
       "\n",
       "        \n",
       "            \n",
       "                var html_0dd7833ddce839fc5152324b9035fea9 = $(`&lt;div id=&quot;html_0dd7833ddce839fc5152324b9035fea9&quot; style=&quot;width: 100.0%; height: 100.0%;&quot;&gt;Philippines&lt;/div&gt;`)[0];\n",
       "                popup_0b4c160982047e204ac2a5431dc41f4a.setContent(html_0dd7833ddce839fc5152324b9035fea9);\n",
       "            \n",
       "        \n",
       "\n",
       "        circle_marker_5b09162c9fdd60ac7f6870a51e456b2d.bindPopup(popup_0b4c160982047e204ac2a5431dc41f4a)\n",
       "        ;\n",
       "\n",
       "        \n",
       "    \n",
       "    \n",
       "            var circle_marker_a4a8d7a32544aea05829e014fb778f03 = L.circleMarker(\n",
       "                [-6.0, 147.0],\n",
       "                {&quot;bubblingMouseEvents&quot;: true, &quot;color&quot;: &quot;red&quot;, &quot;dashArray&quot;: null, &quot;dashOffset&quot;: null, &quot;fill&quot;: true, &quot;fillColor&quot;: &quot;red&quot;, &quot;fillOpacity&quot;: 0.2, &quot;fillRule&quot;: &quot;evenodd&quot;, &quot;lineCap&quot;: &quot;round&quot;, &quot;lineJoin&quot;: &quot;round&quot;, &quot;opacity&quot;: 1.0, &quot;radius&quot;: 9.125985821420215, &quot;stroke&quot;: true, &quot;weight&quot;: 3}\n",
       "            ).addTo(map_255fb209e9c02195a79cde7bbbc19ad7);\n",
       "        \n",
       "    \n",
       "        var popup_5887b2845a64daa81c6a984aaf85f294 = L.popup({&quot;maxWidth&quot;: &quot;100%&quot;});\n",
       "\n",
       "        \n",
       "            \n",
       "                var html_7f4e90d14ab3cf254be393a17498dd46 = $(`&lt;div id=&quot;html_7f4e90d14ab3cf254be393a17498dd46&quot; style=&quot;width: 100.0%; height: 100.0%;&quot;&gt;Papua New Guinea&lt;/div&gt;`)[0];\n",
       "                popup_5887b2845a64daa81c6a984aaf85f294.setContent(html_7f4e90d14ab3cf254be393a17498dd46);\n",
       "            \n",
       "        \n",
       "\n",
       "        circle_marker_a4a8d7a32544aea05829e014fb778f03.bindPopup(popup_5887b2845a64daa81c6a984aaf85f294)\n",
       "        ;\n",
       "\n",
       "        \n",
       "    \n",
       "    \n",
       "            var circle_marker_e0cf6479f4b53e310c374cce8d8d98d4 = L.circleMarker(\n",
       "                [52.0, 20.0],\n",
       "                {&quot;bubblingMouseEvents&quot;: true, &quot;color&quot;: &quot;black&quot;, &quot;dashArray&quot;: null, &quot;dashOffset&quot;: null, &quot;fill&quot;: true, &quot;fillColor&quot;: &quot;black&quot;, &quot;fillOpacity&quot;: 0.2, &quot;fillRule&quot;: &quot;evenodd&quot;, &quot;lineCap&quot;: &quot;round&quot;, &quot;lineJoin&quot;: &quot;round&quot;, &quot;opacity&quot;: 1.0, &quot;stroke&quot;: true, &quot;weight&quot;: 3}\n",
       "            ).addTo(map_255fb209e9c02195a79cde7bbbc19ad7);\n",
       "        \n",
       "    \n",
       "        var popup_9d2ca29f3d4f8bf9c8136478628c8124 = L.popup({&quot;maxWidth&quot;: &quot;100%&quot;});\n",
       "\n",
       "        \n",
       "            \n",
       "                var html_ab8b4efc1d70c07df85510832736e988 = $(`&lt;div id=&quot;html_ab8b4efc1d70c07df85510832736e988&quot; style=&quot;width: 100.0%; height: 100.0%;&quot;&gt;Poland&lt;/div&gt;`)[0];\n",
       "                popup_9d2ca29f3d4f8bf9c8136478628c8124.setContent(html_ab8b4efc1d70c07df85510832736e988);\n",
       "            \n",
       "        \n",
       "\n",
       "        circle_marker_e0cf6479f4b53e310c374cce8d8d98d4.bindPopup(popup_9d2ca29f3d4f8bf9c8136478628c8124)\n",
       "        ;\n",
       "\n",
       "        \n",
       "    \n",
       "    \n",
       "            var circle_marker_32539a2d77140f5a2d0d181ad59ea195 = L.circleMarker(\n",
       "                [-23.33333, -58.0],\n",
       "                {&quot;bubblingMouseEvents&quot;: true, &quot;color&quot;: &quot;green&quot;, &quot;dashArray&quot;: null, &quot;dashOffset&quot;: null, &quot;fill&quot;: true, &quot;fillColor&quot;: &quot;green&quot;, &quot;fillOpacity&quot;: 0.2, &quot;fillRule&quot;: &quot;evenodd&quot;, &quot;lineCap&quot;: &quot;round&quot;, &quot;lineJoin&quot;: &quot;round&quot;, &quot;opacity&quot;: 1.0, &quot;radius&quot;: 2.454808263447154, &quot;stroke&quot;: true, &quot;weight&quot;: 3}\n",
       "            ).addTo(map_255fb209e9c02195a79cde7bbbc19ad7);\n",
       "        \n",
       "    \n",
       "        var popup_11258fe26b85f0c44a6ad40ac4f8fadb = L.popup({&quot;maxWidth&quot;: &quot;100%&quot;});\n",
       "\n",
       "        \n",
       "            \n",
       "                var html_2d90762e7ea985a1712a023bfe98df97 = $(`&lt;div id=&quot;html_2d90762e7ea985a1712a023bfe98df97&quot; style=&quot;width: 100.0%; height: 100.0%;&quot;&gt;Paraguay&lt;/div&gt;`)[0];\n",
       "                popup_11258fe26b85f0c44a6ad40ac4f8fadb.setContent(html_2d90762e7ea985a1712a023bfe98df97);\n",
       "            \n",
       "        \n",
       "\n",
       "        circle_marker_32539a2d77140f5a2d0d181ad59ea195.bindPopup(popup_11258fe26b85f0c44a6ad40ac4f8fadb)\n",
       "        ;\n",
       "\n",
       "        \n",
       "    \n",
       "    \n",
       "            var circle_marker_31cd7e42b489cc6da39cb1e11293601b = L.circleMarker(\n",
       "                [31.92157, 35.20329],\n",
       "                {&quot;bubblingMouseEvents&quot;: true, &quot;color&quot;: &quot;red&quot;, &quot;dashArray&quot;: null, &quot;dashOffset&quot;: null, &quot;fill&quot;: true, &quot;fillColor&quot;: &quot;red&quot;, &quot;fillOpacity&quot;: 0.2, &quot;fillRule&quot;: &quot;evenodd&quot;, &quot;lineCap&quot;: &quot;round&quot;, &quot;lineJoin&quot;: &quot;round&quot;, &quot;opacity&quot;: 1.0, &quot;radius&quot;: 0.3213900403973964, &quot;stroke&quot;: true, &quot;weight&quot;: 3}\n",
       "            ).addTo(map_255fb209e9c02195a79cde7bbbc19ad7);\n",
       "        \n",
       "    \n",
       "        var popup_f4c8fd47d4882375a0da08c28d2ddba1 = L.popup({&quot;maxWidth&quot;: &quot;100%&quot;});\n",
       "\n",
       "        \n",
       "            \n",
       "                var html_66c244a1053b178206b3e0756e1b7f01 = $(`&lt;div id=&quot;html_66c244a1053b178206b3e0756e1b7f01&quot; style=&quot;width: 100.0%; height: 100.0%;&quot;&gt;Palestine&lt;/div&gt;`)[0];\n",
       "                popup_f4c8fd47d4882375a0da08c28d2ddba1.setContent(html_66c244a1053b178206b3e0756e1b7f01);\n",
       "            \n",
       "        \n",
       "\n",
       "        circle_marker_31cd7e42b489cc6da39cb1e11293601b.bindPopup(popup_f4c8fd47d4882375a0da08c28d2ddba1)\n",
       "        ;\n",
       "\n",
       "        \n",
       "    \n",
       "    \n",
       "            var circle_marker_22a3140263e66855b1752f0a6a2ccdef = L.circleMarker(\n",
       "                [46.0, 25.0],\n",
       "                {&quot;bubblingMouseEvents&quot;: true, &quot;color&quot;: &quot;black&quot;, &quot;dashArray&quot;: null, &quot;dashOffset&quot;: null, &quot;fill&quot;: true, &quot;fillColor&quot;: &quot;black&quot;, &quot;fillOpacity&quot;: 0.2, &quot;fillRule&quot;: &quot;evenodd&quot;, &quot;lineCap&quot;: &quot;round&quot;, &quot;lineJoin&quot;: &quot;round&quot;, &quot;opacity&quot;: 1.0, &quot;stroke&quot;: true, &quot;weight&quot;: 3}\n",
       "            ).addTo(map_255fb209e9c02195a79cde7bbbc19ad7);\n",
       "        \n",
       "    \n",
       "        var popup_a63f042df9ce29aba162e0c86696f905 = L.popup({&quot;maxWidth&quot;: &quot;100%&quot;});\n",
       "\n",
       "        \n",
       "            \n",
       "                var html_647d53aae7a63f9bab2df90ad0de4273 = $(`&lt;div id=&quot;html_647d53aae7a63f9bab2df90ad0de4273&quot; style=&quot;width: 100.0%; height: 100.0%;&quot;&gt;Romania&lt;/div&gt;`)[0];\n",
       "                popup_a63f042df9ce29aba162e0c86696f905.setContent(html_647d53aae7a63f9bab2df90ad0de4273);\n",
       "            \n",
       "        \n",
       "\n",
       "        circle_marker_22a3140263e66855b1752f0a6a2ccdef.bindPopup(popup_a63f042df9ce29aba162e0c86696f905)\n",
       "        ;\n",
       "\n",
       "        \n",
       "    \n",
       "    \n",
       "            var circle_marker_4330338fa8c901f676b8a2cd3d3d630d = L.circleMarker(\n",
       "                [60.0, 100.0],\n",
       "                {&quot;bubblingMouseEvents&quot;: true, &quot;color&quot;: &quot;black&quot;, &quot;dashArray&quot;: null, &quot;dashOffset&quot;: null, &quot;fill&quot;: true, &quot;fillColor&quot;: &quot;black&quot;, &quot;fillOpacity&quot;: 0.2, &quot;fillRule&quot;: &quot;evenodd&quot;, &quot;lineCap&quot;: &quot;round&quot;, &quot;lineJoin&quot;: &quot;round&quot;, &quot;opacity&quot;: 1.0, &quot;radius&quot;: 1.1705268361253016, &quot;stroke&quot;: true, &quot;weight&quot;: 3}\n",
       "            ).addTo(map_255fb209e9c02195a79cde7bbbc19ad7);\n",
       "        \n",
       "    \n",
       "        var popup_f6218d5e7b542bf0b611b5fd832abbf2 = L.popup({&quot;maxWidth&quot;: &quot;100%&quot;});\n",
       "\n",
       "        \n",
       "            \n",
       "                var html_1f8ab2bcf4e5504464038bdd2d509ecb = $(`&lt;div id=&quot;html_1f8ab2bcf4e5504464038bdd2d509ecb&quot; style=&quot;width: 100.0%; height: 100.0%;&quot;&gt;Russia&lt;/div&gt;`)[0];\n",
       "                popup_f6218d5e7b542bf0b611b5fd832abbf2.setContent(html_1f8ab2bcf4e5504464038bdd2d509ecb);\n",
       "            \n",
       "        \n",
       "\n",
       "        circle_marker_4330338fa8c901f676b8a2cd3d3d630d.bindPopup(popup_f6218d5e7b542bf0b611b5fd832abbf2)\n",
       "        ;\n",
       "\n",
       "        \n",
       "    \n",
       "    \n",
       "            var circle_marker_b5d16c7cea22998deb8792230954ae2c = L.circleMarker(\n",
       "                [-2.0, 30.0],\n",
       "                {&quot;bubblingMouseEvents&quot;: true, &quot;color&quot;: &quot;blue&quot;, &quot;dashArray&quot;: null, &quot;dashOffset&quot;: null, &quot;fill&quot;: true, &quot;fillColor&quot;: &quot;blue&quot;, &quot;fillOpacity&quot;: 0.2, &quot;fillRule&quot;: &quot;evenodd&quot;, &quot;lineCap&quot;: &quot;round&quot;, &quot;lineJoin&quot;: &quot;round&quot;, &quot;opacity&quot;: 1.0, &quot;radius&quot;: 14.191124420279852, &quot;stroke&quot;: true, &quot;weight&quot;: 3}\n",
       "            ).addTo(map_255fb209e9c02195a79cde7bbbc19ad7);\n",
       "        \n",
       "    \n",
       "        var popup_ad7d0843cb81fea66b77d5358b6b8fd2 = L.popup({&quot;maxWidth&quot;: &quot;100%&quot;});\n",
       "\n",
       "        \n",
       "            \n",
       "                var html_9fc266a8b8fedc194cbc8c058e19b249 = $(`&lt;div id=&quot;html_9fc266a8b8fedc194cbc8c058e19b249&quot; style=&quot;width: 100.0%; height: 100.0%;&quot;&gt;Rwanda&lt;/div&gt;`)[0];\n",
       "                popup_ad7d0843cb81fea66b77d5358b6b8fd2.setContent(html_9fc266a8b8fedc194cbc8c058e19b249);\n",
       "            \n",
       "        \n",
       "\n",
       "        circle_marker_b5d16c7cea22998deb8792230954ae2c.bindPopup(popup_ad7d0843cb81fea66b77d5358b6b8fd2)\n",
       "        ;\n",
       "\n",
       "        \n",
       "    \n",
       "    \n",
       "            var circle_marker_7bd63b2caae50b244768e9a78a81f09b = L.circleMarker(\n",
       "                [16.0, 30.0],\n",
       "                {&quot;bubblingMouseEvents&quot;: true, &quot;color&quot;: &quot;blue&quot;, &quot;dashArray&quot;: null, &quot;dashOffset&quot;: null, &quot;fill&quot;: true, &quot;fillColor&quot;: &quot;blue&quot;, &quot;fillOpacity&quot;: 0.2, &quot;fillRule&quot;: &quot;evenodd&quot;, &quot;lineCap&quot;: &quot;round&quot;, &quot;lineJoin&quot;: &quot;round&quot;, &quot;opacity&quot;: 1.0, &quot;radius&quot;: 14.75537843817308, &quot;stroke&quot;: true, &quot;weight&quot;: 3}\n",
       "            ).addTo(map_255fb209e9c02195a79cde7bbbc19ad7);\n",
       "        \n",
       "    \n",
       "        var popup_dc118353a316a303a5aca5abf422e641 = L.popup({&quot;maxWidth&quot;: &quot;100%&quot;});\n",
       "\n",
       "        \n",
       "            \n",
       "                var html_2554789908a73946b2e1a0b204c7c5a8 = $(`&lt;div id=&quot;html_2554789908a73946b2e1a0b204c7c5a8&quot; style=&quot;width: 100.0%; height: 100.0%;&quot;&gt;Sudan&lt;/div&gt;`)[0];\n",
       "                popup_dc118353a316a303a5aca5abf422e641.setContent(html_2554789908a73946b2e1a0b204c7c5a8);\n",
       "            \n",
       "        \n",
       "\n",
       "        circle_marker_7bd63b2caae50b244768e9a78a81f09b.bindPopup(popup_dc118353a316a303a5aca5abf422e641)\n",
       "        ;\n",
       "\n",
       "        \n",
       "    \n",
       "    \n",
       "            var circle_marker_f82f40d65316d4a2331c5545f2835ced = L.circleMarker(\n",
       "                [14.5, -14.25],\n",
       "                {&quot;bubblingMouseEvents&quot;: true, &quot;color&quot;: &quot;blue&quot;, &quot;dashArray&quot;: null, &quot;dashOffset&quot;: null, &quot;fill&quot;: true, &quot;fillColor&quot;: &quot;blue&quot;, &quot;fillOpacity&quot;: 0.2, &quot;fillRule&quot;: &quot;evenodd&quot;, &quot;lineCap&quot;: &quot;round&quot;, &quot;lineJoin&quot;: &quot;round&quot;, &quot;opacity&quot;: 1.0, &quot;radius&quot;: 11.723984438242729, &quot;stroke&quot;: true, &quot;weight&quot;: 3}\n",
       "            ).addTo(map_255fb209e9c02195a79cde7bbbc19ad7);\n",
       "        \n",
       "    \n",
       "        var popup_0093442e96e95ef6f04db054ee964d41 = L.popup({&quot;maxWidth&quot;: &quot;100%&quot;});\n",
       "\n",
       "        \n",
       "            \n",
       "                var html_853fc9ae257c171ac73a5451d66a002a = $(`&lt;div id=&quot;html_853fc9ae257c171ac73a5451d66a002a&quot; style=&quot;width: 100.0%; height: 100.0%;&quot;&gt;Senegal&lt;/div&gt;`)[0];\n",
       "                popup_0093442e96e95ef6f04db054ee964d41.setContent(html_853fc9ae257c171ac73a5451d66a002a);\n",
       "            \n",
       "        \n",
       "\n",
       "        circle_marker_f82f40d65316d4a2331c5545f2835ced.bindPopup(popup_0093442e96e95ef6f04db054ee964d41)\n",
       "        ;\n",
       "\n",
       "        \n",
       "    \n",
       "    \n",
       "            var circle_marker_cc1fb9fae93fe96dfa09b0fb68d1747d = L.circleMarker(\n",
       "                [8.5, -11.5],\n",
       "                {&quot;bubblingMouseEvents&quot;: true, &quot;color&quot;: &quot;blue&quot;, &quot;dashArray&quot;: null, &quot;dashOffset&quot;: null, &quot;fill&quot;: true, &quot;fillColor&quot;: &quot;blue&quot;, &quot;fillOpacity&quot;: 0.2, &quot;fillRule&quot;: &quot;evenodd&quot;, &quot;lineCap&quot;: &quot;round&quot;, &quot;lineJoin&quot;: &quot;round&quot;, &quot;opacity&quot;: 1.0, &quot;radius&quot;: 10.75395518279574, &quot;stroke&quot;: true, &quot;weight&quot;: 3}\n",
       "            ).addTo(map_255fb209e9c02195a79cde7bbbc19ad7);\n",
       "        \n",
       "    \n",
       "        var popup_5d8cf97e05bcc147df19b64917e2995f = L.popup({&quot;maxWidth&quot;: &quot;100%&quot;});\n",
       "\n",
       "        \n",
       "            \n",
       "                var html_559da839866a4a3ce2173ba2c1974e66 = $(`&lt;div id=&quot;html_559da839866a4a3ce2173ba2c1974e66&quot; style=&quot;width: 100.0%; height: 100.0%;&quot;&gt;Sierra Leone&lt;/div&gt;`)[0];\n",
       "                popup_5d8cf97e05bcc147df19b64917e2995f.setContent(html_559da839866a4a3ce2173ba2c1974e66);\n",
       "            \n",
       "        \n",
       "\n",
       "        circle_marker_cc1fb9fae93fe96dfa09b0fb68d1747d.bindPopup(popup_5d8cf97e05bcc147df19b64917e2995f)\n",
       "        ;\n",
       "\n",
       "        \n",
       "    \n",
       "    \n",
       "            var circle_marker_0c6d3f51ba5ee37558b134f02161161b = L.circleMarker(\n",
       "                [13.83333, -88.91667],\n",
       "                {&quot;bubblingMouseEvents&quot;: true, &quot;color&quot;: &quot;green&quot;, &quot;dashArray&quot;: null, &quot;dashOffset&quot;: null, &quot;fill&quot;: true, &quot;fillColor&quot;: &quot;green&quot;, &quot;fillOpacity&quot;: 0.2, &quot;fillRule&quot;: &quot;evenodd&quot;, &quot;lineCap&quot;: &quot;round&quot;, &quot;lineJoin&quot;: &quot;round&quot;, &quot;opacity&quot;: 1.0, &quot;radius&quot;: 2.231596251861578, &quot;stroke&quot;: true, &quot;weight&quot;: 3}\n",
       "            ).addTo(map_255fb209e9c02195a79cde7bbbc19ad7);\n",
       "        \n",
       "    \n",
       "        var popup_10804f4351f2d7aa388d51e82314f5c3 = L.popup({&quot;maxWidth&quot;: &quot;100%&quot;});\n",
       "\n",
       "        \n",
       "            \n",
       "                var html_4b43dabb799bd0de15bf2784a97a32a3 = $(`&lt;div id=&quot;html_4b43dabb799bd0de15bf2784a97a32a3&quot; style=&quot;width: 100.0%; height: 100.0%;&quot;&gt;El Salvador&lt;/div&gt;`)[0];\n",
       "                popup_10804f4351f2d7aa388d51e82314f5c3.setContent(html_4b43dabb799bd0de15bf2784a97a32a3);\n",
       "            \n",
       "        \n",
       "\n",
       "        circle_marker_0c6d3f51ba5ee37558b134f02161161b.bindPopup(popup_10804f4351f2d7aa388d51e82314f5c3)\n",
       "        ;\n",
       "\n",
       "        \n",
       "    \n",
       "    \n",
       "            var circle_marker_f4eed7a8a3ad2c9968b4ddf01a346367 = L.circleMarker(\n",
       "                [44.81892, 20.45998],\n",
       "                {&quot;bubblingMouseEvents&quot;: true, &quot;color&quot;: &quot;black&quot;, &quot;dashArray&quot;: null, &quot;dashOffset&quot;: null, &quot;fill&quot;: true, &quot;fillColor&quot;: &quot;black&quot;, &quot;fillOpacity&quot;: 0.2, &quot;fillRule&quot;: &quot;evenodd&quot;, &quot;lineCap&quot;: &quot;round&quot;, &quot;lineJoin&quot;: &quot;round&quot;, &quot;opacity&quot;: 1.0, &quot;radius&quot;: 0.37830163207185913, &quot;stroke&quot;: true, &quot;weight&quot;: 3}\n",
       "            ).addTo(map_255fb209e9c02195a79cde7bbbc19ad7);\n",
       "        \n",
       "    \n",
       "        var popup_b005c5d7d058397c9bd691be64b68814 = L.popup({&quot;maxWidth&quot;: &quot;100%&quot;});\n",
       "\n",
       "        \n",
       "            \n",
       "                var html_c4d3597d5ab48d24d7407e146d054645 = $(`&lt;div id=&quot;html_c4d3597d5ab48d24d7407e146d054645&quot; style=&quot;width: 100.0%; height: 100.0%;&quot;&gt;Serbia&lt;/div&gt;`)[0];\n",
       "                popup_b005c5d7d058397c9bd691be64b68814.setContent(html_c4d3597d5ab48d24d7407e146d054645);\n",
       "            \n",
       "        \n",
       "\n",
       "        circle_marker_f4eed7a8a3ad2c9968b4ddf01a346367.bindPopup(popup_b005c5d7d058397c9bd691be64b68814)\n",
       "        ;\n",
       "\n",
       "        \n",
       "    \n",
       "    \n",
       "            var circle_marker_c7683df1267b5eac7df8d2fca9324b62 = L.circleMarker(\n",
       "                [1.0, 7.0],\n",
       "                {&quot;bubblingMouseEvents&quot;: true, &quot;color&quot;: &quot;blue&quot;, &quot;dashArray&quot;: null, &quot;dashOffset&quot;: null, &quot;fill&quot;: true, &quot;fillColor&quot;: &quot;blue&quot;, &quot;fillOpacity&quot;: 0.2, &quot;fillRule&quot;: &quot;evenodd&quot;, &quot;lineCap&quot;: &quot;round&quot;, &quot;lineJoin&quot;: &quot;round&quot;, &quot;opacity&quot;: 1.0, &quot;radius&quot;: 1.5808990803845295, &quot;stroke&quot;: true, &quot;weight&quot;: 3}\n",
       "            ).addTo(map_255fb209e9c02195a79cde7bbbc19ad7);\n",
       "        \n",
       "    \n",
       "        var popup_1f8d1d777aae5efa94f36ccf65c15862 = L.popup({&quot;maxWidth&quot;: &quot;100%&quot;});\n",
       "\n",
       "        \n",
       "            \n",
       "                var html_4e1a19c825a7822a680ee70fbc5f52a8 = $(`&lt;div id=&quot;html_4e1a19c825a7822a680ee70fbc5f52a8&quot; style=&quot;width: 100.0%; height: 100.0%;&quot;&gt;Sao Tome and Principe&lt;/div&gt;`)[0];\n",
       "                popup_1f8d1d777aae5efa94f36ccf65c15862.setContent(html_4e1a19c825a7822a680ee70fbc5f52a8);\n",
       "            \n",
       "        \n",
       "\n",
       "        circle_marker_c7683df1267b5eac7df8d2fca9324b62.bindPopup(popup_1f8d1d777aae5efa94f36ccf65c15862)\n",
       "        ;\n",
       "\n",
       "        \n",
       "    \n",
       "    \n",
       "            var circle_marker_360d3e084bbee8817c3d7d33cead5263 = L.circleMarker(\n",
       "                [4.0, -56.0],\n",
       "                {&quot;bubblingMouseEvents&quot;: true, &quot;color&quot;: &quot;green&quot;, &quot;dashArray&quot;: null, &quot;dashOffset&quot;: null, &quot;fill&quot;: true, &quot;fillColor&quot;: &quot;green&quot;, &quot;fillOpacity&quot;: 0.2, &quot;fillRule&quot;: &quot;evenodd&quot;, &quot;lineCap&quot;: &quot;round&quot;, &quot;lineJoin&quot;: &quot;round&quot;, &quot;opacity&quot;: 1.0, &quot;radius&quot;: 1.6178179347920572, &quot;stroke&quot;: true, &quot;weight&quot;: 3}\n",
       "            ).addTo(map_255fb209e9c02195a79cde7bbbc19ad7);\n",
       "        \n",
       "    \n",
       "        var popup_1a9ee6849e918d120a24012077f29aab = L.popup({&quot;maxWidth&quot;: &quot;100%&quot;});\n",
       "\n",
       "        \n",
       "            \n",
       "                var html_9800d4a4522d59a417ddf495cb4cd1c4 = $(`&lt;div id=&quot;html_9800d4a4522d59a417ddf495cb4cd1c4&quot; style=&quot;width: 100.0%; height: 100.0%;&quot;&gt;Suriname&lt;/div&gt;`)[0];\n",
       "                popup_1a9ee6849e918d120a24012077f29aab.setContent(html_9800d4a4522d59a417ddf495cb4cd1c4);\n",
       "            \n",
       "        \n",
       "\n",
       "        circle_marker_360d3e084bbee8817c3d7d33cead5263.bindPopup(popup_1a9ee6849e918d120a24012077f29aab)\n",
       "        ;\n",
       "\n",
       "        \n",
       "    \n",
       "    \n",
       "            var circle_marker_466d611c5ba4e0c3dd198ae51f52f75f = L.circleMarker(\n",
       "                [48.66667, 19.5],\n",
       "                {&quot;bubblingMouseEvents&quot;: true, &quot;color&quot;: &quot;black&quot;, &quot;dashArray&quot;: null, &quot;dashOffset&quot;: null, &quot;fill&quot;: true, &quot;fillColor&quot;: &quot;black&quot;, &quot;fillOpacity&quot;: 0.2, &quot;fillRule&quot;: &quot;evenodd&quot;, &quot;lineCap&quot;: &quot;round&quot;, &quot;lineJoin&quot;: &quot;round&quot;, &quot;opacity&quot;: 1.0, &quot;radius&quot;: 0.7183841719231987, &quot;stroke&quot;: true, &quot;weight&quot;: 3}\n",
       "            ).addTo(map_255fb209e9c02195a79cde7bbbc19ad7);\n",
       "        \n",
       "    \n",
       "        var popup_6b1ea4b78653f49ad7abac0d2ab65110 = L.popup({&quot;maxWidth&quot;: &quot;100%&quot;});\n",
       "\n",
       "        \n",
       "            \n",
       "                var html_d14833ee156d0cb6f3c8cd0f1d614509 = $(`&lt;div id=&quot;html_d14833ee156d0cb6f3c8cd0f1d614509&quot; style=&quot;width: 100.0%; height: 100.0%;&quot;&gt;Slovak Republic&lt;/div&gt;`)[0];\n",
       "                popup_6b1ea4b78653f49ad7abac0d2ab65110.setContent(html_d14833ee156d0cb6f3c8cd0f1d614509);\n",
       "            \n",
       "        \n",
       "\n",
       "        circle_marker_466d611c5ba4e0c3dd198ae51f52f75f.bindPopup(popup_6b1ea4b78653f49ad7abac0d2ab65110)\n",
       "        ;\n",
       "\n",
       "        \n",
       "    \n",
       "    \n",
       "            var circle_marker_cd2f5dc73f6924f1d372c00fdec9235d = L.circleMarker(\n",
       "                [46.08333, 15.0],\n",
       "                {&quot;bubblingMouseEvents&quot;: true, &quot;color&quot;: &quot;black&quot;, &quot;dashArray&quot;: null, &quot;dashOffset&quot;: null, &quot;fill&quot;: true, &quot;fillColor&quot;: &quot;black&quot;, &quot;fillOpacity&quot;: 0.2, &quot;fillRule&quot;: &quot;evenodd&quot;, &quot;lineCap&quot;: &quot;round&quot;, &quot;lineJoin&quot;: &quot;round&quot;, &quot;opacity&quot;: 1.0, &quot;stroke&quot;: true, &quot;weight&quot;: 3}\n",
       "            ).addTo(map_255fb209e9c02195a79cde7bbbc19ad7);\n",
       "        \n",
       "    \n",
       "        var popup_cbb972895a43a49b13a9c47f4c87e2bb = L.popup({&quot;maxWidth&quot;: &quot;100%&quot;});\n",
       "\n",
       "        \n",
       "            \n",
       "                var html_521773a3a572a21c1e9d27e55e43b601 = $(`&lt;div id=&quot;html_521773a3a572a21c1e9d27e55e43b601&quot; style=&quot;width: 100.0%; height: 100.0%;&quot;&gt;Slovenia&lt;/div&gt;`)[0];\n",
       "                popup_cbb972895a43a49b13a9c47f4c87e2bb.setContent(html_521773a3a572a21c1e9d27e55e43b601);\n",
       "            \n",
       "        \n",
       "\n",
       "        circle_marker_cd2f5dc73f6924f1d372c00fdec9235d.bindPopup(popup_cbb972895a43a49b13a9c47f4c87e2bb)\n",
       "        ;\n",
       "\n",
       "        \n",
       "    \n",
       "    \n",
       "            var circle_marker_5896a0cdc5fbba756aac224c8db62eaf = L.circleMarker(\n",
       "                [62.0, 15.0],\n",
       "                {&quot;bubblingMouseEvents&quot;: true, &quot;color&quot;: &quot;black&quot;, &quot;dashArray&quot;: null, &quot;dashOffset&quot;: null, &quot;fill&quot;: true, &quot;fillColor&quot;: &quot;black&quot;, &quot;fillOpacity&quot;: 0.2, &quot;fillRule&quot;: &quot;evenodd&quot;, &quot;lineCap&quot;: &quot;round&quot;, &quot;lineJoin&quot;: &quot;round&quot;, &quot;opacity&quot;: 1.0, &quot;radius&quot;: 1.0228182985905399, &quot;stroke&quot;: true, &quot;weight&quot;: 3}\n",
       "            ).addTo(map_255fb209e9c02195a79cde7bbbc19ad7);\n",
       "        \n",
       "    \n",
       "        var popup_ee56acd12759654cc90e18b805895ebf = L.popup({&quot;maxWidth&quot;: &quot;100%&quot;});\n",
       "\n",
       "        \n",
       "            \n",
       "                var html_51f367165b0af28e1bf0ce830c92bbd5 = $(`&lt;div id=&quot;html_51f367165b0af28e1bf0ce830c92bbd5&quot; style=&quot;width: 100.0%; height: 100.0%;&quot;&gt;Sweden&lt;/div&gt;`)[0];\n",
       "                popup_ee56acd12759654cc90e18b805895ebf.setContent(html_51f367165b0af28e1bf0ce830c92bbd5);\n",
       "            \n",
       "        \n",
       "\n",
       "        circle_marker_5896a0cdc5fbba756aac224c8db62eaf.bindPopup(popup_ee56acd12759654cc90e18b805895ebf)\n",
       "        ;\n",
       "\n",
       "        \n",
       "    \n",
       "    \n",
       "            var circle_marker_5220a50ff4dfb11ca0eb56384632ff9e = L.circleMarker(\n",
       "                [-26.5, 31.5],\n",
       "                {&quot;bubblingMouseEvents&quot;: true, &quot;color&quot;: &quot;blue&quot;, &quot;dashArray&quot;: null, &quot;dashOffset&quot;: null, &quot;fill&quot;: true, &quot;fillColor&quot;: &quot;blue&quot;, &quot;fillOpacity&quot;: 0.2, &quot;fillRule&quot;: &quot;evenodd&quot;, &quot;lineCap&quot;: &quot;round&quot;, &quot;lineJoin&quot;: &quot;round&quot;, &quot;opacity&quot;: 1.0, &quot;radius&quot;: 3.6497571987716015, &quot;stroke&quot;: true, &quot;weight&quot;: 3}\n",
       "            ).addTo(map_255fb209e9c02195a79cde7bbbc19ad7);\n",
       "        \n",
       "    \n",
       "        var popup_e9f778e3b057d4b1a5c34cbf71b54f95 = L.popup({&quot;maxWidth&quot;: &quot;100%&quot;});\n",
       "\n",
       "        \n",
       "            \n",
       "                var html_01de585233213daa15f5fa49313a173a = $(`&lt;div id=&quot;html_01de585233213daa15f5fa49313a173a&quot; style=&quot;width: 100.0%; height: 100.0%;&quot;&gt;Swaziland&lt;/div&gt;`)[0];\n",
       "                popup_e9f778e3b057d4b1a5c34cbf71b54f95.setContent(html_01de585233213daa15f5fa49313a173a);\n",
       "            \n",
       "        \n",
       "\n",
       "        circle_marker_5220a50ff4dfb11ca0eb56384632ff9e.bindPopup(popup_e9f778e3b057d4b1a5c34cbf71b54f95)\n",
       "        ;\n",
       "\n",
       "        \n",
       "    \n",
       "    \n",
       "            var circle_marker_c6d3caefc42681f184ea99a5e5d04f41 = L.circleMarker(\n",
       "                [-4.58333, 55.66667],\n",
       "                {&quot;bubblingMouseEvents&quot;: true, &quot;color&quot;: &quot;blue&quot;, &quot;dashArray&quot;: null, &quot;dashOffset&quot;: null, &quot;fill&quot;: true, &quot;fillColor&quot;: &quot;blue&quot;, &quot;fillOpacity&quot;: 0.2, &quot;fillRule&quot;: &quot;evenodd&quot;, &quot;lineCap&quot;: &quot;round&quot;, &quot;lineJoin&quot;: &quot;round&quot;, &quot;opacity&quot;: 1.0, &quot;radius&quot;: 0.08519075891779829, &quot;stroke&quot;: true, &quot;weight&quot;: 3}\n",
       "            ).addTo(map_255fb209e9c02195a79cde7bbbc19ad7);\n",
       "        \n",
       "    \n",
       "        var popup_40cc10e3b695cc50adbde16789e46318 = L.popup({&quot;maxWidth&quot;: &quot;100%&quot;});\n",
       "\n",
       "        \n",
       "            \n",
       "                var html_32da296d5b53dc810841376b54461130 = $(`&lt;div id=&quot;html_32da296d5b53dc810841376b54461130&quot; style=&quot;width: 100.0%; height: 100.0%;&quot;&gt;Seychelles&lt;/div&gt;`)[0];\n",
       "                popup_40cc10e3b695cc50adbde16789e46318.setContent(html_32da296d5b53dc810841376b54461130);\n",
       "            \n",
       "        \n",
       "\n",
       "        circle_marker_c6d3caefc42681f184ea99a5e5d04f41.bindPopup(popup_40cc10e3b695cc50adbde16789e46318)\n",
       "        ;\n",
       "\n",
       "        \n",
       "    \n",
       "    \n",
       "            var circle_marker_761cf6d8e0d2a46256723c0667d72b13 = L.circleMarker(\n",
       "                [35.0, 38.0],\n",
       "                {&quot;bubblingMouseEvents&quot;: true, &quot;color&quot;: &quot;red&quot;, &quot;dashArray&quot;: null, &quot;dashOffset&quot;: null, &quot;fill&quot;: true, &quot;fillColor&quot;: &quot;red&quot;, &quot;fillOpacity&quot;: 0.2, &quot;fillRule&quot;: &quot;evenodd&quot;, &quot;lineCap&quot;: &quot;round&quot;, &quot;lineJoin&quot;: &quot;round&quot;, &quot;opacity&quot;: 1.0, &quot;radius&quot;: 3.4099601627152856, &quot;stroke&quot;: true, &quot;weight&quot;: 3}\n",
       "            ).addTo(map_255fb209e9c02195a79cde7bbbc19ad7);\n",
       "        \n",
       "    \n",
       "        var popup_bacdb74386661511773c087d5cafb0a7 = L.popup({&quot;maxWidth&quot;: &quot;100%&quot;});\n",
       "\n",
       "        \n",
       "            \n",
       "                var html_8df6989ca861262a550b5c963eb03ae5 = $(`&lt;div id=&quot;html_8df6989ca861262a550b5c963eb03ae5&quot; style=&quot;width: 100.0%; height: 100.0%;&quot;&gt;Syria&lt;/div&gt;`)[0];\n",
       "                popup_bacdb74386661511773c087d5cafb0a7.setContent(html_8df6989ca861262a550b5c963eb03ae5);\n",
       "            \n",
       "        \n",
       "\n",
       "        circle_marker_761cf6d8e0d2a46256723c0667d72b13.bindPopup(popup_bacdb74386661511773c087d5cafb0a7)\n",
       "        ;\n",
       "\n",
       "        \n",
       "    \n",
       "    \n",
       "            var circle_marker_5caf03b95636c042c67c0e3f5a8e6e71 = L.circleMarker(\n",
       "                [15.0, 19.0],\n",
       "                {&quot;bubblingMouseEvents&quot;: true, &quot;color&quot;: &quot;blue&quot;, &quot;dashArray&quot;: null, &quot;dashOffset&quot;: null, &quot;fill&quot;: true, &quot;fillColor&quot;: &quot;blue&quot;, &quot;fillOpacity&quot;: 0.2, &quot;fillRule&quot;: &quot;evenodd&quot;, &quot;lineCap&quot;: &quot;round&quot;, &quot;lineJoin&quot;: &quot;round&quot;, &quot;opacity&quot;: 1.0, &quot;radius&quot;: 11.78726800446764, &quot;stroke&quot;: true, &quot;weight&quot;: 3}\n",
       "            ).addTo(map_255fb209e9c02195a79cde7bbbc19ad7);\n",
       "        \n",
       "    \n",
       "        var popup_ae9fe81c5222fc57bf88ad21aab16c9e = L.popup({&quot;maxWidth&quot;: &quot;100%&quot;});\n",
       "\n",
       "        \n",
       "            \n",
       "                var html_b0aeb9c73ab788ca9659c39ee51e6964 = $(`&lt;div id=&quot;html_b0aeb9c73ab788ca9659c39ee51e6964&quot; style=&quot;width: 100.0%; height: 100.0%;&quot;&gt;Chad&lt;/div&gt;`)[0];\n",
       "                popup_ae9fe81c5222fc57bf88ad21aab16c9e.setContent(html_b0aeb9c73ab788ca9659c39ee51e6964);\n",
       "            \n",
       "        \n",
       "\n",
       "        circle_marker_5caf03b95636c042c67c0e3f5a8e6e71.bindPopup(popup_ae9fe81c5222fc57bf88ad21aab16c9e)\n",
       "        ;\n",
       "\n",
       "        \n",
       "    \n",
       "    \n",
       "            var circle_marker_4f7d3eb8364eaf233ce8771a6145315f = L.circleMarker(\n",
       "                [8.66667, 1.08333],\n",
       "                {&quot;bubblingMouseEvents&quot;: true, &quot;color&quot;: &quot;blue&quot;, &quot;dashArray&quot;: null, &quot;dashOffset&quot;: null, &quot;fill&quot;: true, &quot;fillColor&quot;: &quot;blue&quot;, &quot;fillOpacity&quot;: 0.2, &quot;fillRule&quot;: &quot;evenodd&quot;, &quot;lineCap&quot;: &quot;round&quot;, &quot;lineJoin&quot;: &quot;round&quot;, &quot;opacity&quot;: 1.0, &quot;radius&quot;: 10.35531519401904, &quot;stroke&quot;: true, &quot;weight&quot;: 3}\n",
       "            ).addTo(map_255fb209e9c02195a79cde7bbbc19ad7);\n",
       "        \n",
       "    \n",
       "        var popup_f5a3836c485a75514703c3cfce272388 = L.popup({&quot;maxWidth&quot;: &quot;100%&quot;});\n",
       "\n",
       "        \n",
       "            \n",
       "                var html_431c10fda7042968894ec06d3154bd8a = $(`&lt;div id=&quot;html_431c10fda7042968894ec06d3154bd8a&quot; style=&quot;width: 100.0%; height: 100.0%;&quot;&gt;Togo&lt;/div&gt;`)[0];\n",
       "                popup_f5a3836c485a75514703c3cfce272388.setContent(html_431c10fda7042968894ec06d3154bd8a);\n",
       "            \n",
       "        \n",
       "\n",
       "        circle_marker_4f7d3eb8364eaf233ce8771a6145315f.bindPopup(popup_f5a3836c485a75514703c3cfce272388)\n",
       "        ;\n",
       "\n",
       "        \n",
       "    \n",
       "    \n",
       "            var circle_marker_92d03c2cf3dfd3f26c0259e4cae5e2a5 = L.circleMarker(\n",
       "                [15.5, 101.0],\n",
       "                {&quot;bubblingMouseEvents&quot;: true, &quot;color&quot;: &quot;red&quot;, &quot;dashArray&quot;: null, &quot;dashOffset&quot;: null, &quot;fill&quot;: true, &quot;fillColor&quot;: &quot;red&quot;, &quot;fillOpacity&quot;: 0.2, &quot;fillRule&quot;: &quot;evenodd&quot;, &quot;lineCap&quot;: &quot;round&quot;, &quot;lineJoin&quot;: &quot;round&quot;, &quot;opacity&quot;: 1.0, &quot;radius&quot;: 2.574986229895502, &quot;stroke&quot;: true, &quot;weight&quot;: 3}\n",
       "            ).addTo(map_255fb209e9c02195a79cde7bbbc19ad7);\n",
       "        \n",
       "    \n",
       "        var popup_bfe76841e3a126ea4a3611828ea36399 = L.popup({&quot;maxWidth&quot;: &quot;100%&quot;});\n",
       "\n",
       "        \n",
       "            \n",
       "                var html_d695ab77c2f17baab88ee854a2915d31 = $(`&lt;div id=&quot;html_d695ab77c2f17baab88ee854a2915d31&quot; style=&quot;width: 100.0%; height: 100.0%;&quot;&gt;Thailand&lt;/div&gt;`)[0];\n",
       "                popup_bfe76841e3a126ea4a3611828ea36399.setContent(html_d695ab77c2f17baab88ee854a2915d31);\n",
       "            \n",
       "        \n",
       "\n",
       "        circle_marker_92d03c2cf3dfd3f26c0259e4cae5e2a5.bindPopup(popup_bfe76841e3a126ea4a3611828ea36399)\n",
       "        ;\n",
       "\n",
       "        \n",
       "    \n",
       "    \n",
       "            var circle_marker_d9b0c63e7431d968502b8e6f73865f1e = L.circleMarker(\n",
       "                [39.0, 71.0],\n",
       "                {&quot;bubblingMouseEvents&quot;: true, &quot;color&quot;: &quot;red&quot;, &quot;dashArray&quot;: null, &quot;dashOffset&quot;: null, &quot;fill&quot;: true, &quot;fillColor&quot;: &quot;red&quot;, &quot;fillOpacity&quot;: 0.2, &quot;fillRule&quot;: &quot;evenodd&quot;, &quot;lineCap&quot;: &quot;round&quot;, &quot;lineJoin&quot;: &quot;round&quot;, &quot;opacity&quot;: 1.0, &quot;radius&quot;: 3.937311718658916, &quot;stroke&quot;: true, &quot;weight&quot;: 3}\n",
       "            ).addTo(map_255fb209e9c02195a79cde7bbbc19ad7);\n",
       "        \n",
       "    \n",
       "        var popup_3450fc73014f2b77e9d0cd17f79aac37 = L.popup({&quot;maxWidth&quot;: &quot;100%&quot;});\n",
       "\n",
       "        \n",
       "            \n",
       "                var html_9073efbf757816012b330700d197bd2e = $(`&lt;div id=&quot;html_9073efbf757816012b330700d197bd2e&quot; style=&quot;width: 100.0%; height: 100.0%;&quot;&gt;Tajikistan&lt;/div&gt;`)[0];\n",
       "                popup_3450fc73014f2b77e9d0cd17f79aac37.setContent(html_9073efbf757816012b330700d197bd2e);\n",
       "            \n",
       "        \n",
       "\n",
       "        circle_marker_d9b0c63e7431d968502b8e6f73865f1e.bindPopup(popup_3450fc73014f2b77e9d0cd17f79aac37)\n",
       "        ;\n",
       "\n",
       "        \n",
       "    \n",
       "    \n",
       "            var circle_marker_caa23cc3c65a01c7f504abcabe2e4ddc = L.circleMarker(\n",
       "                [39.75, 59.66667],\n",
       "                {&quot;bubblingMouseEvents&quot;: true, &quot;color&quot;: &quot;red&quot;, &quot;dashArray&quot;: null, &quot;dashOffset&quot;: null, &quot;fill&quot;: true, &quot;fillColor&quot;: &quot;red&quot;, &quot;fillOpacity&quot;: 0.2, &quot;fillRule&quot;: &quot;evenodd&quot;, &quot;lineCap&quot;: &quot;round&quot;, &quot;lineJoin&quot;: &quot;round&quot;, &quot;opacity&quot;: 1.0, &quot;radius&quot;: 6.339658544041773, &quot;stroke&quot;: true, &quot;weight&quot;: 3}\n",
       "            ).addTo(map_255fb209e9c02195a79cde7bbbc19ad7);\n",
       "        \n",
       "    \n",
       "        var popup_d256680566775f32481b1aa473c0e3ef = L.popup({&quot;maxWidth&quot;: &quot;100%&quot;});\n",
       "\n",
       "        \n",
       "            \n",
       "                var html_4536384693c49424e4b6ae6aeca26080 = $(`&lt;div id=&quot;html_4536384693c49424e4b6ae6aeca26080&quot; style=&quot;width: 100.0%; height: 100.0%;&quot;&gt;Turkmenistan&lt;/div&gt;`)[0];\n",
       "                popup_d256680566775f32481b1aa473c0e3ef.setContent(html_4536384693c49424e4b6ae6aeca26080);\n",
       "            \n",
       "        \n",
       "\n",
       "        circle_marker_caa23cc3c65a01c7f504abcabe2e4ddc.bindPopup(popup_d256680566775f32481b1aa473c0e3ef)\n",
       "        ;\n",
       "\n",
       "        \n",
       "    \n",
       "    \n",
       "            var circle_marker_4655aa41354ac270dda88909c975f759 = L.circleMarker(\n",
       "                [-8.83333, 125.75],\n",
       "                {&quot;bubblingMouseEvents&quot;: true, &quot;color&quot;: &quot;red&quot;, &quot;dashArray&quot;: null, &quot;dashOffset&quot;: null, &quot;fill&quot;: true, &quot;fillColor&quot;: &quot;red&quot;, &quot;fillOpacity&quot;: 0.2, &quot;fillRule&quot;: &quot;evenodd&quot;, &quot;lineCap&quot;: &quot;round&quot;, &quot;lineJoin&quot;: &quot;round&quot;, &quot;opacity&quot;: 1.0, &quot;radius&quot;: 3.4838832413106937, &quot;stroke&quot;: true, &quot;weight&quot;: 3}\n",
       "            ).addTo(map_255fb209e9c02195a79cde7bbbc19ad7);\n",
       "        \n",
       "    \n",
       "        var popup_85c7d49695d4ecb0a140fff713a96bb4 = L.popup({&quot;maxWidth&quot;: &quot;100%&quot;});\n",
       "\n",
       "        \n",
       "            \n",
       "                var html_f84affc10cbca3845571d9ea7565e007 = $(`&lt;div id=&quot;html_f84affc10cbca3845571d9ea7565e007&quot; style=&quot;width: 100.0%; height: 100.0%;&quot;&gt;Timor-Leste&lt;/div&gt;`)[0];\n",
       "                popup_85c7d49695d4ecb0a140fff713a96bb4.setContent(html_f84affc10cbca3845571d9ea7565e007);\n",
       "            \n",
       "        \n",
       "\n",
       "        circle_marker_4655aa41354ac270dda88909c975f759.bindPopup(popup_85c7d49695d4ecb0a140fff713a96bb4)\n",
       "        ;\n",
       "\n",
       "        \n",
       "    \n",
       "    \n",
       "            var circle_marker_665c17846bd0fa1d756058f3aee02bac = L.circleMarker(\n",
       "                [11.0, -61.0],\n",
       "                {&quot;bubblingMouseEvents&quot;: true, &quot;color&quot;: &quot;green&quot;, &quot;dashArray&quot;: null, &quot;dashOffset&quot;: null, &quot;fill&quot;: true, &quot;fillColor&quot;: &quot;green&quot;, &quot;fillOpacity&quot;: 0.2, &quot;fillRule&quot;: &quot;evenodd&quot;, &quot;lineCap&quot;: &quot;round&quot;, &quot;lineJoin&quot;: &quot;round&quot;, &quot;opacity&quot;: 1.0, &quot;radius&quot;: 1.3261575894870345, &quot;stroke&quot;: true, &quot;weight&quot;: 3}\n",
       "            ).addTo(map_255fb209e9c02195a79cde7bbbc19ad7);\n",
       "        \n",
       "    \n",
       "        var popup_c903f4cd287a3ecad32977e738ed5fbf = L.popup({&quot;maxWidth&quot;: &quot;100%&quot;});\n",
       "\n",
       "        \n",
       "            \n",
       "                var html_cb9b1f47a36a77727df8a7ee1bd2de20 = $(`&lt;div id=&quot;html_cb9b1f47a36a77727df8a7ee1bd2de20&quot; style=&quot;width: 100.0%; height: 100.0%;&quot;&gt;Trinidad and Tobago&lt;/div&gt;`)[0];\n",
       "                popup_c903f4cd287a3ecad32977e738ed5fbf.setContent(html_cb9b1f47a36a77727df8a7ee1bd2de20);\n",
       "            \n",
       "        \n",
       "\n",
       "        circle_marker_665c17846bd0fa1d756058f3aee02bac.bindPopup(popup_c903f4cd287a3ecad32977e738ed5fbf)\n",
       "        ;\n",
       "\n",
       "        \n",
       "    \n",
       "    \n",
       "            var circle_marker_f54feb3975b475e6617969133a7d6875 = L.circleMarker(\n",
       "                [34.0, 9.0],\n",
       "                {&quot;bubblingMouseEvents&quot;: true, &quot;color&quot;: &quot;blue&quot;, &quot;dashArray&quot;: null, &quot;dashOffset&quot;: null, &quot;fill&quot;: true, &quot;fillColor&quot;: &quot;blue&quot;, &quot;fillOpacity&quot;: 0.2, &quot;fillRule&quot;: &quot;evenodd&quot;, &quot;lineCap&quot;: &quot;round&quot;, &quot;lineJoin&quot;: &quot;round&quot;, &quot;opacity&quot;: 1.0, &quot;radius&quot;: 1.5827604478426454, &quot;stroke&quot;: true, &quot;weight&quot;: 3}\n",
       "            ).addTo(map_255fb209e9c02195a79cde7bbbc19ad7);\n",
       "        \n",
       "    \n",
       "        var popup_aba69ce062821df0d7361b218bd1c670 = L.popup({&quot;maxWidth&quot;: &quot;100%&quot;});\n",
       "\n",
       "        \n",
       "            \n",
       "                var html_d70797a3960a651c30053690dca24294 = $(`&lt;div id=&quot;html_d70797a3960a651c30053690dca24294&quot; style=&quot;width: 100.0%; height: 100.0%;&quot;&gt;Tunisia&lt;/div&gt;`)[0];\n",
       "                popup_aba69ce062821df0d7361b218bd1c670.setContent(html_d70797a3960a651c30053690dca24294);\n",
       "            \n",
       "        \n",
       "\n",
       "        circle_marker_f54feb3975b475e6617969133a7d6875.bindPopup(popup_aba69ce062821df0d7361b218bd1c670)\n",
       "        ;\n",
       "\n",
       "        \n",
       "    \n",
       "    \n",
       "            var circle_marker_eba74c4185304f32869c79831a90d655 = L.circleMarker(\n",
       "                [39.0, 35.0],\n",
       "                {&quot;bubblingMouseEvents&quot;: true, &quot;color&quot;: &quot;black&quot;, &quot;dashArray&quot;: null, &quot;dashOffset&quot;: null, &quot;fill&quot;: true, &quot;fillColor&quot;: &quot;black&quot;, &quot;fillOpacity&quot;: 0.2, &quot;fillRule&quot;: &quot;evenodd&quot;, &quot;lineCap&quot;: &quot;round&quot;, &quot;lineJoin&quot;: &quot;round&quot;, &quot;opacity&quot;: 1.0, &quot;radius&quot;: 1.3571310413650737, &quot;stroke&quot;: true, &quot;weight&quot;: 3}\n",
       "            ).addTo(map_255fb209e9c02195a79cde7bbbc19ad7);\n",
       "        \n",
       "    \n",
       "        var popup_7cb7208f0036cd4ecb096f40d4704e0a = L.popup({&quot;maxWidth&quot;: &quot;100%&quot;});\n",
       "\n",
       "        \n",
       "            \n",
       "                var html_0135ff0cca119655d7541f18f7f1e5ac = $(`&lt;div id=&quot;html_0135ff0cca119655d7541f18f7f1e5ac&quot; style=&quot;width: 100.0%; height: 100.0%;&quot;&gt;Turkey&lt;/div&gt;`)[0];\n",
       "                popup_7cb7208f0036cd4ecb096f40d4704e0a.setContent(html_0135ff0cca119655d7541f18f7f1e5ac);\n",
       "            \n",
       "        \n",
       "\n",
       "        circle_marker_eba74c4185304f32869c79831a90d655.bindPopup(popup_7cb7208f0036cd4ecb096f40d4704e0a)\n",
       "        ;\n",
       "\n",
       "        \n",
       "    \n",
       "    \n",
       "            var circle_marker_472b1d2af42b9c75b7d1e6c5e1985cda = L.circleMarker(\n",
       "                [-6.0, 35.0],\n",
       "                {&quot;bubblingMouseEvents&quot;: true, &quot;color&quot;: &quot;blue&quot;, &quot;dashArray&quot;: null, &quot;dashOffset&quot;: null, &quot;fill&quot;: true, &quot;fillColor&quot;: &quot;blue&quot;, &quot;fillOpacity&quot;: 0.2, &quot;fillRule&quot;: &quot;evenodd&quot;, &quot;lineCap&quot;: &quot;round&quot;, &quot;lineJoin&quot;: &quot;round&quot;, &quot;opacity&quot;: 1.0, &quot;radius&quot;: 24.774201262059734, &quot;stroke&quot;: true, &quot;weight&quot;: 3}\n",
       "            ).addTo(map_255fb209e9c02195a79cde7bbbc19ad7);\n",
       "        \n",
       "    \n",
       "        var popup_bd5f8a09284d08f513d5ea92870ffb05 = L.popup({&quot;maxWidth&quot;: &quot;100%&quot;});\n",
       "\n",
       "        \n",
       "            \n",
       "                var html_c1964bbd2fb3fed5fcbe894c89a18e19 = $(`&lt;div id=&quot;html_c1964bbd2fb3fed5fcbe894c89a18e19&quot; style=&quot;width: 100.0%; height: 100.0%;&quot;&gt;Tanzania&lt;/div&gt;`)[0];\n",
       "                popup_bd5f8a09284d08f513d5ea92870ffb05.setContent(html_c1964bbd2fb3fed5fcbe894c89a18e19);\n",
       "            \n",
       "        \n",
       "\n",
       "        circle_marker_472b1d2af42b9c75b7d1e6c5e1985cda.bindPopup(popup_bd5f8a09284d08f513d5ea92870ffb05)\n",
       "        ;\n",
       "\n",
       "        \n",
       "    \n",
       "    \n",
       "            var circle_marker_8e9f3956361cfa46ea3aa794845046c5 = L.circleMarker(\n",
       "                [1.25, 32.5],\n",
       "                {&quot;bubblingMouseEvents&quot;: true, &quot;color&quot;: &quot;blue&quot;, &quot;dashArray&quot;: null, &quot;dashOffset&quot;: null, &quot;fill&quot;: true, &quot;fillColor&quot;: &quot;blue&quot;, &quot;fillOpacity&quot;: 0.2, &quot;fillRule&quot;: &quot;evenodd&quot;, &quot;lineCap&quot;: &quot;round&quot;, &quot;lineJoin&quot;: &quot;round&quot;, &quot;opacity&quot;: 1.0, &quot;radius&quot;: 19.74773153351201, &quot;stroke&quot;: true, &quot;weight&quot;: 3}\n",
       "            ).addTo(map_255fb209e9c02195a79cde7bbbc19ad7);\n",
       "        \n",
       "    \n",
       "        var popup_92f260d7a79d4aeed3d5faf1906deca6 = L.popup({&quot;maxWidth&quot;: &quot;100%&quot;});\n",
       "\n",
       "        \n",
       "            \n",
       "                var html_e61e6b761f07a04fe180bfc4331d511d = $(`&lt;div id=&quot;html_e61e6b761f07a04fe180bfc4331d511d&quot; style=&quot;width: 100.0%; height: 100.0%;&quot;&gt;Uganda&lt;/div&gt;`)[0];\n",
       "                popup_92f260d7a79d4aeed3d5faf1906deca6.setContent(html_e61e6b761f07a04fe180bfc4331d511d);\n",
       "            \n",
       "        \n",
       "\n",
       "        circle_marker_8e9f3956361cfa46ea3aa794845046c5.bindPopup(popup_92f260d7a79d4aeed3d5faf1906deca6)\n",
       "        ;\n",
       "\n",
       "        \n",
       "    \n",
       "    \n",
       "            var circle_marker_af99e0f752125cbd304e80584533e0b3 = L.circleMarker(\n",
       "                [49.0, 32.0],\n",
       "                {&quot;bubblingMouseEvents&quot;: true, &quot;color&quot;: &quot;black&quot;, &quot;dashArray&quot;: null, &quot;dashOffset&quot;: null, &quot;fill&quot;: true, &quot;fillColor&quot;: &quot;black&quot;, &quot;fillOpacity&quot;: 0.2, &quot;fillRule&quot;: &quot;evenodd&quot;, &quot;lineCap&quot;: &quot;round&quot;, &quot;lineJoin&quot;: &quot;round&quot;, &quot;opacity&quot;: 1.0, &quot;stroke&quot;: true, &quot;weight&quot;: 3}\n",
       "            ).addTo(map_255fb209e9c02195a79cde7bbbc19ad7);\n",
       "        \n",
       "    \n",
       "        var popup_5971b9eaa0327227d63d88910a1dab0f = L.popup({&quot;maxWidth&quot;: &quot;100%&quot;});\n",
       "\n",
       "        \n",
       "            \n",
       "                var html_86dc24829c435eaf270b7781eca2bea3 = $(`&lt;div id=&quot;html_86dc24829c435eaf270b7781eca2bea3&quot; style=&quot;width: 100.0%; height: 100.0%;&quot;&gt;Ukraine&lt;/div&gt;`)[0];\n",
       "                popup_5971b9eaa0327227d63d88910a1dab0f.setContent(html_86dc24829c435eaf270b7781eca2bea3);\n",
       "            \n",
       "        \n",
       "\n",
       "        circle_marker_af99e0f752125cbd304e80584533e0b3.bindPopup(popup_5971b9eaa0327227d63d88910a1dab0f)\n",
       "        ;\n",
       "\n",
       "        \n",
       "    \n",
       "    \n",
       "            var circle_marker_89374882c252f1b95ad126c57c3d5da9 = L.circleMarker(\n",
       "                [-33.0, -56.0],\n",
       "                {&quot;bubblingMouseEvents&quot;: true, &quot;color&quot;: &quot;green&quot;, &quot;dashArray&quot;: null, &quot;dashOffset&quot;: null, &quot;fill&quot;: true, &quot;fillColor&quot;: &quot;green&quot;, &quot;fillOpacity&quot;: 0.2, &quot;fillRule&quot;: &quot;evenodd&quot;, &quot;lineCap&quot;: &quot;round&quot;, &quot;lineJoin&quot;: &quot;round&quot;, &quot;opacity&quot;: 1.0, &quot;radius&quot;: 0.5757498723159213, &quot;stroke&quot;: true, &quot;weight&quot;: 3}\n",
       "            ).addTo(map_255fb209e9c02195a79cde7bbbc19ad7);\n",
       "        \n",
       "    \n",
       "        var popup_5711a2e5728ac96d361b48ff2171839a = L.popup({&quot;maxWidth&quot;: &quot;100%&quot;});\n",
       "\n",
       "        \n",
       "            \n",
       "                var html_e1094dc5e4046efdc75a1b58526190e3 = $(`&lt;div id=&quot;html_e1094dc5e4046efdc75a1b58526190e3&quot; style=&quot;width: 100.0%; height: 100.0%;&quot;&gt;Uruguay&lt;/div&gt;`)[0];\n",
       "                popup_5711a2e5728ac96d361b48ff2171839a.setContent(html_e1094dc5e4046efdc75a1b58526190e3);\n",
       "            \n",
       "        \n",
       "\n",
       "        circle_marker_89374882c252f1b95ad126c57c3d5da9.bindPopup(popup_5711a2e5728ac96d361b48ff2171839a)\n",
       "        ;\n",
       "\n",
       "        \n",
       "    \n",
       "    \n",
       "            var circle_marker_2ce21be1546430b5067e6efa23b6a5f1 = L.circleMarker(\n",
       "                [39.76, -98.5],\n",
       "                {&quot;bubblingMouseEvents&quot;: true, &quot;color&quot;: &quot;green&quot;, &quot;dashArray&quot;: null, &quot;dashOffset&quot;: null, &quot;fill&quot;: true, &quot;fillColor&quot;: &quot;green&quot;, &quot;fillOpacity&quot;: 0.2, &quot;fillRule&quot;: &quot;evenodd&quot;, &quot;lineCap&quot;: &quot;round&quot;, &quot;lineJoin&quot;: &quot;round&quot;, &quot;opacity&quot;: 1.0, &quot;radius&quot;: 12.816534715641207, &quot;stroke&quot;: true, &quot;weight&quot;: 3}\n",
       "            ).addTo(map_255fb209e9c02195a79cde7bbbc19ad7);\n",
       "        \n",
       "    \n",
       "        var popup_02881b0a951a808794438eced0f25084 = L.popup({&quot;maxWidth&quot;: &quot;100%&quot;});\n",
       "\n",
       "        \n",
       "            \n",
       "                var html_187d4f5e0a83a341196065c92e4d6895 = $(`&lt;div id=&quot;html_187d4f5e0a83a341196065c92e4d6895&quot; style=&quot;width: 100.0%; height: 100.0%;&quot;&gt;United States&lt;/div&gt;`)[0];\n",
       "                popup_02881b0a951a808794438eced0f25084.setContent(html_187d4f5e0a83a341196065c92e4d6895);\n",
       "            \n",
       "        \n",
       "\n",
       "        circle_marker_2ce21be1546430b5067e6efa23b6a5f1.bindPopup(popup_02881b0a951a808794438eced0f25084)\n",
       "        ;\n",
       "\n",
       "        \n",
       "    \n",
       "    \n",
       "            var circle_marker_0c70efc20f9666efa13485d3684d7e48 = L.circleMarker(\n",
       "                [8.0, -66.0],\n",
       "                {&quot;bubblingMouseEvents&quot;: true, &quot;color&quot;: &quot;green&quot;, &quot;dashArray&quot;: null, &quot;dashOffset&quot;: null, &quot;fill&quot;: true, &quot;fillColor&quot;: &quot;green&quot;, &quot;fillOpacity&quot;: 0.2, &quot;fillRule&quot;: &quot;evenodd&quot;, &quot;lineCap&quot;: &quot;round&quot;, &quot;lineJoin&quot;: &quot;round&quot;, &quot;opacity&quot;: 1.0, &quot;radius&quot;: 7.747224893287904, &quot;stroke&quot;: true, &quot;weight&quot;: 3}\n",
       "            ).addTo(map_255fb209e9c02195a79cde7bbbc19ad7);\n",
       "        \n",
       "    \n",
       "        var popup_73f765563dbc0a7aa49bff7d91089f24 = L.popup({&quot;maxWidth&quot;: &quot;100%&quot;});\n",
       "\n",
       "        \n",
       "            \n",
       "                var html_166dae505af876979fac72393f803b21 = $(`&lt;div id=&quot;html_166dae505af876979fac72393f803b21&quot; style=&quot;width: 100.0%; height: 100.0%;&quot;&gt;Venezuela&lt;/div&gt;`)[0];\n",
       "                popup_73f765563dbc0a7aa49bff7d91089f24.setContent(html_166dae505af876979fac72393f803b21);\n",
       "            \n",
       "        \n",
       "\n",
       "        circle_marker_0c70efc20f9666efa13485d3684d7e48.bindPopup(popup_73f765563dbc0a7aa49bff7d91089f24)\n",
       "        ;\n",
       "\n",
       "        \n",
       "    \n",
       "    \n",
       "            var circle_marker_854acf2893f261b34371fa15634ca9e7 = L.circleMarker(\n",
       "                [16.16667, 107.83333],\n",
       "                {&quot;bubblingMouseEvents&quot;: true, &quot;color&quot;: &quot;red&quot;, &quot;dashArray&quot;: null, &quot;dashOffset&quot;: null, &quot;fill&quot;: true, &quot;fillColor&quot;: &quot;red&quot;, &quot;fillOpacity&quot;: 0.2, &quot;fillRule&quot;: &quot;evenodd&quot;, &quot;lineCap&quot;: &quot;round&quot;, &quot;lineJoin&quot;: &quot;round&quot;, &quot;opacity&quot;: 1.0, &quot;radius&quot;: 8.265735545694868, &quot;stroke&quot;: true, &quot;weight&quot;: 3}\n",
       "            ).addTo(map_255fb209e9c02195a79cde7bbbc19ad7);\n",
       "        \n",
       "    \n",
       "        var popup_13fb69b55ae652114f1d8adaf5686e5b = L.popup({&quot;maxWidth&quot;: &quot;100%&quot;});\n",
       "\n",
       "        \n",
       "            \n",
       "                var html_ac1f0ad4665c10ccb9db59d544def77f = $(`&lt;div id=&quot;html_ac1f0ad4665c10ccb9db59d544def77f&quot; style=&quot;width: 100.0%; height: 100.0%;&quot;&gt;Vietnam&lt;/div&gt;`)[0];\n",
       "                popup_13fb69b55ae652114f1d8adaf5686e5b.setContent(html_ac1f0ad4665c10ccb9db59d544def77f);\n",
       "            \n",
       "        \n",
       "\n",
       "        circle_marker_854acf2893f261b34371fa15634ca9e7.bindPopup(popup_13fb69b55ae652114f1d8adaf5686e5b)\n",
       "        ;\n",
       "\n",
       "        \n",
       "    \n",
       "    \n",
       "            var circle_marker_56a0ea3bcdf69f33d5be1775aa6cdc9c = L.circleMarker(\n",
       "                [15.5, 47.5],\n",
       "                {&quot;bubblingMouseEvents&quot;: true, &quot;color&quot;: &quot;red&quot;, &quot;dashArray&quot;: null, &quot;dashOffset&quot;: null, &quot;fill&quot;: true, &quot;fillColor&quot;: &quot;red&quot;, &quot;fillOpacity&quot;: 0.2, &quot;fillRule&quot;: &quot;evenodd&quot;, &quot;lineCap&quot;: &quot;round&quot;, &quot;lineJoin&quot;: &quot;round&quot;, &quot;opacity&quot;: 1.0, &quot;radius&quot;: 8.490153480403475, &quot;stroke&quot;: true, &quot;weight&quot;: 3}\n",
       "            ).addTo(map_255fb209e9c02195a79cde7bbbc19ad7);\n",
       "        \n",
       "    \n",
       "        var popup_d7443636bb17a9ff63d901b62104f427 = L.popup({&quot;maxWidth&quot;: &quot;100%&quot;});\n",
       "\n",
       "        \n",
       "            \n",
       "                var html_1ae84f9b2cf7746a593a0827626a0516 = $(`&lt;div id=&quot;html_1ae84f9b2cf7746a593a0827626a0516&quot; style=&quot;width: 100.0%; height: 100.0%;&quot;&gt;Yemen&lt;/div&gt;`)[0];\n",
       "                popup_d7443636bb17a9ff63d901b62104f427.setContent(html_1ae84f9b2cf7746a593a0827626a0516);\n",
       "            \n",
       "        \n",
       "\n",
       "        circle_marker_56a0ea3bcdf69f33d5be1775aa6cdc9c.bindPopup(popup_d7443636bb17a9ff63d901b62104f427)\n",
       "        ;\n",
       "\n",
       "        \n",
       "    \n",
       "    \n",
       "            var circle_marker_1b58a6dc4e9af030fee5293ed3e89723 = L.circleMarker(\n",
       "                [-29.0, 24.0],\n",
       "                {&quot;bubblingMouseEvents&quot;: true, &quot;color&quot;: &quot;blue&quot;, &quot;dashArray&quot;: null, &quot;dashOffset&quot;: null, &quot;fill&quot;: true, &quot;fillColor&quot;: &quot;blue&quot;, &quot;fillOpacity&quot;: 0.2, &quot;fillRule&quot;: &quot;evenodd&quot;, &quot;lineCap&quot;: &quot;round&quot;, &quot;lineJoin&quot;: &quot;round&quot;, &quot;opacity&quot;: 1.0, &quot;radius&quot;: 12.392457273107668, &quot;stroke&quot;: true, &quot;weight&quot;: 3}\n",
       "            ).addTo(map_255fb209e9c02195a79cde7bbbc19ad7);\n",
       "        \n",
       "    \n",
       "        var popup_d8aa4d90e513c79e67f19d3719fff221 = L.popup({&quot;maxWidth&quot;: &quot;100%&quot;});\n",
       "\n",
       "        \n",
       "            \n",
       "                var html_c9b6da9359f1d19835b67e1792bbb28d = $(`&lt;div id=&quot;html_c9b6da9359f1d19835b67e1792bbb28d&quot; style=&quot;width: 100.0%; height: 100.0%;&quot;&gt;South Africa&lt;/div&gt;`)[0];\n",
       "                popup_d8aa4d90e513c79e67f19d3719fff221.setContent(html_c9b6da9359f1d19835b67e1792bbb28d);\n",
       "            \n",
       "        \n",
       "\n",
       "        circle_marker_1b58a6dc4e9af030fee5293ed3e89723.bindPopup(popup_d8aa4d90e513c79e67f19d3719fff221)\n",
       "        ;\n",
       "\n",
       "        \n",
       "    \n",
       "    \n",
       "            var circle_marker_09029194ebd266596ecf5d0b188610d3 = L.circleMarker(\n",
       "                [-14.33333, 28.5],\n",
       "                {&quot;bubblingMouseEvents&quot;: true, &quot;color&quot;: &quot;blue&quot;, &quot;dashArray&quot;: null, &quot;dashOffset&quot;: null, &quot;fill&quot;: true, &quot;fillColor&quot;: &quot;blue&quot;, &quot;fillOpacity&quot;: 0.2, &quot;fillRule&quot;: &quot;evenodd&quot;, &quot;lineCap&quot;: &quot;round&quot;, &quot;lineJoin&quot;: &quot;round&quot;, &quot;opacity&quot;: 1.0, &quot;radius&quot;: 17.940846416721868, &quot;stroke&quot;: true, &quot;weight&quot;: 3}\n",
       "            ).addTo(map_255fb209e9c02195a79cde7bbbc19ad7);\n",
       "        \n",
       "    \n",
       "        var popup_e6469e6b10ba4e3e0799398c9e447728 = L.popup({&quot;maxWidth&quot;: &quot;100%&quot;});\n",
       "\n",
       "        \n",
       "            \n",
       "                var html_c27fdc26b3528437568187c684314c72 = $(`&lt;div id=&quot;html_c27fdc26b3528437568187c684314c72&quot; style=&quot;width: 100.0%; height: 100.0%;&quot;&gt;Zambia&lt;/div&gt;`)[0];\n",
       "                popup_e6469e6b10ba4e3e0799398c9e447728.setContent(html_c27fdc26b3528437568187c684314c72);\n",
       "            \n",
       "        \n",
       "\n",
       "        circle_marker_09029194ebd266596ecf5d0b188610d3.bindPopup(popup_e6469e6b10ba4e3e0799398c9e447728)\n",
       "        ;\n",
       "\n",
       "        \n",
       "    \n",
       "&lt;/script&gt;\n",
       "&lt;/html&gt;\" style=\"position:absolute;width:100%;height:100%;left:0;top:0;border:none !important;\" allowfullscreen webkitallowfullscreen mozallowfullscreen></iframe></div></div>"
      ],
      "text/plain": [
       "<datascience.maps.Map at 0x183deeca910>"
      ]
     },
     "execution_count": 54,
     "metadata": {},
     "output_type": "execute_result"
    }
   ],
   "source": [
    "# It may take a few seconds to generate this map.\n",
    "colors = {'africa': 'blue', 'europe': 'black', 'asia': 'red', 'americas': 'green'}\n",
    "scaled = poverty_map.with_columns(\n",
    "    'labels', poverty_map.column('name'),\n",
    "    'colors', poverty_map.apply(colors.get, 'region'),\n",
    "    'areas', 1e-4 * poverty_map.column('poverty_total')\n",
    ").drop('name', 'region', 'poverty_total')\n",
    "\n",
    "Circle.map_table(scaled)"
   ]
  },
  {
   "cell_type": "markdown",
   "id": "5e920688",
   "metadata": {
    "deletable": false,
    "editable": false
   },
   "source": [
    "Although people lived in extreme poverty throughout the world in 2010 (with more than 5 million in the United States), the largest numbers were in Asia and Africa."
   ]
  },
  {
   "cell_type": "markdown",
   "id": "d881ad20",
   "metadata": {},
   "source": [
    "**Question 5.** Assign `largest` to a two-column table with the `name` (not the 3-letter code) and `poverty_total` of the 10 countries with the largest number of people living in extreme poverty.\n",
    "\n",
    "*Hint*: How can we use `take` and `np.arange` in conjunction with each other?\n"
   ]
  },
  {
   "cell_type": "code",
   "execution_count": 55,
   "id": "ed0d45c1",
   "metadata": {
    "deletable": false,
    "tags": []
   },
   "outputs": [
    {
     "data": {
      "text/html": [
       "<table border=\"1\" class=\"dataframe\">\n",
       "    <thead>\n",
       "        <tr>\n",
       "            <th>name</th> <th>poverty_total</th>\n",
       "        </tr>\n",
       "    </thead>\n",
       "    <tbody>\n",
       "        <tr>\n",
       "            <td>India           </td> <td>291,660,639  </td>\n",
       "        </tr>\n",
       "        <tr>\n",
       "            <td>Nigeria         </td> <td>98,319,537   </td>\n",
       "        </tr>\n",
       "        <tr>\n",
       "            <td>China           </td> <td>85,687,544   </td>\n",
       "        </tr>\n",
       "        <tr>\n",
       "            <td>Bangladesh      </td> <td>63,826,375   </td>\n",
       "        </tr>\n",
       "        <tr>\n",
       "            <td>Congo, Dem. Rep.</td> <td>56,635,412   </td>\n",
       "        </tr>\n",
       "        <tr>\n",
       "            <td>Indonesia       </td> <td>39,177,145   </td>\n",
       "        </tr>\n",
       "        <tr>\n",
       "            <td>Ethiopia        </td> <td>32,242,742   </td>\n",
       "        </tr>\n",
       "        <tr>\n",
       "            <td>Pakistan        </td> <td>22,858,700   </td>\n",
       "        </tr>\n",
       "        <tr>\n",
       "            <td>Tanzania        </td> <td>19,281,872   </td>\n",
       "        </tr>\n",
       "        <tr>\n",
       "            <td>Madagascar      </td> <td>18,543,643   </td>\n",
       "        </tr>\n",
       "    </tbody>\n",
       "</table>"
      ],
      "text/plain": [
       "name             | poverty_total\n",
       "India            | 291,660,639\n",
       "Nigeria          | 98,319,537\n",
       "China            | 85,687,544\n",
       "Bangladesh       | 63,826,375\n",
       "Congo, Dem. Rep. | 56,635,412\n",
       "Indonesia        | 39,177,145\n",
       "Ethiopia         | 32,242,742\n",
       "Pakistan         | 22,858,700\n",
       "Tanzania         | 19,281,872\n",
       "Madagascar       | 18,543,643"
      ]
     },
     "execution_count": 55,
     "metadata": {},
     "output_type": "execute_result"
    }
   ],
   "source": [
    "largest = poverty_map.sort('poverty_total', descending=True).select('name', 'poverty_total').take(np.arange(0, 10))\n",
    "largest.set_format('poverty_total', NumberFormatter)"
   ]
  },
  {
   "cell_type": "code",
   "execution_count": 56,
   "id": "6846e9f3",
   "metadata": {
    "deletable": false,
    "editable": false
   },
   "outputs": [
    {
     "data": {
      "text/html": [
       "<p><strong><pre style='display: inline;'>q2_5</pre></strong> passed! ✨</p>"
      ],
      "text/plain": [
       "q2_5 results: All test cases passed!"
      ]
     },
     "execution_count": 56,
     "metadata": {},
     "output_type": "execute_result"
    }
   ],
   "source": [
    "grader.check(\"q2_5\")"
   ]
  },
  {
   "cell_type": "markdown",
   "id": "d7462f20",
   "metadata": {},
   "source": [
    "<!-- BEGIN QUESTION -->\n",
    "\n",
    "**Question 6.** It is important to study the absolute number of people living in poverty, not just the percent. The absolute number is an important factor in determining the amount of resources needed to support people living in poverty. In the next two questions you will explore this.\n",
    "\n",
    "In Question 7, you will be asked to write a function called `poverty_timeline` that takes **the name of a country** as its argument (not the Alpha-3 country code). It should draw a line plot of the number of people living in poverty in that country with time on the horizontal axis. The line plot should have a point for each row in the poverty table for that country. To compute the population living in poverty from a poverty percentage, multiply by the population of the country **in that year**.\n",
    "\n",
    "For this question, write out a generalized process for Question 7. Make sure to answer/include the following: \n",
    "- What should this function output? \n",
    "- Additionally, **make a numbered list** of the steps you take within the function body. If you added/edited, say, 5 lines in the function body, then it would be good to see the numbers 1 through 5 describing what you did (i.e. what functions/methods you used) in each line and why.\n",
    "\n",
    "As a tip, after finishing question 7, we recommend polishing up your description of the steps for this question."
   ]
  },
  {
   "cell_type": "markdown",
   "id": "b6edd47b",
   "metadata": {},
   "source": [
    "<!-- _Type your answer here, replacing this text._ -->\n",
    "**Question 6**\n",
    "\n",
    "- The function should output a diagram.\n",
    "- The steps to take within the function:\n",
    "    1. Join the `poverty` and `population` by column `\"geo\"` and `\"time\"`;\n",
    "    2. Calculate the population in poverty for every year in each country;\n",
    "    3. Plot the diagram. "
   ]
  },
  {
   "cell_type": "markdown",
   "id": "72633e07",
   "metadata": {
    "deletable": false
   },
   "source": [
    "<!-- END QUESTION -->\n",
    "\n",
    "<!-- BEGIN QUESTION -->\n",
    "\n",
    "**Question 7.** Now, we'll actually write the function called `poverty_timeline`. Recall that `poverty_timeline` takes **the name of a country** as its argument (not the Alpha-3 country code). It should draw a line plot of the number of people living in poverty in that country with time on the horizontal axis. The line plot should have a point for each row in the `poverty` table for that country. To compute the population living in poverty from a poverty percentage, multiply by the population of the country **in that year**.\n",
    "\n",
    "**Note:** You **should <u>not</u>** return anything from your function. Simply call `plots.show()` at the end of your function body.\n",
    "\n",
    "*Hint 1:* This question is long. Feel free to create cells and experiment. You can create cells by going to the toolbar and hitting the `+` button.\n",
    "\n",
    "*Hint 2:* Consider using `join` in your code.\n",
    "\n",
    "Feel free to use the markdown cell below to plan out your answer, but you needn't fill it in."
   ]
  },
  {
   "cell_type": "markdown",
   "id": "cbff85f1",
   "metadata": {},
   "source": [
    "<!-- _Type your answer here, replacing this text._ -->"
   ]
  },
  {
   "cell_type": "code",
   "execution_count": 57,
   "id": "9e3a207c",
   "metadata": {
    "tags": []
   },
   "outputs": [],
   "source": [
    "def poverty_timeline(country):\n",
    "    '''Draw a timeline of people living in extreme poverty in a country.'''\n",
    "    geo = countries.select('country', 'name').relabeled('country', 'geo')\n",
    "    # This solution will take multiple lines of code. Use as many as you need\n",
    "    country_poverty = population_int64.join(['geo', 'time'], poverty).join('geo', geo)\n",
    "    pop_in_poverty = country_poverty.apply(calc_population_in_poverty, 'population_total', 'extreme_poverty_percent_people_below_125_a_day')\n",
    "    country_poverty.append_column('population_in_poverty', pop_in_poverty)\n",
    "    country_poverty.where('name', are.equal_to(country)).plot('time', 'population_in_poverty')\n",
    "    # Don't change anything below this line. \n",
    "    plots.title(country)\n",
    "    plots.ylim(bottom=0)\n",
    "    plots.show() # This should be the last line of your function. \n",
    "\n"
   ]
  },
  {
   "cell_type": "code",
   "execution_count": 58,
   "id": "8da61e91",
   "metadata": {
    "deletable": false,
    "tags": []
   },
   "outputs": [
    {
     "data": {
      "image/png": "[encoded data removed]",
      "text/plain": [
       "<Figure size 600x600 with 1 Axes>"
      ]
     },
     "metadata": {},
     "output_type": "display_data"
    },
    {
     "data": {
      "image/png": "[encoded data removed]",
      "text/plain": [
       "<Figure size 600x600 with 1 Axes>"
      ]
     },
     "metadata": {},
     "output_type": "display_data"
    },
    {
     "data": {
      "image/png": "[encoded data removed]",
      "text/plain": [
       "<Figure size 600x600 with 1 Axes>"
      ]
     },
     "metadata": {},
     "output_type": "display_data"
    },
    {
     "data": {
      "image/png": "[encoded data removed]",
      "text/plain": [
       "<Figure size 600x600 with 1 Axes>"
      ]
     },
     "metadata": {},
     "output_type": "display_data"
    },
    {
     "data": {
      "image/png": "[encoded data removed]",
      "text/plain": [
       "<Figure size 600x600 with 1 Axes>"
      ]
     },
     "metadata": {},
     "output_type": "display_data"
    },
    {
     "data": {
      "image/png": "[encoded data removed]",
      "text/plain": [
       "<Figure size 600x600 with 1 Axes>"
      ]
     },
     "metadata": {},
     "output_type": "display_data"
    }
   ],
   "source": [
    "poverty_timeline('Poland')\n",
    "poverty_timeline('India')\n",
    "poverty_timeline('Nigeria')\n",
    "poverty_timeline('China')\n",
    "poverty_timeline('Colombia')\n",
    "poverty_timeline('United States')"
   ]
  },
  {
   "cell_type": "markdown",
   "id": "639b7766",
   "metadata": {
    "deletable": false
   },
   "source": [
    "<!-- END QUESTION -->\n",
    "\n",
    "Although the number of people living in extreme poverty increased in some countries including Nigeria and the United States, the decreases in other countries, most notably the massive decreases in China and India, have shaped the overall trend that extreme poverty is decreasing worldwide, both in percentage and in absolute number. \n",
    "\n",
    "To learn more, watch [Hans Rosling in a 2015 film](https://www.gapminder.org/videos/dont-panic-end-poverty/) about the UN goal of eradicating extreme poverty from the world. \n",
    "\n",
    "Below, we've also added an interactive dropdown menu for you to visualize `poverty_timeline` graphs for other countries. Note that each dropdown menu selection may take a few seconds to run."
   ]
  },
  {
   "cell_type": "code",
   "execution_count": 59,
   "id": "1af92cae",
   "metadata": {
    "deletable": false,
    "editable": false
   },
   "outputs": [
    {
     "data": {
      "application/vnd.jupyter.widget-view+json": {
       "model_id": "ced037c675cf43bcbbb89dfd91081597",
       "version_major": 2,
       "version_minor": 0
      },
      "text/plain": [
       "interactive(children=(Dropdown(description='country', options=('Angola', 'Albania', 'Argentina', 'Armenia', 'A…"
      ]
     },
     "metadata": {},
     "output_type": "display_data"
    }
   ],
   "source": [
    "# Just run this cell\n",
    "\n",
    "all_countries = poverty_map.column('name')\n",
    "_ = widgets.interact(poverty_timeline, country=list(all_countries))"
   ]
  },
  {
   "cell_type": "markdown",
   "id": "d162f994",
   "metadata": {
    "deletable": false
   },
   "source": [
    "\n",
    "\n",
    "<img src=\"panda.jpg\" alt=\"drawing\" width=\"300\"/>\n",
    "\n",
    "**Panda wants to tell you, you're finished!** Congratulations on discovering many important facts about global poverty and demonstrating your mastery of table manipulation and data visualization. Time to submit.\n",
    "\n",
    "**<span style=\"color: #BC412B\">Remember to add your project partner to your submission on Gradescope!</span>** <u>Only one partner should submit to Gradescope.</u>"
   ]
  },
  {
   "cell_type": "markdown",
   "id": "bd1592fd",
   "metadata": {},
   "source": [
    "## Submission\n",
    "\n",
    "Below, you will see two cells. Running the first cell will automatically generate a PDF of all questions that need to be manually graded, and running the second cell will automatically generate a zip with your autograded answers. You are responsible for submitting both the coding portion (the zip) and the written portion (the PDF) to their respective Gradescope portals. **Please save before exporting!**\n",
    "\n",
    "> **Important: You must correctly assign the pages of your PDF after you submit to the correct gradescope assignment. You may lose points for the questions which you do not correctly assign pages for**\n",
    "\n",
    "If there are issues with automatically generating the PDF in the first cell, you can try downloading the notebook as a PDF by colicking on `File -> Save and Export Notebook As... -> PDF`. If that doesn't work either, you can manually take screenshots of your answers to the manually graded questions and submit those. Either way, **you are responsible for ensuring your submision follows our requirements, we will NOT be granting regrade requests for submissions that don't follow instructions.**\n",
    "\n",
    "**You must submit the PDF generated via one of these methods, we will not accept screenshots or Word documents.**"
   ]
  },
  {
   "cell_type": "code",
   "execution_count": null,
   "id": "da00fdf5",
   "metadata": {},
   "outputs": [],
   "source": [
    "from otter.export import export_notebook\n",
    "from os import path\n",
    "from IPython.display import display, HTML\n",
    "hw_name = 'project1'\n",
    "export_notebook(f\"{hw_name}.ipynb\", filtering=True, pagebreaks=True)\n",
    "if(path.exists(f'{hw_name}.pdf')):\n",
    "    display(HTML(f\"Download your PDF <a href='{hw_name}.pdf' download>here</a>.\"))\n",
    "else:\n",
    "    print(\"\\n Pdf generation failed, please try the other methods described above\")"
   ]
  },
  {
   "cell_type": "markdown",
   "id": "314ed6d6",
   "metadata": {
    "deletable": false,
    "editable": false
   },
   "source": [
    "## Submission\n",
    "\n",
    "Make sure you have run all cells in your notebook in order before running the cell below, so that all images/graphs appear in the output. The cell below will generate a zip file for you to submit. **Please save before exporting!**"
   ]
  },
  {
   "cell_type": "code",
   "execution_count": null,
   "id": "99116a4e",
   "metadata": {
    "deletable": false,
    "editable": false
   },
   "outputs": [],
   "source": [
    "# Save your notebook first, then run this cell to export your submission.\n",
    "# grader.export(pdf=False, run_tests=True)"
   ]
  },
  {
   "cell_type": "markdown",
   "metadata": {},
   "source": [
    " "
   ]
  }
 ],
 "metadata": {
  "kernelspec": {
   "display_name": "Python 3",
   "language": "python",
   "name": "python3"
  },
  "language_info": {
   "codemirror_mode": {
    "name": "ipython",
    "version": 3
   },
   "file_extension": ".py",
   "mimetype": "text/x-python",
   "name": "python",
   "nbconvert_exporter": "python",
   "pygments_lexer": "ipython3",
   "version": "3.11.8"
  },
  "otter": {
   "OK_FORMAT": true,
   "tests": {
    "q0": {
     "name": "q0",
     "points": [
      0
     ],
     "suites": [
      {
       "cases": [
        {
         "code": ">>> i_wont_use_show_without_an_argument == True\nTrue",
         "hidden": false,
         "locked": false
        }
       ],
       "scored": true,
       "setup": "",
       "teardown": "",
       "type": "doctest"
      }
     ]
    },
    "q1_1": {
     "name": "q1_1",
     "points": [
      0,
      0
     ],
     "suites": [
      {
       "cases": [
        {
         "code": ">>> # Check your column labels and spelling\n>>> p_pop.labels == ('time', 'population_total')\nTrue",
         "hidden": false,
         "locked": false
        },
        {
         "code": ">>> # Times should range from 1900 through 2020\n>>> all(p_pop.sort(\"time\").column(\"time\") == np.arange(1900, 2021))\nTrue",
         "hidden": false,
         "locked": false
        }
       ],
       "scored": true,
       "setup": "",
       "teardown": "",
       "type": "doctest"
      }
     ]
    },
    "q1_11": {
     "name": "q1_11",
     "points": [
      0,
      0,
      0,
      4
     ],
     "suites": [
      {
       "cases": [
        {
         "code": ">>> # Incorrect labels for columns\n>>> t = stats_for_year(1990)\n>>> t.labels == ('geo', 'population_total', 'children_per_woman_total_fertility', 'child_mortality_under_5_per_1000_born')\nTrue",
         "hidden": false,
         "locked": false
        },
        {
         "code": ">>> # Incorrect number of rows\n>>> t = stats_for_year(1990)\n>>> t.num_rows\n50",
         "hidden": false,
         "locked": false
        },
        {
         "code": ">>> print(stats_for_year(1960).sort('geo').take(np.arange(5, 50, 5)))\ngeo  | population_total | children_per_woman_total_fertility | child_mortality_under_5_per_1000_born\ncan  | 17847404         | 3.88                               | 32.6\ndza  | 11057864         | 7.52                               | 242.54\ngbr  | 52370595         | 2.69                               | 26.56\nirq  | 7289753          | 6.25                               | 191.93\nmar  | 12328532         | 7.04                               | 237.06\nnga  | 45138460         | 6.35                               | 339.85\npol  | 29614201         | 3.11                               | 65.03\ntur  | 27472339         | 6.37                               | 258.29\nuzb  | 8526299          | 6.26                               | 169.4\n",
         "hidden": false,
         "locked": false
        },
        {
         "code": ">>> print(stats_for_year(2010).sort('geo').take(np.arange(3, 50, 5)))\ngeo  | population_total | children_per_woman_total_fertility | child_mortality_under_5_per_1000_born\nbgd  | 147575433        | 2.28                               | 49.1\ncol  | 45222699         | 2.01                               | 18.47\neth  | 87639962         | 4.92                               | 82.94\nind  | 1234281163       | 2.6                                | 58.23\nken  | 42030684         | 4.37                               | 56.54\nmoz  | 23531567         | 5.56                               | 104.53\nper  | 29027680         | 2.55                               | 20.13\nsdn  | 34545014         | 4.88                               | 75.92\nukr  | 45792086         | 1.45                               | 11.72\nyem  | 23154854         | 4.67                               | 55.96\n",
         "hidden": false,
         "locked": false
        }
       ],
       "scored": true,
       "setup": "",
       "teardown": "",
       "type": "doctest"
      }
     ]
    },
    "q1_12": {
     "name": "q1_12",
     "points": [
      0,
      0
     ],
     "suites": [
      {
       "cases": [
        {
         "code": ">>> # Check your column labels and spelling\n>>> pop_by_decade.labels == ('decade', 'population')\nTrue",
         "hidden": false,
         "locked": false
        },
        {
         "code": ">>> # The first year of the 1960's is 1960.\n>>> pop_by_decade.column(0).item(0) == 1960\nTrue",
         "hidden": false,
         "locked": false
        }
       ],
       "scored": true,
       "setup": "",
       "teardown": "",
       "type": "doctest"
      }
     ]
    },
    "q1_12_0": {
     "name": "q1_12_0",
     "points": [
      0,
      0,
      0
     ],
     "suites": [
      {
       "cases": [
        {
         "code": ">>> pop_for_year(1972) == 3355562066\nTrue",
         "hidden": false,
         "locked": false
        },
        {
         "code": ">>> pop_for_year(2020) == 6765161289\nTrue",
         "hidden": false,
         "locked": false
        },
        {
         "code": ">>> pop_for_year(1989) == 4576679948\nTrue",
         "hidden": false,
         "locked": false
        }
       ],
       "scored": true,
       "setup": "",
       "teardown": "",
       "type": "doctest"
      }
     ]
    },
    "q1_13": {
     "name": "q1_13",
     "points": [
      0,
      0
     ],
     "suites": [
      {
       "cases": [
        {
         "code": ">>> # Check your column labels and spelling\n>>> region_counts.labels == ('region', 'count')\nTrue",
         "hidden": false,
         "locked": false
        },
        {
         "code": ">>> # Counts must sum to 50\n>>> sum(region_counts.column('count')) == 50\nTrue",
         "hidden": false,
         "locked": false
        }
       ],
       "scored": true,
       "setup": "",
       "teardown": "",
       "type": "doctest"
      }
     ]
    },
    "q1_14": {
     "name": "q1_14",
     "points": [
      0
     ],
     "suites": [
      {
       "cases": [
        {
         "code": ">>> # Please use a list of integers from 1 to 5\n>>> all(x in range(1, 6) for x in set(scatter_statements))\nTrue",
         "hidden": false,
         "locked": false
        }
       ],
       "scored": true,
       "setup": "",
       "teardown": "",
       "type": "doctest"
      }
     ]
    },
    "q1_2": {
     "name": "q1_2",
     "points": [
      0,
      0
     ],
     "suites": [
      {
       "cases": [
        {
         "code": ">>> first = round(p_five_growth.sort(0).column(2).item(0), 8)\n>>> 0.005 <= first <= 0.5\nTrue",
         "hidden": false,
         "locked": false
        },
        {
         "code": ">>> # Compute the annual exponential growth rate\n>>> max(p_five_growth.column(2)) < 0.03\nTrue",
         "hidden": false,
         "locked": false
        }
       ],
       "scored": true,
       "setup": "",
       "teardown": "",
       "type": "doctest"
      }
     ]
    },
    "q1_5": {
     "name": "q1_5",
     "points": [
      0,
      0,
      0
     ],
     "suites": [
      {
       "cases": [
        {
         "code": ">>> # Check your column labels and spelling\n>>> fertility_over_time('usa', 2010).labels == ('Year', 'Children per woman')\nTrue",
         "hidden": false,
         "locked": false
        },
        {
         "code": ">>> # Check that you use the start year to determine the data range.\n>>> all(fertility_over_time('usa', 2010).column('Year') == np.arange(2010, 2021))\nTrue",
         "hidden": false,
         "locked": false
        },
        {
         "code": ">>> # Check that you use the start year to determine the data range.\n>>> all(fertility_over_time('usa', 2005).column('Year') == np.arange(2005, 2021))\nTrue",
         "hidden": false,
         "locked": false
        }
       ],
       "scored": true,
       "setup": "",
       "teardown": "",
       "type": "doctest"
      }
     ]
    },
    "q1_7": {
     "name": "q1_7",
     "points": [
      0,
      0
     ],
     "suites": [
      {
       "cases": [
        {
         "code": ">>> # Make sure you are using the date range 1950-2020\n>>> poland_since_1950.num_rows\n71",
         "hidden": false,
         "locked": false
        },
        {
         "code": ">>> # Check your column labels and spelling\n>>> all([label in poland_since_1950.labels for label in ['Children per woman', 'Child deaths per 1000 born']])\nTrue",
         "hidden": false,
         "locked": false
        }
       ],
       "scored": true,
       "setup": "",
       "teardown": "",
       "type": "doctest"
      }
     ]
    },
    "q1_9": {
     "name": "q1_9",
     "points": [
      0
     ],
     "suites": [
      {
       "cases": [
        {
         "code": ">>> # Please use a list of integers from 1 to 6\n>>> all(x in range(1, 7) for x in set(fertility_statements))\nTrue",
         "hidden": false,
         "locked": false
        }
       ],
       "scored": true,
       "setup": "",
       "teardown": "",
       "type": "doctest"
      }
     ]
    },
    "q2_1": {
     "name": "q2_1",
     "points": [
      0,
      0
     ],
     "suites": [
      {
       "cases": [
        {
         "code": ">>> # Please don't edit the last line.\n>>> latest_poverty.labels == ('geo', 'time', 'poverty_percent')\nTrue",
         "hidden": false,
         "locked": false
        },
        {
         "code": ">>> # The result should have one row per country.\n>>> latest_poverty.num_rows\n145",
         "hidden": false,
         "locked": false
        }
       ],
       "scored": true,
       "setup": "",
       "teardown": "",
       "type": "doctest"
      }
     ]
    },
    "q2_2": {
     "name": "q2_2",
     "points": [
      0,
      0,
      0
     ],
     "suites": [
      {
       "cases": [
        {
         "code": ">>> # Check your column labels and spelling\n>>> recent_poverty_total.labels == ('geo', 'poverty_percent', 'population_total', 'poverty_total')\nTrue",
         "hidden": false,
         "locked": false
        },
        {
         "code": ">>> # Careful, the population of Australia in 2010 was 22,154,687\n>>> float(recent_poverty_total.where('geo', 'aus').column(2).item(0)) == 22154687\nTrue",
         "hidden": false,
         "locked": false
        },
        {
         "code": ">>> # The number of people estimated to be living in extreme poverty\n>>> # in Australia should be 301,304. That's 22,154,687 * 0.0136\n>>> # rounded to the nearest integer.\n>>> float(recent_poverty_total.where('geo', 'aus').column(3).item(0)) == 301304\nTrue",
         "hidden": false,
         "locked": false
        }
       ],
       "scored": true,
       "setup": "",
       "teardown": "",
       "type": "doctest"
      }
     ]
    },
    "q2_3": {
     "name": "q2_3",
     "points": [
      0
     ],
     "suites": [
      {
       "cases": [
        {
         "code": ">>> 10 <= poverty_percent <= 20\nTrue",
         "hidden": false,
         "locked": false
        }
       ],
       "scored": true,
       "setup": "",
       "teardown": "",
       "type": "doctest"
      }
     ]
    },
    "q2_4": {
     "name": "q2_4",
     "points": [
      0,
      0
     ],
     "suites": [
      {
       "cases": [
        {
         "code": ">>> # Check your column labels and spelling\n>>> poverty_map.labels == ('latitude', 'longitude', 'name', 'region', 'poverty_total')\nTrue",
         "hidden": false,
         "locked": false
        },
        {
         "code": ">>> # Something is wrong with your region column.\n>>> list(np.sort(np.unique(poverty_map.column('region'))))\n['africa', 'americas', 'asia', 'europe']",
         "hidden": false,
         "locked": false
        }
       ],
       "scored": true,
       "setup": "",
       "teardown": "",
       "type": "doctest"
      }
     ]
    },
    "q2_5": {
     "name": "q2_5",
     "points": [
      0,
      0,
      0
     ],
     "suites": [
      {
       "cases": [
        {
         "code": ">>> # Check your column labels and spelling\n>>> largest.labels == ('name', 'poverty_total')\nTrue",
         "hidden": false,
         "locked": false
        },
        {
         "code": ">>> # India is the country with the largest number of people living\n>>> # in extreme poverty.\n>>> largest.column(0).item(0)\n'India'",
         "hidden": false,
         "locked": false
        },
        {
         "code": ">>> # The table should contain exactly 10 rows.\n>>> largest.num_rows\n10",
         "hidden": false,
         "locked": false
        }
       ],
       "scored": true,
       "setup": "",
       "teardown": "",
       "type": "doctest"
      }
     ]
    }
   }
  }
 },
 "nbformat": 4,
 "nbformat_minor": 5
}
